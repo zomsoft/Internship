{
 "cells": [
  {
   "cell_type": "markdown",
   "id": "1d257177",
   "metadata": {},
   "source": [
    "# WEBSCRAPPING ASSIGNMENT 3"
   ]
  },
  {
   "cell_type": "markdown",
   "id": "e1bcc110",
   "metadata": {},
   "source": [
    "# Import all necessary Libraries"
   ]
  },
  {
   "cell_type": "code",
   "execution_count": 1,
   "id": "33f3e5c9",
   "metadata": {},
   "outputs": [],
   "source": [
    "import pandas as pd\n",
    "import numpy as np\n",
    "import selenium\n",
    "from selenium import webdriver\n",
    "from selenium.webdriver.common.by import By\n",
    "from selenium.webdriver.common.keys import Keys\n",
    "from selenium.common.exceptions import StaleElementReferenceException,NoSuchElementException\n",
    "\n",
    "\n",
    "import warnings\n",
    "warnings.filterwarnings('ignore')"
   ]
  },
  {
   "cell_type": "markdown",
   "id": "d0fd61e6",
   "metadata": {},
   "source": [
    "# Question 1\n",
    "Write a python program which searches all the product under a particular product from www.amazon.in.\n",
    "The product to be searched will be taken as input from user. For e.g. If user input is ‘guitar’. Then search\n",
    "for guitars."
   ]
  },
  {
   "cell_type": "code",
   "execution_count": 2,
   "id": "9cee52c2",
   "metadata": {},
   "outputs": [],
   "source": [
    "web_d = webdriver.Chrome(r\"C:\\Users\\USER\\Downloads\\chromedriver_win32\\chromedriver.exe\")"
   ]
  },
  {
   "cell_type": "code",
   "execution_count": 3,
   "id": "b5490226",
   "metadata": {},
   "outputs": [],
   "source": [
    "web_d.get(\"http://www.amazon.in/\")"
   ]
  },
  {
   "cell_type": "code",
   "execution_count": 4,
   "id": "f099a9f5",
   "metadata": {},
   "outputs": [
    {
     "name": "stdout",
     "output_type": "stream",
     "text": [
      "Enter a product:guitar\n"
     ]
    }
   ],
   "source": [
    "user_input = input('Enter a product:')"
   ]
  },
  {
   "cell_type": "code",
   "execution_count": 5,
   "id": "d3ef4bc2",
   "metadata": {},
   "outputs": [],
   "source": [
    "product_search = web_d.find_element(By.ID,\"twotabsearchtextbox\")\n",
    "product_search.send_keys(user_input)\n",
    "search = web_d.find_element(By.ID,'nav-search-submit-button')\n",
    "search.click()"
   ]
  },
  {
   "cell_type": "markdown",
   "id": "7a0db7b0",
   "metadata": {},
   "source": [
    "# Question 2\n",
    "In the above question, now scrape the following details of each product listed in first 3 pages of your\n",
    "search results and save it in a data frame and csv. In case if any product has less than 3 pages in search\n",
    "results then scrape all the products available under that product name. Details to be scraped are: \"Brand\n",
    "Name\", \"Name of the Product\", \"Price\", \"Return/Exchange\", \"Expected Delivery\", \"Availability\" and\n",
    "“Product URL”. In case, if any of the details are missing for any of the product then replace it by “-“."
   ]
  },
  {
   "cell_type": "code",
   "execution_count": 6,
   "id": "e3b9f6f9",
   "metadata": {},
   "outputs": [],
   "source": [
    "brand_name = []\n",
    "name_of_product= []\n",
    "Price = []\n",
    "return_exchange = [] \n",
    "expected_delivery = [] \n",
    "availability = []\n",
    "product_url = []"
   ]
  },
  {
   "cell_type": "code",
   "execution_count": 9,
   "id": "b5a6b5b9",
   "metadata": {},
   "outputs": [],
   "source": [
    "name_of_brand_tags=web_d.find_elements(By.XPATH,\"//a[@class='title fw500 ellipsis']\")\n",
    "for i in name_of_brand_tags[0:3]:\n",
    "    brand=i.text\n",
    "    brand_name.append(title)\n",
    "\n",
    "name_of_product_tags=web_d.find_elements(By.XPATH,\"//a[@class='title fw500 ellipsis']\")\n",
    "for i in name_of_product_tags[0:3]:\n",
    "    product=i.text\n",
    "    name_of_product.append(product)\n",
    "    \n",
    "price_tags=web_d.find_elements(By.XPATH,\"//a[@class='title fw500 ellipsis']\")\n",
    "for i in price_tags[0:3]:\n",
    "    price=i.text\n",
    "    Price.append(price)\n",
    "    \n",
    "return_exchange_tags=web_d.find_elements(By.XPATH,\"//a[@class='title fw500 ellipsis']\")\n",
    "for i in return_exchange_tags[0:3]:\n",
    "    retur_exch=i.text\n",
    "    return_exchange.append(retur_exch)\n",
    "    \n",
    "expected_delivery_tags=web_d.find_elements(By.XPATH,\"//a[@class='title fw500 ellipsis']\")\n",
    "for i in expected_delivery_tags[0:3]:\n",
    "    delivery=i.text\n",
    "    expected_delivery.append(delivery)\n",
    "    \n",
    "product_url_tags=web_d.find_elements(By.XPATH,\"//a[@class='title fw500 ellipsis']\")\n",
    "for i in product_url[0:3]:\n",
    "    url=i.text\n",
    "    product_url.append(url)\n",
    "    \n",
    "availability_tags=web_d.find_elements(By.XPATH,\"//a[@class='title fw500 ellipsis']\")\n",
    "for i in availability_tags[0:3]:\n",
    "    available=i.text\n",
    "    availability.append(available)"
   ]
  },
  {
   "cell_type": "markdown",
   "id": "5b2db7f7",
   "metadata": {},
   "source": [
    "# Question 3 \n",
    "Write a python program to access the search bar and search button on images.google.com and scrape 10\n",
    "images each for keywords ‘fruits’, ‘cars’ and ‘Machine Learning’, ‘Guitar’, ‘Cakes’"
   ]
  },
  {
   "cell_type": "code",
   "execution_count": 10,
   "id": "b472db53",
   "metadata": {},
   "outputs": [],
   "source": [
    "web_d = webdriver.Chrome(r\"C:\\Users\\USER\\Downloads\\chromedriver_win32\\chromedriver.exe\")"
   ]
  },
  {
   "cell_type": "code",
   "execution_count": 11,
   "id": "b8d5d229",
   "metadata": {},
   "outputs": [],
   "source": [
    "web_d.get(\"http://www.images.google.com/\")"
   ]
  },
  {
   "cell_type": "code",
   "execution_count": 12,
   "id": "43b84e21",
   "metadata": {},
   "outputs": [],
   "source": [
    "search_bar = web_d.find_element(By.XPATH,\"/html/body/div[1]/div[3]/form/div[1]/div[1]/div[1]/div/div[2]/input\")\n",
    "search_bar.send_keys('fruits') \n",
    "search_bar.send_keys(Keys.RETURN)\n",
    "fruits = []\n",
    "\n",
    "fruit_tags=web_d.find_elements(By.XPATH,\"/html/body/div[2]/c-wiz/div[3]/div[1]/div/div/div/div[1]/div[1]/span/div[1]/div[1]/div[1]/a[1]/div[1]/img\")\n",
    "for i in fruit_tags[0:10]:\n",
    "    fruit=i.text\n",
    "    fruit_tags.append(fruit) "
   ]
  },
  {
   "cell_type": "code",
   "execution_count": 13,
   "id": "6649811e",
   "metadata": {},
   "outputs": [],
   "source": [
    "web_d = webdriver.Chrome(r\"C:\\Users\\USER\\Downloads\\chromedriver_win32\\chromedriver.exe\")"
   ]
  },
  {
   "cell_type": "code",
   "execution_count": 14,
   "id": "bb285bcc",
   "metadata": {},
   "outputs": [],
   "source": [
    "web_d.get(\"http://www.images.google.com/\")"
   ]
  },
  {
   "cell_type": "code",
   "execution_count": 15,
   "id": "70155ae4",
   "metadata": {},
   "outputs": [],
   "source": [
    "search_bar = web_d.find_element(By.XPATH,\"/html/body/div[1]/div[3]/form/div[1]/div[1]/div[1]/div/div[2]/input\")\n",
    "search_bar.send_keys('cars') \n",
    "search_bar.send_keys(Keys.RETURN)\n",
    "cars = []\n",
    "\n",
    "cars_tags=web_d.find_elements(By.XPATH,\"/html/body/div[2]/c-wiz/div[3]/div[1]/div/div/div/div[1]/div[1]/span/div[1]/div[1]/div[1]/a[1]/div[1]/img\")\n",
    "for i in cars_tags[0:10]:\n",
    "    car=i.text\n",
    "    cars.append(car) "
   ]
  },
  {
   "cell_type": "code",
   "execution_count": 16,
   "id": "25c10c79",
   "metadata": {},
   "outputs": [],
   "source": [
    "web_d = webdriver.Chrome(r\"C:\\Users\\USER\\Downloads\\chromedriver_win32\\chromedriver.exe\")"
   ]
  },
  {
   "cell_type": "code",
   "execution_count": 17,
   "id": "2026da30",
   "metadata": {},
   "outputs": [],
   "source": [
    "web_d.get(\"http://www.images.google.com/\")"
   ]
  },
  {
   "cell_type": "code",
   "execution_count": 18,
   "id": "8f4957da",
   "metadata": {},
   "outputs": [],
   "source": [
    "search_bar = web_d.find_element(By.XPATH,\"/html/body/div[1]/div[3]/form/div[1]/div[1]/div[1]/div/div[2]/input\")\n",
    "search_bar.send_keys('machine learning') \n",
    "search_bar.send_keys(Keys.RETURN)\n",
    "ml = []\n",
    "\n",
    "ml_tags=web_d.find_elements(By.XPATH,\"/html/body/div[2]/c-wiz/div[3]/div[1]/div/div/div/div[1]/div[1]/span/div[1]/div[1]/div[1]/a[1]/div[1]/img\")\n",
    "for i in ml_tags[0:10]:\n",
    "    mlc=i.text\n",
    "    ml.append(mlc) "
   ]
  },
  {
   "cell_type": "code",
   "execution_count": 20,
   "id": "ddc92e4a",
   "metadata": {},
   "outputs": [],
   "source": [
    "web_d = webdriver.Chrome(r\"C:\\Users\\USER\\Downloads\\chromedriver_win32\\chromedriver.exe\")"
   ]
  },
  {
   "cell_type": "code",
   "execution_count": 21,
   "id": "cb4d78c5",
   "metadata": {},
   "outputs": [],
   "source": [
    "web_d.get(\"http://www.images.google.com/\")"
   ]
  },
  {
   "cell_type": "code",
   "execution_count": 22,
   "id": "e5c1476b",
   "metadata": {},
   "outputs": [],
   "source": [
    "search_bar = web_d.find_element(By.XPATH,\"/html/body/div[1]/div[3]/form/div[1]/div[1]/div[1]/div/div[2]/input\")\n",
    "search_bar.send_keys('guitar') \n",
    "search_bar.send_keys(Keys.RETURN)\n",
    "guitar = []\n",
    "\n",
    "guitar_tags=web_d.find_elements(By.XPATH,\"/html/body/div[2]/c-wiz/div[3]/div[1]/div/div/div/div[1]/div[1]/span/div[1]/div[1]/div[1]/a[1]/div[1]/img\")\n",
    "for i in guitar_tags[0:10]:\n",
    "    guitarc=i.text\n",
    "    guitar.append(guitarc) "
   ]
  },
  {
   "cell_type": "code",
   "execution_count": 24,
   "id": "fc4203a3",
   "metadata": {},
   "outputs": [],
   "source": [
    "web_d = webdriver.Chrome(r\"C:\\Users\\USER\\Downloads\\chromedriver_win32\\chromedriver.exe\")"
   ]
  },
  {
   "cell_type": "code",
   "execution_count": 25,
   "id": "f354bd30",
   "metadata": {},
   "outputs": [],
   "source": [
    "web_d.get(\"http://www.images.google.com/\")"
   ]
  },
  {
   "cell_type": "code",
   "execution_count": 26,
   "id": "aa37484c",
   "metadata": {},
   "outputs": [],
   "source": [
    "search_bar = web_d.find_element(By.XPATH,\"/html/body/div[1]/div[3]/form/div[1]/div[1]/div[1]/div/div[2]/input\")\n",
    "search_bar.send_keys('cakes') \n",
    "search_bar.send_keys(Keys.RETURN)\n",
    "cakes = []\n",
    "\n",
    "cake_tags=web_d.find_elements(By.XPATH,\"/html/body/div[2]/c-wiz/div[3]/div[1]/div/div/div/div[1]/div[1]/span/div[1]/div[1]/div[1]/a[1]/div[1]/img\")\n",
    "for i in cake_tags[0:10]:\n",
    "    cake=i.text\n",
    "    cakes.append(cake) "
   ]
  },
  {
   "cell_type": "code",
   "execution_count": 27,
   "id": "119c3598",
   "metadata": {},
   "outputs": [],
   "source": [
    "fruits = []\n",
    "cars = [] \n",
    "machine_learning = [] \n",
    "guitar = []\n",
    "cakes = []"
   ]
  }
 ],
 "metadata": {
  "kernelspec": {
   "display_name": "Python 3 (ipykernel)",
   "language": "python",
   "name": "python3"
  },
  "language_info": {
   "codemirror_mode": {
    "name": "ipython",
    "version": 3
   },
   "file_extension": ".py",
   "mimetype": "text/x-python",
   "name": "python",
   "nbconvert_exporter": "python",
   "pygments_lexer": "ipython3",
   "version": "3.9.12"
  }
 },
 "nbformat": 4,
 "nbformat_minor": 5
}
