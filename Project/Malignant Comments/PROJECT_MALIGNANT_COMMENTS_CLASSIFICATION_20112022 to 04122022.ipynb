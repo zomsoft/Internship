{
 "cells": [
  {
   "cell_type": "markdown",
   "id": "8fe62edc",
   "metadata": {},
   "source": [
    "# EXECUTIVE SUMMARY\n",
    "\n",
    "1. Type of Problem: CLASSIFICATION PROBLEM\n",
    "\n",
    "2. Optimum Machine Model Chosen: GRADIENT BOOSTING CLASSIFIER\n",
    "\n",
    "3. Recall: 82%\n",
    "\n",
    "4. Precision: 94%\n",
    "\n",
    "5. F1Score: 87%\n",
    "\n",
    "6. Accuracy Score: 96% \n",
    "\n",
    "7. Cross Validation Score(CV): 95.86%\n",
    "\n",
    "8. Differential Between Accuracy and CV Score: 0.002\n",
    "\n",
    "9. Final Accuracy Score(After Hyperparamter Tunning): 96.11%\n",
    "\n",
    "10. AUC Score: 87%\n",
    "\n",
    "11. Key Operations executed: Exploratory Data Analysis(EDA), Data Preprocessing, Metrics Measurement, Model Execution and Hyperparameter Tunning, Model Saving"
   ]
  },
  {
   "cell_type": "markdown",
   "id": "befbacb3",
   "metadata": {},
   "source": [
    "# PROJECT CONTENTS\n",
    "- Problem Statement\n",
    "- Domain Knowledge\n",
    "- Step 1: Attributes of Variables\n",
    "- Step 2: IMPORT ALL NECESSARY LIBRARIES, LOAD DATA SET, DATA DESCRIPTIVE ANALYSIS AND OBSERVATIONS\n",
    " - 2.1:Import all necessary libraries\n",
    " - 2.2:Load Dataset\n",
    " - 2.3:Data Descriptive Analysis\n",
    " - 2.4:Observations\n",
    "- Step 3: EXPLORATORY DATA ANALYSIS(EDA) AND VISUALIZATION\n",
    " - 3.1:Count Distribution of Categorical Data - Univariate Analysis\n",
    " - 3.2:Data Cleaning(Updating Unusual Elements)\n",
    " - 3.3:Encoding\n",
    " - 3.4:Normal Distribution Check(Univariate Analysis)\n",
    " - 3.5:Scatter Plot Check(Bivariate Analysis)\n",
    " - 3.6:Correlation Check\n",
    " - 3.7:Outlier Check(Univariate Analysis)\n",
    " - 3.8:Skewness Check(Univariate Analysis)\n",
    " - 3.9:Target Variable Check\n",
    "- Step 4: DATA PREPROCESSING\n",
    " - 4.1:Removal of Duplicates\n",
    " - 4.2:Rechecking the current Relationship btw Variables\n",
    " - 4.3:Multicollinearity and Variance Inflation Factor(VIF)\n",
    " - 4.4:Removal of Outliers\n",
    " - 4.5:Transforming Data to Remove Skewness using Power transformation\n",
    " - 4.6:Seperating the datasets into X and Y variables\n",
    "- Step 5: MODEL BUILDING\n",
    " - 5.1:Logistic Regression\n",
    " - 5.2:KNeighbors Classifier\n",
    " - 5.3:GradientBoosting Classifier\n",
    " - 5.4:XGBoost Classifier\n",
    " - 5.5:Extra Tree Classfier\n",
    " - 5.6:Support Vector\n",
    " - 5.7:MLP Classifier\n",
    " - 5.8:GaussianNB Classifier\n",
    "- Step 6:COMPARING ALL EIGHT MACHINE LEARNING MODELS\n",
    " - 6.1:Creating a Dataframe for Accuracy Comparison\n",
    " - 6.2:Comparing Differences between Accuracy and Cross_Validation Scores...\n",
    " - 6.3:Conclusion on Choice of Model\n",
    "- Step 7:HYPERPARAMETER TUNNING\n",
    "- Step 8:ROC AUC PLOT\n",
    "- Step 9:MODEL SAVING\n",
    "- Step 10: PREDICITON WITH TEST_DATA"
   ]
  },
  {
   "cell_type": "markdown",
   "id": "4b013650",
   "metadata": {},
   "source": [
    "# PROBLEM STATEMENT(MALIGNANT COMMENTS CLASSIFICATION Project)\n",
    "\n",
    "The proliferation of social media enables people to express their opinions widely online. However, at the same time, this has resulted in the emergence of conflict and hate, making online environments uninviting for users. Although researchers have found that hate is a problem across multiple platforms, there is a lack of models for online hate detection.\n",
    "Online hate, described as abusive language, aggression, cyberbullying, hatefulness and many others has been identified as a major threat on online social media platforms. Social media platforms are the most prominent grounds for such toxic behaviour.   \n",
    "There has been a remarkable increase in the cases of cyberbullying and trolls on various social media platforms. Many celebrities and influences are facing backlashes from people and have to come across hateful and offensive comments. This can take a toll on anyone and affect them mentally leading to depression, mental illness, self-hatred and suicidal thoughts.    \n",
    "Internet comments are bastions of hatred and vitriol. While online anonymity has provided a new outlet for aggression and hate speech, machine learning can be used to fight it. The problem we sought to solve was the tagging of internet comments that are aggressive towards other users. This means that insults to third parties such as celebrities will be tagged as unoffensive, but “u are an idiot” is clearly offensive.\n",
    "Our goal is to build a prototype of online hate and abuse comment classifier which can used to classify hate and offensive comments so that it can be controlled and restricted from spreading hatred and cyberbullying. \n",
    "Data Set Description\n",
    "The data set contains the training set, which has approximately 1,59,000 samples and the test set which contains nearly 1,53,000 samples. All the data samples contain 8 fields which includes ‘Id’, ‘Comments’, ‘Malignant’, ‘Highly malignant’, ‘Rude’, ‘Threat’, ‘Abuse’ and ‘Loathe’. \n",
    "The label can be either 0 or 1, where 0 denotes a NO while 1 denotes a YES. There are various comments which have multiple labels. The first attribute is a unique ID associated with each comment.   \n",
    "The data set includes:\n",
    "\n",
    "-\tMalignant: It is the Label column, which includes values 0 and 1, denoting if the comment is malignant or not.\n",
    "\n",
    "-\tHighly Malignant: It denotes comments that are highly malignant and hurtful. \n",
    "\n",
    "-\tRude: It denotes comments that are very rude and offensive.\n",
    "\n",
    "-\tThreat: It contains indication of the comments that are giving any threat to someone. \t\n",
    "\n",
    "-\tAbuse: It is for comments that are abusive in nature. \n",
    "\n",
    "-\tLoathe: It describes the comments which are hateful and loathing in nature.  \n",
    "\n",
    "-\tID: It includes unique Ids associated with each comment text given. \n",
    "\n",
    "-\tComment text: This column contains the comments extracted from various social media platforms. \n",
    "\n",
    "This project is more about exploration, feature engineering and classification that can be done on this data. Since the data set is huge and includes many categories of comments, we can do good amount of data exploration and derive some interesting features using the comments text column available. \n",
    "You need to build a model that can differentiate between comments and its categories.  \n",
    "Refer to the data set file provided along with this. \n",
    "\n",
    "\n",
    "\n"
   ]
  },
  {
   "cell_type": "markdown",
   "id": "d43c0e74",
   "metadata": {},
   "source": [
    "# Domain Knowledge\n",
    "This is critical stage in any machine learning process. It involves brainstorming and coming up with as many hypotheses as possible about what could affect the target variable. It facilitates in exploring the data at hand more efficiently and effectively. Domain Knowledge should be done before seeing the data or else we will end up with biased hypotheses. Below are some anticipated assertions on the problem statement. \n",
    "Social media has been a tool for a people who have an excessive interest in or admiration of themselves but the fact of the matter is, they have always existed. Social media has just given them an extra tool to terrorize people. Here are five ways – those without empathy and with an excessive sense of entitlement – use social media to exploit, manipulate and destroy their victims:\n",
    "\n",
    "1. To triangulate:\n",
    "Social media is a veritable playground for malignant users. It gives them easy access to multiple victims and the ability to manufacture love triangles in covert and insidious ways.\n",
    "\n",
    "\n",
    "2. To infiltrate:\n",
    "They want to know anything and everything about you, so that they can later use your wounds against you. Having access to your social media accounts can give them an easy way to find out more about your likes, interests, hobbies, and desires. Remember, it’s possible for even a complete stranger to find out your life story should they do the due diligence of looking through your photos etc\n",
    "\n",
    "\n",
    "3. To stalk and harass you:\n",
    "Even if you block them, they can make fake social media accounts to ‘check-up’ on your whereabouts.\n",
    "\n",
    "\n",
    "4. To self-aggrandize:\n",
    "Recent study shows that those with an inherent belief in their own superiority are more likely to be found glorifying themselves on social media as opposed to more vulnerable narcissists with lower self-esteem.\n",
    "\n",
    "\n",
    "5. To bully and taunt:\n",
    "Research reveals that online trolls possess the Dark Tetrad traits of narcissism, psychopathy and Machiavellianism. In other words, online narcissists take sadistic pleasure in provoking others."
   ]
  },
  {
   "cell_type": "markdown",
   "id": "8130ac79",
   "metadata": {},
   "source": [
    "# Step 1 - ATTRIBUTES OF VARIABLES\n",
    "\n",
    "Lets understand the meaning and characteristics of our variables\n",
    "\n",
    "\n",
    "DEPENDENT VARIABLES\n",
    "\n",
    "1. Malignant: It is the Label column, which includes values 0(NO) and 1(YES), denoting if the comment is malignant or not. \n",
    "\n",
    "\n",
    "\n",
    "INDEPENDENT VARIABLES\n",
    "\n",
    "2. Highly Malignant: It denotes comments that are highly malignant and hurtful. \n",
    "\n",
    "3. Rude: It denotes comments that are very rude and offensive.\n",
    "\n",
    "4. Threat: It contains indication of the comments that are giving any threat to someone. \t\n",
    "\n",
    "5. Abuse: It is for comments that are abusive in nature. \n",
    "\n",
    "6. Loathe: It describes the comments which are hateful and loathing in nature.\n",
    "\n",
    "7. ID: It includes unique Ids associated with each comment text given.   \n",
    "\n",
    "8. Comment text: This column contains the comments extracted from various social media platforms. \n"
   ]
  },
  {
   "cell_type": "markdown",
   "id": "e2bdb95f",
   "metadata": {},
   "source": [
    "# Step 2 - IMPORT ALL NECESSARY LIBRARIES, LOAD DATA SET, DATA DESCRIPTIVE ANALYSIS AND OBSERVATIONS"
   ]
  },
  {
   "cell_type": "markdown",
   "id": "f1606cf4",
   "metadata": {},
   "source": [
    "# 2.1 - Import all necessary libraries"
   ]
  },
  {
   "cell_type": "code",
   "execution_count": 1,
   "id": "3793a6cc",
   "metadata": {},
   "outputs": [],
   "source": [
    "import pandas as pd\n",
    "import numpy as np\n",
    "from sklearn.linear_model import LogisticRegression\n",
    "from sklearn.neighbors import KNeighborsClassifier\n",
    "from sklearn.tree import DecisionTreeClassifier\n",
    "from sklearn.ensemble import RandomForestClassifier, AdaBoostClassifier, GradientBoostingClassifier, ExtraTreesClassifier\n",
    "from xgboost import XGBClassifier\n",
    "from sklearn.svm import SVC\n",
    "from sklearn.naive_bayes import GaussianNB\n",
    "from sklearn.neural_network import MLPClassifier\n",
    "from sklearn.preprocessing import StandardScaler, LabelEncoder, OrdinalEncoder\n",
    "from sklearn.feature_selection import SelectKBest, f_classif\n",
    "from sklearn.model_selection import train_test_split,cross_val_score,GridSearchCV, RandomizedSearchCV\n",
    "from statsmodels.stats.outliers_influence import variance_inflation_factor\n",
    "from sklearn.metrics import accuracy_score, confusion_matrix, roc_curve, roc_auc_score, classification_report, plot_roc_curve\n",
    "from scipy.stats import zscore\n",
    "from sklearn.preprocessing import power_transform, PowerTransformer\n",
    "from imblearn.over_sampling import SMOTE\n",
    "from collections import Counter\n",
    "from sklearn import metrics\n",
    "import seaborn as sns\n",
    "import matplotlib.pyplot as plt\n",
    "import pickle\n",
    "\n",
    "import warnings\n",
    "warnings.filterwarnings('ignore')"
   ]
  },
  {
   "cell_type": "markdown",
   "id": "75b55a75",
   "metadata": {},
   "source": [
    "# 2.2 - Load Dataset"
   ]
  },
  {
   "cell_type": "code",
   "execution_count": 2,
   "id": "f1bb6c42",
   "metadata": {},
   "outputs": [
    {
     "data": {
      "text/html": [
       "<div>\n",
       "<style scoped>\n",
       "    .dataframe tbody tr th:only-of-type {\n",
       "        vertical-align: middle;\n",
       "    }\n",
       "\n",
       "    .dataframe tbody tr th {\n",
       "        vertical-align: top;\n",
       "    }\n",
       "\n",
       "    .dataframe thead th {\n",
       "        text-align: right;\n",
       "    }\n",
       "</style>\n",
       "<table border=\"1\" class=\"dataframe\">\n",
       "  <thead>\n",
       "    <tr style=\"text-align: right;\">\n",
       "      <th></th>\n",
       "      <th>id</th>\n",
       "      <th>comment_text</th>\n",
       "      <th>malignant</th>\n",
       "      <th>highly_malignant</th>\n",
       "      <th>rude</th>\n",
       "      <th>threat</th>\n",
       "      <th>abuse</th>\n",
       "      <th>loathe</th>\n",
       "    </tr>\n",
       "  </thead>\n",
       "  <tbody>\n",
       "    <tr>\n",
       "      <th>0</th>\n",
       "      <td>0000997932d777bf</td>\n",
       "      <td>Explanation\\nWhy the edits made under my usern...</td>\n",
       "      <td>0</td>\n",
       "      <td>0</td>\n",
       "      <td>0</td>\n",
       "      <td>0</td>\n",
       "      <td>0</td>\n",
       "      <td>0</td>\n",
       "    </tr>\n",
       "    <tr>\n",
       "      <th>1</th>\n",
       "      <td>000103f0d9cfb60f</td>\n",
       "      <td>D'aww! He matches this background colour I'm s...</td>\n",
       "      <td>0</td>\n",
       "      <td>0</td>\n",
       "      <td>0</td>\n",
       "      <td>0</td>\n",
       "      <td>0</td>\n",
       "      <td>0</td>\n",
       "    </tr>\n",
       "    <tr>\n",
       "      <th>2</th>\n",
       "      <td>000113f07ec002fd</td>\n",
       "      <td>Hey man, I'm really not trying to edit war. It...</td>\n",
       "      <td>0</td>\n",
       "      <td>0</td>\n",
       "      <td>0</td>\n",
       "      <td>0</td>\n",
       "      <td>0</td>\n",
       "      <td>0</td>\n",
       "    </tr>\n",
       "    <tr>\n",
       "      <th>3</th>\n",
       "      <td>0001b41b1c6bb37e</td>\n",
       "      <td>\"\\nMore\\nI can't make any real suggestions on ...</td>\n",
       "      <td>0</td>\n",
       "      <td>0</td>\n",
       "      <td>0</td>\n",
       "      <td>0</td>\n",
       "      <td>0</td>\n",
       "      <td>0</td>\n",
       "    </tr>\n",
       "    <tr>\n",
       "      <th>4</th>\n",
       "      <td>0001d958c54c6e35</td>\n",
       "      <td>You, sir, are my hero. Any chance you remember...</td>\n",
       "      <td>0</td>\n",
       "      <td>0</td>\n",
       "      <td>0</td>\n",
       "      <td>0</td>\n",
       "      <td>0</td>\n",
       "      <td>0</td>\n",
       "    </tr>\n",
       "    <tr>\n",
       "      <th>...</th>\n",
       "      <td>...</td>\n",
       "      <td>...</td>\n",
       "      <td>...</td>\n",
       "      <td>...</td>\n",
       "      <td>...</td>\n",
       "      <td>...</td>\n",
       "      <td>...</td>\n",
       "      <td>...</td>\n",
       "    </tr>\n",
       "    <tr>\n",
       "      <th>159566</th>\n",
       "      <td>ffe987279560d7ff</td>\n",
       "      <td>\":::::And for the second time of asking, when ...</td>\n",
       "      <td>0</td>\n",
       "      <td>0</td>\n",
       "      <td>0</td>\n",
       "      <td>0</td>\n",
       "      <td>0</td>\n",
       "      <td>0</td>\n",
       "    </tr>\n",
       "    <tr>\n",
       "      <th>159567</th>\n",
       "      <td>ffea4adeee384e90</td>\n",
       "      <td>You should be ashamed of yourself \\n\\nThat is ...</td>\n",
       "      <td>0</td>\n",
       "      <td>0</td>\n",
       "      <td>0</td>\n",
       "      <td>0</td>\n",
       "      <td>0</td>\n",
       "      <td>0</td>\n",
       "    </tr>\n",
       "    <tr>\n",
       "      <th>159568</th>\n",
       "      <td>ffee36eab5c267c9</td>\n",
       "      <td>Spitzer \\n\\nUmm, theres no actual article for ...</td>\n",
       "      <td>0</td>\n",
       "      <td>0</td>\n",
       "      <td>0</td>\n",
       "      <td>0</td>\n",
       "      <td>0</td>\n",
       "      <td>0</td>\n",
       "    </tr>\n",
       "    <tr>\n",
       "      <th>159569</th>\n",
       "      <td>fff125370e4aaaf3</td>\n",
       "      <td>And it looks like it was actually you who put ...</td>\n",
       "      <td>0</td>\n",
       "      <td>0</td>\n",
       "      <td>0</td>\n",
       "      <td>0</td>\n",
       "      <td>0</td>\n",
       "      <td>0</td>\n",
       "    </tr>\n",
       "    <tr>\n",
       "      <th>159570</th>\n",
       "      <td>fff46fc426af1f9a</td>\n",
       "      <td>\"\\nAnd ... I really don't think you understand...</td>\n",
       "      <td>0</td>\n",
       "      <td>0</td>\n",
       "      <td>0</td>\n",
       "      <td>0</td>\n",
       "      <td>0</td>\n",
       "      <td>0</td>\n",
       "    </tr>\n",
       "  </tbody>\n",
       "</table>\n",
       "<p>159571 rows × 8 columns</p>\n",
       "</div>"
      ],
      "text/plain": [
       "                      id                                       comment_text  \\\n",
       "0       0000997932d777bf  Explanation\\nWhy the edits made under my usern...   \n",
       "1       000103f0d9cfb60f  D'aww! He matches this background colour I'm s...   \n",
       "2       000113f07ec002fd  Hey man, I'm really not trying to edit war. It...   \n",
       "3       0001b41b1c6bb37e  \"\\nMore\\nI can't make any real suggestions on ...   \n",
       "4       0001d958c54c6e35  You, sir, are my hero. Any chance you remember...   \n",
       "...                  ...                                                ...   \n",
       "159566  ffe987279560d7ff  \":::::And for the second time of asking, when ...   \n",
       "159567  ffea4adeee384e90  You should be ashamed of yourself \\n\\nThat is ...   \n",
       "159568  ffee36eab5c267c9  Spitzer \\n\\nUmm, theres no actual article for ...   \n",
       "159569  fff125370e4aaaf3  And it looks like it was actually you who put ...   \n",
       "159570  fff46fc426af1f9a  \"\\nAnd ... I really don't think you understand...   \n",
       "\n",
       "        malignant  highly_malignant  rude  threat  abuse  loathe  \n",
       "0               0                 0     0       0      0       0  \n",
       "1               0                 0     0       0      0       0  \n",
       "2               0                 0     0       0      0       0  \n",
       "3               0                 0     0       0      0       0  \n",
       "4               0                 0     0       0      0       0  \n",
       "...           ...               ...   ...     ...    ...     ...  \n",
       "159566          0                 0     0       0      0       0  \n",
       "159567          0                 0     0       0      0       0  \n",
       "159568          0                 0     0       0      0       0  \n",
       "159569          0                 0     0       0      0       0  \n",
       "159570          0                 0     0       0      0       0  \n",
       "\n",
       "[159571 rows x 8 columns]"
      ]
     },
     "execution_count": 2,
     "metadata": {},
     "output_type": "execute_result"
    }
   ],
   "source": [
    "#Load dataset\n",
    "df=pd.read_csv(r'C:\\Users\\USER\\Documents\\Fliprobo Technologies\\Malignant Tumor\\train.csv')\n",
    "df"
   ]
  },
  {
   "cell_type": "code",
   "execution_count": 3,
   "id": "8cb9e1c0",
   "metadata": {},
   "outputs": [
    {
     "data": {
      "text/html": [
       "<div>\n",
       "<style scoped>\n",
       "    .dataframe tbody tr th:only-of-type {\n",
       "        vertical-align: middle;\n",
       "    }\n",
       "\n",
       "    .dataframe tbody tr th {\n",
       "        vertical-align: top;\n",
       "    }\n",
       "\n",
       "    .dataframe thead th {\n",
       "        text-align: right;\n",
       "    }\n",
       "</style>\n",
       "<table border=\"1\" class=\"dataframe\">\n",
       "  <thead>\n",
       "    <tr style=\"text-align: right;\">\n",
       "      <th></th>\n",
       "      <th>id</th>\n",
       "      <th>comment_text</th>\n",
       "      <th>malignant</th>\n",
       "      <th>highly_malignant</th>\n",
       "      <th>rude</th>\n",
       "      <th>threat</th>\n",
       "      <th>abuse</th>\n",
       "      <th>loathe</th>\n",
       "    </tr>\n",
       "  </thead>\n",
       "  <tbody>\n",
       "    <tr>\n",
       "      <th>0</th>\n",
       "      <td>0000997932d777bf</td>\n",
       "      <td>Explanation\\nWhy the edits made under my usern...</td>\n",
       "      <td>0</td>\n",
       "      <td>0</td>\n",
       "      <td>0</td>\n",
       "      <td>0</td>\n",
       "      <td>0</td>\n",
       "      <td>0</td>\n",
       "    </tr>\n",
       "    <tr>\n",
       "      <th>1</th>\n",
       "      <td>000103f0d9cfb60f</td>\n",
       "      <td>D'aww! He matches this background colour I'm s...</td>\n",
       "      <td>0</td>\n",
       "      <td>0</td>\n",
       "      <td>0</td>\n",
       "      <td>0</td>\n",
       "      <td>0</td>\n",
       "      <td>0</td>\n",
       "    </tr>\n",
       "    <tr>\n",
       "      <th>2</th>\n",
       "      <td>000113f07ec002fd</td>\n",
       "      <td>Hey man, I'm really not trying to edit war. It...</td>\n",
       "      <td>0</td>\n",
       "      <td>0</td>\n",
       "      <td>0</td>\n",
       "      <td>0</td>\n",
       "      <td>0</td>\n",
       "      <td>0</td>\n",
       "    </tr>\n",
       "    <tr>\n",
       "      <th>3</th>\n",
       "      <td>0001b41b1c6bb37e</td>\n",
       "      <td>\"\\nMore\\nI can't make any real suggestions on ...</td>\n",
       "      <td>0</td>\n",
       "      <td>0</td>\n",
       "      <td>0</td>\n",
       "      <td>0</td>\n",
       "      <td>0</td>\n",
       "      <td>0</td>\n",
       "    </tr>\n",
       "    <tr>\n",
       "      <th>4</th>\n",
       "      <td>0001d958c54c6e35</td>\n",
       "      <td>You, sir, are my hero. Any chance you remember...</td>\n",
       "      <td>0</td>\n",
       "      <td>0</td>\n",
       "      <td>0</td>\n",
       "      <td>0</td>\n",
       "      <td>0</td>\n",
       "      <td>0</td>\n",
       "    </tr>\n",
       "  </tbody>\n",
       "</table>\n",
       "</div>"
      ],
      "text/plain": [
       "                 id                                       comment_text  \\\n",
       "0  0000997932d777bf  Explanation\\nWhy the edits made under my usern...   \n",
       "1  000103f0d9cfb60f  D'aww! He matches this background colour I'm s...   \n",
       "2  000113f07ec002fd  Hey man, I'm really not trying to edit war. It...   \n",
       "3  0001b41b1c6bb37e  \"\\nMore\\nI can't make any real suggestions on ...   \n",
       "4  0001d958c54c6e35  You, sir, are my hero. Any chance you remember...   \n",
       "\n",
       "   malignant  highly_malignant  rude  threat  abuse  loathe  \n",
       "0          0                 0     0       0      0       0  \n",
       "1          0                 0     0       0      0       0  \n",
       "2          0                 0     0       0      0       0  \n",
       "3          0                 0     0       0      0       0  \n",
       "4          0                 0     0       0      0       0  "
      ]
     },
     "execution_count": 3,
     "metadata": {},
     "output_type": "execute_result"
    }
   ],
   "source": [
    "#checking the first five rows\n",
    "df.head()"
   ]
  },
  {
   "cell_type": "code",
   "execution_count": 4,
   "id": "3e29880e",
   "metadata": {},
   "outputs": [
    {
     "data": {
      "text/html": [
       "<div>\n",
       "<style scoped>\n",
       "    .dataframe tbody tr th:only-of-type {\n",
       "        vertical-align: middle;\n",
       "    }\n",
       "\n",
       "    .dataframe tbody tr th {\n",
       "        vertical-align: top;\n",
       "    }\n",
       "\n",
       "    .dataframe thead th {\n",
       "        text-align: right;\n",
       "    }\n",
       "</style>\n",
       "<table border=\"1\" class=\"dataframe\">\n",
       "  <thead>\n",
       "    <tr style=\"text-align: right;\">\n",
       "      <th></th>\n",
       "      <th>id</th>\n",
       "      <th>comment_text</th>\n",
       "      <th>malignant</th>\n",
       "      <th>highly_malignant</th>\n",
       "      <th>rude</th>\n",
       "      <th>threat</th>\n",
       "      <th>abuse</th>\n",
       "      <th>loathe</th>\n",
       "    </tr>\n",
       "  </thead>\n",
       "  <tbody>\n",
       "    <tr>\n",
       "      <th>159566</th>\n",
       "      <td>ffe987279560d7ff</td>\n",
       "      <td>\":::::And for the second time of asking, when ...</td>\n",
       "      <td>0</td>\n",
       "      <td>0</td>\n",
       "      <td>0</td>\n",
       "      <td>0</td>\n",
       "      <td>0</td>\n",
       "      <td>0</td>\n",
       "    </tr>\n",
       "    <tr>\n",
       "      <th>159567</th>\n",
       "      <td>ffea4adeee384e90</td>\n",
       "      <td>You should be ashamed of yourself \\n\\nThat is ...</td>\n",
       "      <td>0</td>\n",
       "      <td>0</td>\n",
       "      <td>0</td>\n",
       "      <td>0</td>\n",
       "      <td>0</td>\n",
       "      <td>0</td>\n",
       "    </tr>\n",
       "    <tr>\n",
       "      <th>159568</th>\n",
       "      <td>ffee36eab5c267c9</td>\n",
       "      <td>Spitzer \\n\\nUmm, theres no actual article for ...</td>\n",
       "      <td>0</td>\n",
       "      <td>0</td>\n",
       "      <td>0</td>\n",
       "      <td>0</td>\n",
       "      <td>0</td>\n",
       "      <td>0</td>\n",
       "    </tr>\n",
       "    <tr>\n",
       "      <th>159569</th>\n",
       "      <td>fff125370e4aaaf3</td>\n",
       "      <td>And it looks like it was actually you who put ...</td>\n",
       "      <td>0</td>\n",
       "      <td>0</td>\n",
       "      <td>0</td>\n",
       "      <td>0</td>\n",
       "      <td>0</td>\n",
       "      <td>0</td>\n",
       "    </tr>\n",
       "    <tr>\n",
       "      <th>159570</th>\n",
       "      <td>fff46fc426af1f9a</td>\n",
       "      <td>\"\\nAnd ... I really don't think you understand...</td>\n",
       "      <td>0</td>\n",
       "      <td>0</td>\n",
       "      <td>0</td>\n",
       "      <td>0</td>\n",
       "      <td>0</td>\n",
       "      <td>0</td>\n",
       "    </tr>\n",
       "  </tbody>\n",
       "</table>\n",
       "</div>"
      ],
      "text/plain": [
       "                      id                                       comment_text  \\\n",
       "159566  ffe987279560d7ff  \":::::And for the second time of asking, when ...   \n",
       "159567  ffea4adeee384e90  You should be ashamed of yourself \\n\\nThat is ...   \n",
       "159568  ffee36eab5c267c9  Spitzer \\n\\nUmm, theres no actual article for ...   \n",
       "159569  fff125370e4aaaf3  And it looks like it was actually you who put ...   \n",
       "159570  fff46fc426af1f9a  \"\\nAnd ... I really don't think you understand...   \n",
       "\n",
       "        malignant  highly_malignant  rude  threat  abuse  loathe  \n",
       "159566          0                 0     0       0      0       0  \n",
       "159567          0                 0     0       0      0       0  \n",
       "159568          0                 0     0       0      0       0  \n",
       "159569          0                 0     0       0      0       0  \n",
       "159570          0                 0     0       0      0       0  "
      ]
     },
     "execution_count": 4,
     "metadata": {},
     "output_type": "execute_result"
    }
   ],
   "source": [
    "#checking the last five rows\n",
    "df.tail()"
   ]
  },
  {
   "cell_type": "code",
   "execution_count": 5,
   "id": "6328dac6",
   "metadata": {},
   "outputs": [
    {
     "data": {
      "text/html": [
       "<div>\n",
       "<style scoped>\n",
       "    .dataframe tbody tr th:only-of-type {\n",
       "        vertical-align: middle;\n",
       "    }\n",
       "\n",
       "    .dataframe tbody tr th {\n",
       "        vertical-align: top;\n",
       "    }\n",
       "\n",
       "    .dataframe thead th {\n",
       "        text-align: right;\n",
       "    }\n",
       "</style>\n",
       "<table border=\"1\" class=\"dataframe\">\n",
       "  <thead>\n",
       "    <tr style=\"text-align: right;\">\n",
       "      <th></th>\n",
       "      <th>id</th>\n",
       "      <th>comment_text</th>\n",
       "      <th>malignant</th>\n",
       "      <th>highly_malignant</th>\n",
       "      <th>rude</th>\n",
       "      <th>threat</th>\n",
       "      <th>abuse</th>\n",
       "      <th>loathe</th>\n",
       "    </tr>\n",
       "  </thead>\n",
       "  <tbody>\n",
       "    <tr>\n",
       "      <th>146898</th>\n",
       "      <td>3367e06f6f2b3a6d</td>\n",
       "      <td>Convert to Puritanism or die? \\n\\nThe bit abou...</td>\n",
       "      <td>0</td>\n",
       "      <td>0</td>\n",
       "      <td>0</td>\n",
       "      <td>0</td>\n",
       "      <td>0</td>\n",
       "      <td>0</td>\n",
       "    </tr>\n",
       "    <tr>\n",
       "      <th>145283</th>\n",
       "      <td>1a2843b373407cc5</td>\n",
       "      <td>hello again \\n\\nhello, do you remember the van...</td>\n",
       "      <td>0</td>\n",
       "      <td>0</td>\n",
       "      <td>0</td>\n",
       "      <td>0</td>\n",
       "      <td>0</td>\n",
       "      <td>0</td>\n",
       "    </tr>\n",
       "    <tr>\n",
       "      <th>69486</th>\n",
       "      <td>b9d936c13eb9bdee</td>\n",
       "      <td>If one can read english, we can see the verse ...</td>\n",
       "      <td>0</td>\n",
       "      <td>0</td>\n",
       "      <td>0</td>\n",
       "      <td>0</td>\n",
       "      <td>0</td>\n",
       "      <td>0</td>\n",
       "    </tr>\n",
       "    <tr>\n",
       "      <th>21665</th>\n",
       "      <td>391a4c24561183a6</td>\n",
       "      <td>\"::\"\"There were also several aerial bombardmen...</td>\n",
       "      <td>0</td>\n",
       "      <td>0</td>\n",
       "      <td>0</td>\n",
       "      <td>0</td>\n",
       "      <td>0</td>\n",
       "      <td>0</td>\n",
       "    </tr>\n",
       "  </tbody>\n",
       "</table>\n",
       "</div>"
      ],
      "text/plain": [
       "                      id                                       comment_text  \\\n",
       "146898  3367e06f6f2b3a6d  Convert to Puritanism or die? \\n\\nThe bit abou...   \n",
       "145283  1a2843b373407cc5  hello again \\n\\nhello, do you remember the van...   \n",
       "69486   b9d936c13eb9bdee  If one can read english, we can see the verse ...   \n",
       "21665   391a4c24561183a6  \"::\"\"There were also several aerial bombardmen...   \n",
       "\n",
       "        malignant  highly_malignant  rude  threat  abuse  loathe  \n",
       "146898          0                 0     0       0      0       0  \n",
       "145283          0                 0     0       0      0       0  \n",
       "69486           0                 0     0       0      0       0  \n",
       "21665           0                 0     0       0      0       0  "
      ]
     },
     "execution_count": 5,
     "metadata": {},
     "output_type": "execute_result"
    }
   ],
   "source": [
    "#picking 4 random samples\n",
    "df.sample(4)"
   ]
  },
  {
   "cell_type": "markdown",
   "id": "62e5b6ad",
   "metadata": {},
   "source": [
    "# 2.3 - Data Descriptive Analysis"
   ]
  },
  {
   "cell_type": "code",
   "execution_count": 6,
   "id": "b78450ca",
   "metadata": {},
   "outputs": [
    {
     "data": {
      "text/plain": [
       "(159571, 8)"
      ]
     },
     "execution_count": 6,
     "metadata": {},
     "output_type": "execute_result"
    }
   ],
   "source": [
    "#checking the data shape\n",
    "df.shape"
   ]
  },
  {
   "cell_type": "code",
   "execution_count": 7,
   "id": "5ce6cb50",
   "metadata": {},
   "outputs": [
    {
     "data": {
      "text/plain": [
       "id                  object\n",
       "comment_text        object\n",
       "malignant            int64\n",
       "highly_malignant     int64\n",
       "rude                 int64\n",
       "threat               int64\n",
       "abuse                int64\n",
       "loathe               int64\n",
       "dtype: object"
      ]
     },
     "execution_count": 7,
     "metadata": {},
     "output_type": "execute_result"
    }
   ],
   "source": [
    "#checking for nature of datatypes\n",
    "df.dtypes"
   ]
  },
  {
   "cell_type": "code",
   "execution_count": 8,
   "id": "e4b9d192",
   "metadata": {},
   "outputs": [
    {
     "name": "stdout",
     "output_type": "stream",
     "text": [
      "<class 'pandas.core.frame.DataFrame'>\n",
      "RangeIndex: 159571 entries, 0 to 159570\n",
      "Data columns (total 8 columns):\n",
      " #   Column            Non-Null Count   Dtype \n",
      "---  ------            --------------   ----- \n",
      " 0   id                159571 non-null  object\n",
      " 1   comment_text      159571 non-null  object\n",
      " 2   malignant         159571 non-null  int64 \n",
      " 3   highly_malignant  159571 non-null  int64 \n",
      " 4   rude              159571 non-null  int64 \n",
      " 5   threat            159571 non-null  int64 \n",
      " 6   abuse             159571 non-null  int64 \n",
      " 7   loathe            159571 non-null  int64 \n",
      "dtypes: int64(6), object(2)\n",
      "memory usage: 9.7+ MB\n"
     ]
    }
   ],
   "source": [
    "#Checking data info\n",
    "df.info()"
   ]
  },
  {
   "cell_type": "code",
   "execution_count": 9,
   "id": "fa652e3d",
   "metadata": {},
   "outputs": [
    {
     "data": {
      "text/html": [
       "<div>\n",
       "<style scoped>\n",
       "    .dataframe tbody tr th:only-of-type {\n",
       "        vertical-align: middle;\n",
       "    }\n",
       "\n",
       "    .dataframe tbody tr th {\n",
       "        vertical-align: top;\n",
       "    }\n",
       "\n",
       "    .dataframe thead th {\n",
       "        text-align: right;\n",
       "    }\n",
       "</style>\n",
       "<table border=\"1\" class=\"dataframe\">\n",
       "  <thead>\n",
       "    <tr style=\"text-align: right;\">\n",
       "      <th></th>\n",
       "      <th>malignant</th>\n",
       "      <th>highly_malignant</th>\n",
       "      <th>rude</th>\n",
       "      <th>threat</th>\n",
       "      <th>abuse</th>\n",
       "      <th>loathe</th>\n",
       "    </tr>\n",
       "  </thead>\n",
       "  <tbody>\n",
       "    <tr>\n",
       "      <th>count</th>\n",
       "      <td>159571.000000</td>\n",
       "      <td>159571.000000</td>\n",
       "      <td>159571.000000</td>\n",
       "      <td>159571.000000</td>\n",
       "      <td>159571.000000</td>\n",
       "      <td>159571.000000</td>\n",
       "    </tr>\n",
       "    <tr>\n",
       "      <th>mean</th>\n",
       "      <td>0.095844</td>\n",
       "      <td>0.009996</td>\n",
       "      <td>0.052948</td>\n",
       "      <td>0.002996</td>\n",
       "      <td>0.049364</td>\n",
       "      <td>0.008805</td>\n",
       "    </tr>\n",
       "    <tr>\n",
       "      <th>std</th>\n",
       "      <td>0.294379</td>\n",
       "      <td>0.099477</td>\n",
       "      <td>0.223931</td>\n",
       "      <td>0.054650</td>\n",
       "      <td>0.216627</td>\n",
       "      <td>0.093420</td>\n",
       "    </tr>\n",
       "    <tr>\n",
       "      <th>min</th>\n",
       "      <td>0.000000</td>\n",
       "      <td>0.000000</td>\n",
       "      <td>0.000000</td>\n",
       "      <td>0.000000</td>\n",
       "      <td>0.000000</td>\n",
       "      <td>0.000000</td>\n",
       "    </tr>\n",
       "    <tr>\n",
       "      <th>25%</th>\n",
       "      <td>0.000000</td>\n",
       "      <td>0.000000</td>\n",
       "      <td>0.000000</td>\n",
       "      <td>0.000000</td>\n",
       "      <td>0.000000</td>\n",
       "      <td>0.000000</td>\n",
       "    </tr>\n",
       "    <tr>\n",
       "      <th>50%</th>\n",
       "      <td>0.000000</td>\n",
       "      <td>0.000000</td>\n",
       "      <td>0.000000</td>\n",
       "      <td>0.000000</td>\n",
       "      <td>0.000000</td>\n",
       "      <td>0.000000</td>\n",
       "    </tr>\n",
       "    <tr>\n",
       "      <th>75%</th>\n",
       "      <td>0.000000</td>\n",
       "      <td>0.000000</td>\n",
       "      <td>0.000000</td>\n",
       "      <td>0.000000</td>\n",
       "      <td>0.000000</td>\n",
       "      <td>0.000000</td>\n",
       "    </tr>\n",
       "    <tr>\n",
       "      <th>max</th>\n",
       "      <td>1.000000</td>\n",
       "      <td>1.000000</td>\n",
       "      <td>1.000000</td>\n",
       "      <td>1.000000</td>\n",
       "      <td>1.000000</td>\n",
       "      <td>1.000000</td>\n",
       "    </tr>\n",
       "  </tbody>\n",
       "</table>\n",
       "</div>"
      ],
      "text/plain": [
       "           malignant  highly_malignant           rude         threat  \\\n",
       "count  159571.000000     159571.000000  159571.000000  159571.000000   \n",
       "mean        0.095844          0.009996       0.052948       0.002996   \n",
       "std         0.294379          0.099477       0.223931       0.054650   \n",
       "min         0.000000          0.000000       0.000000       0.000000   \n",
       "25%         0.000000          0.000000       0.000000       0.000000   \n",
       "50%         0.000000          0.000000       0.000000       0.000000   \n",
       "75%         0.000000          0.000000       0.000000       0.000000   \n",
       "max         1.000000          1.000000       1.000000       1.000000   \n",
       "\n",
       "               abuse         loathe  \n",
       "count  159571.000000  159571.000000  \n",
       "mean        0.049364       0.008805  \n",
       "std         0.216627       0.093420  \n",
       "min         0.000000       0.000000  \n",
       "25%         0.000000       0.000000  \n",
       "50%         0.000000       0.000000  \n",
       "75%         0.000000       0.000000  \n",
       "max         1.000000       1.000000  "
      ]
     },
     "execution_count": 9,
     "metadata": {},
     "output_type": "execute_result"
    }
   ],
   "source": [
    "#Checking data full description\n",
    "df.describe()"
   ]
  },
  {
   "cell_type": "markdown",
   "id": "259a5e79",
   "metadata": {},
   "source": [
    "- Just incase you were wondering, notice the Object data are not contained in the data.describe analysis!\n",
    "\n",
    "- Looking at the above table we can see an anomaly between the mean and standard deviation on all numerical data above."
   ]
  },
  {
   "cell_type": "code",
   "execution_count": 10,
   "id": "e44d7fae",
   "metadata": {},
   "outputs": [
    {
     "data": {
      "text/html": [
       "<div>\n",
       "<style scoped>\n",
       "    .dataframe tbody tr th:only-of-type {\n",
       "        vertical-align: middle;\n",
       "    }\n",
       "\n",
       "    .dataframe tbody tr th {\n",
       "        vertical-align: top;\n",
       "    }\n",
       "\n",
       "    .dataframe thead th {\n",
       "        text-align: right;\n",
       "    }\n",
       "</style>\n",
       "<table border=\"1\" class=\"dataframe\">\n",
       "  <thead>\n",
       "    <tr style=\"text-align: right;\">\n",
       "      <th></th>\n",
       "      <th>id</th>\n",
       "      <th>comment_text</th>\n",
       "    </tr>\n",
       "  </thead>\n",
       "  <tbody>\n",
       "    <tr>\n",
       "      <th>count</th>\n",
       "      <td>159571</td>\n",
       "      <td>159571</td>\n",
       "    </tr>\n",
       "    <tr>\n",
       "      <th>unique</th>\n",
       "      <td>159571</td>\n",
       "      <td>159571</td>\n",
       "    </tr>\n",
       "    <tr>\n",
       "      <th>top</th>\n",
       "      <td>0000997932d777bf</td>\n",
       "      <td>Explanation\\nWhy the edits made under my usern...</td>\n",
       "    </tr>\n",
       "    <tr>\n",
       "      <th>freq</th>\n",
       "      <td>1</td>\n",
       "      <td>1</td>\n",
       "    </tr>\n",
       "  </tbody>\n",
       "</table>\n",
       "</div>"
      ],
      "text/plain": [
       "                      id                                       comment_text\n",
       "count             159571                                             159571\n",
       "unique            159571                                             159571\n",
       "top     0000997932d777bf  Explanation\\nWhy the edits made under my usern...\n",
       "freq                   1                                                  1"
      ]
     },
     "execution_count": 10,
     "metadata": {},
     "output_type": "execute_result"
    }
   ],
   "source": [
    "#Checking data description for all non-numerical columns\n",
    "dtypes = ['int8','int16','int32','int64','float16','float32','float64']#enlisiting and storing possible data types of continuous data. This means any continuous data MUST have any of this type of data type\n",
    "cat_columns=[]#initializing an emty list\n",
    "Features = df.columns.values.tolist()#Pulling all the features(columns) of the dataset and storing in Features\n",
    "for i in Features:#col is the iterating variable\n",
    "    if df[i].dtype in dtypes:\n",
    "        continue\n",
    "    cat_columns.append(i)\n",
    "df[cat_columns].describe()"
   ]
  },
  {
   "cell_type": "code",
   "execution_count": 11,
   "id": "630f19eb",
   "metadata": {},
   "outputs": [
    {
     "data": {
      "text/plain": [
       "Index(['id', 'comment_text', 'malignant', 'highly_malignant', 'rude', 'threat',\n",
       "       'abuse', 'loathe'],\n",
       "      dtype='object')"
      ]
     },
     "execution_count": 11,
     "metadata": {},
     "output_type": "execute_result"
    }
   ],
   "source": [
    "#lets check the columns/headers and see its orientation\n",
    "df.columns"
   ]
  },
  {
   "cell_type": "code",
   "execution_count": 12,
   "id": "80fe76e4",
   "metadata": {},
   "outputs": [
    {
     "data": {
      "text/plain": [
       "id                  0\n",
       "comment_text        0\n",
       "malignant           0\n",
       "highly_malignant    0\n",
       "rude                0\n",
       "threat              0\n",
       "abuse               0\n",
       "loathe              0\n",
       "dtype: int64"
      ]
     },
     "execution_count": 12,
     "metadata": {},
     "output_type": "execute_result"
    }
   ],
   "source": [
    "#Checking for null values\n",
    "df.isnull().sum()"
   ]
  },
  {
   "cell_type": "markdown",
   "id": "81e09084",
   "metadata": {},
   "source": [
    "Hmmm....the above shows there are no null values! meaning we wont be adopting the process of using 'fillna' or simpler imputer!"
   ]
  },
  {
   "cell_type": "code",
   "execution_count": 13,
   "id": "ea2fa88f",
   "metadata": {},
   "outputs": [
    {
     "data": {
      "text/plain": [
       "0"
      ]
     },
     "execution_count": 13,
     "metadata": {},
     "output_type": "execute_result"
    }
   ],
   "source": [
    "#Checking for null values\n",
    "df.isnull().sum().sum()"
   ]
  },
  {
   "cell_type": "code",
   "execution_count": 14,
   "id": "ab01f0ed",
   "metadata": {},
   "outputs": [
    {
     "name": "stdout",
     "output_type": "stream",
     "text": [
      "The Value Counts in Malignant -  Counter({0: 144277, 1: 15294})\n"
     ]
    }
   ],
   "source": [
    "#Checking the count-goemetry of the Target column only\n",
    "print(\"The Value Counts in Malignant - \",Counter(df['malignant']))"
   ]
  },
  {
   "cell_type": "markdown",
   "id": "4aa8dbc8",
   "metadata": {},
   "source": [
    "Hmmmmm....this looks like a balanced data! Hence the deployment of SMOTE(Synthetic Minority Oversampling Technique)  wont be tenable "
   ]
  },
  {
   "cell_type": "code",
   "execution_count": 15,
   "id": "74d97a20",
   "metadata": {},
   "outputs": [
    {
     "name": "stdout",
     "output_type": "stream",
     "text": [
      "\n",
      " 0000997932d777bf    1\n",
      "392f4a9354209ec6    1\n",
      "3925db56b320ccc6    1\n",
      "392753482da03615    1\n",
      "3927dd49d646f41f    1\n",
      "                   ..\n",
      "8e30b2de937e8de9    1\n",
      "8e30fd3564ba0b4a    1\n",
      "8e328798f6397fcc    1\n",
      "8e34742563534edd    1\n",
      "fff46fc426af1f9a    1\n",
      "Name: id, Length: 159571, dtype: int64\n",
      "\n",
      " Explanation\\nWhy the edits made under my username Hardcore Metallica Fan were reverted? They weren't vandalisms, just closure on some GAs after I voted at New York Dolls FAC. And please don't remove the template from the talk page since I'm retired now.89.205.38.27                                                                                                                                                                                                                                                                                                                                                                                                                                                                                                                                                                                                                                                                                                                                                                                                                                                                                                                                                                                                                                                                                                                                                                                                                                                                                                                                                                                                                                                                                                                                                                                                                                                                                                                                                                                                                                                                                                                                                                                                                                                                                                                                                                                                                                                                                                                                                                                                                                                                                                                                                                                                                                                                                                                                                                                                                                                                                                                                                                                                                                                                                                                                                                                                                                                                                                                                                                                                                                                                                                                                                                                                                                                                                                                                                                                     1\n",
      "John Barbirolli \\n\\nWarm thanks for promoting the article and for your kind words about it. At your service for GA, peer review or FA etc if I can be of any use. -                                                                                                                                                                                                                                                                                                                                                                                                                                                                                                                                                                                                                                                                                                                                                                                                                                                                                                                                                                                                                                                                                                                                                                                                                                                                                                                                                                                                                                                                                                                                                                                                                                                                                                                                                                                                                                                                                                                                                                                                                                                                                                                                                                                                                                                                                                                                                                                                                                                                                                                                                                                                                                                                                                                                                                                                                                                                                                                                                                                                                                                                                                                                                                                                                                                                                                                                                                                                                                                                                                                                                                                                                                                                                                                                                                                                                                                                                           1\n",
      "\"\\n\\nHe is an Alumnus, a scientist and an Interaction Design pioneer.  If you want to reword the article, by all means User:Kmarkey  call Carnegie Mellon for verification.  Also, if you read Category:Suspected_Wikipedia_sockpuppets_of_Young_Zaphod it mentions \"\"Herb Gilliland\"\" because of an article involving Mr. Gilliland.  \\n \"                                                                                                                                                                                                                                                                                                                                                                                                                                                                                                                                                                                                                                                                                                                                                                                                                                                                                                                                                                                                                                                                                                                                                                                                                                                                                                                                                                                                                                                                                                                                                                                                                                                                                                                                                                                                                                                                                                                                                                                                                                                                                                                                                                                                                                                                                                                                                                                                                                                                                                                                                                                                                                                                                                                                                                                                                                                                                                                                                                                                                                                                                                                                                                                                                                                                                                                                                                                                                                                                                                                                                                                                                                                                                                                   1\n",
      "Reply on my talk page. -                                                                                                                                                                                                                                                                                                                                                                                                                                                                                                                                                                                                                                                                                                                                                                                                                                                                                                                                                                                                                                                                                                                                                                                                                                                                                                                                                                                                                                                                                                                                                                                                                                                                                                                                                                                                                                                                                                                                                                                                                                                                                                                                                                                                                                                                                                                                                                                                                                                                                                                                                                                                                                                                                                                                                                                                                                                                                                                                                                                                                                                                                                                                                                                                                                                                                                                                                                                                                                                                                                                                                                                                                                                                                                                                                                                                                                                                                                                                                                                                                                      1\n",
      "\"\\n\\n Some tips for you! \\n\\nHi , I thought I'd drop a few notes on your talk page with some help on writing articles o)\\n\\nFirst of all, it may be best for you to do a bit of reading, starting with the Wikipedia manual of style, which will give you a lot of information about how Wikipedia prefers its articles to be written.  It's not as hard to follow as it might look; quite a bit of the information there probably won't be vital for you at first.\\n\\nSecond, I recommend you make a user sandbox - which is just an area you can use to practise in, and to make notes in, and to get things ready in.  If you click this red link: user:/Sandbox, that will let you create that page (it gives you an edit window to start work in).  Anything, anywhere, on the help and information pages which gives you an example, try it out in your sandbox until you're familiar with it.\\n\\nFor your article, the next thing you want to do is start collecting as much information as you can about it.  Google searches (particularly in Books and Scholar) will be your best friend for this!  Once you've found the information, the next most important thing is to start writing up each fact in your own words (very important, this), and make a note at the same time of exactly where that information came from.  Build in the references as you go along; I'm going to copy in, down below this, a whole heap of help on doing references, which was produced by one of our best teachers ().\\n\\nHere's another place that you'll find incredibly useful - citation templates which you can copy and paste into your sandbox, between  tags; you just fill in the blanks from your sources into the template, and you'll end up with nicely formatted inline citations o)  It all helps.  Remember to add a references section to your sandbox (make a new line, and put ==References== on it, and type {{reflist}} on the next line, so that you can see how your citations look as you do them.  Remember to save your page often! You don't want to lose your work.\\n\\nHopefully this will give you a good start and make life easier for you.  (talk …stalk!) \\nHow references work\\n\\n Simple references \\n\\nThese require two parts;\\n\\na)\\nChzz is 98 years old. \"\"The book of Chzz\"\", Aardvark Books, 2009. \\n\\nHe likes tea.  [http://www.nicecupofteaandasitdown.com Tea website] \\n\\nb) A section called \"\"References\"\" with the special code \"\"{{reflist}}\"\";\\n== References ==\\n{{reflist}}\\n\\n(an existing article is likely to already have one of these sections)\\n\\nTo see the result of that, please look at user:chzz/demo/simpleref. Edit it, and check the code; perhaps make a test page of your own, such as user:/reftest and try it out.\\n\\n Named references \\n\\nChzz was born in 1837. \\n\"\"The book of Chzz\"\", Aardvark Books, 2009. \\n \\n\\nChzz lives in Footown.\\n\\nNote that the second usage has a / (and no closing ref tag). This needs a reference section as above; please see user:chzz/demo/namedref to see the result.\\n\\n Citation templates \\n\\nYou can put anything you like between  and , but using citation templates makes for a neat, consistent look;\\n\\nChzz has 37 Olympic medals.  {{Citation\\n | last = Smith\\n | first = John\\n | title = Olympic medal winners of the 20th century\\n | publication-date = 2001\\n | publisher = [[Cambridge University Press]]\\n | page = 125\\n | isbn = 0-521-37169-4\\n}}\\n\\n\\nPlease see user:chzz/demo/citeref to see the result.\\n\\nFor more help and tips on that subject, see user:chzz/help/refs.\\nSomething to make your life easier!\\n\\nHi there !  I've just come across one of your articles, and noticed that you had to create titles for your url links manually, or were using bare urls as references.\\n\\nYou  might want to consider using this tool - it makes your life a whole heap easier, by filling in complete citation templates for your links.  All you do is install the script on Special:MyPage/common.js, or or    1\n",
      "                                                                                                                                                                                                                                                                                                                                                                                                                                                                                                                                                                                                                                                                                                                                                                                                                                                                                                                                                                                                                                                                                                                                                                                                                                                                                                                                                                                                                                                                                                                                                                                                                                                                                                                                                                                                                                                                                                                                                                                                                                                                                                                                                                                                                                                                                                                                                                                                                                                                                                                                                                                                                                                                                                                                                                                                                                                                                                                                                                                                                                                                                                                                                                                                                                                                                                                                                                                                                                                                                                                                                                                                                                                                                                                                                                                                                                                                                                                                                                                                                                                             ..\n",
      ", which also mean that I will avoid edit-warring as WP:BRD says                                                                                                                                                                                                                                                                                                                                                                                                                                                                                                                                                                                                                                                                                                                                                                                                                                                                                                                                                                                                                                                                                                                                                                                                                                                                                                                                                                                                                                                                                                                                                                                                                                                                                                                                                                                                                                                                                                                                                                                                                                                                                                                                                                                                                                                                                                                                                                                                                                                                                                                                                                                                                                                                                                                                                                                                                                                                                                                                                                                                                                                                                                                                                                                                                                                                                                                                                                                                                                                                                                                                                                                                                                                                                                                                                                                                                                                                                                                                                                                               1\n",
      "nutcase \\n\\nyou're a sick bloody nutcase                                                                                                                                                                                                                                                                                                                                                                                                                                                                                                                                                                                                                                                                                                                                                                                                                                                                                                                                                                                                                                                                                                                                                                                                                                                                                                                                                                                                                                                                                                                                                                                                                                                                                                                                                                                                                                                                                                                                                                                                                                                                                                                                                                                                                                                                                                                                                                                                                                                                                                                                                                                                                                                                                                                                                                                                                                                                                                                                                                                                                                                                                                                                                                                                                                                                                                                                                                                                                                                                                                                                                                                                                                                                                                                                                                                                                                                                                                                                                                                                                      1\n",
      "\"\\n\\nDon't worry about the above too much - but copyrighted files like this can't be used when it's \"\"easy\"\" to get free shots.  That's why so many articles on living people don't have an image, they're waiting for free images to appear.  You also need to find some more sources about Kelly - IMDb isn't classed as a very reliable source because like wikipedia most of it is user generated content, so it isn't verifiably correct.   \"                                                                                                                                                                                                                                                                                                                                                                                                                                                                                                                                                                                                                                                                                                                                                                                                                                                                                                                                                                                                                                                                                                                                                                                                                                                                                                                                                                                                                                                                                                                                                                                                                                                                                                                                                                                                                                                                                                                                                                                                                                                                                                                                                                                                                                                                                                                                                                                                                                                                                                                                                                                                                                                                                                                                                                                                                                                                                                                                                                                                                                                                                                                                                                                                                                                                                                                                                                                                                                                                                                                                                                                                            1\n",
      "please reffer tkz.jpg                                                                                                                                                                                                                                                                                                                                                                                                                                                                                                                                                                                                                                                                                                                                                                                                                                                                                                                                                                                                                                                                                                                                                                                                                                                                                                                                                                                                                                                                                                                                                                                                                                                                                                                                                                                                                                                                                                                                                                                                                                                                                                                                                                                                                                                                                                                                                                                                                                                                                                                                                                                                                                                                                                                                                                                                                                                                                                                                                                                                                                                                                                                                                                                                                                                                                                                                                                                                                                                                                                                                                                                                                                                                                                                                                                                                                                                                                                                                                                                                                                         1\n",
      "\"\\nAnd ... I really don't think you understand.  I came here and my idea was bad right away.  What kind of community goes \"\"you have bad ideas\"\" go away, instead of helping rewrite them.   \"                                                                                                                                                                                                                                                                                                                                                                                                                                                                                                                                                                                                                                                                                                                                                                                                                                                                                                                                                                                                                                                                                                                                                                                                                                                                                                                                                                                                                                                                                                                                                                                                                                                                                                                                                                                                                                                                                                                                                                                                                                                                                                                                                                                                                                                                                                                                                                                                                                                                                                                                                                                                                                                                                                                                                                                                                                                                                                                                                                                                                                                                                                                                                                                                                                                                                                                                                                                                                                                                                                                                                                                                                                                                                                                                                                                                                                                                1\n",
      "Name: comment_text, Length: 159571, dtype: int64\n",
      "\n",
      " 0    144277\n",
      "1     15294\n",
      "Name: malignant, dtype: int64\n",
      "\n",
      " 0    157976\n",
      "1      1595\n",
      "Name: highly_malignant, dtype: int64\n",
      "\n",
      " 0    151122\n",
      "1      8449\n",
      "Name: rude, dtype: int64\n",
      "\n",
      " 0    159093\n",
      "1       478\n",
      "Name: threat, dtype: int64\n",
      "\n",
      " 0    151694\n",
      "1      7877\n",
      "Name: abuse, dtype: int64\n",
      "\n",
      " 0    158166\n",
      "1      1405\n",
      "Name: loathe, dtype: int64\n"
     ]
    }
   ],
   "source": [
    "for variable in df.columns:\n",
    "    print('\\n',df[variable].value_counts())"
   ]
  },
  {
   "cell_type": "markdown",
   "id": "0641f3e4",
   "metadata": {},
   "source": [
    "Lets check crirtically the factors of each data "
   ]
  },
  {
   "cell_type": "code",
   "execution_count": 16,
   "id": "a3df355c",
   "metadata": {},
   "outputs": [
    {
     "data": {
      "text/plain": [
       "Index(['id', 'comment_text', 'malignant', 'highly_malignant', 'rude', 'threat',\n",
       "       'abuse', 'loathe'],\n",
       "      dtype='object')"
      ]
     },
     "execution_count": 16,
     "metadata": {},
     "output_type": "execute_result"
    }
   ],
   "source": [
    "df.columns"
   ]
  },
  {
   "cell_type": "markdown",
   "id": "3c84d337",
   "metadata": {},
   "source": [
    "Lets take them one by one...."
   ]
  },
  {
   "cell_type": "code",
   "execution_count": 17,
   "id": "c12de4d1",
   "metadata": {},
   "outputs": [
    {
     "data": {
      "text/plain": [
       "0000997932d777bf    1\n",
       "392f4a9354209ec6    1\n",
       "3925db56b320ccc6    1\n",
       "392753482da03615    1\n",
       "3927dd49d646f41f    1\n",
       "                   ..\n",
       "8e30b2de937e8de9    1\n",
       "8e30fd3564ba0b4a    1\n",
       "8e328798f6397fcc    1\n",
       "8e34742563534edd    1\n",
       "fff46fc426af1f9a    1\n",
       "Name: id, Length: 159571, dtype: int64"
      ]
     },
     "execution_count": 17,
     "metadata": {},
     "output_type": "execute_result"
    }
   ],
   "source": [
    "df['id'].value_counts()"
   ]
  },
  {
   "cell_type": "markdown",
   "id": "3e342685",
   "metadata": {},
   "source": [
    "The above is fine, no unusual element"
   ]
  },
  {
   "cell_type": "code",
   "execution_count": 18,
   "id": "c58ce855",
   "metadata": {},
   "outputs": [
    {
     "data": {
      "text/plain": [
       "Explanation\\nWhy the edits made under my username Hardcore Metallica Fan were reverted? They weren't vandalisms, just closure on some GAs after I voted at New York Dolls FAC. And please don't remove the template from the talk page since I'm retired now.89.205.38.27                                                                                                                                                                                                                                                                                                                                                                                                                                                                                                                                                                                                                                                                                                                                                                                                                                                                                                                                                                                                                                                                                                                                                                                                                                                                                                                                                                                                                                                                                                                                                                                                                                                                                                                                                                                                                                                                                                                                                                                                                                                                                                                                                                                                                                                                                                                                                                                                                                                                                                                                                                                                                                                                                                                                                                                                                                                                                                                                                                                                                                                                                                                                                                                                                                                                                                                                                                                                                                                                                                                                                                                                                                                                                                                                                                                     1\n",
       "John Barbirolli \\n\\nWarm thanks for promoting the article and for your kind words about it. At your service for GA, peer review or FA etc if I can be of any use. -                                                                                                                                                                                                                                                                                                                                                                                                                                                                                                                                                                                                                                                                                                                                                                                                                                                                                                                                                                                                                                                                                                                                                                                                                                                                                                                                                                                                                                                                                                                                                                                                                                                                                                                                                                                                                                                                                                                                                                                                                                                                                                                                                                                                                                                                                                                                                                                                                                                                                                                                                                                                                                                                                                                                                                                                                                                                                                                                                                                                                                                                                                                                                                                                                                                                                                                                                                                                                                                                                                                                                                                                                                                                                                                                                                                                                                                                                           1\n",
       "\"\\n\\nHe is an Alumnus, a scientist and an Interaction Design pioneer.  If you want to reword the article, by all means User:Kmarkey  call Carnegie Mellon for verification.  Also, if you read Category:Suspected_Wikipedia_sockpuppets_of_Young_Zaphod it mentions \"\"Herb Gilliland\"\" because of an article involving Mr. Gilliland.  \\n \"                                                                                                                                                                                                                                                                                                                                                                                                                                                                                                                                                                                                                                                                                                                                                                                                                                                                                                                                                                                                                                                                                                                                                                                                                                                                                                                                                                                                                                                                                                                                                                                                                                                                                                                                                                                                                                                                                                                                                                                                                                                                                                                                                                                                                                                                                                                                                                                                                                                                                                                                                                                                                                                                                                                                                                                                                                                                                                                                                                                                                                                                                                                                                                                                                                                                                                                                                                                                                                                                                                                                                                                                                                                                                                                   1\n",
       "Reply on my talk page. -                                                                                                                                                                                                                                                                                                                                                                                                                                                                                                                                                                                                                                                                                                                                                                                                                                                                                                                                                                                                                                                                                                                                                                                                                                                                                                                                                                                                                                                                                                                                                                                                                                                                                                                                                                                                                                                                                                                                                                                                                                                                                                                                                                                                                                                                                                                                                                                                                                                                                                                                                                                                                                                                                                                                                                                                                                                                                                                                                                                                                                                                                                                                                                                                                                                                                                                                                                                                                                                                                                                                                                                                                                                                                                                                                                                                                                                                                                                                                                                                                                      1\n",
       "\"\\n\\n Some tips for you! \\n\\nHi , I thought I'd drop a few notes on your talk page with some help on writing articles o)\\n\\nFirst of all, it may be best for you to do a bit of reading, starting with the Wikipedia manual of style, which will give you a lot of information about how Wikipedia prefers its articles to be written.  It's not as hard to follow as it might look; quite a bit of the information there probably won't be vital for you at first.\\n\\nSecond, I recommend you make a user sandbox - which is just an area you can use to practise in, and to make notes in, and to get things ready in.  If you click this red link: user:/Sandbox, that will let you create that page (it gives you an edit window to start work in).  Anything, anywhere, on the help and information pages which gives you an example, try it out in your sandbox until you're familiar with it.\\n\\nFor your article, the next thing you want to do is start collecting as much information as you can about it.  Google searches (particularly in Books and Scholar) will be your best friend for this!  Once you've found the information, the next most important thing is to start writing up each fact in your own words (very important, this), and make a note at the same time of exactly where that information came from.  Build in the references as you go along; I'm going to copy in, down below this, a whole heap of help on doing references, which was produced by one of our best teachers ().\\n\\nHere's another place that you'll find incredibly useful - citation templates which you can copy and paste into your sandbox, between  tags; you just fill in the blanks from your sources into the template, and you'll end up with nicely formatted inline citations o)  It all helps.  Remember to add a references section to your sandbox (make a new line, and put ==References== on it, and type {{reflist}} on the next line, so that you can see how your citations look as you do them.  Remember to save your page often! You don't want to lose your work.\\n\\nHopefully this will give you a good start and make life easier for you.  (talk …stalk!) \\nHow references work\\n\\n Simple references \\n\\nThese require two parts;\\n\\na)\\nChzz is 98 years old. \"\"The book of Chzz\"\", Aardvark Books, 2009. \\n\\nHe likes tea.  [http://www.nicecupofteaandasitdown.com Tea website] \\n\\nb) A section called \"\"References\"\" with the special code \"\"{{reflist}}\"\";\\n== References ==\\n{{reflist}}\\n\\n(an existing article is likely to already have one of these sections)\\n\\nTo see the result of that, please look at user:chzz/demo/simpleref. Edit it, and check the code; perhaps make a test page of your own, such as user:/reftest and try it out.\\n\\n Named references \\n\\nChzz was born in 1837. \\n\"\"The book of Chzz\"\", Aardvark Books, 2009. \\n \\n\\nChzz lives in Footown.\\n\\nNote that the second usage has a / (and no closing ref tag). This needs a reference section as above; please see user:chzz/demo/namedref to see the result.\\n\\n Citation templates \\n\\nYou can put anything you like between  and , but using citation templates makes for a neat, consistent look;\\n\\nChzz has 37 Olympic medals.  {{Citation\\n | last = Smith\\n | first = John\\n | title = Olympic medal winners of the 20th century\\n | publication-date = 2001\\n | publisher = [[Cambridge University Press]]\\n | page = 125\\n | isbn = 0-521-37169-4\\n}}\\n\\n\\nPlease see user:chzz/demo/citeref to see the result.\\n\\nFor more help and tips on that subject, see user:chzz/help/refs.\\nSomething to make your life easier!\\n\\nHi there !  I've just come across one of your articles, and noticed that you had to create titles for your url links manually, or were using bare urls as references.\\n\\nYou  might want to consider using this tool - it makes your life a whole heap easier, by filling in complete citation templates for your links.  All you do is install the script on Special:MyPage/common.js, or or    1\n",
       "                                                                                                                                                                                                                                                                                                                                                                                                                                                                                                                                                                                                                                                                                                                                                                                                                                                                                                                                                                                                                                                                                                                                                                                                                                                                                                                                                                                                                                                                                                                                                                                                                                                                                                                                                                                                                                                                                                                                                                                                                                                                                                                                                                                                                                                                                                                                                                                                                                                                                                                                                                                                                                                                                                                                                                                                                                                                                                                                                                                                                                                                                                                                                                                                                                                                                                                                                                                                                                                                                                                                                                                                                                                                                                                                                                                                                                                                                                                                                                                                                                                             ..\n",
       ", which also mean that I will avoid edit-warring as WP:BRD says                                                                                                                                                                                                                                                                                                                                                                                                                                                                                                                                                                                                                                                                                                                                                                                                                                                                                                                                                                                                                                                                                                                                                                                                                                                                                                                                                                                                                                                                                                                                                                                                                                                                                                                                                                                                                                                                                                                                                                                                                                                                                                                                                                                                                                                                                                                                                                                                                                                                                                                                                                                                                                                                                                                                                                                                                                                                                                                                                                                                                                                                                                                                                                                                                                                                                                                                                                                                                                                                                                                                                                                                                                                                                                                                                                                                                                                                                                                                                                                               1\n",
       "nutcase \\n\\nyou're a sick bloody nutcase                                                                                                                                                                                                                                                                                                                                                                                                                                                                                                                                                                                                                                                                                                                                                                                                                                                                                                                                                                                                                                                                                                                                                                                                                                                                                                                                                                                                                                                                                                                                                                                                                                                                                                                                                                                                                                                                                                                                                                                                                                                                                                                                                                                                                                                                                                                                                                                                                                                                                                                                                                                                                                                                                                                                                                                                                                                                                                                                                                                                                                                                                                                                                                                                                                                                                                                                                                                                                                                                                                                                                                                                                                                                                                                                                                                                                                                                                                                                                                                                                      1\n",
       "\"\\n\\nDon't worry about the above too much - but copyrighted files like this can't be used when it's \"\"easy\"\" to get free shots.  That's why so many articles on living people don't have an image, they're waiting for free images to appear.  You also need to find some more sources about Kelly - IMDb isn't classed as a very reliable source because like wikipedia most of it is user generated content, so it isn't verifiably correct.   \"                                                                                                                                                                                                                                                                                                                                                                                                                                                                                                                                                                                                                                                                                                                                                                                                                                                                                                                                                                                                                                                                                                                                                                                                                                                                                                                                                                                                                                                                                                                                                                                                                                                                                                                                                                                                                                                                                                                                                                                                                                                                                                                                                                                                                                                                                                                                                                                                                                                                                                                                                                                                                                                                                                                                                                                                                                                                                                                                                                                                                                                                                                                                                                                                                                                                                                                                                                                                                                                                                                                                                                                                            1\n",
       "please reffer tkz.jpg                                                                                                                                                                                                                                                                                                                                                                                                                                                                                                                                                                                                                                                                                                                                                                                                                                                                                                                                                                                                                                                                                                                                                                                                                                                                                                                                                                                                                                                                                                                                                                                                                                                                                                                                                                                                                                                                                                                                                                                                                                                                                                                                                                                                                                                                                                                                                                                                                                                                                                                                                                                                                                                                                                                                                                                                                                                                                                                                                                                                                                                                                                                                                                                                                                                                                                                                                                                                                                                                                                                                                                                                                                                                                                                                                                                                                                                                                                                                                                                                                                         1\n",
       "\"\\nAnd ... I really don't think you understand.  I came here and my idea was bad right away.  What kind of community goes \"\"you have bad ideas\"\" go away, instead of helping rewrite them.   \"                                                                                                                                                                                                                                                                                                                                                                                                                                                                                                                                                                                                                                                                                                                                                                                                                                                                                                                                                                                                                                                                                                                                                                                                                                                                                                                                                                                                                                                                                                                                                                                                                                                                                                                                                                                                                                                                                                                                                                                                                                                                                                                                                                                                                                                                                                                                                                                                                                                                                                                                                                                                                                                                                                                                                                                                                                                                                                                                                                                                                                                                                                                                                                                                                                                                                                                                                                                                                                                                                                                                                                                                                                                                                                                                                                                                                                                                1\n",
       "Name: comment_text, Length: 159571, dtype: int64"
      ]
     },
     "execution_count": 18,
     "metadata": {},
     "output_type": "execute_result"
    }
   ],
   "source": [
    "df['comment_text'].value_counts()"
   ]
  },
  {
   "cell_type": "markdown",
   "id": "6e0b7214",
   "metadata": {},
   "source": [
    "The above is fine, no unusual element"
   ]
  },
  {
   "cell_type": "code",
   "execution_count": 19,
   "id": "547249d6",
   "metadata": {},
   "outputs": [
    {
     "data": {
      "text/plain": [
       "0    157976\n",
       "1      1595\n",
       "Name: highly_malignant, dtype: int64"
      ]
     },
     "execution_count": 19,
     "metadata": {},
     "output_type": "execute_result"
    }
   ],
   "source": [
    "df['highly_malignant'].value_counts()"
   ]
  },
  {
   "cell_type": "markdown",
   "id": "5b35c3fc",
   "metadata": {},
   "source": [
    "The above is fine, no unusual element"
   ]
  },
  {
   "cell_type": "code",
   "execution_count": 20,
   "id": "799396b1",
   "metadata": {},
   "outputs": [
    {
     "data": {
      "text/plain": [
       "0    151122\n",
       "1      8449\n",
       "Name: rude, dtype: int64"
      ]
     },
     "execution_count": 20,
     "metadata": {},
     "output_type": "execute_result"
    }
   ],
   "source": [
    "df['rude'].value_counts()"
   ]
  },
  {
   "cell_type": "markdown",
   "id": "e5e3e058",
   "metadata": {},
   "source": [
    "The above is fine, no unusual element"
   ]
  },
  {
   "cell_type": "code",
   "execution_count": 21,
   "id": "2eed1927",
   "metadata": {},
   "outputs": [
    {
     "data": {
      "text/plain": [
       "0    159093\n",
       "1       478\n",
       "Name: threat, dtype: int64"
      ]
     },
     "execution_count": 21,
     "metadata": {},
     "output_type": "execute_result"
    }
   ],
   "source": [
    "df['threat'].value_counts()"
   ]
  },
  {
   "cell_type": "markdown",
   "id": "feb75a7a",
   "metadata": {},
   "source": [
    "The above is fine, no unusual element"
   ]
  },
  {
   "cell_type": "code",
   "execution_count": 22,
   "id": "e90b1d75",
   "metadata": {},
   "outputs": [
    {
     "data": {
      "text/plain": [
       "0    151694\n",
       "1      7877\n",
       "Name: abuse, dtype: int64"
      ]
     },
     "execution_count": 22,
     "metadata": {},
     "output_type": "execute_result"
    }
   ],
   "source": [
    "df['abuse'].value_counts()"
   ]
  },
  {
   "cell_type": "markdown",
   "id": "44821d9f",
   "metadata": {},
   "source": [
    "The above is fine, no unusual element"
   ]
  },
  {
   "cell_type": "code",
   "execution_count": 23,
   "id": "b52db65b",
   "metadata": {},
   "outputs": [
    {
     "data": {
      "text/plain": [
       "0    158166\n",
       "1      1405\n",
       "Name: loathe, dtype: int64"
      ]
     },
     "execution_count": 23,
     "metadata": {},
     "output_type": "execute_result"
    }
   ],
   "source": [
    "df['loathe'].value_counts()"
   ]
  },
  {
   "cell_type": "markdown",
   "id": "4cb23fa2",
   "metadata": {},
   "source": [
    "The above is fine, no unusual element"
   ]
  },
  {
   "cell_type": "code",
   "execution_count": 24,
   "id": "4a6602b1",
   "metadata": {},
   "outputs": [
    {
     "data": {
      "text/plain": [
       "id                  object\n",
       "comment_text        object\n",
       "malignant            int64\n",
       "highly_malignant     int64\n",
       "rude                 int64\n",
       "threat               int64\n",
       "abuse                int64\n",
       "loathe               int64\n",
       "dtype: object"
      ]
     },
     "execution_count": 24,
     "metadata": {},
     "output_type": "execute_result"
    }
   ],
   "source": [
    "df.dtypes"
   ]
  },
  {
   "cell_type": "markdown",
   "id": "ce4c3260",
   "metadata": {},
   "source": [
    "# 2.4 - Observations\n",
    "\n",
    "\n",
    "# The Dataset is made up of;\n",
    "- 159571 rows and 8 columns\n",
    "- 7 features and 1 Target\n",
    "\n",
    "# Description of Features:\n",
    "\n",
    "1. id\n",
    "- It has no null values\n",
    "- Its Datatype is Object type\n",
    "- It is made up of Categorical data\n",
    "- Its has Non-Numerical data and require encoding before Exploratory Data Analysis takes place\n",
    "\n",
    "\n",
    "2. comment_text\n",
    "- It has no null values\n",
    "- Its Datatype is Object type\n",
    "- It is made up of Categorical data\n",
    "- Its has Non-Numerical data and require encoding before Exploratory Data Analysis takes place\n",
    "\n",
    "\n",
    "3. highly_malignant\n",
    "- It has no null values\n",
    "- Its Datatype is Integer type\n",
    "- It has two instances where 1(YES)=157,976, 0(NO)=1595\n",
    "- It is made up of Categorical data\n",
    "- Its has Numerical data and DOES NOT require encoding before Exploratory Data Analysis takes place\n",
    "\n",
    "\n",
    "4. rude\n",
    "- It has no null values\n",
    "- Its Datatype is Integer type\n",
    "- It has two instances where 1(YES)=151,122, 0(NO)=8,449\n",
    "- It is made up of Categorical data\n",
    "- Its has Numerical data and DOES NOT require encoding before Exploratory Data Analysis takes place\n",
    "\n",
    "\n",
    "5. threat \n",
    "- It has no null values\n",
    "- Its Datatype is Integer type\n",
    "- It has two instances where 1(YES)=159,093, 0(NO)=478\n",
    "- It is made up of Categorical data\n",
    "- Its has Numerical data and DOES NOT require encoding before Exploratory Data Analysis takes place\n",
    "\n",
    "\n",
    "6. abuse \n",
    "- It has no null values\n",
    "- Its Datatype is Integer type\n",
    "- It has two instances where 1(YES)=151,694, 0(NO)=7,877\n",
    "- It is made up of Categorical data\n",
    "- Its has Numerical data and DOES NOT require encoding before Exploratory Data Analysis takes place\n",
    "\n",
    "\n",
    "7. loathe\n",
    "- It has no null values\n",
    "- Its Datatype is Integer type\n",
    "- It has two instances where 1(YES)=158,166, 0(NO)=1,405\n",
    "- It is made up of Categorical data\n",
    "- Its has Numerical data and DOES NOT require encoding before Exploratory Data Analysis takes place\n",
    "\n",
    "\n",
    "\n",
    "\n",
    "# About the Target/Label:\n",
    "\n",
    "8. malignant: This is the target variable and has the following properties:\n",
    "- It has no null values\n",
    "- Its Datatype is Integer type\n",
    "- It has two instances where 1(YES)=183,431, 0(NO)=26,162\n",
    "- It is made up of Categorical data\n",
    "- Its has Numerical data and DOES NOT require encoding before Exploratory Data Analysis takes place\n",
    "\n",
    "\n",
    "**Since the target is made up of a categorical data hence this is a CLASSIFICATION PROBLEM! lets move on"
   ]
  },
  {
   "cell_type": "markdown",
   "id": "b1ed1db9",
   "metadata": {},
   "source": [
    "# Step 3 - EXPLORATORY DATA ANALYSIS(EDA) AND VISUALIZATION\n",
    "The objectives of the EDA is to ensure;\n",
    "1. Independent Features will have a normal distribution using Data Transformation to remove skewness\n",
    "2. Datasets will have the same scale using Normalization and Standardization\n",
    "3. Column mean will be zero\n",
    "4. Standard Deviation of the data should be 1"
   ]
  },
  {
   "cell_type": "markdown",
   "id": "47a53bc4",
   "metadata": {},
   "source": [
    "# 3.1 Count Distribution of Categorical Data - Univariate Analysis"
   ]
  },
  {
   "cell_type": "markdown",
   "id": "1edc7b0e",
   "metadata": {},
   "source": [
    "Now recall that all the columns are categorical columns meaning that we are able to see the count distributuion except for object data"
   ]
  },
  {
   "cell_type": "markdown",
   "id": "e94f37a7",
   "metadata": {},
   "source": [
    "Lets see the disctribution for all non-object columns"
   ]
  },
  {
   "cell_type": "code",
   "execution_count": 25,
   "id": "62e44bfb",
   "metadata": {},
   "outputs": [
    {
     "data": {
      "text/plain": [
       "Index(['id', 'comment_text', 'malignant', 'highly_malignant', 'rude', 'threat',\n",
       "       'abuse', 'loathe'],\n",
       "      dtype='object')"
      ]
     },
     "execution_count": 25,
     "metadata": {},
     "output_type": "execute_result"
    }
   ],
   "source": [
    "df.columns"
   ]
  },
  {
   "cell_type": "code",
   "execution_count": 26,
   "id": "051f805d",
   "metadata": {},
   "outputs": [
    {
     "name": "stdout",
     "output_type": "stream",
     "text": [
      "0    157976\n",
      "1      1595\n",
      "Name: highly_malignant, dtype: int64\n"
     ]
    },
    {
     "data": {
      "image/png": "[encoded data removed]",
      "text/plain": [
       "<Figure size 432x288 with 1 Axes>"
      ]
     },
     "metadata": {
      "needs_background": "light"
     },
     "output_type": "display_data"
    }
   ],
   "source": [
    "ax=sns.countplot(x='highly_malignant',data=df)\n",
    "print(df['highly_malignant'].value_counts())"
   ]
  },
  {
   "cell_type": "markdown",
   "id": "d6c93b6a",
   "metadata": {},
   "source": [
    "It has two instances where comments that highly malignant and not highly malignant are 1,595 and 157,976 repsectively...."
   ]
  },
  {
   "cell_type": "code",
   "execution_count": 27,
   "id": "f48c8f39",
   "metadata": {},
   "outputs": [
    {
     "name": "stdout",
     "output_type": "stream",
     "text": [
      "0    151122\n",
      "1      8449\n",
      "Name: rude, dtype: int64\n"
     ]
    },
    {
     "data": {
      "image/png": "[encoded data removed]",
      "text/plain": [
       "<Figure size 432x288 with 1 Axes>"
      ]
     },
     "metadata": {
      "needs_background": "light"
     },
     "output_type": "display_data"
    }
   ],
   "source": [
    "ax=sns.countplot(x='rude',data=df)\n",
    "print(df['rude'].value_counts())"
   ]
  },
  {
   "cell_type": "markdown",
   "id": "2f32a5e1",
   "metadata": {},
   "source": [
    "It has two instances where comments that are rude and not rude are 8,449 and 151,122 repsectively...."
   ]
  },
  {
   "cell_type": "code",
   "execution_count": 28,
   "id": "a0de6fa3",
   "metadata": {},
   "outputs": [
    {
     "name": "stdout",
     "output_type": "stream",
     "text": [
      "0    159093\n",
      "1       478\n",
      "Name: threat, dtype: int64\n"
     ]
    },
    {
     "data": {
      "image/png": "[encoded data removed]",
      "text/plain": [
       "<Figure size 432x288 with 1 Axes>"
      ]
     },
     "metadata": {
      "needs_background": "light"
     },
     "output_type": "display_data"
    }
   ],
   "source": [
    "ax=sns.countplot(x='threat',data=df)\n",
    "print(df['threat'].value_counts())"
   ]
  },
  {
   "cell_type": "markdown",
   "id": "c79891ea",
   "metadata": {},
   "source": [
    "It has two instances where comments that indicates threat and no-threat are 478 and 159,093 repsectively...."
   ]
  },
  {
   "cell_type": "code",
   "execution_count": 29,
   "id": "147b9293",
   "metadata": {},
   "outputs": [
    {
     "name": "stdout",
     "output_type": "stream",
     "text": [
      "0    151694\n",
      "1      7877\n",
      "Name: abuse, dtype: int64\n"
     ]
    },
    {
     "data": {
      "image/png": "[encoded data removed]",
      "text/plain": [
       "<Figure size 432x288 with 1 Axes>"
      ]
     },
     "metadata": {
      "needs_background": "light"
     },
     "output_type": "display_data"
    }
   ],
   "source": [
    "ax=sns.countplot(x='abuse',data=df)\n",
    "print(df['abuse'].value_counts())"
   ]
  },
  {
   "cell_type": "markdown",
   "id": "f8791c03",
   "metadata": {},
   "source": [
    "It has two instances where comments that are abusive and non-abusive are 7,877 and 151,694 repsectively...."
   ]
  },
  {
   "cell_type": "code",
   "execution_count": 30,
   "id": "4fdb12b4",
   "metadata": {},
   "outputs": [
    {
     "name": "stdout",
     "output_type": "stream",
     "text": [
      "0    158166\n",
      "1      1405\n",
      "Name: loathe, dtype: int64\n"
     ]
    },
    {
     "data": {
      "image/png": "[encoded data removed]",
      "text/plain": [
       "<Figure size 432x288 with 1 Axes>"
      ]
     },
     "metadata": {
      "needs_background": "light"
     },
     "output_type": "display_data"
    }
   ],
   "source": [
    "ax=sns.countplot(x='loathe',data=df)\n",
    "print(df['loathe'].value_counts())"
   ]
  },
  {
   "cell_type": "markdown",
   "id": "94d8e0ee",
   "metadata": {},
   "source": [
    "It has two instances where comments that are loathful and non-,loathful are 1,405 and 158,166 repsectively...."
   ]
  },
  {
   "cell_type": "code",
   "execution_count": 31,
   "id": "053f37fe",
   "metadata": {},
   "outputs": [
    {
     "name": "stdout",
     "output_type": "stream",
     "text": [
      "0    144277\n",
      "1     15294\n",
      "Name: malignant, dtype: int64\n"
     ]
    },
    {
     "data": {
      "image/png": "[encoded data removed]",
      "text/plain": [
       "<Figure size 432x288 with 1 Axes>"
      ]
     },
     "metadata": {
      "needs_background": "light"
     },
     "output_type": "display_data"
    }
   ],
   "source": [
    "ax=sns.countplot(x='malignant',data=df)\n",
    "print(df['malignant'].value_counts())"
   ]
  },
  {
   "cell_type": "markdown",
   "id": "52c53991",
   "metadata": {},
   "source": [
    "It has two instances where comments that are malignant and non-malignant are 15,924 and 144,277 repsectively...."
   ]
  },
  {
   "cell_type": "code",
   "execution_count": 32,
   "id": "17024bd3",
   "metadata": {},
   "outputs": [
    {
     "data": {
      "text/html": [
       "<div>\n",
       "<style scoped>\n",
       "    .dataframe tbody tr th:only-of-type {\n",
       "        vertical-align: middle;\n",
       "    }\n",
       "\n",
       "    .dataframe tbody tr th {\n",
       "        vertical-align: top;\n",
       "    }\n",
       "\n",
       "    .dataframe thead th {\n",
       "        text-align: right;\n",
       "    }\n",
       "</style>\n",
       "<table border=\"1\" class=\"dataframe\">\n",
       "  <thead>\n",
       "    <tr style=\"text-align: right;\">\n",
       "      <th></th>\n",
       "      <th>id</th>\n",
       "      <th>comment_text</th>\n",
       "    </tr>\n",
       "  </thead>\n",
       "  <tbody>\n",
       "    <tr>\n",
       "      <th>0</th>\n",
       "      <td>0000997932d777bf</td>\n",
       "      <td>Explanation\\nWhy the edits made under my usern...</td>\n",
       "    </tr>\n",
       "    <tr>\n",
       "      <th>1</th>\n",
       "      <td>000103f0d9cfb60f</td>\n",
       "      <td>D'aww! He matches this background colour I'm s...</td>\n",
       "    </tr>\n",
       "    <tr>\n",
       "      <th>2</th>\n",
       "      <td>000113f07ec002fd</td>\n",
       "      <td>Hey man, I'm really not trying to edit war. It...</td>\n",
       "    </tr>\n",
       "    <tr>\n",
       "      <th>3</th>\n",
       "      <td>0001b41b1c6bb37e</td>\n",
       "      <td>\"\\nMore\\nI can't make any real suggestions on ...</td>\n",
       "    </tr>\n",
       "    <tr>\n",
       "      <th>4</th>\n",
       "      <td>0001d958c54c6e35</td>\n",
       "      <td>You, sir, are my hero. Any chance you remember...</td>\n",
       "    </tr>\n",
       "    <tr>\n",
       "      <th>...</th>\n",
       "      <td>...</td>\n",
       "      <td>...</td>\n",
       "    </tr>\n",
       "    <tr>\n",
       "      <th>159566</th>\n",
       "      <td>ffe987279560d7ff</td>\n",
       "      <td>\":::::And for the second time of asking, when ...</td>\n",
       "    </tr>\n",
       "    <tr>\n",
       "      <th>159567</th>\n",
       "      <td>ffea4adeee384e90</td>\n",
       "      <td>You should be ashamed of yourself \\n\\nThat is ...</td>\n",
       "    </tr>\n",
       "    <tr>\n",
       "      <th>159568</th>\n",
       "      <td>ffee36eab5c267c9</td>\n",
       "      <td>Spitzer \\n\\nUmm, theres no actual article for ...</td>\n",
       "    </tr>\n",
       "    <tr>\n",
       "      <th>159569</th>\n",
       "      <td>fff125370e4aaaf3</td>\n",
       "      <td>And it looks like it was actually you who put ...</td>\n",
       "    </tr>\n",
       "    <tr>\n",
       "      <th>159570</th>\n",
       "      <td>fff46fc426af1f9a</td>\n",
       "      <td>\"\\nAnd ... I really don't think you understand...</td>\n",
       "    </tr>\n",
       "  </tbody>\n",
       "</table>\n",
       "<p>159571 rows × 2 columns</p>\n",
       "</div>"
      ],
      "text/plain": [
       "                      id                                       comment_text\n",
       "0       0000997932d777bf  Explanation\\nWhy the edits made under my usern...\n",
       "1       000103f0d9cfb60f  D'aww! He matches this background colour I'm s...\n",
       "2       000113f07ec002fd  Hey man, I'm really not trying to edit war. It...\n",
       "3       0001b41b1c6bb37e  \"\\nMore\\nI can't make any real suggestions on ...\n",
       "4       0001d958c54c6e35  You, sir, are my hero. Any chance you remember...\n",
       "...                  ...                                                ...\n",
       "159566  ffe987279560d7ff  \":::::And for the second time of asking, when ...\n",
       "159567  ffea4adeee384e90  You should be ashamed of yourself \\n\\nThat is ...\n",
       "159568  ffee36eab5c267c9  Spitzer \\n\\nUmm, theres no actual article for ...\n",
       "159569  fff125370e4aaaf3  And it looks like it was actually you who put ...\n",
       "159570  fff46fc426af1f9a  \"\\nAnd ... I really don't think you understand...\n",
       "\n",
       "[159571 rows x 2 columns]"
      ]
     },
     "execution_count": 32,
     "metadata": {},
     "output_type": "execute_result"
    }
   ],
   "source": [
    "#Recall all the object columns have been separated and stored in cat_columns\n",
    "features=df[cat_columns]\n",
    "features"
   ]
  },
  {
   "cell_type": "markdown",
   "id": "81d3aa26",
   "metadata": {},
   "source": [
    "# Observations Univariate Analysis on Categorical Data \n",
    "From the above count plots we can see:\n",
    "\n",
    "- There are no unsuall elements\n",
    "\n",
    "- The object data are only two columns and count distribution will only be observed after encoding....\n",
    "\n",
    "- All the columns are categoroical columns"
   ]
  },
  {
   "cell_type": "markdown",
   "id": "ea32228f",
   "metadata": {},
   "source": [
    "Now lets go ahead and see if there is a clean-up to do..."
   ]
  },
  {
   "cell_type": "markdown",
   "id": "0f38f17e",
   "metadata": {},
   "source": [
    "# 3.2 - Data Cleaning(Updating Unusual Elements)"
   ]
  },
  {
   "cell_type": "code",
   "execution_count": 33,
   "id": "af4f3ba4",
   "metadata": {},
   "outputs": [
    {
     "data": {
      "text/plain": [
       "id                  0\n",
       "comment_text        0\n",
       "malignant           0\n",
       "highly_malignant    0\n",
       "rude                0\n",
       "threat              0\n",
       "abuse               0\n",
       "loathe              0\n",
       "dtype: int64"
      ]
     },
     "execution_count": 33,
     "metadata": {},
     "output_type": "execute_result"
    }
   ],
   "source": [
    "df.isnull().sum()"
   ]
  },
  {
   "cell_type": "markdown",
   "id": "37460702",
   "metadata": {},
   "source": [
    "Here we can see there are no null values..hence needless of data cleansing!"
   ]
  },
  {
   "cell_type": "markdown",
   "id": "aa2c8249",
   "metadata": {},
   "source": [
    "# 3.3 - Encoding\n",
    "- We are fully aware we cannot run an exhaustive EDA on non-numerical data\n",
    "\n",
    "- This makes it necessary for us to covert all non-numerical data into numerical ones\n",
    "\n",
    "- To this end, We Shall use Label encoding on all the two object columns which has been stored in features"
   ]
  },
  {
   "cell_type": "code",
   "execution_count": 34,
   "id": "21ca6c7c",
   "metadata": {},
   "outputs": [],
   "source": [
    "#Initializing.....\n",
    "enc=LabelEncoder()"
   ]
  },
  {
   "cell_type": "code",
   "execution_count": 35,
   "id": "65d7fbc8",
   "metadata": {},
   "outputs": [
    {
     "data": {
      "text/html": [
       "<div>\n",
       "<style scoped>\n",
       "    .dataframe tbody tr th:only-of-type {\n",
       "        vertical-align: middle;\n",
       "    }\n",
       "\n",
       "    .dataframe tbody tr th {\n",
       "        vertical-align: top;\n",
       "    }\n",
       "\n",
       "    .dataframe thead th {\n",
       "        text-align: right;\n",
       "    }\n",
       "</style>\n",
       "<table border=\"1\" class=\"dataframe\">\n",
       "  <thead>\n",
       "    <tr style=\"text-align: right;\">\n",
       "      <th></th>\n",
       "      <th>id</th>\n",
       "      <th>comment_text</th>\n",
       "    </tr>\n",
       "  </thead>\n",
       "  <tbody>\n",
       "    <tr>\n",
       "      <th>0</th>\n",
       "      <td>0000997932d777bf</td>\n",
       "      <td>Explanation\\nWhy the edits made under my usern...</td>\n",
       "    </tr>\n",
       "    <tr>\n",
       "      <th>1</th>\n",
       "      <td>000103f0d9cfb60f</td>\n",
       "      <td>D'aww! He matches this background colour I'm s...</td>\n",
       "    </tr>\n",
       "    <tr>\n",
       "      <th>2</th>\n",
       "      <td>000113f07ec002fd</td>\n",
       "      <td>Hey man, I'm really not trying to edit war. It...</td>\n",
       "    </tr>\n",
       "    <tr>\n",
       "      <th>3</th>\n",
       "      <td>0001b41b1c6bb37e</td>\n",
       "      <td>\"\\nMore\\nI can't make any real suggestions on ...</td>\n",
       "    </tr>\n",
       "    <tr>\n",
       "      <th>4</th>\n",
       "      <td>0001d958c54c6e35</td>\n",
       "      <td>You, sir, are my hero. Any chance you remember...</td>\n",
       "    </tr>\n",
       "    <tr>\n",
       "      <th>...</th>\n",
       "      <td>...</td>\n",
       "      <td>...</td>\n",
       "    </tr>\n",
       "    <tr>\n",
       "      <th>159566</th>\n",
       "      <td>ffe987279560d7ff</td>\n",
       "      <td>\":::::And for the second time of asking, when ...</td>\n",
       "    </tr>\n",
       "    <tr>\n",
       "      <th>159567</th>\n",
       "      <td>ffea4adeee384e90</td>\n",
       "      <td>You should be ashamed of yourself \\n\\nThat is ...</td>\n",
       "    </tr>\n",
       "    <tr>\n",
       "      <th>159568</th>\n",
       "      <td>ffee36eab5c267c9</td>\n",
       "      <td>Spitzer \\n\\nUmm, theres no actual article for ...</td>\n",
       "    </tr>\n",
       "    <tr>\n",
       "      <th>159569</th>\n",
       "      <td>fff125370e4aaaf3</td>\n",
       "      <td>And it looks like it was actually you who put ...</td>\n",
       "    </tr>\n",
       "    <tr>\n",
       "      <th>159570</th>\n",
       "      <td>fff46fc426af1f9a</td>\n",
       "      <td>\"\\nAnd ... I really don't think you understand...</td>\n",
       "    </tr>\n",
       "  </tbody>\n",
       "</table>\n",
       "<p>159571 rows × 2 columns</p>\n",
       "</div>"
      ],
      "text/plain": [
       "                      id                                       comment_text\n",
       "0       0000997932d777bf  Explanation\\nWhy the edits made under my usern...\n",
       "1       000103f0d9cfb60f  D'aww! He matches this background colour I'm s...\n",
       "2       000113f07ec002fd  Hey man, I'm really not trying to edit war. It...\n",
       "3       0001b41b1c6bb37e  \"\\nMore\\nI can't make any real suggestions on ...\n",
       "4       0001d958c54c6e35  You, sir, are my hero. Any chance you remember...\n",
       "...                  ...                                                ...\n",
       "159566  ffe987279560d7ff  \":::::And for the second time of asking, when ...\n",
       "159567  ffea4adeee384e90  You should be ashamed of yourself \\n\\nThat is ...\n",
       "159568  ffee36eab5c267c9  Spitzer \\n\\nUmm, theres no actual article for ...\n",
       "159569  fff125370e4aaaf3  And it looks like it was actually you who put ...\n",
       "159570  fff46fc426af1f9a  \"\\nAnd ... I really don't think you understand...\n",
       "\n",
       "[159571 rows x 2 columns]"
      ]
     },
     "execution_count": 35,
     "metadata": {},
     "output_type": "execute_result"
    }
   ],
   "source": [
    "features"
   ]
  },
  {
   "cell_type": "markdown",
   "id": "8c5af0d1",
   "metadata": {},
   "source": [
    "Now lets write a simple program using our python skills to encode all non-numerical data at once!"
   ]
  },
  {
   "cell_type": "code",
   "execution_count": 36,
   "id": "8e88296a",
   "metadata": {},
   "outputs": [
    {
     "data": {
      "text/html": [
       "<div>\n",
       "<style scoped>\n",
       "    .dataframe tbody tr th:only-of-type {\n",
       "        vertical-align: middle;\n",
       "    }\n",
       "\n",
       "    .dataframe tbody tr th {\n",
       "        vertical-align: top;\n",
       "    }\n",
       "\n",
       "    .dataframe thead th {\n",
       "        text-align: right;\n",
       "    }\n",
       "</style>\n",
       "<table border=\"1\" class=\"dataframe\">\n",
       "  <thead>\n",
       "    <tr style=\"text-align: right;\">\n",
       "      <th></th>\n",
       "      <th>id</th>\n",
       "      <th>comment_text</th>\n",
       "      <th>malignant</th>\n",
       "      <th>highly_malignant</th>\n",
       "      <th>rude</th>\n",
       "      <th>threat</th>\n",
       "      <th>abuse</th>\n",
       "      <th>loathe</th>\n",
       "    </tr>\n",
       "  </thead>\n",
       "  <tbody>\n",
       "    <tr>\n",
       "      <th>0</th>\n",
       "      <td>0</td>\n",
       "      <td>72698</td>\n",
       "      <td>0</td>\n",
       "      <td>0</td>\n",
       "      <td>0</td>\n",
       "      <td>0</td>\n",
       "      <td>0</td>\n",
       "      <td>0</td>\n",
       "    </tr>\n",
       "    <tr>\n",
       "      <th>1</th>\n",
       "      <td>1</td>\n",
       "      <td>68359</td>\n",
       "      <td>0</td>\n",
       "      <td>0</td>\n",
       "      <td>0</td>\n",
       "      <td>0</td>\n",
       "      <td>0</td>\n",
       "      <td>0</td>\n",
       "    </tr>\n",
       "    <tr>\n",
       "      <th>2</th>\n",
       "      <td>2</td>\n",
       "      <td>79594</td>\n",
       "      <td>0</td>\n",
       "      <td>0</td>\n",
       "      <td>0</td>\n",
       "      <td>0</td>\n",
       "      <td>0</td>\n",
       "      <td>0</td>\n",
       "    </tr>\n",
       "    <tr>\n",
       "      <th>3</th>\n",
       "      <td>4</td>\n",
       "      <td>35519</td>\n",
       "      <td>0</td>\n",
       "      <td>0</td>\n",
       "      <td>0</td>\n",
       "      <td>0</td>\n",
       "      <td>0</td>\n",
       "      <td>0</td>\n",
       "    </tr>\n",
       "    <tr>\n",
       "      <th>4</th>\n",
       "      <td>5</td>\n",
       "      <td>146426</td>\n",
       "      <td>0</td>\n",
       "      <td>0</td>\n",
       "      <td>0</td>\n",
       "      <td>0</td>\n",
       "      <td>0</td>\n",
       "      <td>0</td>\n",
       "    </tr>\n",
       "    <tr>\n",
       "      <th>...</th>\n",
       "      <td>...</td>\n",
       "      <td>...</td>\n",
       "      <td>...</td>\n",
       "      <td>...</td>\n",
       "      <td>...</td>\n",
       "      <td>...</td>\n",
       "      <td>...</td>\n",
       "      <td>...</td>\n",
       "    </tr>\n",
       "    <tr>\n",
       "      <th>159566</th>\n",
       "      <td>159505</td>\n",
       "      <td>44289</td>\n",
       "      <td>0</td>\n",
       "      <td>0</td>\n",
       "      <td>0</td>\n",
       "      <td>0</td>\n",
       "      <td>0</td>\n",
       "      <td>0</td>\n",
       "    </tr>\n",
       "    <tr>\n",
       "      <th>159567</th>\n",
       "      <td>159510</td>\n",
       "      <td>145720</td>\n",
       "      <td>0</td>\n",
       "      <td>0</td>\n",
       "      <td>0</td>\n",
       "      <td>0</td>\n",
       "      <td>0</td>\n",
       "      <td>0</td>\n",
       "    </tr>\n",
       "    <tr>\n",
       "      <th>159568</th>\n",
       "      <td>159524</td>\n",
       "      <td>122203</td>\n",
       "      <td>0</td>\n",
       "      <td>0</td>\n",
       "      <td>0</td>\n",
       "      <td>0</td>\n",
       "      <td>0</td>\n",
       "      <td>0</td>\n",
       "    </tr>\n",
       "    <tr>\n",
       "      <th>159569</th>\n",
       "      <td>159535</td>\n",
       "      <td>60037</td>\n",
       "      <td>0</td>\n",
       "      <td>0</td>\n",
       "      <td>0</td>\n",
       "      <td>0</td>\n",
       "      <td>0</td>\n",
       "      <td>0</td>\n",
       "    </tr>\n",
       "    <tr>\n",
       "      <th>159570</th>\n",
       "      <td>159541</td>\n",
       "      <td>31106</td>\n",
       "      <td>0</td>\n",
       "      <td>0</td>\n",
       "      <td>0</td>\n",
       "      <td>0</td>\n",
       "      <td>0</td>\n",
       "      <td>0</td>\n",
       "    </tr>\n",
       "  </tbody>\n",
       "</table>\n",
       "<p>159571 rows × 8 columns</p>\n",
       "</div>"
      ],
      "text/plain": [
       "            id  comment_text  malignant  highly_malignant  rude  threat  \\\n",
       "0            0         72698          0                 0     0       0   \n",
       "1            1         68359          0                 0     0       0   \n",
       "2            2         79594          0                 0     0       0   \n",
       "3            4         35519          0                 0     0       0   \n",
       "4            5        146426          0                 0     0       0   \n",
       "...        ...           ...        ...               ...   ...     ...   \n",
       "159566  159505         44289          0                 0     0       0   \n",
       "159567  159510        145720          0                 0     0       0   \n",
       "159568  159524        122203          0                 0     0       0   \n",
       "159569  159535         60037          0                 0     0       0   \n",
       "159570  159541         31106          0                 0     0       0   \n",
       "\n",
       "        abuse  loathe  \n",
       "0           0       0  \n",
       "1           0       0  \n",
       "2           0       0  \n",
       "3           0       0  \n",
       "4           0       0  \n",
       "...       ...     ...  \n",
       "159566      0       0  \n",
       "159567      0       0  \n",
       "159568      0       0  \n",
       "159569      0       0  \n",
       "159570      0       0  \n",
       "\n",
       "[159571 rows x 8 columns]"
      ]
     },
     "execution_count": 36,
     "metadata": {},
     "output_type": "execute_result"
    }
   ],
   "source": [
    "#Using the for loop to iterate over the 2 object-columns to produce an encoded version.....\n",
    "for i in features:\n",
    "    df[i] = enc.fit_transform(df[i])\n",
    "df"
   ]
  },
  {
   "cell_type": "markdown",
   "id": "61cf0563",
   "metadata": {},
   "source": [
    "Now, having encoded data, lets check if data types of the 2 object-columns has been changed to intergers...."
   ]
  },
  {
   "cell_type": "code",
   "execution_count": 37,
   "id": "3df7f5fb",
   "metadata": {},
   "outputs": [
    {
     "data": {
      "text/plain": [
       "id                  int32\n",
       "comment_text        int32\n",
       "malignant           int64\n",
       "highly_malignant    int64\n",
       "rude                int64\n",
       "threat              int64\n",
       "abuse               int64\n",
       "loathe              int64\n",
       "dtype: object"
      ]
     },
     "execution_count": 37,
     "metadata": {},
     "output_type": "execute_result"
    }
   ],
   "source": [
    "#recheking Checking for types..\n",
    "df.dtypes"
   ]
  },
  {
   "cell_type": "markdown",
   "id": "05dce711",
   "metadata": {},
   "source": [
    "Fantastic!"
   ]
  },
  {
   "cell_type": "markdown",
   "id": "e97cd587",
   "metadata": {},
   "source": [
    "# Observations on Encoding \n",
    "From the above we can see that;\n",
    "- All non-numerical(Object) columns have been converted to numerical data(Integer)! Lets move on!"
   ]
  },
  {
   "cell_type": "markdown",
   "id": "ff1a074b",
   "metadata": {},
   "source": [
    "# 3.4 - Normal Distribution Check(Univariate Analysis)"
   ]
  },
  {
   "cell_type": "code",
   "execution_count": 38,
   "id": "8f051906",
   "metadata": {},
   "outputs": [
    {
     "data": {
      "image/png": "[encoded data removed]",
      "text/plain": [
       "<Figure size 1080x576 with 8 Axes>"
      ]
     },
     "metadata": {},
     "output_type": "display_data"
    }
   ],
   "source": [
    "#Check for normal distribution and see how data is distributed for every column\n",
    "plt.figure(figsize=(15,8), facecolor='blue')#dimension and line color\n",
    "plotnumber = 1 #like a form of counter which we will see its relevance in the ‘for loop’\n",
    "for column in df:#triggering your for loop\n",
    "    if plotnumber<=8:#since there are 15 features\n",
    "        ax = plt.subplot(2,4,plotnumber)#2,4 means arrange the graphs in 2-rows and 4-columns spaces as seen below while plotnumber means plot graphs\n",
    "        sns.distplot(df[column])#performing a distribution plot for all the columns starting with fixed acidity\n",
    "        plt.xlabel(column,fontsize=10)#labelling the x-axis with their respctive column names with a font size of 20\n",
    "    plotnumber+=1#incrementals for plot number so as to allow ploting one by one until it gets to 36\n",
    "plt.tight_layout()#This is just to show you data in a compact form. "
   ]
  },
  {
   "cell_type": "markdown",
   "id": "cfdebebc",
   "metadata": {},
   "source": [
    "# Observations on Normal Distribution Check\n",
    "From the above density plot we can see that majority of features does not obey a normal distribution, the building blocks are not in tandem with a normalized curve:\n",
    "\n",
    "\n",
    "\n",
    "***The normal distribution of the 'malignant' has no contribution to our Model Building"
   ]
  },
  {
   "cell_type": "markdown",
   "id": "5c62e408",
   "metadata": {},
   "source": [
    "# 3.5 - Scatter Plot Check(Bivariate Analysis)\n",
    "- Lets visualize the relationship between the features and the Label"
   ]
  },
  {
   "cell_type": "code",
   "execution_count": 39,
   "id": "e2e63286",
   "metadata": {},
   "outputs": [
    {
     "data": {
      "text/html": [
       "<div>\n",
       "<style scoped>\n",
       "    .dataframe tbody tr th:only-of-type {\n",
       "        vertical-align: middle;\n",
       "    }\n",
       "\n",
       "    .dataframe tbody tr th {\n",
       "        vertical-align: top;\n",
       "    }\n",
       "\n",
       "    .dataframe thead th {\n",
       "        text-align: right;\n",
       "    }\n",
       "</style>\n",
       "<table border=\"1\" class=\"dataframe\">\n",
       "  <thead>\n",
       "    <tr style=\"text-align: right;\">\n",
       "      <th></th>\n",
       "      <th>id</th>\n",
       "      <th>comment_text</th>\n",
       "      <th>highly_malignant</th>\n",
       "      <th>rude</th>\n",
       "      <th>threat</th>\n",
       "      <th>abuse</th>\n",
       "      <th>loathe</th>\n",
       "    </tr>\n",
       "  </thead>\n",
       "  <tbody>\n",
       "    <tr>\n",
       "      <th>0</th>\n",
       "      <td>0</td>\n",
       "      <td>72698</td>\n",
       "      <td>0</td>\n",
       "      <td>0</td>\n",
       "      <td>0</td>\n",
       "      <td>0</td>\n",
       "      <td>0</td>\n",
       "    </tr>\n",
       "    <tr>\n",
       "      <th>1</th>\n",
       "      <td>1</td>\n",
       "      <td>68359</td>\n",
       "      <td>0</td>\n",
       "      <td>0</td>\n",
       "      <td>0</td>\n",
       "      <td>0</td>\n",
       "      <td>0</td>\n",
       "    </tr>\n",
       "    <tr>\n",
       "      <th>2</th>\n",
       "      <td>2</td>\n",
       "      <td>79594</td>\n",
       "      <td>0</td>\n",
       "      <td>0</td>\n",
       "      <td>0</td>\n",
       "      <td>0</td>\n",
       "      <td>0</td>\n",
       "    </tr>\n",
       "    <tr>\n",
       "      <th>3</th>\n",
       "      <td>4</td>\n",
       "      <td>35519</td>\n",
       "      <td>0</td>\n",
       "      <td>0</td>\n",
       "      <td>0</td>\n",
       "      <td>0</td>\n",
       "      <td>0</td>\n",
       "    </tr>\n",
       "    <tr>\n",
       "      <th>4</th>\n",
       "      <td>5</td>\n",
       "      <td>146426</td>\n",
       "      <td>0</td>\n",
       "      <td>0</td>\n",
       "      <td>0</td>\n",
       "      <td>0</td>\n",
       "      <td>0</td>\n",
       "    </tr>\n",
       "    <tr>\n",
       "      <th>...</th>\n",
       "      <td>...</td>\n",
       "      <td>...</td>\n",
       "      <td>...</td>\n",
       "      <td>...</td>\n",
       "      <td>...</td>\n",
       "      <td>...</td>\n",
       "      <td>...</td>\n",
       "    </tr>\n",
       "    <tr>\n",
       "      <th>159566</th>\n",
       "      <td>159505</td>\n",
       "      <td>44289</td>\n",
       "      <td>0</td>\n",
       "      <td>0</td>\n",
       "      <td>0</td>\n",
       "      <td>0</td>\n",
       "      <td>0</td>\n",
       "    </tr>\n",
       "    <tr>\n",
       "      <th>159567</th>\n",
       "      <td>159510</td>\n",
       "      <td>145720</td>\n",
       "      <td>0</td>\n",
       "      <td>0</td>\n",
       "      <td>0</td>\n",
       "      <td>0</td>\n",
       "      <td>0</td>\n",
       "    </tr>\n",
       "    <tr>\n",
       "      <th>159568</th>\n",
       "      <td>159524</td>\n",
       "      <td>122203</td>\n",
       "      <td>0</td>\n",
       "      <td>0</td>\n",
       "      <td>0</td>\n",
       "      <td>0</td>\n",
       "      <td>0</td>\n",
       "    </tr>\n",
       "    <tr>\n",
       "      <th>159569</th>\n",
       "      <td>159535</td>\n",
       "      <td>60037</td>\n",
       "      <td>0</td>\n",
       "      <td>0</td>\n",
       "      <td>0</td>\n",
       "      <td>0</td>\n",
       "      <td>0</td>\n",
       "    </tr>\n",
       "    <tr>\n",
       "      <th>159570</th>\n",
       "      <td>159541</td>\n",
       "      <td>31106</td>\n",
       "      <td>0</td>\n",
       "      <td>0</td>\n",
       "      <td>0</td>\n",
       "      <td>0</td>\n",
       "      <td>0</td>\n",
       "    </tr>\n",
       "  </tbody>\n",
       "</table>\n",
       "<p>159571 rows × 7 columns</p>\n",
       "</div>"
      ],
      "text/plain": [
       "            id  comment_text  highly_malignant  rude  threat  abuse  loathe\n",
       "0            0         72698                 0     0       0      0       0\n",
       "1            1         68359                 0     0       0      0       0\n",
       "2            2         79594                 0     0       0      0       0\n",
       "3            4         35519                 0     0       0      0       0\n",
       "4            5        146426                 0     0       0      0       0\n",
       "...        ...           ...               ...   ...     ...    ...     ...\n",
       "159566  159505         44289                 0     0       0      0       0\n",
       "159567  159510        145720                 0     0       0      0       0\n",
       "159568  159524        122203                 0     0       0      0       0\n",
       "159569  159535         60037                 0     0       0      0       0\n",
       "159570  159541         31106                 0     0       0      0       0\n",
       "\n",
       "[159571 rows x 7 columns]"
      ]
     },
     "execution_count": 39,
     "metadata": {},
     "output_type": "execute_result"
    }
   ],
   "source": [
    "#extracting only the features(wihtout the Label) from the original dataset and store in Features\n",
    "Features=df.drop('malignant',axis=1)\n",
    "Features"
   ]
  },
  {
   "cell_type": "code",
   "execution_count": 40,
   "id": "39bc1f44",
   "metadata": {},
   "outputs": [
    {
     "data": {
      "image/png": "[encoded data removed]",
      "text/plain": [
       "<Figure size 1080x576 with 7 Axes>"
      ]
     },
     "metadata": {},
     "output_type": "display_data"
    }
   ],
   "source": [
    "#Check for the relatinship between each features and Target\n",
    "plt.figure(figsize=(15,8), facecolor='red')#dimension and line color\n",
    "plotnumber = 1 #like a form of counter which we will see its relevance in the ‘for loop’\n",
    "\n",
    "for column in Features:#triggering your for loop\n",
    "    if plotnumber<=8:#since there are 8 features\n",
    "        ax = plt.subplot(2,4,plotnumber)#2,4 means arrange the graphs in 2-rows and 4-columns spaces as seen below while plotnumber means plot graphs\n",
    "        sns.scatterplot(x=Features[column],y=df['malignant'])#performing a relationship plot between features and label\n",
    "        plt.xlabel(column,fontsize=20)#labelling the x-axis with their respctive column names with a font size of 50\n",
    "        plt.ylabel('malignant',fontsize=10)#labelling the y-axis with a font size of 10\n",
    "    plotnumber+=1#incrementals for plot number so as to allow ploting one by one until it gets to 7\n",
    "plt.tight_layout()#This is just to show you data in a compact form. "
   ]
  },
  {
   "cell_type": "markdown",
   "id": "080739f6",
   "metadata": {},
   "source": [
    "# Observations on Scatter Plot\n",
    "From the above scatter plot we can see a strong relationship between some features and the target(label)! Wow thats great! ...making our feature selection process less difficult as long as multicolinearity does not exist!"
   ]
  },
  {
   "cell_type": "markdown",
   "id": "2b3516c1",
   "metadata": {},
   "source": [
    "# 3.6 - Correlation Check;\n",
    " - Collinearity Between Feature and Label\n",
    " - Multicolinearity between features\n",
    "\n",
    "Lets see/visualize the correlation between (Features vs Label) and (Features vs Features)"
   ]
  },
  {
   "cell_type": "code",
   "execution_count": 41,
   "id": "81d78ca5",
   "metadata": {},
   "outputs": [
    {
     "data": {
      "text/html": [
       "<div>\n",
       "<style scoped>\n",
       "    .dataframe tbody tr th:only-of-type {\n",
       "        vertical-align: middle;\n",
       "    }\n",
       "\n",
       "    .dataframe tbody tr th {\n",
       "        vertical-align: top;\n",
       "    }\n",
       "\n",
       "    .dataframe thead th {\n",
       "        text-align: right;\n",
       "    }\n",
       "</style>\n",
       "<table border=\"1\" class=\"dataframe\">\n",
       "  <thead>\n",
       "    <tr style=\"text-align: right;\">\n",
       "      <th></th>\n",
       "      <th>id</th>\n",
       "      <th>comment_text</th>\n",
       "      <th>malignant</th>\n",
       "      <th>highly_malignant</th>\n",
       "      <th>rude</th>\n",
       "      <th>threat</th>\n",
       "      <th>abuse</th>\n",
       "      <th>loathe</th>\n",
       "    </tr>\n",
       "  </thead>\n",
       "  <tbody>\n",
       "    <tr>\n",
       "      <th>id</th>\n",
       "      <td>1.000000</td>\n",
       "      <td>0.002812</td>\n",
       "      <td>-0.003263</td>\n",
       "      <td>-0.001403</td>\n",
       "      <td>-0.002188</td>\n",
       "      <td>-0.001165</td>\n",
       "      <td>-0.002086</td>\n",
       "      <td>-0.000844</td>\n",
       "    </tr>\n",
       "    <tr>\n",
       "      <th>comment_text</th>\n",
       "      <td>0.002812</td>\n",
       "      <td>1.000000</td>\n",
       "      <td>0.132016</td>\n",
       "      <td>0.057627</td>\n",
       "      <td>0.104020</td>\n",
       "      <td>0.026093</td>\n",
       "      <td>0.111724</td>\n",
       "      <td>0.046234</td>\n",
       "    </tr>\n",
       "    <tr>\n",
       "      <th>malignant</th>\n",
       "      <td>-0.003263</td>\n",
       "      <td>0.132016</td>\n",
       "      <td>1.000000</td>\n",
       "      <td>0.308619</td>\n",
       "      <td>0.676515</td>\n",
       "      <td>0.157058</td>\n",
       "      <td>0.647518</td>\n",
       "      <td>0.266009</td>\n",
       "    </tr>\n",
       "    <tr>\n",
       "      <th>highly_malignant</th>\n",
       "      <td>-0.001403</td>\n",
       "      <td>0.057627</td>\n",
       "      <td>0.308619</td>\n",
       "      <td>1.000000</td>\n",
       "      <td>0.403014</td>\n",
       "      <td>0.123601</td>\n",
       "      <td>0.375807</td>\n",
       "      <td>0.201600</td>\n",
       "    </tr>\n",
       "    <tr>\n",
       "      <th>rude</th>\n",
       "      <td>-0.002188</td>\n",
       "      <td>0.104020</td>\n",
       "      <td>0.676515</td>\n",
       "      <td>0.403014</td>\n",
       "      <td>1.000000</td>\n",
       "      <td>0.141179</td>\n",
       "      <td>0.741272</td>\n",
       "      <td>0.286867</td>\n",
       "    </tr>\n",
       "    <tr>\n",
       "      <th>threat</th>\n",
       "      <td>-0.001165</td>\n",
       "      <td>0.026093</td>\n",
       "      <td>0.157058</td>\n",
       "      <td>0.123601</td>\n",
       "      <td>0.141179</td>\n",
       "      <td>1.000000</td>\n",
       "      <td>0.150022</td>\n",
       "      <td>0.115128</td>\n",
       "    </tr>\n",
       "    <tr>\n",
       "      <th>abuse</th>\n",
       "      <td>-0.002086</td>\n",
       "      <td>0.111724</td>\n",
       "      <td>0.647518</td>\n",
       "      <td>0.375807</td>\n",
       "      <td>0.741272</td>\n",
       "      <td>0.150022</td>\n",
       "      <td>1.000000</td>\n",
       "      <td>0.337736</td>\n",
       "    </tr>\n",
       "    <tr>\n",
       "      <th>loathe</th>\n",
       "      <td>-0.000844</td>\n",
       "      <td>0.046234</td>\n",
       "      <td>0.266009</td>\n",
       "      <td>0.201600</td>\n",
       "      <td>0.286867</td>\n",
       "      <td>0.115128</td>\n",
       "      <td>0.337736</td>\n",
       "      <td>1.000000</td>\n",
       "    </tr>\n",
       "  </tbody>\n",
       "</table>\n",
       "</div>"
      ],
      "text/plain": [
       "                        id  comment_text  malignant  highly_malignant  \\\n",
       "id                1.000000      0.002812  -0.003263         -0.001403   \n",
       "comment_text      0.002812      1.000000   0.132016          0.057627   \n",
       "malignant        -0.003263      0.132016   1.000000          0.308619   \n",
       "highly_malignant -0.001403      0.057627   0.308619          1.000000   \n",
       "rude             -0.002188      0.104020   0.676515          0.403014   \n",
       "threat           -0.001165      0.026093   0.157058          0.123601   \n",
       "abuse            -0.002086      0.111724   0.647518          0.375807   \n",
       "loathe           -0.000844      0.046234   0.266009          0.201600   \n",
       "\n",
       "                      rude    threat     abuse    loathe  \n",
       "id               -0.002188 -0.001165 -0.002086 -0.000844  \n",
       "comment_text      0.104020  0.026093  0.111724  0.046234  \n",
       "malignant         0.676515  0.157058  0.647518  0.266009  \n",
       "highly_malignant  0.403014  0.123601  0.375807  0.201600  \n",
       "rude              1.000000  0.141179  0.741272  0.286867  \n",
       "threat            0.141179  1.000000  0.150022  0.115128  \n",
       "abuse             0.741272  0.150022  1.000000  0.337736  \n",
       "loathe            0.286867  0.115128  0.337736  1.000000  "
      ]
     },
     "execution_count": 41,
     "metadata": {},
     "output_type": "execute_result"
    }
   ],
   "source": [
    "#checking for general correlation\n",
    "df.corr()"
   ]
  },
  {
   "cell_type": "code",
   "execution_count": 42,
   "id": "8f03b743",
   "metadata": {},
   "outputs": [
    {
     "data": {
      "text/plain": [
       "id                 -0.003263\n",
       "comment_text        0.132016\n",
       "threat              0.157058\n",
       "loathe              0.266009\n",
       "highly_malignant    0.308619\n",
       "abuse               0.647518\n",
       "rude                0.676515\n",
       "malignant           1.000000\n",
       "Name: malignant, dtype: float64"
      ]
     },
     "execution_count": 42,
     "metadata": {},
     "output_type": "execute_result"
    }
   ],
   "source": [
    "#checking for correlation between each feature and Label\n",
    "df.corr()['malignant'].sort_values()"
   ]
  },
  {
   "cell_type": "code",
   "execution_count": 43,
   "id": "8475ff86",
   "metadata": {},
   "outputs": [
    {
     "data": {
      "image/png": "[encoded data removed]",
      "text/plain": [
       "<Figure size 1080x576 with 1 Axes>"
      ]
     },
     "metadata": {
      "needs_background": "light"
     },
     "output_type": "display_data"
    }
   ],
   "source": [
    "#Plotting a barh chart to visualize correlation through the stand-alone bars\n",
    "plt.figure(figsize=(15,8))\n",
    "df.corr()['malignant'].sort_values(ascending=False).drop(['malignant']).plot(kind='barh', color='b')\n",
    "plt.show()"
   ]
  },
  {
   "cell_type": "markdown",
   "id": "417582fe",
   "metadata": {},
   "source": [
    "# Multicollinearity Check"
   ]
  },
  {
   "cell_type": "code",
   "execution_count": 44,
   "id": "8acfd369",
   "metadata": {},
   "outputs": [
    {
     "data": {
      "text/plain": [
       "<AxesSubplot:>"
      ]
     },
     "execution_count": 44,
     "metadata": {},
     "output_type": "execute_result"
    },
    {
     "data": {
      "image/png": "[encoded data removed]",
      "text/plain": [
       "<Figure size 1080x576 with 2 Axes>"
      ]
     },
     "metadata": {
      "needs_background": "light"
     },
     "output_type": "display_data"
    }
   ],
   "source": [
    "#Plotting a heatmap to show correlation through the brightness of the map-squares\n",
    "plt.figure(figsize=(15,8))\n",
    "sns.heatmap(df.corr(),annot=True, linewidth=0,linecolor='black',fmt='.2f')"
   ]
  },
  {
   "cell_type": "code",
   "execution_count": 45,
   "id": "19fd289f",
   "metadata": {},
   "outputs": [
    {
     "data": {
      "text/plain": [
       "id                 -0.003263\n",
       "comment_text        0.132016\n",
       "threat              0.157058\n",
       "loathe              0.266009\n",
       "highly_malignant    0.308619\n",
       "abuse               0.647518\n",
       "rude                0.676515\n",
       "malignant           1.000000\n",
       "Name: malignant, dtype: float64"
      ]
     },
     "execution_count": 45,
     "metadata": {},
     "output_type": "execute_result"
    }
   ],
   "source": [
    "df.corr()['malignant'].sort_values()"
   ]
  },
  {
   "cell_type": "markdown",
   "id": "76ffc3b2",
   "metadata": {},
   "source": [
    "# Observations on Correlation\n",
    "From the above correlation statistics;\n",
    "\n",
    "Collinearity:\n",
    "\n",
    "\n",
    "\n",
    "- id has a negative correlation of 0.0% with the target column which can be considered as NO BOND \n",
    "\n",
    "- comment_text has a positive correlation of 0.13% with the target column which can be considered as a fair bond \n",
    "\n",
    "- threat has a positive correlation of 0.16% with the target column which can be considered as fair BOND \n",
    "\n",
    "- loathe has a positive correlation of 0.27% with the target column which can be considered as a good BOND \n",
    "\n",
    "- highly_malignant has a positive correlation of 0.31% with the target column which can be considered as a good BOND   \n",
    "\n",
    "- abuse has a positive correlation of 0.65% with the target column which can be considered as very good BOND \n",
    "\n",
    "- rude has a positive correlation of 0.68% with the target column which can be considered as very good BOND \n",
    "\n",
    "\n",
    " \n",
    "\n",
    "- Feature with Maximum correlation = rude\n",
    "- Features with Minimum correlation = id\n",
    " \n",
    "Multicollinearity:\n",
    " - From the heatmap we can see that some of features have some noticeable correllation between them \n",
    "But we will reconfrim during further steps by finding the Variance Inflation Factor(VIF)\n",
    "\n",
    "\n",
    "NB: Multicollinnearity means two variables are explaining the same thing, meaning one of them is useless and therefore we have to drop one of them!"
   ]
  },
  {
   "cell_type": "markdown",
   "id": "0dd66df6",
   "metadata": {},
   "source": [
    "# 3.7 - Outlier Check(Univariate Analysis)"
   ]
  },
  {
   "cell_type": "code",
   "execution_count": 46,
   "id": "eb5c789f",
   "metadata": {},
   "outputs": [
    {
     "data": {
      "image/png": "[encoded data removed]",
      "text/plain": [
       "<Figure size 1080x576 with 8 Axes>"
      ]
     },
     "metadata": {
      "needs_background": "light"
     },
     "output_type": "display_data"
    }
   ],
   "source": [
    "#Check for allien-datapoints in each features\n",
    "plt.figure(figsize=(15,8))#dimension only\n",
    "graph = 1 #like a form of counter which we will see its relevance in the ‘for loop’\n",
    "\n",
    "for column in df:#triggering your for loop\n",
    "    if graph<=8:#this was made 8 just to allow for 8 spaces\n",
    "        plt.subplot(2,4,graph)#2,4 means arrange the graphs in 2-rows and 4-columns spaces as seen below while plotnumber means plot graphs\n",
    "        ax=sns.boxplot(data=df[column])#performing a box plot starting with fixed acidity\n",
    "        plt.xlabel(column,fontsize=20)#labelling the x-axis with their respctive column names with a font size of 20\n",
    "    graph+=1#incrementals for plot number so as to allow ploting one by one until it gets to 8\n",
    "plt.tight_layout()#This is just to show you data in a compact form."
   ]
  },
  {
   "cell_type": "markdown",
   "id": "3c301a80",
   "metadata": {},
   "source": [
    "# Observations on Outlier Check\n",
    "From the above visualization plot its evident that outliers do exist!;\n",
    "\n",
    "\n",
    "However this is subject to further analysis and reconfirmation using the zscore!"
   ]
  },
  {
   "cell_type": "markdown",
   "id": "78089033",
   "metadata": {},
   "source": [
    "# 3.8 - Skewness Check(Univariate Analysis)"
   ]
  },
  {
   "cell_type": "code",
   "execution_count": 47,
   "id": "75b0ee14",
   "metadata": {},
   "outputs": [
    {
     "data": {
      "image/png": "[encoded data removed]",
      "text/plain": [
       "<Figure size 1080x576 with 7 Axes>"
      ]
     },
     "metadata": {},
     "output_type": "display_data"
    }
   ],
   "source": [
    "#Visualizing for skewness...\n",
    "plt.figure(figsize=(15,8), facecolor='red')#dimension and line color\n",
    "plotnumber = 1 #like a form of counter which we will see its relevance in the ‘for loop’\n",
    "\n",
    "for column in Features:#triggering your for loop\n",
    "    if plotnumber<=8:#since there are 8 features\n",
    "        ax = plt.subplot(2,4,plotnumber)#2,4 means arrange the graphs in 2-rows and 4-columns spaces as seen below while plotnumber means plot graphs\n",
    "        sns.distplot(Features[column])#performing a distribution plot for all the columns starting with fixed acidity\n",
    "        plt.xlabel(column,fontsize=10)#labelling the x-axis with their respctive column names with a font size of 20\n",
    "    plotnumber+=1#incrementals for plot number so as to allow ploting one by one until it gets to 36\n",
    "plt.tight_layout()#This is just to show you data in a compact form. "
   ]
  },
  {
   "cell_type": "code",
   "execution_count": 48,
   "id": "27e52755",
   "metadata": {},
   "outputs": [
    {
     "data": {
      "text/plain": [
       "id                  7.386055e-17\n",
       "comment_text        1.282301e-19\n",
       "highly_malignant    9.851722e+00\n",
       "rude                3.992817e+00\n",
       "threat              1.818900e+01\n",
       "abuse               4.160540e+00\n",
       "loathe              1.051592e+01\n",
       "dtype: float64"
      ]
     },
     "execution_count": 48,
     "metadata": {},
     "output_type": "execute_result"
    }
   ],
   "source": [
    "#Checking for skewness in each independent variable data which has been stored in the dataframe; 'Features'\n",
    "Features.skew()"
   ]
  },
  {
   "cell_type": "markdown",
   "id": "07854f89",
   "metadata": {},
   "source": [
    "# Observations on Skewness Check: \n",
    "Lets assume Skewness threshold is taken as +/-0.5.Meaning any value outside +/-0.5 contains skewness. Hence all the Columns are having skewness:\n",
    "\n",
    "\n",
    "\n",
    "***We shall take care of these skewness using Power Transformation!"
   ]
  },
  {
   "cell_type": "markdown",
   "id": "5107397f",
   "metadata": {},
   "source": [
    "# 3.9  - Target Variable Check"
   ]
  },
  {
   "cell_type": "code",
   "execution_count": 49,
   "id": "84884b1b",
   "metadata": {},
   "outputs": [
    {
     "name": "stdout",
     "output_type": "stream",
     "text": [
      "0    144277\n",
      "1     15294\n",
      "Name: malignant, dtype: int64\n"
     ]
    },
    {
     "data": {
      "image/png": "[encoded data removed]",
      "text/plain": [
       "<Figure size 432x288 with 1 Axes>"
      ]
     },
     "metadata": {
      "needs_background": "light"
     },
     "output_type": "display_data"
    }
   ],
   "source": [
    "ax=sns.countplot(x='malignant',data=df)\n",
    "print(df['malignant'].value_counts())"
   ]
  },
  {
   "cell_type": "markdown",
   "id": "39242c05",
   "metadata": {},
   "source": [
    "- From the above graph the dependent variable has Two classes with the majority showing failure(NO=144,277)\n",
    "\n",
    "- Recall we mentioned an imbalanced/assymetrical distribution of the target data, and will be conducting a SMOTE analysis!"
   ]
  },
  {
   "cell_type": "markdown",
   "id": "b3979806",
   "metadata": {},
   "source": [
    "# Step 4 - DATA PREPROCESSING"
   ]
  },
  {
   "cell_type": "markdown",
   "id": "91ea0284",
   "metadata": {},
   "source": [
    "# 4.1 - Removal of Duplicates"
   ]
  },
  {
   "cell_type": "code",
   "execution_count": 50,
   "id": "6e2329f0",
   "metadata": {},
   "outputs": [
    {
     "data": {
      "text/plain": [
       "(159571, 8)"
      ]
     },
     "execution_count": 50,
     "metadata": {},
     "output_type": "execute_result"
    }
   ],
   "source": [
    "#Recheking shape of original data\n",
    "df.shape"
   ]
  },
  {
   "cell_type": "code",
   "execution_count": 51,
   "id": "e112bfb5",
   "metadata": {},
   "outputs": [
    {
     "data": {
      "text/plain": [
       "(159571, 8)"
      ]
     },
     "execution_count": 51,
     "metadata": {},
     "output_type": "execute_result"
    }
   ],
   "source": [
    "#Remove duplicates\n",
    "df.drop_duplicates(inplace=True)\n",
    "df.shape"
   ]
  },
  {
   "cell_type": "markdown",
   "id": "ff1a38f7",
   "metadata": {},
   "source": [
    " - It appears there are no duplicates!"
   ]
  },
  {
   "cell_type": "markdown",
   "id": "3f7618fa",
   "metadata": {},
   "source": [
    "# 4.2 - Rechecking the current Relationship btw Variables"
   ]
  },
  {
   "cell_type": "code",
   "execution_count": 52,
   "id": "e536eef0",
   "metadata": {},
   "outputs": [],
   "source": [
    "#seperating the variables into X and Y variables\n",
    "X=df.drop(columns=['malignant'])\n",
    "Y=df['malignant']"
   ]
  },
  {
   "cell_type": "code",
   "execution_count": 53,
   "id": "3ec117ac",
   "metadata": {},
   "outputs": [
    {
     "data": {
      "image/png": "[encoded data removed]",
      "text/plain": [
       "<Figure size 1080x576 with 7 Axes>"
      ]
     },
     "metadata": {
      "needs_background": "light"
     },
     "output_type": "display_data"
    }
   ],
   "source": [
    "#Lets visualize our current data using a stripplot\n",
    "plt.figure(figsize=(15,8))#dimension only\n",
    "plotnumber = 1 #like a form of counter which we will see its relevance in the ‘for loop’\n",
    "for column in X:#triggering your for loop\n",
    "    if plotnumber<=8:#since there are 9 features\n",
    "        ax = plt.subplot(2,4,plotnumber)#2,4 means arrange the graphs in 2-rows and 4-columns spaces as seen below while plotnumber means plot graphs\n",
    "        sns.stripplot(Y,X[column])#performing a strip plot\n",
    "    plotnumber+=1#incrementals for plot number so as to allow ploting one by one until it gets to 36\n",
    "plt.tight_layout()"
   ]
  },
  {
   "cell_type": "markdown",
   "id": "31c58181",
   "metadata": {},
   "source": [
    "From the above strip plot, you can see a relationship between the target variable and most features!"
   ]
  },
  {
   "cell_type": "markdown",
   "id": "5c63d5d8",
   "metadata": {},
   "source": [
    "# 4.3 - Multicollinearity and Variance Inflation Factor(VIF)"
   ]
  },
  {
   "cell_type": "code",
   "execution_count": 54,
   "id": "3af12548",
   "metadata": {},
   "outputs": [
    {
     "data": {
      "text/html": [
       "<div>\n",
       "<style scoped>\n",
       "    .dataframe tbody tr th:only-of-type {\n",
       "        vertical-align: middle;\n",
       "    }\n",
       "\n",
       "    .dataframe tbody tr th {\n",
       "        vertical-align: top;\n",
       "    }\n",
       "\n",
       "    .dataframe thead th {\n",
       "        text-align: right;\n",
       "    }\n",
       "</style>\n",
       "<table border=\"1\" class=\"dataframe\">\n",
       "  <thead>\n",
       "    <tr style=\"text-align: right;\">\n",
       "      <th></th>\n",
       "      <th>id</th>\n",
       "      <th>comment_text</th>\n",
       "      <th>malignant</th>\n",
       "      <th>highly_malignant</th>\n",
       "      <th>rude</th>\n",
       "      <th>threat</th>\n",
       "      <th>abuse</th>\n",
       "      <th>loathe</th>\n",
       "    </tr>\n",
       "  </thead>\n",
       "  <tbody>\n",
       "    <tr>\n",
       "      <th>id</th>\n",
       "      <td>1.000000</td>\n",
       "      <td>0.002812</td>\n",
       "      <td>-0.003263</td>\n",
       "      <td>-0.001403</td>\n",
       "      <td>-0.002188</td>\n",
       "      <td>-0.001165</td>\n",
       "      <td>-0.002086</td>\n",
       "      <td>-0.000844</td>\n",
       "    </tr>\n",
       "    <tr>\n",
       "      <th>comment_text</th>\n",
       "      <td>0.002812</td>\n",
       "      <td>1.000000</td>\n",
       "      <td>0.132016</td>\n",
       "      <td>0.057627</td>\n",
       "      <td>0.104020</td>\n",
       "      <td>0.026093</td>\n",
       "      <td>0.111724</td>\n",
       "      <td>0.046234</td>\n",
       "    </tr>\n",
       "    <tr>\n",
       "      <th>malignant</th>\n",
       "      <td>-0.003263</td>\n",
       "      <td>0.132016</td>\n",
       "      <td>1.000000</td>\n",
       "      <td>0.308619</td>\n",
       "      <td>0.676515</td>\n",
       "      <td>0.157058</td>\n",
       "      <td>0.647518</td>\n",
       "      <td>0.266009</td>\n",
       "    </tr>\n",
       "    <tr>\n",
       "      <th>highly_malignant</th>\n",
       "      <td>-0.001403</td>\n",
       "      <td>0.057627</td>\n",
       "      <td>0.308619</td>\n",
       "      <td>1.000000</td>\n",
       "      <td>0.403014</td>\n",
       "      <td>0.123601</td>\n",
       "      <td>0.375807</td>\n",
       "      <td>0.201600</td>\n",
       "    </tr>\n",
       "    <tr>\n",
       "      <th>rude</th>\n",
       "      <td>-0.002188</td>\n",
       "      <td>0.104020</td>\n",
       "      <td>0.676515</td>\n",
       "      <td>0.403014</td>\n",
       "      <td>1.000000</td>\n",
       "      <td>0.141179</td>\n",
       "      <td>0.741272</td>\n",
       "      <td>0.286867</td>\n",
       "    </tr>\n",
       "    <tr>\n",
       "      <th>threat</th>\n",
       "      <td>-0.001165</td>\n",
       "      <td>0.026093</td>\n",
       "      <td>0.157058</td>\n",
       "      <td>0.123601</td>\n",
       "      <td>0.141179</td>\n",
       "      <td>1.000000</td>\n",
       "      <td>0.150022</td>\n",
       "      <td>0.115128</td>\n",
       "    </tr>\n",
       "    <tr>\n",
       "      <th>abuse</th>\n",
       "      <td>-0.002086</td>\n",
       "      <td>0.111724</td>\n",
       "      <td>0.647518</td>\n",
       "      <td>0.375807</td>\n",
       "      <td>0.741272</td>\n",
       "      <td>0.150022</td>\n",
       "      <td>1.000000</td>\n",
       "      <td>0.337736</td>\n",
       "    </tr>\n",
       "    <tr>\n",
       "      <th>loathe</th>\n",
       "      <td>-0.000844</td>\n",
       "      <td>0.046234</td>\n",
       "      <td>0.266009</td>\n",
       "      <td>0.201600</td>\n",
       "      <td>0.286867</td>\n",
       "      <td>0.115128</td>\n",
       "      <td>0.337736</td>\n",
       "      <td>1.000000</td>\n",
       "    </tr>\n",
       "  </tbody>\n",
       "</table>\n",
       "</div>"
      ],
      "text/plain": [
       "                        id  comment_text  malignant  highly_malignant  \\\n",
       "id                1.000000      0.002812  -0.003263         -0.001403   \n",
       "comment_text      0.002812      1.000000   0.132016          0.057627   \n",
       "malignant        -0.003263      0.132016   1.000000          0.308619   \n",
       "highly_malignant -0.001403      0.057627   0.308619          1.000000   \n",
       "rude             -0.002188      0.104020   0.676515          0.403014   \n",
       "threat           -0.001165      0.026093   0.157058          0.123601   \n",
       "abuse            -0.002086      0.111724   0.647518          0.375807   \n",
       "loathe           -0.000844      0.046234   0.266009          0.201600   \n",
       "\n",
       "                      rude    threat     abuse    loathe  \n",
       "id               -0.002188 -0.001165 -0.002086 -0.000844  \n",
       "comment_text      0.104020  0.026093  0.111724  0.046234  \n",
       "malignant         0.676515  0.157058  0.647518  0.266009  \n",
       "highly_malignant  0.403014  0.123601  0.375807  0.201600  \n",
       "rude              1.000000  0.141179  0.741272  0.286867  \n",
       "threat            0.141179  1.000000  0.150022  0.115128  \n",
       "abuse             0.741272  0.150022  1.000000  0.337736  \n",
       "loathe            0.286867  0.115128  0.337736  1.000000  "
      ]
     },
     "execution_count": 54,
     "metadata": {},
     "output_type": "execute_result"
    }
   ],
   "source": [
    "#Now rechecking for correlation....\n",
    "df.corr()"
   ]
  },
  {
   "cell_type": "code",
   "execution_count": 55,
   "id": "13ccfd9e",
   "metadata": {},
   "outputs": [
    {
     "data": {
      "text/plain": [
       "id                 -0.003263\n",
       "comment_text        0.132016\n",
       "threat              0.157058\n",
       "loathe              0.266009\n",
       "highly_malignant    0.308619\n",
       "abuse               0.647518\n",
       "rude                0.676515\n",
       "malignant           1.000000\n",
       "Name: malignant, dtype: float64"
      ]
     },
     "execution_count": 55,
     "metadata": {},
     "output_type": "execute_result"
    }
   ],
   "source": [
    "#Now lets compare correlation with target variable\n",
    "df.corr()['malignant'].sort_values()"
   ]
  },
  {
   "cell_type": "code",
   "execution_count": 56,
   "id": "cb13d2e1",
   "metadata": {},
   "outputs": [
    {
     "data": {
      "text/plain": [
       "<AxesSubplot:>"
      ]
     },
     "execution_count": 56,
     "metadata": {},
     "output_type": "execute_result"
    },
    {
     "data": {
      "image/png": "[encoded data removed]",
      "text/plain": [
       "<Figure size 1080x576 with 2 Axes>"
      ]
     },
     "metadata": {
      "needs_background": "light"
     },
     "output_type": "display_data"
    }
   ],
   "source": [
    "#Lets have a view of the heatmap again with particular focus on map-squares that are more brightened\n",
    "plt.figure(figsize=(15,8))\n",
    "sns.heatmap(df.corr(),annot=True, linewidth=0,linecolor='black',fmt='.2f')"
   ]
  },
  {
   "cell_type": "markdown",
   "id": "3c50e864",
   "metadata": {},
   "source": [
    "From the heatmap we can see some map-square(s) was/were brightened;\n",
    "\n",
    "- abuse vs rude\n",
    "\n",
    "- abuse vs malignant\n",
    "\n",
    "- rude vs malignant\n",
    "\n",
    " \n",
    "However, lets reconfirm by calculating the Variance Inflation Factor(VIF)!"
   ]
  },
  {
   "cell_type": "markdown",
   "id": "434fb238",
   "metadata": {},
   "source": [
    "# Variance Inflation Factor(VIF)\n",
    "\n",
    "To solve this multicollinearity problem, we have to first scale our data using Standard Scaler"
   ]
  },
  {
   "cell_type": "code",
   "execution_count": 57,
   "id": "e0337b84",
   "metadata": {},
   "outputs": [
    {
     "data": {
      "text/plain": [
       "array([[-1.73203995, -0.15385056, -0.10048119, ..., -0.05481361,\n",
       "        -0.22787476, -0.09425005],\n",
       "       [-1.73201824, -0.24804523, -0.10048119, ..., -0.05481361,\n",
       "        -0.22787476, -0.09425005],\n",
       "       [-1.73199654, -0.00414639, -0.10048119, ..., -0.05481361,\n",
       "        -0.22787476, -0.09425005],\n",
       "       ...,\n",
       "       [ 1.73104135,  0.92084566, -0.10048119, ..., -0.05481361,\n",
       "        -0.22787476, -0.09425005],\n",
       "       [ 1.73128014, -0.42870621, -0.10048119, ..., -0.05481361,\n",
       "        -0.22787476, -0.09425005],\n",
       "       [ 1.7314104 , -1.05676472, -0.10048119, ..., -0.05481361,\n",
       "        -0.22787476, -0.09425005]])"
      ]
     },
     "execution_count": 57,
     "metadata": {},
     "output_type": "execute_result"
    }
   ],
   "source": [
    "#Initializing....\n",
    "scalar=StandardScaler()\n",
    "X_Scaled = scalar.fit_transform(X)#Recall that all features has been stored in X earlier..\n",
    "X_Scaled"
   ]
  },
  {
   "cell_type": "code",
   "execution_count": 58,
   "id": "7eddb803",
   "metadata": {},
   "outputs": [
    {
     "data": {
      "text/plain": [
       "(159571, 7)"
      ]
     },
     "execution_count": 58,
     "metadata": {},
     "output_type": "execute_result"
    }
   ],
   "source": [
    "#checking the shape\n",
    "X_Scaled.shape"
   ]
  },
  {
   "cell_type": "markdown",
   "id": "84a13de4",
   "metadata": {},
   "source": [
    "Now we shall treat the above shape as an array of numbers(tuple) where 159,571 and 7 are the zeroth and first index respectively."
   ]
  },
  {
   "cell_type": "code",
   "execution_count": 59,
   "id": "d95ebac3",
   "metadata": {},
   "outputs": [],
   "source": [
    "#initializing...creating an empty dataframe stored in vif\n",
    "vif=pd.DataFrame()"
   ]
  },
  {
   "cell_type": "code",
   "execution_count": 60,
   "id": "a48e508d",
   "metadata": {},
   "outputs": [],
   "source": [
    "#Using a list comprehension....\n",
    "vif['vif']=[variance_inflation_factor(X_Scaled, i) for i in range(X_Scaled.shape[1])]#This is a list comprehension. in the for loop, the range(X_Scaled.shape[1]) which also means range(7) or (0,1,2,3,4,5,6), since X_Scaled.shape[1] means the first index in the X_Scaled.shape which is 7. Now all the columns in X_Scaled will now be compared with the entire X_Scaled one by one using the other part of the syntax which is variance_inflation_factor(X_Scaled, i). To shed more light, what happens here is that during th comparison using variance_inflation_factor(X_Scaled, i), the i is seen as a ‘Label’ while the X_Scaled is seen as a Feature. The output of this list comprehension is then stored in a column named 'vif' inside the empty ‘vif dataframe’ created above"
   ]
  },
  {
   "cell_type": "code",
   "execution_count": 61,
   "id": "a0d49a34",
   "metadata": {},
   "outputs": [
    {
     "data": {
      "text/html": [
       "<div>\n",
       "<style scoped>\n",
       "    .dataframe tbody tr th:only-of-type {\n",
       "        vertical-align: middle;\n",
       "    }\n",
       "\n",
       "    .dataframe tbody tr th {\n",
       "        vertical-align: top;\n",
       "    }\n",
       "\n",
       "    .dataframe thead th {\n",
       "        text-align: right;\n",
       "    }\n",
       "</style>\n",
       "<table border=\"1\" class=\"dataframe\">\n",
       "  <thead>\n",
       "    <tr style=\"text-align: right;\">\n",
       "      <th></th>\n",
       "      <th>vif</th>\n",
       "      <th>Features</th>\n",
       "    </tr>\n",
       "  </thead>\n",
       "  <tbody>\n",
       "    <tr>\n",
       "      <th>0</th>\n",
       "      <td>1.000016</td>\n",
       "      <td>id</td>\n",
       "    </tr>\n",
       "    <tr>\n",
       "      <th>1</th>\n",
       "      <td>1.013885</td>\n",
       "      <td>comment_text</td>\n",
       "    </tr>\n",
       "    <tr>\n",
       "      <th>2</th>\n",
       "      <td>1.224673</td>\n",
       "      <td>highly_malignant</td>\n",
       "    </tr>\n",
       "    <tr>\n",
       "      <th>3</th>\n",
       "      <td>2.320031</td>\n",
       "      <td>rude</td>\n",
       "    </tr>\n",
       "    <tr>\n",
       "      <th>4</th>\n",
       "      <td>1.033610</td>\n",
       "      <td>threat</td>\n",
       "    </tr>\n",
       "    <tr>\n",
       "      <th>5</th>\n",
       "      <td>2.345286</td>\n",
       "      <td>abuse</td>\n",
       "    </tr>\n",
       "    <tr>\n",
       "      <th>6</th>\n",
       "      <td>1.143525</td>\n",
       "      <td>loathe</td>\n",
       "    </tr>\n",
       "  </tbody>\n",
       "</table>\n",
       "</div>"
      ],
      "text/plain": [
       "        vif          Features\n",
       "0  1.000016                id\n",
       "1  1.013885      comment_text\n",
       "2  1.224673  highly_malignant\n",
       "3  2.320031              rude\n",
       "4  1.033610            threat\n",
       "5  2.345286             abuse\n",
       "6  1.143525            loathe"
      ]
     },
     "execution_count": 61,
     "metadata": {},
     "output_type": "execute_result"
    }
   ],
   "source": [
    "vif['Features'] = X.columns#creating another column named 'Features' inside the empty vif Dataframe created earlier and populating it with a data called X.columns(i.e column names from the X DataFrame which was created by dropping the Label – ‘quality’ )\n",
    "vif"
   ]
  },
  {
   "cell_type": "markdown",
   "id": "96bd9e03",
   "metadata": {},
   "source": [
    "# Assumptions on VIF"
   ]
  },
  {
   "cell_type": "markdown",
   "id": "4fd0fa76",
   "metadata": {},
   "source": [
    "From the above vif dataframe,we are setting a vif threshold of 5, meaning any feature with Variance Inflation Factor greater than 7 is assumed to have a multicollinearity problem. it is not standard. The dataset demands.\n",
    "\n",
    "In lieu of the above assumption it mean MULTICOLLINEARITY DOES NOT EXIST!"
   ]
  },
  {
   "cell_type": "markdown",
   "id": "99e99176",
   "metadata": {},
   "source": [
    "# 4.4 - Removal of Outliers\n",
    "\n",
    "This will be achieved using the zscore"
   ]
  },
  {
   "cell_type": "code",
   "execution_count": 62,
   "id": "591087c1",
   "metadata": {},
   "outputs": [
    {
     "data": {
      "image/png": "[encoded data removed]",
      "text/plain": [
       "<Figure size 1080x576 with 8 Axes>"
      ]
     },
     "metadata": {
      "needs_background": "light"
     },
     "output_type": "display_data"
    }
   ],
   "source": [
    "#Checking again for allien-datapoints in each features\n",
    "plt.figure(figsize=(15,8))#dimension only\n",
    "graph = 1 #like a form of counter which we will see its relevance in the ‘for loop’\n",
    "\n",
    "for column in df:#triggering your for loop\n",
    "    if graph<=8:#this was made 20 just to allow for 20 spaces\n",
    "        plt.subplot(2,4,graph)#2,4 means arrange the graphs in 2-rows and 4-columns spaces as seen below while plotnumber means plot graphs\n",
    "        ax=sns.boxplot(data=df[column])#performing a box plot starting with fixed acidity\n",
    "        plt.xlabel(column,fontsize=20)#labelling the x-axis with their respctive column names with a font size of 20\n",
    "    graph+=1#incrementals for plot number so as to allow ploting one by one until it gets to 20\n",
    "plt.tight_layout()#This is just to show you data in a compact form."
   ]
  },
  {
   "cell_type": "code",
   "execution_count": 63,
   "id": "308ba855",
   "metadata": {},
   "outputs": [
    {
     "data": {
      "text/html": [
       "<div>\n",
       "<style scoped>\n",
       "    .dataframe tbody tr th:only-of-type {\n",
       "        vertical-align: middle;\n",
       "    }\n",
       "\n",
       "    .dataframe tbody tr th {\n",
       "        vertical-align: top;\n",
       "    }\n",
       "\n",
       "    .dataframe thead th {\n",
       "        text-align: right;\n",
       "    }\n",
       "</style>\n",
       "<table border=\"1\" class=\"dataframe\">\n",
       "  <thead>\n",
       "    <tr style=\"text-align: right;\">\n",
       "      <th></th>\n",
       "      <th>id</th>\n",
       "      <th>comment_text</th>\n",
       "      <th>malignant</th>\n",
       "      <th>highly_malignant</th>\n",
       "      <th>rude</th>\n",
       "      <th>threat</th>\n",
       "      <th>abuse</th>\n",
       "      <th>loathe</th>\n",
       "    </tr>\n",
       "  </thead>\n",
       "  <tbody>\n",
       "    <tr>\n",
       "      <th>0</th>\n",
       "      <td>1.732040</td>\n",
       "      <td>0.153851</td>\n",
       "      <td>0.325583</td>\n",
       "      <td>0.100481</td>\n",
       "      <td>0.23645</td>\n",
       "      <td>0.054814</td>\n",
       "      <td>0.227875</td>\n",
       "      <td>0.09425</td>\n",
       "    </tr>\n",
       "    <tr>\n",
       "      <th>1</th>\n",
       "      <td>1.732018</td>\n",
       "      <td>0.248045</td>\n",
       "      <td>0.325583</td>\n",
       "      <td>0.100481</td>\n",
       "      <td>0.23645</td>\n",
       "      <td>0.054814</td>\n",
       "      <td>0.227875</td>\n",
       "      <td>0.09425</td>\n",
       "    </tr>\n",
       "    <tr>\n",
       "      <th>2</th>\n",
       "      <td>1.731997</td>\n",
       "      <td>0.004146</td>\n",
       "      <td>0.325583</td>\n",
       "      <td>0.100481</td>\n",
       "      <td>0.23645</td>\n",
       "      <td>0.054814</td>\n",
       "      <td>0.227875</td>\n",
       "      <td>0.09425</td>\n",
       "    </tr>\n",
       "    <tr>\n",
       "      <th>3</th>\n",
       "      <td>1.731953</td>\n",
       "      <td>0.960964</td>\n",
       "      <td>0.325583</td>\n",
       "      <td>0.100481</td>\n",
       "      <td>0.23645</td>\n",
       "      <td>0.054814</td>\n",
       "      <td>0.227875</td>\n",
       "      <td>0.09425</td>\n",
       "    </tr>\n",
       "    <tr>\n",
       "      <th>4</th>\n",
       "      <td>1.731931</td>\n",
       "      <td>1.446699</td>\n",
       "      <td>0.325583</td>\n",
       "      <td>0.100481</td>\n",
       "      <td>0.23645</td>\n",
       "      <td>0.054814</td>\n",
       "      <td>0.227875</td>\n",
       "      <td>0.09425</td>\n",
       "    </tr>\n",
       "    <tr>\n",
       "      <th>...</th>\n",
       "      <td>...</td>\n",
       "      <td>...</td>\n",
       "      <td>...</td>\n",
       "      <td>...</td>\n",
       "      <td>...</td>\n",
       "      <td>...</td>\n",
       "      <td>...</td>\n",
       "      <td>...</td>\n",
       "    </tr>\n",
       "    <tr>\n",
       "      <th>159566</th>\n",
       "      <td>1.730629</td>\n",
       "      <td>0.770577</td>\n",
       "      <td>0.325583</td>\n",
       "      <td>0.100481</td>\n",
       "      <td>0.23645</td>\n",
       "      <td>0.054814</td>\n",
       "      <td>0.227875</td>\n",
       "      <td>0.09425</td>\n",
       "    </tr>\n",
       "    <tr>\n",
       "      <th>159567</th>\n",
       "      <td>1.730737</td>\n",
       "      <td>1.431372</td>\n",
       "      <td>0.325583</td>\n",
       "      <td>0.100481</td>\n",
       "      <td>0.23645</td>\n",
       "      <td>0.054814</td>\n",
       "      <td>0.227875</td>\n",
       "      <td>0.09425</td>\n",
       "    </tr>\n",
       "    <tr>\n",
       "      <th>159568</th>\n",
       "      <td>1.731041</td>\n",
       "      <td>0.920846</td>\n",
       "      <td>0.325583</td>\n",
       "      <td>0.100481</td>\n",
       "      <td>0.23645</td>\n",
       "      <td>0.054814</td>\n",
       "      <td>0.227875</td>\n",
       "      <td>0.09425</td>\n",
       "    </tr>\n",
       "    <tr>\n",
       "      <th>159569</th>\n",
       "      <td>1.731280</td>\n",
       "      <td>0.428706</td>\n",
       "      <td>0.325583</td>\n",
       "      <td>0.100481</td>\n",
       "      <td>0.23645</td>\n",
       "      <td>0.054814</td>\n",
       "      <td>0.227875</td>\n",
       "      <td>0.09425</td>\n",
       "    </tr>\n",
       "    <tr>\n",
       "      <th>159570</th>\n",
       "      <td>1.731410</td>\n",
       "      <td>1.056765</td>\n",
       "      <td>0.325583</td>\n",
       "      <td>0.100481</td>\n",
       "      <td>0.23645</td>\n",
       "      <td>0.054814</td>\n",
       "      <td>0.227875</td>\n",
       "      <td>0.09425</td>\n",
       "    </tr>\n",
       "  </tbody>\n",
       "</table>\n",
       "<p>159571 rows × 8 columns</p>\n",
       "</div>"
      ],
      "text/plain": [
       "              id  comment_text  malignant  highly_malignant     rude  \\\n",
       "0       1.732040      0.153851   0.325583          0.100481  0.23645   \n",
       "1       1.732018      0.248045   0.325583          0.100481  0.23645   \n",
       "2       1.731997      0.004146   0.325583          0.100481  0.23645   \n",
       "3       1.731953      0.960964   0.325583          0.100481  0.23645   \n",
       "4       1.731931      1.446699   0.325583          0.100481  0.23645   \n",
       "...          ...           ...        ...               ...      ...   \n",
       "159566  1.730629      0.770577   0.325583          0.100481  0.23645   \n",
       "159567  1.730737      1.431372   0.325583          0.100481  0.23645   \n",
       "159568  1.731041      0.920846   0.325583          0.100481  0.23645   \n",
       "159569  1.731280      0.428706   0.325583          0.100481  0.23645   \n",
       "159570  1.731410      1.056765   0.325583          0.100481  0.23645   \n",
       "\n",
       "          threat     abuse   loathe  \n",
       "0       0.054814  0.227875  0.09425  \n",
       "1       0.054814  0.227875  0.09425  \n",
       "2       0.054814  0.227875  0.09425  \n",
       "3       0.054814  0.227875  0.09425  \n",
       "4       0.054814  0.227875  0.09425  \n",
       "...          ...       ...      ...  \n",
       "159566  0.054814  0.227875  0.09425  \n",
       "159567  0.054814  0.227875  0.09425  \n",
       "159568  0.054814  0.227875  0.09425  \n",
       "159569  0.054814  0.227875  0.09425  \n",
       "159570  0.054814  0.227875  0.09425  \n",
       "\n",
       "[159571 rows x 8 columns]"
      ]
     },
     "execution_count": 63,
     "metadata": {},
     "output_type": "execute_result"
    }
   ],
   "source": [
    "#Get the absolute value of the zscore of the remaining dataset\n",
    "np.abs(zscore(df))"
   ]
  },
  {
   "cell_type": "code",
   "execution_count": 64,
   "id": "bd2fc47e",
   "metadata": {},
   "outputs": [
    {
     "data": {
      "text/plain": [
       "(159571, 8)"
      ]
     },
     "execution_count": 64,
     "metadata": {},
     "output_type": "execute_result"
    }
   ],
   "source": [
    "#checking the data shape\n",
    "z=np.abs(zscore(df))\n",
    "z.shape"
   ]
  },
  {
   "cell_type": "markdown",
   "id": "2dd53c88",
   "metadata": {},
   "source": [
    "Now we are setting threshold of outlier zscore>3, meaning any zscore above 3 is assumed to be an Outlier. Again, its not standard. The dataset demands."
   ]
  },
  {
   "cell_type": "code",
   "execution_count": 65,
   "id": "3e83a7e5",
   "metadata": {},
   "outputs": [
    {
     "data": {
      "text/plain": [
       "(array([     6,      6,      6, ..., 159554, 159554, 159554], dtype=int64),\n",
       " array([2, 3, 4, ..., 2, 4, 6], dtype=int64))"
      ]
     },
     "execution_count": 65,
     "metadata": {},
     "output_type": "execute_result"
    }
   ],
   "source": [
    "#index number\n",
    "np.where(z>3)"
   ]
  },
  {
   "cell_type": "markdown",
   "id": "6fdd7bbe",
   "metadata": {},
   "source": [
    "- We have no business removing outliers and skewness for categorical columns\n",
    "\n",
    "- We have no business removing outliers and skewness for the target variable otherwise information will be lost!"
   ]
  },
  {
   "cell_type": "code",
   "execution_count": 66,
   "id": "91fda66c",
   "metadata": {},
   "outputs": [
    {
     "name": "stdout",
     "output_type": "stream",
     "text": [
      "Old DataFrame (159571, 8)\n",
      "New DataFrame (143346, 8)\n",
      "total_dropped_rows 16225\n",
      "Percentage_Data_Loss 10.167887648758233\n"
     ]
    }
   ],
   "source": [
    "#Extracting out the non-outliers(i.e zscore<3) and storing output in new object\n",
    "df_new=df[(z<3).all(axis=1)]\n",
    "print(\"Old DataFrame\",df.shape)#Data still with outliers\n",
    "print(\"New DataFrame\",df_new.shape)#Data without outliers\n",
    "print(\"total_dropped_rows\",df.shape[0]-df_new.shape[0])#Take note of this arithmetic in df.shape\n",
    "print(\"Percentage_Data_Loss\",(((df.shape[0]-df_new.shape[0])/(df.shape[0]))*100))"
   ]
  },
  {
   "cell_type": "markdown",
   "id": "da9a93f0",
   "metadata": {},
   "source": [
    "A Total of 16,225 outliers have been removed!\n",
    "\n",
    "Percetage Data loss is 10.2%"
   ]
  },
  {
   "cell_type": "markdown",
   "id": "8a3bd353",
   "metadata": {},
   "source": [
    "# 4.5 - Transforming Data to Remove Skewness using Power transformation"
   ]
  },
  {
   "cell_type": "code",
   "execution_count": 67,
   "id": "809ba14e",
   "metadata": {},
   "outputs": [
    {
     "data": {
      "text/plain": [
       "id                 -0.000789\n",
       "comment_text        0.036404\n",
       "malignant           0.000000\n",
       "highly_malignant    0.000000\n",
       "rude                0.000000\n",
       "threat              0.000000\n",
       "abuse               0.000000\n",
       "loathe              0.000000\n",
       "dtype: float64"
      ]
     },
     "execution_count": 67,
     "metadata": {},
     "output_type": "execute_result"
    }
   ],
   "source": [
    "#rechecking for skewness...\n",
    "df_new.skew()"
   ]
  },
  {
   "cell_type": "markdown",
   "id": "508aba0f",
   "metadata": {},
   "source": [
    "# Assumptions"
   ]
  },
  {
   "cell_type": "markdown",
   "id": "0da163d9",
   "metadata": {},
   "source": [
    "- Lets assume Skewness threshold is taken as +/-0.5.Meaning any value outside +/-0.5 means skewness exist!\n",
    "\n",
    " \n",
    "- We have no business removing outliers and skewness for categorical columns"
   ]
  },
  {
   "cell_type": "code",
   "execution_count": 68,
   "id": "c048bd93",
   "metadata": {},
   "outputs": [
    {
     "data": {
      "image/png": "[encoded data removed]",
      "text/plain": [
       "<Figure size 1080x576 with 8 Axes>"
      ]
     },
     "metadata": {},
     "output_type": "display_data"
    }
   ],
   "source": [
    "#Visualizing for the current skewness before Power Transformation\n",
    "plt.figure(figsize=(15,8), facecolor='green')#dimension and line color\n",
    "plotnumber = 1 #like a form of counter which we will see its relevance in the ‘for loop’\n",
    "\n",
    "for column in df_new:#triggering your for loop\n",
    "    if plotnumber<=8:#since there are 6 features\n",
    "        ax = plt.subplot(2,4,plotnumber)#2,4 means arrange the graphs in 2-rows and 4-columns spaces as seen below while plotnumber means plot graphs\n",
    "        sns.distplot(df_new[column])#performing a distribution plot for all the columns starting with volatile acidity\n",
    "        plt.xlabel(column,fontsize=20)#labelling the x-axis with their respctive column names with a font size of 20\n",
    "    plotnumber+=1#incrementals for plot number so as to allow ploting one by one until it gets to 20\n",
    "plt.tight_layout()#This is just to show you data in a compact form. "
   ]
  },
  {
   "cell_type": "markdown",
   "id": "29fa8c59",
   "metadata": {},
   "source": [
    "From the above assuptions, we can see no skewness exist"
   ]
  },
  {
   "cell_type": "code",
   "execution_count": 69,
   "id": "388127d9",
   "metadata": {},
   "outputs": [
    {
     "data": {
      "text/html": [
       "<div>\n",
       "<style scoped>\n",
       "    .dataframe tbody tr th:only-of-type {\n",
       "        vertical-align: middle;\n",
       "    }\n",
       "\n",
       "    .dataframe tbody tr th {\n",
       "        vertical-align: top;\n",
       "    }\n",
       "\n",
       "    .dataframe thead th {\n",
       "        text-align: right;\n",
       "    }\n",
       "</style>\n",
       "<table border=\"1\" class=\"dataframe\">\n",
       "  <thead>\n",
       "    <tr style=\"text-align: right;\">\n",
       "      <th></th>\n",
       "      <th>id</th>\n",
       "      <th>comment_text</th>\n",
       "      <th>malignant</th>\n",
       "      <th>highly_malignant</th>\n",
       "      <th>rude</th>\n",
       "      <th>threat</th>\n",
       "      <th>abuse</th>\n",
       "      <th>loathe</th>\n",
       "    </tr>\n",
       "  </thead>\n",
       "  <tbody>\n",
       "    <tr>\n",
       "      <th>0</th>\n",
       "      <td>0</td>\n",
       "      <td>72698</td>\n",
       "      <td>0</td>\n",
       "      <td>0</td>\n",
       "      <td>0</td>\n",
       "      <td>0</td>\n",
       "      <td>0</td>\n",
       "      <td>0</td>\n",
       "    </tr>\n",
       "    <tr>\n",
       "      <th>1</th>\n",
       "      <td>1</td>\n",
       "      <td>68359</td>\n",
       "      <td>0</td>\n",
       "      <td>0</td>\n",
       "      <td>0</td>\n",
       "      <td>0</td>\n",
       "      <td>0</td>\n",
       "      <td>0</td>\n",
       "    </tr>\n",
       "    <tr>\n",
       "      <th>2</th>\n",
       "      <td>2</td>\n",
       "      <td>79594</td>\n",
       "      <td>0</td>\n",
       "      <td>0</td>\n",
       "      <td>0</td>\n",
       "      <td>0</td>\n",
       "      <td>0</td>\n",
       "      <td>0</td>\n",
       "    </tr>\n",
       "    <tr>\n",
       "      <th>3</th>\n",
       "      <td>4</td>\n",
       "      <td>35519</td>\n",
       "      <td>0</td>\n",
       "      <td>0</td>\n",
       "      <td>0</td>\n",
       "      <td>0</td>\n",
       "      <td>0</td>\n",
       "      <td>0</td>\n",
       "    </tr>\n",
       "    <tr>\n",
       "      <th>4</th>\n",
       "      <td>5</td>\n",
       "      <td>146426</td>\n",
       "      <td>0</td>\n",
       "      <td>0</td>\n",
       "      <td>0</td>\n",
       "      <td>0</td>\n",
       "      <td>0</td>\n",
       "      <td>0</td>\n",
       "    </tr>\n",
       "    <tr>\n",
       "      <th>...</th>\n",
       "      <td>...</td>\n",
       "      <td>...</td>\n",
       "      <td>...</td>\n",
       "      <td>...</td>\n",
       "      <td>...</td>\n",
       "      <td>...</td>\n",
       "      <td>...</td>\n",
       "      <td>...</td>\n",
       "    </tr>\n",
       "    <tr>\n",
       "      <th>159566</th>\n",
       "      <td>159505</td>\n",
       "      <td>44289</td>\n",
       "      <td>0</td>\n",
       "      <td>0</td>\n",
       "      <td>0</td>\n",
       "      <td>0</td>\n",
       "      <td>0</td>\n",
       "      <td>0</td>\n",
       "    </tr>\n",
       "    <tr>\n",
       "      <th>159567</th>\n",
       "      <td>159510</td>\n",
       "      <td>145720</td>\n",
       "      <td>0</td>\n",
       "      <td>0</td>\n",
       "      <td>0</td>\n",
       "      <td>0</td>\n",
       "      <td>0</td>\n",
       "      <td>0</td>\n",
       "    </tr>\n",
       "    <tr>\n",
       "      <th>159568</th>\n",
       "      <td>159524</td>\n",
       "      <td>122203</td>\n",
       "      <td>0</td>\n",
       "      <td>0</td>\n",
       "      <td>0</td>\n",
       "      <td>0</td>\n",
       "      <td>0</td>\n",
       "      <td>0</td>\n",
       "    </tr>\n",
       "    <tr>\n",
       "      <th>159569</th>\n",
       "      <td>159535</td>\n",
       "      <td>60037</td>\n",
       "      <td>0</td>\n",
       "      <td>0</td>\n",
       "      <td>0</td>\n",
       "      <td>0</td>\n",
       "      <td>0</td>\n",
       "      <td>0</td>\n",
       "    </tr>\n",
       "    <tr>\n",
       "      <th>159570</th>\n",
       "      <td>159541</td>\n",
       "      <td>31106</td>\n",
       "      <td>0</td>\n",
       "      <td>0</td>\n",
       "      <td>0</td>\n",
       "      <td>0</td>\n",
       "      <td>0</td>\n",
       "      <td>0</td>\n",
       "    </tr>\n",
       "  </tbody>\n",
       "</table>\n",
       "<p>143346 rows × 8 columns</p>\n",
       "</div>"
      ],
      "text/plain": [
       "            id  comment_text  malignant  highly_malignant  rude  threat  \\\n",
       "0            0         72698          0                 0     0       0   \n",
       "1            1         68359          0                 0     0       0   \n",
       "2            2         79594          0                 0     0       0   \n",
       "3            4         35519          0                 0     0       0   \n",
       "4            5        146426          0                 0     0       0   \n",
       "...        ...           ...        ...               ...   ...     ...   \n",
       "159566  159505         44289          0                 0     0       0   \n",
       "159567  159510        145720          0                 0     0       0   \n",
       "159568  159524        122203          0                 0     0       0   \n",
       "159569  159535         60037          0                 0     0       0   \n",
       "159570  159541         31106          0                 0     0       0   \n",
       "\n",
       "        abuse  loathe  \n",
       "0           0       0  \n",
       "1           0       0  \n",
       "2           0       0  \n",
       "3           0       0  \n",
       "4           0       0  \n",
       "...       ...     ...  \n",
       "159566      0       0  \n",
       "159567      0       0  \n",
       "159568      0       0  \n",
       "159569      0       0  \n",
       "159570      0       0  \n",
       "\n",
       "[143346 rows x 8 columns]"
      ]
     },
     "execution_count": 69,
     "metadata": {},
     "output_type": "execute_result"
    }
   ],
   "source": [
    "df_new"
   ]
  },
  {
   "cell_type": "code",
   "execution_count": 70,
   "id": "98024272",
   "metadata": {},
   "outputs": [
    {
     "data": {
      "text/plain": [
       "id                  int32\n",
       "comment_text        int32\n",
       "malignant           int64\n",
       "highly_malignant    int64\n",
       "rude                int64\n",
       "threat              int64\n",
       "abuse               int64\n",
       "loathe              int64\n",
       "dtype: object"
      ]
     },
     "execution_count": 70,
     "metadata": {},
     "output_type": "execute_result"
    }
   ],
   "source": [
    "df_new.dtypes"
   ]
  },
  {
   "cell_type": "code",
   "execution_count": 71,
   "id": "94c98958",
   "metadata": {},
   "outputs": [
    {
     "data": {
      "text/plain": [
       "id                 -0.000789\n",
       "comment_text        0.036404\n",
       "malignant           0.000000\n",
       "highly_malignant    0.000000\n",
       "rude                0.000000\n",
       "threat              0.000000\n",
       "abuse               0.000000\n",
       "loathe              0.000000\n",
       "dtype: float64"
      ]
     },
     "execution_count": 71,
     "metadata": {},
     "output_type": "execute_result"
    }
   ],
   "source": [
    "df_new.skew()"
   ]
  },
  {
   "cell_type": "markdown",
   "id": "a380f811",
   "metadata": {},
   "source": [
    "Data is looking good!, No skewness and hence, no need for Power Transformation!!"
   ]
  },
  {
   "cell_type": "markdown",
   "id": "fc50c4e4",
   "metadata": {},
   "source": [
    "# 4.6 - Seperating the datasets into X and Y variables"
   ]
  },
  {
   "cell_type": "code",
   "execution_count": 72,
   "id": "9bca4936",
   "metadata": {},
   "outputs": [],
   "source": [
    "#seperation\n",
    "X=df.drop(columns=['malignant'])\n",
    "Y=df['malignant']"
   ]
  },
  {
   "cell_type": "markdown",
   "id": "c5b0bad9",
   "metadata": {},
   "source": [
    "# Transforming data into standard normal distribution"
   ]
  },
  {
   "cell_type": "code",
   "execution_count": 73,
   "id": "a49cff4b",
   "metadata": {},
   "outputs": [
    {
     "data": {
      "text/plain": [
       "array([[-1.73203995, -0.15385056, -0.10048119, ..., -0.05481361,\n",
       "        -0.22787476, -0.09425005],\n",
       "       [-1.73201824, -0.24804523, -0.10048119, ..., -0.05481361,\n",
       "        -0.22787476, -0.09425005],\n",
       "       [-1.73199654, -0.00414639, -0.10048119, ..., -0.05481361,\n",
       "        -0.22787476, -0.09425005],\n",
       "       ...,\n",
       "       [ 1.73104135,  0.92084566, -0.10048119, ..., -0.05481361,\n",
       "        -0.22787476, -0.09425005],\n",
       "       [ 1.73128014, -0.42870621, -0.10048119, ..., -0.05481361,\n",
       "        -0.22787476, -0.09425005],\n",
       "       [ 1.7314104 , -1.05676472, -0.10048119, ..., -0.05481361,\n",
       "        -0.22787476, -0.09425005]])"
      ]
     },
     "execution_count": 73,
     "metadata": {},
     "output_type": "execute_result"
    }
   ],
   "source": [
    "#transforming dataset into a standard normal distribution\n",
    "scalar=StandardScaler()\n",
    "X_Scaled = scalar.fit_transform(X)\n",
    "X_Scaled"
   ]
  },
  {
   "cell_type": "markdown",
   "id": "c9d436f2",
   "metadata": {},
   "source": [
    "What standard scaler does is to bring mean to zero and standard deviation to 1"
   ]
  },
  {
   "cell_type": "code",
   "execution_count": 74,
   "id": "e0df51b7",
   "metadata": {},
   "outputs": [
    {
     "data": {
      "text/plain": [
       "1.8552403353315472e-17"
      ]
     },
     "execution_count": 74,
     "metadata": {},
     "output_type": "execute_result"
    }
   ],
   "source": [
    "#reconfirming that mean is 0\n",
    "X_Scaled.mean()"
   ]
  },
  {
   "cell_type": "code",
   "execution_count": 75,
   "id": "c70893ca",
   "metadata": {},
   "outputs": [
    {
     "data": {
      "text/plain": [
       "1.0000000000000002"
      ]
     },
     "execution_count": 75,
     "metadata": {},
     "output_type": "execute_result"
    }
   ],
   "source": [
    "#reconfirming that standard deviation is 1\n",
    "X_Scaled.std()"
   ]
  },
  {
   "cell_type": "markdown",
   "id": "c5c9ce10",
   "metadata": {},
   "source": [
    "# Step 5 - MODEL BUILDING"
   ]
  },
  {
   "cell_type": "markdown",
   "id": "76ca5172",
   "metadata": {},
   "source": [
    "# 5.1 - Logistic Regression"
   ]
  },
  {
   "cell_type": "markdown",
   "id": "b2261913",
   "metadata": {},
   "source": [
    "# Best Random State"
   ]
  },
  {
   "cell_type": "code",
   "execution_count": 87,
   "id": "3dc340b0",
   "metadata": {
    "scrolled": false
   },
   "outputs": [
    {
     "name": "stdout",
     "output_type": "stream",
     "text": [
      "\n",
      " At random state:- 0 Testing Accuracy and Training Accuracy are:-  95.7 and 95.9 respectively\n",
      "\n",
      " At random state:- 1 Testing Accuracy and Training Accuracy are:-  95.7 and 95.8 respectively\n",
      "\n",
      " At random state:- 2 Testing Accuracy and Training Accuracy are:-  95.8 and 95.8 respectively\n",
      "\n",
      " At random state:- 3 Testing Accuracy and Training Accuracy are:-  95.9 and 95.8 respectively\n",
      "\n",
      " At random state:- 4 Testing Accuracy and Training Accuracy are:-  95.8 and 95.9 respectively\n",
      "\n",
      " At random state:- 5 Testing Accuracy and Training Accuracy are:-  95.9 and 95.8 respectively\n",
      "\n",
      " At random state:- 6 Testing Accuracy and Training Accuracy are:-  95.7 and 95.9 respectively\n",
      "\n",
      " At random state:- 7 Testing Accuracy and Training Accuracy are:-  95.8 and 95.8 respectively\n",
      "\n",
      " At random state:- 8 Testing Accuracy and Training Accuracy are:-  95.8 and 95.9 respectively\n",
      "\n",
      " At random state:- 9 Testing Accuracy and Training Accuracy are:-  95.7 and 95.9 respectively\n",
      "\n",
      " At random state:- 10 Testing Accuracy and Training Accuracy are:-  96.0 and 95.8 respectively\n",
      "\n",
      " At random state:- 11 Testing Accuracy and Training Accuracy are:-  95.8 and 95.9 respectively\n",
      "\n",
      " At random state:- 12 Testing Accuracy and Training Accuracy are:-  95.7 and 95.9 respectively\n",
      "\n",
      " At random state:- 13 Testing Accuracy and Training Accuracy are:-  95.9 and 95.8 respectively\n",
      "\n",
      " At random state:- 14 Testing Accuracy and Training Accuracy are:-  95.7 and 95.9 respectively\n",
      "\n",
      " At random state:- 15 Testing Accuracy and Training Accuracy are:-  95.8 and 95.9 respectively\n",
      "\n",
      " At random state:- 16 Testing Accuracy and Training Accuracy are:-  95.7 and 95.9 respectively\n",
      "\n",
      " At random state:- 17 Testing Accuracy and Training Accuracy are:-  95.9 and 95.8 respectively\n",
      "\n",
      " At random state:- 18 Testing Accuracy and Training Accuracy are:-  95.7 and 95.9 respectively\n",
      "\n",
      " At random state:- 19 Testing Accuracy and Training Accuracy are:-  96.0 and 95.8 respectively\n",
      "\n",
      " At random state:- 20 Testing Accuracy and Training Accuracy are:-  95.7 and 95.9 respectively\n",
      "\n",
      " At random state:- 21 Testing Accuracy and Training Accuracy are:-  95.8 and 95.9 respectively\n",
      "\n",
      " At random state:- 22 Testing Accuracy and Training Accuracy are:-  95.8 and 95.8 respectively\n",
      "\n",
      " At random state:- 23 Testing Accuracy and Training Accuracy are:-  95.8 and 95.8 respectively\n",
      "\n",
      " At random state:- 24 Testing Accuracy and Training Accuracy are:-  95.7 and 95.9 respectively\n",
      "\n",
      " At random state:- 25 Testing Accuracy and Training Accuracy are:-  95.9 and 95.8 respectively\n",
      "\n",
      " At random state:- 26 Testing Accuracy and Training Accuracy are:-  95.7 and 95.9 respectively\n",
      "\n",
      " At random state:- 27 Testing Accuracy and Training Accuracy are:-  95.7 and 95.9 respectively\n",
      "\n",
      " At random state:- 28 Testing Accuracy and Training Accuracy are:-  96.0 and 95.8 respectively\n",
      "\n",
      " At random state:- 29 Testing Accuracy and Training Accuracy are:-  95.9 and 95.8 respectively\n",
      "\n",
      " At random state:- 30 Testing Accuracy and Training Accuracy are:-  95.9 and 95.8 respectively\n",
      "\n",
      " At random state:- 31 Testing Accuracy and Training Accuracy are:-  95.7 and 95.9 respectively\n",
      "\n",
      " At random state:- 32 Testing Accuracy and Training Accuracy are:-  95.8 and 95.9 respectively\n",
      "\n",
      " At random state:- 33 Testing Accuracy and Training Accuracy are:-  95.8 and 95.8 respectively\n",
      "\n",
      " At random state:- 34 Testing Accuracy and Training Accuracy are:-  95.9 and 95.8 respectively\n",
      "\n",
      " At random state:- 35 Testing Accuracy and Training Accuracy are:-  95.9 and 95.8 respectively\n",
      "\n",
      " At random state:- 36 Testing Accuracy and Training Accuracy are:-  95.8 and 95.8 respectively\n",
      "\n",
      " At random state:- 37 Testing Accuracy and Training Accuracy are:-  95.6 and 95.9 respectively\n",
      "\n",
      " At random state:- 38 Testing Accuracy and Training Accuracy are:-  95.8 and 95.8 respectively\n",
      "\n",
      " At random state:- 39 Testing Accuracy and Training Accuracy are:-  96.0 and 95.8 respectively\n",
      "\n",
      " At random state:- 40 Testing Accuracy and Training Accuracy are:-  95.8 and 95.8 respectively\n",
      "\n",
      " At random state:- 41 Testing Accuracy and Training Accuracy are:-  95.8 and 95.8 respectively\n",
      "\n",
      " At random state:- 42 Testing Accuracy and Training Accuracy are:-  96.0 and 95.8 respectively\n",
      "\n",
      " At random state:- 43 Testing Accuracy and Training Accuracy are:-  95.8 and 95.8 respectively\n",
      "\n",
      " At random state:- 44 Testing Accuracy and Training Accuracy are:-  95.9 and 95.8 respectively\n",
      "\n",
      " At random state:- 45 Testing Accuracy and Training Accuracy are:-  95.9 and 95.8 respectively\n",
      "\n",
      " At random state:- 46 Testing Accuracy and Training Accuracy are:-  95.8 and 95.8 respectively\n",
      "\n",
      " At random state:- 47 Testing Accuracy and Training Accuracy are:-  95.9 and 95.8 respectively\n",
      "\n",
      " At random state:- 48 Testing Accuracy and Training Accuracy are:-  95.8 and 95.9 respectively\n",
      "\n",
      " At random state:- 49 Testing Accuracy and Training Accuracy are:-  95.8 and 95.8 respectively\n",
      "\n",
      " At random state:- 50 Testing Accuracy and Training Accuracy are:-  95.8 and 95.8 respectively\n",
      "\n",
      " At random state:- 51 Testing Accuracy and Training Accuracy are:-  95.6 and 95.9 respectively\n",
      "\n",
      " At random state:- 52 Testing Accuracy and Training Accuracy are:-  96.0 and 95.8 respectively\n",
      "\n",
      " At random state:- 53 Testing Accuracy and Training Accuracy are:-  95.9 and 95.8 respectively\n",
      "\n",
      " At random state:- 54 Testing Accuracy and Training Accuracy are:-  95.8 and 95.9 respectively\n",
      "\n",
      " At random state:- 55 Testing Accuracy and Training Accuracy are:-  95.8 and 95.9 respectively\n",
      "\n",
      " At random state:- 56 Testing Accuracy and Training Accuracy are:-  95.7 and 95.9 respectively\n",
      "\n",
      " At random state:- 57 Testing Accuracy and Training Accuracy are:-  95.8 and 95.8 respectively\n",
      "\n",
      " At random state:- 58 Testing Accuracy and Training Accuracy are:-  95.8 and 95.8 respectively\n",
      "\n",
      " At random state:- 59 Testing Accuracy and Training Accuracy are:-  95.8 and 95.9 respectively\n",
      "\n",
      " At random state:- 60 Testing Accuracy and Training Accuracy are:-  95.8 and 95.9 respectively\n",
      "\n",
      " At random state:- 61 Testing Accuracy and Training Accuracy are:-  95.9 and 95.8 respectively\n",
      "\n",
      " At random state:- 62 Testing Accuracy and Training Accuracy are:-  95.9 and 95.8 respectively\n",
      "\n",
      " At random state:- 63 Testing Accuracy and Training Accuracy are:-  95.7 and 95.9 respectively\n",
      "\n",
      " At random state:- 64 Testing Accuracy and Training Accuracy are:-  96.0 and 95.8 respectively\n",
      "\n",
      " At random state:- 65 Testing Accuracy and Training Accuracy are:-  96.0 and 95.8 respectively\n",
      "\n",
      " At random state:- 66 Testing Accuracy and Training Accuracy are:-  95.9 and 95.8 respectively\n",
      "\n",
      " At random state:- 67 Testing Accuracy and Training Accuracy are:-  95.9 and 95.8 respectively\n",
      "\n",
      " At random state:- 68 Testing Accuracy and Training Accuracy are:-  95.8 and 95.8 respectively\n",
      "\n",
      " At random state:- 69 Testing Accuracy and Training Accuracy are:-  95.8 and 95.9 respectively\n",
      "\n",
      " At random state:- 70 Testing Accuracy and Training Accuracy are:-  95.9 and 95.8 respectively\n",
      "\n",
      " At random state:- 71 Testing Accuracy and Training Accuracy are:-  95.7 and 95.9 respectively\n",
      "\n",
      " At random state:- 72 Testing Accuracy and Training Accuracy are:-  96.0 and 95.8 respectively\n",
      "\n",
      " At random state:- 73 Testing Accuracy and Training Accuracy are:-  95.9 and 95.8 respectively\n",
      "\n",
      " At random state:- 74 Testing Accuracy and Training Accuracy are:-  95.8 and 95.8 respectively\n",
      "\n",
      " At random state:- 75 Testing Accuracy and Training Accuracy are:-  95.8 and 95.9 respectively\n",
      "\n",
      " At random state:- 76 Testing Accuracy and Training Accuracy are:-  95.8 and 95.9 respectively\n",
      "\n",
      " At random state:- 77 Testing Accuracy and Training Accuracy are:-  95.9 and 95.8 respectively\n",
      "\n",
      " At random state:- 78 Testing Accuracy and Training Accuracy are:-  95.9 and 95.8 respectively\n",
      "\n",
      " At random state:- 79 Testing Accuracy and Training Accuracy are:-  95.8 and 95.8 respectively\n",
      "\n",
      " At random state:- 80 Testing Accuracy and Training Accuracy are:-  95.8 and 95.9 respectively\n",
      "\n",
      " At random state:- 81 Testing Accuracy and Training Accuracy are:-  96.0 and 95.8 respectively\n",
      "\n",
      " At random state:- 82 Testing Accuracy and Training Accuracy are:-  95.9 and 95.8 respectively\n",
      "\n",
      " At random state:- 83 Testing Accuracy and Training Accuracy are:-  96.0 and 95.8 respectively\n",
      "\n",
      " At random state:- 84 Testing Accuracy and Training Accuracy are:-  96.0 and 95.8 respectively\n",
      "\n",
      " At random state:- 85 Testing Accuracy and Training Accuracy are:-  95.9 and 95.8 respectively\n",
      "\n",
      " At random state:- 86 Testing Accuracy and Training Accuracy are:-  96.0 and 95.8 respectively\n",
      "\n",
      " At random state:- 87 Testing Accuracy and Training Accuracy are:-  95.8 and 95.9 respectively\n",
      "\n",
      " At random state:- 88 Testing Accuracy and Training Accuracy are:-  96.1 and 95.8 respectively\n",
      "\n",
      " At random state:- 89 Testing Accuracy and Training Accuracy are:-  95.9 and 95.8 respectively\n",
      "\n",
      " At random state:- 90 Testing Accuracy and Training Accuracy are:-  95.9 and 95.8 respectively\n",
      "\n",
      " At random state:- 91 Testing Accuracy and Training Accuracy are:-  95.9 and 95.8 respectively\n",
      "\n",
      " At random state:- 92 Testing Accuracy and Training Accuracy are:-  95.9 and 95.8 respectively\n",
      "\n",
      " At random state:- 93 Testing Accuracy and Training Accuracy are:-  95.8 and 95.9 respectively\n",
      "\n",
      " At random state:- 94 Testing Accuracy and Training Accuracy are:-  95.9 and 95.8 respectively\n",
      "\n",
      " At random state:- 95 Testing Accuracy and Training Accuracy are:-  95.8 and 95.9 respectively\n",
      "\n",
      " At random state:- 96 Testing Accuracy and Training Accuracy are:-  95.9 and 95.8 respectively\n",
      "\n",
      " At random state:- 97 Testing Accuracy and Training Accuracy are:-  95.9 and 95.8 respectively\n",
      "\n",
      " At random state:- 98 Testing Accuracy and Training Accuracy are:-  95.8 and 95.8 respectively\n",
      "\n",
      " At random state:- 99 Testing Accuracy and Training Accuracy are:-  95.8 and 95.8 respectively\n",
      "\n",
      " At random state:- 100 Testing Accuracy and Training Accuracy are:-  95.7 and 95.9 respectively\n",
      "\n",
      " At random state:- 101 Testing Accuracy and Training Accuracy are:-  95.8 and 95.9 respectively\n",
      "\n",
      " At random state:- 102 Testing Accuracy and Training Accuracy are:-  95.9 and 95.8 respectively\n",
      "\n",
      " At random state:- 103 Testing Accuracy and Training Accuracy are:-  95.8 and 95.8 respectively\n",
      "\n",
      " At random state:- 104 Testing Accuracy and Training Accuracy are:-  95.7 and 95.8 respectively\n",
      "\n",
      " At random state:- 105 Testing Accuracy and Training Accuracy are:-  95.9 and 95.8 respectively\n",
      "\n",
      " At random state:- 106 Testing Accuracy and Training Accuracy are:-  95.9 and 95.8 respectively\n",
      "\n",
      " At random state:- 107 Testing Accuracy and Training Accuracy are:-  95.8 and 95.9 respectively\n",
      "\n",
      " At random state:- 108 Testing Accuracy and Training Accuracy are:-  95.7 and 95.9 respectively\n",
      "\n",
      " At random state:- 109 Testing Accuracy and Training Accuracy are:-  96.0 and 95.8 respectively\n",
      "\n",
      " At random state:- 110 Testing Accuracy and Training Accuracy are:-  95.8 and 95.8 respectively\n",
      "\n",
      " At random state:- 111 Testing Accuracy and Training Accuracy are:-  95.9 and 95.8 respectively\n",
      "\n",
      " At random state:- 112 Testing Accuracy and Training Accuracy are:-  95.7 and 95.9 respectively\n",
      "\n",
      " At random state:- 113 Testing Accuracy and Training Accuracy are:-  95.8 and 95.8 respectively\n",
      "\n",
      " At random state:- 114 Testing Accuracy and Training Accuracy are:-  95.9 and 95.8 respectively\n",
      "\n",
      " At random state:- 115 Testing Accuracy and Training Accuracy are:-  95.9 and 95.8 respectively\n",
      "\n",
      " At random state:- 116 Testing Accuracy and Training Accuracy are:-  95.8 and 95.8 respectively\n",
      "\n",
      " At random state:- 117 Testing Accuracy and Training Accuracy are:-  95.8 and 95.8 respectively\n",
      "\n",
      " At random state:- 118 Testing Accuracy and Training Accuracy are:-  95.8 and 95.8 respectively\n",
      "\n",
      " At random state:- 119 Testing Accuracy and Training Accuracy are:-  95.9 and 95.8 respectively\n",
      "\n",
      " At random state:- 120 Testing Accuracy and Training Accuracy are:-  95.9 and 95.8 respectively\n",
      "\n",
      " At random state:- 121 Testing Accuracy and Training Accuracy are:-  95.9 and 95.8 respectively\n",
      "\n",
      " At random state:- 122 Testing Accuracy and Training Accuracy are:-  95.8 and 95.9 respectively\n",
      "\n",
      " At random state:- 123 Testing Accuracy and Training Accuracy are:-  96.0 and 95.8 respectively\n",
      "\n",
      " At random state:- 124 Testing Accuracy and Training Accuracy are:-  96.0 and 95.8 respectively\n",
      "\n",
      " At random state:- 125 Testing Accuracy and Training Accuracy are:-  95.7 and 95.9 respectively\n",
      "\n",
      " At random state:- 126 Testing Accuracy and Training Accuracy are:-  95.8 and 95.9 respectively\n",
      "\n",
      " At random state:- 127 Testing Accuracy and Training Accuracy are:-  95.9 and 95.8 respectively\n",
      "\n",
      " At random state:- 128 Testing Accuracy and Training Accuracy are:-  96.0 and 95.8 respectively\n",
      "\n",
      " At random state:- 129 Testing Accuracy and Training Accuracy are:-  95.9 and 95.9 respectively\n",
      "\n",
      " At random state:- 130 Testing Accuracy and Training Accuracy are:-  95.8 and 95.8 respectively\n",
      "\n",
      " At random state:- 131 Testing Accuracy and Training Accuracy are:-  95.8 and 95.9 respectively\n",
      "\n",
      " At random state:- 132 Testing Accuracy and Training Accuracy are:-  95.9 and 95.8 respectively\n",
      "\n",
      " At random state:- 133 Testing Accuracy and Training Accuracy are:-  95.8 and 95.8 respectively\n",
      "\n",
      " At random state:- 134 Testing Accuracy and Training Accuracy are:-  95.8 and 95.9 respectively\n",
      "\n",
      " At random state:- 135 Testing Accuracy and Training Accuracy are:-  95.9 and 95.8 respectively\n",
      "\n",
      " At random state:- 136 Testing Accuracy and Training Accuracy are:-  95.9 and 95.8 respectively\n",
      "\n",
      " At random state:- 137 Testing Accuracy and Training Accuracy are:-  95.7 and 95.9 respectively\n",
      "\n",
      " At random state:- 138 Testing Accuracy and Training Accuracy are:-  95.7 and 95.9 respectively\n",
      "\n",
      " At random state:- 139 Testing Accuracy and Training Accuracy are:-  95.8 and 95.8 respectively\n",
      "\n",
      " At random state:- 140 Testing Accuracy and Training Accuracy are:-  95.8 and 95.9 respectively\n",
      "\n",
      " At random state:- 141 Testing Accuracy and Training Accuracy are:-  95.7 and 95.9 respectively\n",
      "\n",
      " At random state:- 142 Testing Accuracy and Training Accuracy are:-  95.6 and 95.9 respectively\n",
      "\n",
      " At random state:- 143 Testing Accuracy and Training Accuracy are:-  95.9 and 95.8 respectively\n",
      "\n",
      " At random state:- 144 Testing Accuracy and Training Accuracy are:-  96.0 and 95.8 respectively\n",
      "\n",
      " At random state:- 145 Testing Accuracy and Training Accuracy are:-  95.6 and 95.9 respectively\n",
      "\n",
      " At random state:- 146 Testing Accuracy and Training Accuracy are:-  95.7 and 95.9 respectively\n",
      "\n",
      " At random state:- 147 Testing Accuracy and Training Accuracy are:-  95.9 and 95.8 respectively\n",
      "\n",
      " At random state:- 148 Testing Accuracy and Training Accuracy are:-  95.7 and 95.9 respectively\n",
      "\n",
      " At random state:- 149 Testing Accuracy and Training Accuracy are:-  95.7 and 95.9 respectively\n",
      "\n",
      " At random state:- 150 Testing Accuracy and Training Accuracy are:-  95.9 and 95.8 respectively\n",
      "\n",
      " At random state:- 151 Testing Accuracy and Training Accuracy are:-  95.7 and 95.9 respectively\n",
      "\n",
      " At random state:- 152 Testing Accuracy and Training Accuracy are:-  95.9 and 95.8 respectively\n",
      "\n",
      " At random state:- 153 Testing Accuracy and Training Accuracy are:-  95.8 and 95.9 respectively\n",
      "\n",
      " At random state:- 154 Testing Accuracy and Training Accuracy are:-  95.9 and 95.8 respectively\n",
      "\n",
      " At random state:- 155 Testing Accuracy and Training Accuracy are:-  95.8 and 95.8 respectively\n",
      "\n",
      " At random state:- 156 Testing Accuracy and Training Accuracy are:-  95.9 and 95.8 respectively\n",
      "\n",
      " At random state:- 157 Testing Accuracy and Training Accuracy are:-  95.9 and 95.8 respectively\n",
      "\n",
      " At random state:- 158 Testing Accuracy and Training Accuracy are:-  95.8 and 95.9 respectively\n",
      "\n",
      " At random state:- 159 Testing Accuracy and Training Accuracy are:-  95.9 and 95.8 respectively\n",
      "\n",
      " At random state:- 160 Testing Accuracy and Training Accuracy are:-  95.9 and 95.9 respectively\n",
      "\n",
      " At random state:- 161 Testing Accuracy and Training Accuracy are:-  95.8 and 95.8 respectively\n",
      "\n",
      " At random state:- 162 Testing Accuracy and Training Accuracy are:-  95.8 and 95.8 respectively\n",
      "\n",
      " At random state:- 163 Testing Accuracy and Training Accuracy are:-  95.8 and 95.8 respectively\n",
      "\n",
      " At random state:- 164 Testing Accuracy and Training Accuracy are:-  95.8 and 95.9 respectively\n",
      "\n",
      " At random state:- 165 Testing Accuracy and Training Accuracy are:-  95.7 and 95.9 respectively\n",
      "\n",
      " At random state:- 166 Testing Accuracy and Training Accuracy are:-  95.9 and 95.8 respectively\n",
      "\n",
      " At random state:- 167 Testing Accuracy and Training Accuracy are:-  95.8 and 95.8 respectively\n",
      "\n",
      " At random state:- 168 Testing Accuracy and Training Accuracy are:-  95.8 and 95.8 respectively\n",
      "\n",
      " At random state:- 169 Testing Accuracy and Training Accuracy are:-  95.7 and 95.8 respectively\n",
      "\n",
      " At random state:- 170 Testing Accuracy and Training Accuracy are:-  95.9 and 95.8 respectively\n",
      "\n",
      " At random state:- 171 Testing Accuracy and Training Accuracy are:-  95.9 and 95.8 respectively\n",
      "\n",
      " At random state:- 172 Testing Accuracy and Training Accuracy are:-  95.9 and 95.8 respectively\n",
      "\n",
      " At random state:- 173 Testing Accuracy and Training Accuracy are:-  96.0 and 95.8 respectively\n",
      "\n",
      " At random state:- 174 Testing Accuracy and Training Accuracy are:-  95.9 and 95.8 respectively\n",
      "\n",
      " At random state:- 175 Testing Accuracy and Training Accuracy are:-  95.8 and 95.8 respectively\n",
      "\n",
      " At random state:- 176 Testing Accuracy and Training Accuracy are:-  95.8 and 95.8 respectively\n",
      "\n",
      " At random state:- 177 Testing Accuracy and Training Accuracy are:-  95.8 and 95.8 respectively\n",
      "\n",
      " At random state:- 178 Testing Accuracy and Training Accuracy are:-  95.8 and 95.8 respectively\n",
      "\n",
      " At random state:- 179 Testing Accuracy and Training Accuracy are:-  95.8 and 95.9 respectively\n",
      "\n",
      " At random state:- 180 Testing Accuracy and Training Accuracy are:-  95.8 and 95.8 respectively\n",
      "\n",
      " At random state:- 181 Testing Accuracy and Training Accuracy are:-  95.8 and 95.8 respectively\n",
      "\n",
      " At random state:- 182 Testing Accuracy and Training Accuracy are:-  95.9 and 95.8 respectively\n",
      "\n",
      " At random state:- 183 Testing Accuracy and Training Accuracy are:-  95.8 and 95.9 respectively\n",
      "\n",
      " At random state:- 184 Testing Accuracy and Training Accuracy are:-  96.0 and 95.8 respectively\n",
      "\n",
      " At random state:- 185 Testing Accuracy and Training Accuracy are:-  96.1 and 95.8 respectively\n",
      "\n",
      " At random state:- 186 Testing Accuracy and Training Accuracy are:-  95.9 and 95.8 respectively\n",
      "\n",
      " At random state:- 187 Testing Accuracy and Training Accuracy are:-  95.9 and 95.8 respectively\n",
      "\n",
      " At random state:- 188 Testing Accuracy and Training Accuracy are:-  95.8 and 95.8 respectively\n",
      "\n",
      " At random state:- 189 Testing Accuracy and Training Accuracy are:-  95.9 and 95.8 respectively\n",
      "\n",
      " At random state:- 190 Testing Accuracy and Training Accuracy are:-  95.7 and 95.9 respectively\n",
      "\n",
      " At random state:- 191 Testing Accuracy and Training Accuracy are:-  96.0 and 95.8 respectively\n",
      "\n",
      " At random state:- 192 Testing Accuracy and Training Accuracy are:-  95.9 and 95.8 respectively\n",
      "\n",
      " At random state:- 193 Testing Accuracy and Training Accuracy are:-  95.8 and 95.9 respectively\n",
      "\n",
      " At random state:- 194 Testing Accuracy and Training Accuracy are:-  95.9 and 95.8 respectively\n",
      "\n",
      " At random state:- 195 Testing Accuracy and Training Accuracy are:-  95.8 and 95.8 respectively\n",
      "\n",
      " At random state:- 196 Testing Accuracy and Training Accuracy are:-  95.7 and 95.9 respectively\n",
      "\n",
      " At random state:- 197 Testing Accuracy and Training Accuracy are:-  95.8 and 95.8 respectively\n",
      "\n",
      " At random state:- 198 Testing Accuracy and Training Accuracy are:-  96.0 and 95.8 respectively\n",
      "\n",
      " At random state:- 199 Testing Accuracy and Training Accuracy are:-  95.8 and 95.9 respectively\n"
     ]
    }
   ],
   "source": [
    "#Using LogisticRegression to get the best Random state\n",
    "lr=LogisticRegression()\n",
    "for i in range(0,200):\n",
    "    x_train,x_test,y_train,y_test=train_test_split(X_Scaled,Y,random_state=i,test_size=0.20)\n",
    "    lr.fit(x_train,y_train)\n",
    "    pred_train=lr.predict(x_train)\n",
    "    pred_test=lr.predict(x_test)\n",
    "    print('\\n',\"At random state:-\",i,\"Testing Accuracy and Training Accuracy are:- \",round(accuracy_score(y_test,pred_test)*100,1), \"and\", round(accuracy_score(y_train,pred_train)*100,1), \"respectively\")"
   ]
  },
  {
   "cell_type": "markdown",
   "id": "fef439e3",
   "metadata": {},
   "source": [
    "The best accuracy is 96.1% at random state 88"
   ]
  },
  {
   "cell_type": "markdown",
   "id": "32679569",
   "metadata": {},
   "source": [
    "We have found best_random state value as 88. We will now create our tain_test_split using this randome_state"
   ]
  },
  {
   "cell_type": "markdown",
   "id": "1ac4ba26",
   "metadata": {},
   "source": [
    "# Creating train_test_split...."
   ]
  },
  {
   "cell_type": "code",
   "execution_count": 76,
   "id": "efad5ba2",
   "metadata": {},
   "outputs": [],
   "source": [
    "x_train,x_test,y_train,y_test=train_test_split(X_Scaled,Y,random_state=88,test_size=0.20)"
   ]
  },
  {
   "cell_type": "markdown",
   "id": "4571dac1",
   "metadata": {},
   "source": [
    "# Training Model and Metrics Measurement"
   ]
  },
  {
   "cell_type": "code",
   "execution_count": 77,
   "id": "ba516a63",
   "metadata": {},
   "outputs": [
    {
     "name": "stdout",
     "output_type": "stream",
     "text": [
      "Test_Accuracy  96.07\n",
      "Confusion Matrix  [[28741   161]\n",
      " [ 1093  1920]]\n",
      "Classification Report                precision    recall  f1-score   support\n",
      "\n",
      "           0       0.96      0.99      0.98     28902\n",
      "           1       0.92      0.64      0.75      3013\n",
      "\n",
      "    accuracy                           0.96     31915\n",
      "   macro avg       0.94      0.82      0.87     31915\n",
      "weighted avg       0.96      0.96      0.96     31915\n",
      "\n"
     ]
    }
   ],
   "source": [
    "lr=LogisticRegression()\n",
    "lr.fit(x_train,y_train)\n",
    "pred_test=lr.predict(x_test)\n",
    "pred_train=lr.predict(x_train)\n",
    "Test_Accuracy_lr= (accuracy_score(y_test,pred_test))\n",
    "Train_Accuracy_lr= (accuracy_score(y_train,pred_train))\n",
    "print(\"Test_Accuracy \",round(accuracy_score(y_test,pred_test)*100,2))#testing score\n",
    "print(\"Confusion Matrix \", confusion_matrix(y_test,pred_test))\n",
    "print(\"Classification Report \", classification_report(y_test,pred_test))"
   ]
  },
  {
   "cell_type": "markdown",
   "id": "25903265",
   "metadata": {},
   "source": [
    "LogisticRegression is producing good accuracy 96%. Now we will check Cross Validation score as well for overfitting(if exists)."
   ]
  },
  {
   "cell_type": "markdown",
   "id": "daec8cbf",
   "metadata": {},
   "source": [
    "# Cross Validation Score"
   ]
  },
  {
   "cell_type": "code",
   "execution_count": 78,
   "id": "74f944c1",
   "metadata": {},
   "outputs": [
    {
     "name": "stdout",
     "output_type": "stream",
     "text": [
      "[0.90415165 0.90417998 0.90414865 0.90414865 0.90414865]\n",
      "Cross Validation Score is  0.9041555170041183\n"
     ]
    }
   ],
   "source": [
    "#Validation accuracy\n",
    "vac=cross_val_score(lr,X,Y,cv=5)\n",
    "CV_Score_lr=vac.mean() \n",
    "print(vac)\n",
    "print(\"Cross Validation Score is \",CV_Score_lr)"
   ]
  },
  {
   "cell_type": "markdown",
   "id": "0e931163",
   "metadata": {},
   "source": [
    "# Difference between Accuracy Score and Cross Validation Score"
   ]
  },
  {
   "cell_type": "code",
   "execution_count": 79,
   "id": "d28c8940",
   "metadata": {},
   "outputs": [
    {
     "data": {
      "text/plain": [
       "0.9607081309728968"
      ]
     },
     "execution_count": 79,
     "metadata": {},
     "output_type": "execute_result"
    }
   ],
   "source": [
    "Test_Accuracy_lr"
   ]
  },
  {
   "cell_type": "code",
   "execution_count": 80,
   "id": "2a990b22",
   "metadata": {},
   "outputs": [
    {
     "data": {
      "text/plain": [
       "0.9041555170041183"
      ]
     },
     "execution_count": 80,
     "metadata": {},
     "output_type": "execute_result"
    }
   ],
   "source": [
    "CV_Score_lr"
   ]
  },
  {
   "cell_type": "code",
   "execution_count": 81,
   "id": "567c0b4e",
   "metadata": {},
   "outputs": [
    {
     "name": "stdout",
     "output_type": "stream",
     "text": [
      "Difference between Accuracy and Cross Validation Score =  0.05655261396877842\n"
     ]
    }
   ],
   "source": [
    "lr_Acc_vs_CV_Score=np.abs(Test_Accuracy_lr-CV_Score_lr)\n",
    "print(\"Difference between Accuracy and Cross Validation Score = \",lr_Acc_vs_CV_Score)"
   ]
  },
  {
   "cell_type": "markdown",
   "id": "22b9922e",
   "metadata": {},
   "source": [
    "From the above you can see that difference between Accuracy and Cross Validation score is neglible(0.057) meaning that our model is very good and not having any overfitting or underfitting problems!!\n",
    "\n",
    "We would love to improve on this Accuracy by applying the Hyperparameter Tunning, However lets see the Accuracy of other Models!"
   ]
  },
  {
   "cell_type": "markdown",
   "id": "ca9f89a2",
   "metadata": {},
   "source": [
    "# 5.2 - KNN Classifier"
   ]
  },
  {
   "cell_type": "markdown",
   "id": "f380d631",
   "metadata": {},
   "source": [
    "# Best Random State"
   ]
  },
  {
   "cell_type": "code",
   "execution_count": 94,
   "id": "e43b1a3f",
   "metadata": {},
   "outputs": [
    {
     "name": "stdout",
     "output_type": "stream",
     "text": [
      "\n",
      " At random state:- 0 Testing Accuracy and Training Accuracy are:-  95.5 and 96.0 respectively\n",
      "\n",
      " At random state:- 1 Testing Accuracy and Training Accuracy are:-  95.7 and 95.9 respectively\n",
      "\n",
      " At random state:- 2 Testing Accuracy and Training Accuracy are:-  95.6 and 96.0 respectively\n",
      "\n",
      " At random state:- 3 Testing Accuracy and Training Accuracy are:-  95.8 and 95.9 respectively\n",
      "\n",
      " At random state:- 4 Testing Accuracy and Training Accuracy are:-  95.6 and 95.9 respectively\n"
     ]
    },
    {
     "ename": "KeyboardInterrupt",
     "evalue": "",
     "output_type": "error",
     "traceback": [
      "\u001b[1;31m---------------------------------------------------------------------------\u001b[0m",
      "\u001b[1;31mKeyboardInterrupt\u001b[0m                         Traceback (most recent call last)",
      "Input \u001b[1;32mIn [94]\u001b[0m, in \u001b[0;36m<cell line: 3>\u001b[1;34m()\u001b[0m\n\u001b[0;32m      4\u001b[0m x_train,x_test,y_train,y_test\u001b[38;5;241m=\u001b[39mtrain_test_split(X_Scaled,Y,random_state\u001b[38;5;241m=\u001b[39mi,test_size\u001b[38;5;241m=\u001b[39m\u001b[38;5;241m0.20\u001b[39m)\n\u001b[0;32m      5\u001b[0m knn\u001b[38;5;241m.\u001b[39mfit(x_train,y_train)\n\u001b[1;32m----> 6\u001b[0m pred_train\u001b[38;5;241m=\u001b[39m\u001b[43mknn\u001b[49m\u001b[38;5;241;43m.\u001b[39;49m\u001b[43mpredict\u001b[49m\u001b[43m(\u001b[49m\u001b[43mx_train\u001b[49m\u001b[43m)\u001b[49m\n\u001b[0;32m      7\u001b[0m pred_test\u001b[38;5;241m=\u001b[39mknn\u001b[38;5;241m.\u001b[39mpredict(x_test)\n\u001b[0;32m      8\u001b[0m \u001b[38;5;28mprint\u001b[39m(\u001b[38;5;124m'\u001b[39m\u001b[38;5;130;01m\\n\u001b[39;00m\u001b[38;5;124m'\u001b[39m,\u001b[38;5;124m\"\u001b[39m\u001b[38;5;124mAt random state:-\u001b[39m\u001b[38;5;124m\"\u001b[39m,i,\u001b[38;5;124m\"\u001b[39m\u001b[38;5;124mTesting Accuracy and Training Accuracy are:- \u001b[39m\u001b[38;5;124m\"\u001b[39m,\u001b[38;5;28mround\u001b[39m(accuracy_score(y_test,pred_test)\u001b[38;5;241m*\u001b[39m\u001b[38;5;241m100\u001b[39m,\u001b[38;5;241m1\u001b[39m), \u001b[38;5;124m\"\u001b[39m\u001b[38;5;124mand\u001b[39m\u001b[38;5;124m\"\u001b[39m, \u001b[38;5;28mround\u001b[39m(accuracy_score(y_train,pred_train)\u001b[38;5;241m*\u001b[39m\u001b[38;5;241m100\u001b[39m,\u001b[38;5;241m1\u001b[39m), \u001b[38;5;124m\"\u001b[39m\u001b[38;5;124mrespectively\u001b[39m\u001b[38;5;124m\"\u001b[39m)\n",
      "File \u001b[1;32m~\\anaconda3\\lib\\site-packages\\sklearn\\neighbors\\_classification.py:226\u001b[0m, in \u001b[0;36mKNeighborsClassifier.predict\u001b[1;34m(self, X)\u001b[0m\n\u001b[0;32m    210\u001b[0m \u001b[38;5;124;03m\"\"\"Predict the class labels for the provided data.\u001b[39;00m\n\u001b[0;32m    211\u001b[0m \n\u001b[0;32m    212\u001b[0m \u001b[38;5;124;03mParameters\u001b[39;00m\n\u001b[1;32m   (...)\u001b[0m\n\u001b[0;32m    221\u001b[0m \u001b[38;5;124;03m    Class labels for each data sample.\u001b[39;00m\n\u001b[0;32m    222\u001b[0m \u001b[38;5;124;03m\"\"\"\u001b[39;00m\n\u001b[0;32m    223\u001b[0m \u001b[38;5;28;01mif\u001b[39;00m \u001b[38;5;28mself\u001b[39m\u001b[38;5;241m.\u001b[39mweights \u001b[38;5;241m==\u001b[39m \u001b[38;5;124m\"\u001b[39m\u001b[38;5;124muniform\u001b[39m\u001b[38;5;124m\"\u001b[39m:\n\u001b[0;32m    224\u001b[0m     \u001b[38;5;66;03m# In that case, we do not need the distances to perform\u001b[39;00m\n\u001b[0;32m    225\u001b[0m     \u001b[38;5;66;03m# the weighting so we do not compute them.\u001b[39;00m\n\u001b[1;32m--> 226\u001b[0m     neigh_ind \u001b[38;5;241m=\u001b[39m \u001b[38;5;28;43mself\u001b[39;49m\u001b[38;5;241;43m.\u001b[39;49m\u001b[43mkneighbors\u001b[49m\u001b[43m(\u001b[49m\u001b[43mX\u001b[49m\u001b[43m,\u001b[49m\u001b[43m \u001b[49m\u001b[43mreturn_distance\u001b[49m\u001b[38;5;241;43m=\u001b[39;49m\u001b[38;5;28;43;01mFalse\u001b[39;49;00m\u001b[43m)\u001b[49m\n\u001b[0;32m    227\u001b[0m     neigh_dist \u001b[38;5;241m=\u001b[39m \u001b[38;5;28;01mNone\u001b[39;00m\n\u001b[0;32m    228\u001b[0m \u001b[38;5;28;01melse\u001b[39;00m:\n",
      "File \u001b[1;32m~\\anaconda3\\lib\\site-packages\\sklearn\\neighbors\\_base.py:814\u001b[0m, in \u001b[0;36mKNeighborsMixin.kneighbors\u001b[1;34m(self, X, n_neighbors, return_distance)\u001b[0m\n\u001b[0;32m    808\u001b[0m     \u001b[38;5;28;01mif\u001b[39;00m issparse(X):\n\u001b[0;32m    809\u001b[0m         \u001b[38;5;28;01mraise\u001b[39;00m \u001b[38;5;167;01mValueError\u001b[39;00m(\n\u001b[0;32m    810\u001b[0m             \u001b[38;5;124m\"\u001b[39m\u001b[38;5;132;01m%s\u001b[39;00m\u001b[38;5;124m does not work with sparse matrices. Densify the data, \u001b[39m\u001b[38;5;124m\"\u001b[39m\n\u001b[0;32m    811\u001b[0m             \u001b[38;5;124m\"\u001b[39m\u001b[38;5;124mor set algorithm=\u001b[39m\u001b[38;5;124m'\u001b[39m\u001b[38;5;124mbrute\u001b[39m\u001b[38;5;124m'\u001b[39m\u001b[38;5;124m\"\u001b[39m\n\u001b[0;32m    812\u001b[0m             \u001b[38;5;241m%\u001b[39m \u001b[38;5;28mself\u001b[39m\u001b[38;5;241m.\u001b[39m_fit_method\n\u001b[0;32m    813\u001b[0m         )\n\u001b[1;32m--> 814\u001b[0m     chunked_results \u001b[38;5;241m=\u001b[39m \u001b[43mParallel\u001b[49m\u001b[43m(\u001b[49m\u001b[43mn_jobs\u001b[49m\u001b[43m,\u001b[49m\u001b[43m \u001b[49m\u001b[43mprefer\u001b[49m\u001b[38;5;241;43m=\u001b[39;49m\u001b[38;5;124;43m\"\u001b[39;49m\u001b[38;5;124;43mthreads\u001b[39;49m\u001b[38;5;124;43m\"\u001b[39;49m\u001b[43m)\u001b[49m\u001b[43m(\u001b[49m\n\u001b[0;32m    815\u001b[0m \u001b[43m        \u001b[49m\u001b[43mdelayed\u001b[49m\u001b[43m(\u001b[49m\u001b[43m_tree_query_parallel_helper\u001b[49m\u001b[43m)\u001b[49m\u001b[43m(\u001b[49m\n\u001b[0;32m    816\u001b[0m \u001b[43m            \u001b[49m\u001b[38;5;28;43mself\u001b[39;49m\u001b[38;5;241;43m.\u001b[39;49m\u001b[43m_tree\u001b[49m\u001b[43m,\u001b[49m\u001b[43m \u001b[49m\u001b[43mX\u001b[49m\u001b[43m[\u001b[49m\u001b[43ms\u001b[49m\u001b[43m]\u001b[49m\u001b[43m,\u001b[49m\u001b[43m \u001b[49m\u001b[43mn_neighbors\u001b[49m\u001b[43m,\u001b[49m\u001b[43m \u001b[49m\u001b[43mreturn_distance\u001b[49m\n\u001b[0;32m    817\u001b[0m \u001b[43m        \u001b[49m\u001b[43m)\u001b[49m\n\u001b[0;32m    818\u001b[0m \u001b[43m        \u001b[49m\u001b[38;5;28;43;01mfor\u001b[39;49;00m\u001b[43m \u001b[49m\u001b[43ms\u001b[49m\u001b[43m \u001b[49m\u001b[38;5;129;43;01min\u001b[39;49;00m\u001b[43m \u001b[49m\u001b[43mgen_even_slices\u001b[49m\u001b[43m(\u001b[49m\u001b[43mX\u001b[49m\u001b[38;5;241;43m.\u001b[39;49m\u001b[43mshape\u001b[49m\u001b[43m[\u001b[49m\u001b[38;5;241;43m0\u001b[39;49m\u001b[43m]\u001b[49m\u001b[43m,\u001b[49m\u001b[43m \u001b[49m\u001b[43mn_jobs\u001b[49m\u001b[43m)\u001b[49m\n\u001b[0;32m    819\u001b[0m \u001b[43m    \u001b[49m\u001b[43m)\u001b[49m\n\u001b[0;32m    820\u001b[0m \u001b[38;5;28;01melse\u001b[39;00m:\n\u001b[0;32m    821\u001b[0m     \u001b[38;5;28;01mraise\u001b[39;00m \u001b[38;5;167;01mValueError\u001b[39;00m(\u001b[38;5;124m\"\u001b[39m\u001b[38;5;124minternal: _fit_method not recognized\u001b[39m\u001b[38;5;124m\"\u001b[39m)\n",
      "File \u001b[1;32m~\\anaconda3\\lib\\site-packages\\joblib\\parallel.py:1043\u001b[0m, in \u001b[0;36mParallel.__call__\u001b[1;34m(self, iterable)\u001b[0m\n\u001b[0;32m   1034\u001b[0m \u001b[38;5;28;01mtry\u001b[39;00m:\n\u001b[0;32m   1035\u001b[0m     \u001b[38;5;66;03m# Only set self._iterating to True if at least a batch\u001b[39;00m\n\u001b[0;32m   1036\u001b[0m     \u001b[38;5;66;03m# was dispatched. In particular this covers the edge\u001b[39;00m\n\u001b[1;32m   (...)\u001b[0m\n\u001b[0;32m   1040\u001b[0m     \u001b[38;5;66;03m# was very quick and its callback already dispatched all the\u001b[39;00m\n\u001b[0;32m   1041\u001b[0m     \u001b[38;5;66;03m# remaining jobs.\u001b[39;00m\n\u001b[0;32m   1042\u001b[0m     \u001b[38;5;28mself\u001b[39m\u001b[38;5;241m.\u001b[39m_iterating \u001b[38;5;241m=\u001b[39m \u001b[38;5;28;01mFalse\u001b[39;00m\n\u001b[1;32m-> 1043\u001b[0m     \u001b[38;5;28;01mif\u001b[39;00m \u001b[38;5;28;43mself\u001b[39;49m\u001b[38;5;241;43m.\u001b[39;49m\u001b[43mdispatch_one_batch\u001b[49m\u001b[43m(\u001b[49m\u001b[43miterator\u001b[49m\u001b[43m)\u001b[49m:\n\u001b[0;32m   1044\u001b[0m         \u001b[38;5;28mself\u001b[39m\u001b[38;5;241m.\u001b[39m_iterating \u001b[38;5;241m=\u001b[39m \u001b[38;5;28mself\u001b[39m\u001b[38;5;241m.\u001b[39m_original_iterator \u001b[38;5;129;01mis\u001b[39;00m \u001b[38;5;129;01mnot\u001b[39;00m \u001b[38;5;28;01mNone\u001b[39;00m\n\u001b[0;32m   1046\u001b[0m     \u001b[38;5;28;01mwhile\u001b[39;00m \u001b[38;5;28mself\u001b[39m\u001b[38;5;241m.\u001b[39mdispatch_one_batch(iterator):\n",
      "File \u001b[1;32m~\\anaconda3\\lib\\site-packages\\joblib\\parallel.py:861\u001b[0m, in \u001b[0;36mParallel.dispatch_one_batch\u001b[1;34m(self, iterator)\u001b[0m\n\u001b[0;32m    859\u001b[0m     \u001b[38;5;28;01mreturn\u001b[39;00m \u001b[38;5;28;01mFalse\u001b[39;00m\n\u001b[0;32m    860\u001b[0m \u001b[38;5;28;01melse\u001b[39;00m:\n\u001b[1;32m--> 861\u001b[0m     \u001b[38;5;28;43mself\u001b[39;49m\u001b[38;5;241;43m.\u001b[39;49m\u001b[43m_dispatch\u001b[49m\u001b[43m(\u001b[49m\u001b[43mtasks\u001b[49m\u001b[43m)\u001b[49m\n\u001b[0;32m    862\u001b[0m     \u001b[38;5;28;01mreturn\u001b[39;00m \u001b[38;5;28;01mTrue\u001b[39;00m\n",
      "File \u001b[1;32m~\\anaconda3\\lib\\site-packages\\joblib\\parallel.py:779\u001b[0m, in \u001b[0;36mParallel._dispatch\u001b[1;34m(self, batch)\u001b[0m\n\u001b[0;32m    777\u001b[0m \u001b[38;5;28;01mwith\u001b[39;00m \u001b[38;5;28mself\u001b[39m\u001b[38;5;241m.\u001b[39m_lock:\n\u001b[0;32m    778\u001b[0m     job_idx \u001b[38;5;241m=\u001b[39m \u001b[38;5;28mlen\u001b[39m(\u001b[38;5;28mself\u001b[39m\u001b[38;5;241m.\u001b[39m_jobs)\n\u001b[1;32m--> 779\u001b[0m     job \u001b[38;5;241m=\u001b[39m \u001b[38;5;28;43mself\u001b[39;49m\u001b[38;5;241;43m.\u001b[39;49m\u001b[43m_backend\u001b[49m\u001b[38;5;241;43m.\u001b[39;49m\u001b[43mapply_async\u001b[49m\u001b[43m(\u001b[49m\u001b[43mbatch\u001b[49m\u001b[43m,\u001b[49m\u001b[43m \u001b[49m\u001b[43mcallback\u001b[49m\u001b[38;5;241;43m=\u001b[39;49m\u001b[43mcb\u001b[49m\u001b[43m)\u001b[49m\n\u001b[0;32m    780\u001b[0m     \u001b[38;5;66;03m# A job can complete so quickly than its callback is\u001b[39;00m\n\u001b[0;32m    781\u001b[0m     \u001b[38;5;66;03m# called before we get here, causing self._jobs to\u001b[39;00m\n\u001b[0;32m    782\u001b[0m     \u001b[38;5;66;03m# grow. To ensure correct results ordering, .insert is\u001b[39;00m\n\u001b[0;32m    783\u001b[0m     \u001b[38;5;66;03m# used (rather than .append) in the following line\u001b[39;00m\n\u001b[0;32m    784\u001b[0m     \u001b[38;5;28mself\u001b[39m\u001b[38;5;241m.\u001b[39m_jobs\u001b[38;5;241m.\u001b[39minsert(job_idx, job)\n",
      "File \u001b[1;32m~\\anaconda3\\lib\\site-packages\\joblib\\_parallel_backends.py:208\u001b[0m, in \u001b[0;36mSequentialBackend.apply_async\u001b[1;34m(self, func, callback)\u001b[0m\n\u001b[0;32m    206\u001b[0m \u001b[38;5;28;01mdef\u001b[39;00m \u001b[38;5;21mapply_async\u001b[39m(\u001b[38;5;28mself\u001b[39m, func, callback\u001b[38;5;241m=\u001b[39m\u001b[38;5;28;01mNone\u001b[39;00m):\n\u001b[0;32m    207\u001b[0m     \u001b[38;5;124;03m\"\"\"Schedule a func to be run\"\"\"\u001b[39;00m\n\u001b[1;32m--> 208\u001b[0m     result \u001b[38;5;241m=\u001b[39m \u001b[43mImmediateResult\u001b[49m\u001b[43m(\u001b[49m\u001b[43mfunc\u001b[49m\u001b[43m)\u001b[49m\n\u001b[0;32m    209\u001b[0m     \u001b[38;5;28;01mif\u001b[39;00m callback:\n\u001b[0;32m    210\u001b[0m         callback(result)\n",
      "File \u001b[1;32m~\\anaconda3\\lib\\site-packages\\joblib\\_parallel_backends.py:572\u001b[0m, in \u001b[0;36mImmediateResult.__init__\u001b[1;34m(self, batch)\u001b[0m\n\u001b[0;32m    569\u001b[0m \u001b[38;5;28;01mdef\u001b[39;00m \u001b[38;5;21m__init__\u001b[39m(\u001b[38;5;28mself\u001b[39m, batch):\n\u001b[0;32m    570\u001b[0m     \u001b[38;5;66;03m# Don't delay the application, to avoid keeping the input\u001b[39;00m\n\u001b[0;32m    571\u001b[0m     \u001b[38;5;66;03m# arguments in memory\u001b[39;00m\n\u001b[1;32m--> 572\u001b[0m     \u001b[38;5;28mself\u001b[39m\u001b[38;5;241m.\u001b[39mresults \u001b[38;5;241m=\u001b[39m \u001b[43mbatch\u001b[49m\u001b[43m(\u001b[49m\u001b[43m)\u001b[49m\n",
      "File \u001b[1;32m~\\anaconda3\\lib\\site-packages\\joblib\\parallel.py:262\u001b[0m, in \u001b[0;36mBatchedCalls.__call__\u001b[1;34m(self)\u001b[0m\n\u001b[0;32m    258\u001b[0m \u001b[38;5;28;01mdef\u001b[39;00m \u001b[38;5;21m__call__\u001b[39m(\u001b[38;5;28mself\u001b[39m):\n\u001b[0;32m    259\u001b[0m     \u001b[38;5;66;03m# Set the default nested backend to self._backend but do not set the\u001b[39;00m\n\u001b[0;32m    260\u001b[0m     \u001b[38;5;66;03m# change the default number of processes to -1\u001b[39;00m\n\u001b[0;32m    261\u001b[0m     \u001b[38;5;28;01mwith\u001b[39;00m parallel_backend(\u001b[38;5;28mself\u001b[39m\u001b[38;5;241m.\u001b[39m_backend, n_jobs\u001b[38;5;241m=\u001b[39m\u001b[38;5;28mself\u001b[39m\u001b[38;5;241m.\u001b[39m_n_jobs):\n\u001b[1;32m--> 262\u001b[0m         \u001b[38;5;28;01mreturn\u001b[39;00m [func(\u001b[38;5;241m*\u001b[39margs, \u001b[38;5;241m*\u001b[39m\u001b[38;5;241m*\u001b[39mkwargs)\n\u001b[0;32m    263\u001b[0m                 \u001b[38;5;28;01mfor\u001b[39;00m func, args, kwargs \u001b[38;5;129;01min\u001b[39;00m \u001b[38;5;28mself\u001b[39m\u001b[38;5;241m.\u001b[39mitems]\n",
      "File \u001b[1;32m~\\anaconda3\\lib\\site-packages\\joblib\\parallel.py:262\u001b[0m, in \u001b[0;36m<listcomp>\u001b[1;34m(.0)\u001b[0m\n\u001b[0;32m    258\u001b[0m \u001b[38;5;28;01mdef\u001b[39;00m \u001b[38;5;21m__call__\u001b[39m(\u001b[38;5;28mself\u001b[39m):\n\u001b[0;32m    259\u001b[0m     \u001b[38;5;66;03m# Set the default nested backend to self._backend but do not set the\u001b[39;00m\n\u001b[0;32m    260\u001b[0m     \u001b[38;5;66;03m# change the default number of processes to -1\u001b[39;00m\n\u001b[0;32m    261\u001b[0m     \u001b[38;5;28;01mwith\u001b[39;00m parallel_backend(\u001b[38;5;28mself\u001b[39m\u001b[38;5;241m.\u001b[39m_backend, n_jobs\u001b[38;5;241m=\u001b[39m\u001b[38;5;28mself\u001b[39m\u001b[38;5;241m.\u001b[39m_n_jobs):\n\u001b[1;32m--> 262\u001b[0m         \u001b[38;5;28;01mreturn\u001b[39;00m [func(\u001b[38;5;241m*\u001b[39margs, \u001b[38;5;241m*\u001b[39m\u001b[38;5;241m*\u001b[39mkwargs)\n\u001b[0;32m    263\u001b[0m                 \u001b[38;5;28;01mfor\u001b[39;00m func, args, kwargs \u001b[38;5;129;01min\u001b[39;00m \u001b[38;5;28mself\u001b[39m\u001b[38;5;241m.\u001b[39mitems]\n",
      "File \u001b[1;32m~\\anaconda3\\lib\\site-packages\\sklearn\\utils\\fixes.py:117\u001b[0m, in \u001b[0;36m_FuncWrapper.__call__\u001b[1;34m(self, *args, **kwargs)\u001b[0m\n\u001b[0;32m    115\u001b[0m \u001b[38;5;28;01mdef\u001b[39;00m \u001b[38;5;21m__call__\u001b[39m(\u001b[38;5;28mself\u001b[39m, \u001b[38;5;241m*\u001b[39margs, \u001b[38;5;241m*\u001b[39m\u001b[38;5;241m*\u001b[39mkwargs):\n\u001b[0;32m    116\u001b[0m     \u001b[38;5;28;01mwith\u001b[39;00m config_context(\u001b[38;5;241m*\u001b[39m\u001b[38;5;241m*\u001b[39m\u001b[38;5;28mself\u001b[39m\u001b[38;5;241m.\u001b[39mconfig):\n\u001b[1;32m--> 117\u001b[0m         \u001b[38;5;28;01mreturn\u001b[39;00m \u001b[38;5;28mself\u001b[39m\u001b[38;5;241m.\u001b[39mfunction(\u001b[38;5;241m*\u001b[39margs, \u001b[38;5;241m*\u001b[39m\u001b[38;5;241m*\u001b[39mkwargs)\n",
      "File \u001b[1;32m~\\anaconda3\\lib\\site-packages\\sklearn\\neighbors\\_base.py:623\u001b[0m, in \u001b[0;36m_tree_query_parallel_helper\u001b[1;34m(tree, *args, **kwargs)\u001b[0m\n\u001b[0;32m    617\u001b[0m \u001b[38;5;28;01mdef\u001b[39;00m \u001b[38;5;21m_tree_query_parallel_helper\u001b[39m(tree, \u001b[38;5;241m*\u001b[39margs, \u001b[38;5;241m*\u001b[39m\u001b[38;5;241m*\u001b[39mkwargs):\n\u001b[0;32m    618\u001b[0m     \u001b[38;5;124;03m\"\"\"Helper for the Parallel calls in KNeighborsMixin.kneighbors.\u001b[39;00m\n\u001b[0;32m    619\u001b[0m \n\u001b[0;32m    620\u001b[0m \u001b[38;5;124;03m    The Cython method tree.query is not directly picklable by cloudpickle\u001b[39;00m\n\u001b[0;32m    621\u001b[0m \u001b[38;5;124;03m    under PyPy.\u001b[39;00m\n\u001b[0;32m    622\u001b[0m \u001b[38;5;124;03m    \"\"\"\u001b[39;00m\n\u001b[1;32m--> 623\u001b[0m     \u001b[38;5;28;01mreturn\u001b[39;00m tree\u001b[38;5;241m.\u001b[39mquery(\u001b[38;5;241m*\u001b[39margs, \u001b[38;5;241m*\u001b[39m\u001b[38;5;241m*\u001b[39mkwargs)\n",
      "\u001b[1;31mKeyboardInterrupt\u001b[0m: "
     ]
    }
   ],
   "source": [
    "#Using KNN Classifier to get the best Random state \n",
    "knn=KNeighborsClassifier()\n",
    "for i in range(0,51):\n",
    "    x_train,x_test,y_train,y_test=train_test_split(X_Scaled,Y,random_state=i,test_size=0.20)\n",
    "    knn.fit(x_train,y_train)\n",
    "    pred_train=knn.predict(x_train)\n",
    "    pred_test=knn.predict(x_test)\n",
    "    print('\\n',\"At random state:-\",i,\"Testing Accuracy and Training Accuracy are:- \",round(accuracy_score(y_test,pred_test)*100,1), \"and\", round(accuracy_score(y_train,pred_train)*100,1), \"respectively\")"
   ]
  },
  {
   "cell_type": "markdown",
   "id": "be8ef6f8",
   "metadata": {},
   "source": [
    "The best accuracy is 96% at random state 88"
   ]
  },
  {
   "cell_type": "markdown",
   "id": "e0fc77a0",
   "metadata": {},
   "source": [
    "We have found best_random state value as 88. We will now create our tain_test_splitusing this randome_state"
   ]
  },
  {
   "cell_type": "markdown",
   "id": "fb0549cf",
   "metadata": {},
   "source": [
    "# Creating train_test_split...."
   ]
  },
  {
   "cell_type": "code",
   "execution_count": 82,
   "id": "7a0974e6",
   "metadata": {},
   "outputs": [],
   "source": [
    "x_train,x_test,y_train,y_test=train_test_split(X_Scaled,Y,random_state=88,test_size=0.20)"
   ]
  },
  {
   "cell_type": "markdown",
   "id": "e87db362",
   "metadata": {},
   "source": [
    " # Training Model and Metrics Measurement"
   ]
  },
  {
   "cell_type": "code",
   "execution_count": 83,
   "id": "d6da5be2",
   "metadata": {},
   "outputs": [
    {
     "name": "stdout",
     "output_type": "stream",
     "text": [
      "Test_Accuracy  95.92\n",
      "Confusion Matrix  [[28693   209]\n",
      " [ 1092  1921]]\n",
      "Classification Report                precision    recall  f1-score   support\n",
      "\n",
      "           0       0.96      0.99      0.98     28902\n",
      "           1       0.90      0.64      0.75      3013\n",
      "\n",
      "    accuracy                           0.96     31915\n",
      "   macro avg       0.93      0.82      0.86     31915\n",
      "weighted avg       0.96      0.96      0.96     31915\n",
      "\n"
     ]
    }
   ],
   "source": [
    "knn=KNeighborsClassifier()\n",
    "knn.fit(x_train,y_train)\n",
    "pred_test=knn.predict(x_test)\n",
    "pred_train=knn.predict(x_train)\n",
    "Test_Accuracy_knn= (accuracy_score(y_test,pred_test))\n",
    "Train_Accuracy_knn= (accuracy_score(y_train,pred_train))\n",
    "print(\"Test_Accuracy \",round(accuracy_score(y_test,pred_test)*100,2))#testing score\n",
    "print(\"Confusion Matrix \", confusion_matrix(y_test,pred_test))\n",
    "print(\"Classification Report \", classification_report(y_test,pred_test))"
   ]
  },
  {
   "cell_type": "markdown",
   "id": "aa5908cb",
   "metadata": {},
   "source": [
    "KNeighbors is producing good accuracy 96%. Now we will check Cross Validation score as well for overfitting(if exists)."
   ]
  },
  {
   "cell_type": "markdown",
   "id": "d9d53918",
   "metadata": {},
   "source": [
    "# Cross Validation Score"
   ]
  },
  {
   "cell_type": "code",
   "execution_count": 84,
   "id": "ec5f44c4",
   "metadata": {},
   "outputs": [
    {
     "name": "stdout",
     "output_type": "stream",
     "text": [
      "[0.89396835 0.89315034 0.89471705 0.89524973 0.89484239]\n",
      "Cross Validation Score is  0.8943855739277218\n"
     ]
    }
   ],
   "source": [
    "#Validation accuracy\n",
    "vac=cross_val_score(knn,X,Y,cv=5)\n",
    "CV_Score_knn=vac.mean() \n",
    "print(vac)\n",
    "print(\"Cross Validation Score is \",CV_Score_knn)"
   ]
  },
  {
   "cell_type": "markdown",
   "id": "71551351",
   "metadata": {},
   "source": [
    "# Difference between Accuracy Score and Cross Validation Score"
   ]
  },
  {
   "cell_type": "code",
   "execution_count": 85,
   "id": "2d514964",
   "metadata": {},
   "outputs": [
    {
     "data": {
      "text/plain": [
       "0.9592354692151026"
      ]
     },
     "execution_count": 85,
     "metadata": {},
     "output_type": "execute_result"
    }
   ],
   "source": [
    "Test_Accuracy_knn"
   ]
  },
  {
   "cell_type": "code",
   "execution_count": 86,
   "id": "4100d556",
   "metadata": {},
   "outputs": [
    {
     "data": {
      "text/plain": [
       "0.8943855739277218"
      ]
     },
     "execution_count": 86,
     "metadata": {},
     "output_type": "execute_result"
    }
   ],
   "source": [
    "CV_Score_knn"
   ]
  },
  {
   "cell_type": "code",
   "execution_count": 87,
   "id": "b3f1ac6e",
   "metadata": {},
   "outputs": [
    {
     "name": "stdout",
     "output_type": "stream",
     "text": [
      "Difference between Accuracy and Cross Validation Score =  0.06484989528738083\n"
     ]
    }
   ],
   "source": [
    "knn_Acc_vs_CV_Score=np.abs(Test_Accuracy_knn-CV_Score_knn)\n",
    "print(\"Difference between Accuracy and Cross Validation Score = \",knn_Acc_vs_CV_Score)"
   ]
  },
  {
   "cell_type": "markdown",
   "id": "f901f473",
   "metadata": {},
   "source": [
    "From the above you can see that difference between Accuracy and Cross Validation score is neglible(0.065) meaning that our model is very good and not having any overfitting or underfitting problems!!\n",
    "\n",
    "We would love to improve on this Accuracy by applying the Hyperparameter Tunning, However lets see the Accuracy of other Models!"
   ]
  },
  {
   "cell_type": "markdown",
   "id": "512ada49",
   "metadata": {},
   "source": [
    "# 5.3 - GradientBoosting Classifier"
   ]
  },
  {
   "cell_type": "markdown",
   "id": "1994f3a3",
   "metadata": {},
   "source": [
    "# Best Random State "
   ]
  },
  {
   "cell_type": "code",
   "execution_count": 125,
   "id": "012cd4fe",
   "metadata": {},
   "outputs": [
    {
     "name": "stdout",
     "output_type": "stream",
     "text": [
      "\n",
      " At random state:- 0 Testing Accuracy and Training Accuracy are:-  95.7 and 95.9 respectively\n",
      "\n",
      " At random state:- 1 Testing Accuracy and Training Accuracy are:-  95.8 and 95.9 respectively\n",
      "\n",
      " At random state:- 2 Testing Accuracy and Training Accuracy are:-  95.8 and 95.9 respectively\n",
      "\n",
      " At random state:- 3 Testing Accuracy and Training Accuracy are:-  96.0 and 95.8 respectively\n",
      "\n",
      " At random state:- 4 Testing Accuracy and Training Accuracy are:-  95.8 and 95.9 respectively\n",
      "\n",
      " At random state:- 5 Testing Accuracy and Training Accuracy are:-  95.9 and 95.9 respectively\n",
      "\n",
      " At random state:- 6 Testing Accuracy and Training Accuracy are:-  95.7 and 95.9 respectively\n",
      "\n",
      " At random state:- 7 Testing Accuracy and Training Accuracy are:-  95.8 and 95.9 respectively\n",
      "\n",
      " At random state:- 8 Testing Accuracy and Training Accuracy are:-  95.8 and 95.9 respectively\n",
      "\n",
      " At random state:- 9 Testing Accuracy and Training Accuracy are:-  95.7 and 95.9 respectively\n",
      "\n",
      " At random state:- 10 Testing Accuracy and Training Accuracy are:-  96.0 and 95.8 respectively\n",
      "\n",
      " At random state:- 11 Testing Accuracy and Training Accuracy are:-  95.8 and 95.9 respectively\n",
      "\n",
      " At random state:- 12 Testing Accuracy and Training Accuracy are:-  95.8 and 95.9 respectively\n",
      "\n",
      " At random state:- 13 Testing Accuracy and Training Accuracy are:-  95.9 and 95.9 respectively\n",
      "\n",
      " At random state:- 14 Testing Accuracy and Training Accuracy are:-  95.7 and 95.9 respectively\n",
      "\n",
      " At random state:- 15 Testing Accuracy and Training Accuracy are:-  95.8 and 95.9 respectively\n",
      "\n",
      " At random state:- 16 Testing Accuracy and Training Accuracy are:-  95.7 and 95.9 respectively\n",
      "\n",
      " At random state:- 17 Testing Accuracy and Training Accuracy are:-  95.9 and 95.9 respectively\n",
      "\n",
      " At random state:- 18 Testing Accuracy and Training Accuracy are:-  95.8 and 95.9 respectively\n",
      "\n",
      " At random state:- 19 Testing Accuracy and Training Accuracy are:-  96.0 and 95.9 respectively\n",
      "\n",
      " At random state:- 20 Testing Accuracy and Training Accuracy are:-  95.8 and 95.9 respectively\n",
      "\n",
      " At random state:- 21 Testing Accuracy and Training Accuracy are:-  95.8 and 95.9 respectively\n",
      "\n",
      " At random state:- 22 Testing Accuracy and Training Accuracy are:-  95.8 and 95.9 respectively\n",
      "\n",
      " At random state:- 23 Testing Accuracy and Training Accuracy are:-  95.8 and 95.9 respectively\n",
      "\n",
      " At random state:- 24 Testing Accuracy and Training Accuracy are:-  95.7 and 95.9 respectively\n",
      "\n",
      " At random state:- 25 Testing Accuracy and Training Accuracy are:-  95.9 and 95.9 respectively\n",
      "\n",
      " At random state:- 26 Testing Accuracy and Training Accuracy are:-  95.8 and 95.9 respectively\n",
      "\n",
      " At random state:- 27 Testing Accuracy and Training Accuracy are:-  95.8 and 95.9 respectively\n",
      "\n",
      " At random state:- 28 Testing Accuracy and Training Accuracy are:-  96.1 and 95.8 respectively\n",
      "\n",
      " At random state:- 29 Testing Accuracy and Training Accuracy are:-  96.0 and 95.9 respectively\n",
      "\n",
      " At random state:- 30 Testing Accuracy and Training Accuracy are:-  95.9 and 95.9 respectively\n",
      "\n",
      " At random state:- 31 Testing Accuracy and Training Accuracy are:-  95.7 and 95.9 respectively\n",
      "\n",
      " At random state:- 32 Testing Accuracy and Training Accuracy are:-  95.8 and 95.9 respectively\n",
      "\n",
      " At random state:- 33 Testing Accuracy and Training Accuracy are:-  95.9 and 95.9 respectively\n",
      "\n",
      " At random state:- 34 Testing Accuracy and Training Accuracy are:-  95.9 and 95.9 respectively\n",
      "\n",
      " At random state:- 35 Testing Accuracy and Training Accuracy are:-  96.0 and 95.8 respectively\n",
      "\n",
      " At random state:- 36 Testing Accuracy and Training Accuracy are:-  95.9 and 95.9 respectively\n",
      "\n",
      " At random state:- 37 Testing Accuracy and Training Accuracy are:-  95.6 and 95.9 respectively\n",
      "\n",
      " At random state:- 38 Testing Accuracy and Training Accuracy are:-  95.8 and 95.9 respectively\n",
      "\n",
      " At random state:- 39 Testing Accuracy and Training Accuracy are:-  96.0 and 95.8 respectively\n",
      "\n",
      " At random state:- 40 Testing Accuracy and Training Accuracy are:-  95.8 and 95.9 respectively\n",
      "\n",
      " At random state:- 41 Testing Accuracy and Training Accuracy are:-  95.8 and 95.9 respectively\n",
      "\n",
      " At random state:- 42 Testing Accuracy and Training Accuracy are:-  96.0 and 95.8 respectively\n",
      "\n",
      " At random state:- 43 Testing Accuracy and Training Accuracy are:-  95.8 and 95.9 respectively\n",
      "\n",
      " At random state:- 44 Testing Accuracy and Training Accuracy are:-  95.9 and 95.9 respectively\n",
      "\n",
      " At random state:- 45 Testing Accuracy and Training Accuracy are:-  96.0 and 95.9 respectively\n",
      "\n",
      " At random state:- 46 Testing Accuracy and Training Accuracy are:-  95.8 and 95.9 respectively\n",
      "\n",
      " At random state:- 47 Testing Accuracy and Training Accuracy are:-  95.9 and 95.9 respectively\n",
      "\n",
      " At random state:- 48 Testing Accuracy and Training Accuracy are:-  95.8 and 95.9 respectively\n",
      "\n",
      " At random state:- 49 Testing Accuracy and Training Accuracy are:-  95.9 and 95.9 respectively\n",
      "\n",
      " At random state:- 50 Testing Accuracy and Training Accuracy are:-  95.8 and 95.9 respectively\n"
     ]
    }
   ],
   "source": [
    "#Using GradientBoosting Classifier to get the best Random state \n",
    "gb=GradientBoostingClassifier()\n",
    "for i in range(0,51):\n",
    "    x_train,x_test,y_train,y_test=train_test_split(X_Scaled,Y,random_state=i,test_size=0.20)\n",
    "    gb.fit(x_train,y_train)\n",
    "    pred_train=gb.predict(x_train)\n",
    "    pred_test=gb.predict(x_test)\n",
    "    print('\\n',\"At random state:-\",i,\"Testing Accuracy and Training Accuracy are:- \",round(accuracy_score(y_test,pred_test)*100,1), \"and\", round(accuracy_score(y_train,pred_train)*100,1), \"respectively\")"
   ]
  },
  {
   "cell_type": "markdown",
   "id": "31cc9e94",
   "metadata": {},
   "source": [
    "The best accuracy is 96% at random state 88"
   ]
  },
  {
   "cell_type": "markdown",
   "id": "49ff3ceb",
   "metadata": {},
   "source": [
    "We have found best_random state value as 88. We will now create our tain_test_split using this randome_state"
   ]
  },
  {
   "cell_type": "markdown",
   "id": "9ddf2a58",
   "metadata": {},
   "source": [
    "# Creating train_test_split...."
   ]
  },
  {
   "cell_type": "code",
   "execution_count": 88,
   "id": "02ee4fb2",
   "metadata": {},
   "outputs": [],
   "source": [
    "x_train,x_test,y_train,y_test=train_test_split(X_Scaled,Y,random_state=88,test_size=0.20)"
   ]
  },
  {
   "cell_type": "markdown",
   "id": "f7bfbc60",
   "metadata": {},
   "source": [
    "# Training Model and Metrics Measurement"
   ]
  },
  {
   "cell_type": "code",
   "execution_count": 89,
   "id": "7f863e27",
   "metadata": {},
   "outputs": [
    {
     "name": "stdout",
     "output_type": "stream",
     "text": [
      "Test_Accuracy  96.11\n",
      "Confusion Matrix  [[28733   169]\n",
      " [ 1074  1939]]\n",
      "Classification Report                precision    recall  f1-score   support\n",
      "\n",
      "           0       0.96      0.99      0.98     28902\n",
      "           1       0.92      0.64      0.76      3013\n",
      "\n",
      "    accuracy                           0.96     31915\n",
      "   macro avg       0.94      0.82      0.87     31915\n",
      "weighted avg       0.96      0.96      0.96     31915\n",
      "\n"
     ]
    }
   ],
   "source": [
    "gb=GradientBoostingClassifier()\n",
    "gb.fit(x_train,y_train)\n",
    "pred_test=gb.predict(x_test)\n",
    "pred_train=gb.predict(x_train)\n",
    "Test_Accuracy_gb= (accuracy_score(y_test,pred_test))\n",
    "Train_Accuracy_gb= (accuracy_score(y_train,pred_train))\n",
    "print(\"Test_Accuracy \",round(accuracy_score(y_test,pred_test)*100,2))#testing score\n",
    "print(\"Confusion Matrix \", confusion_matrix(y_test,pred_test))\n",
    "print(\"Classification Report \", classification_report(y_test,pred_test))"
   ]
  },
  {
   "cell_type": "markdown",
   "id": "cf944341",
   "metadata": {},
   "source": [
    "GradientBoosting Classifier is producing good accuracy = 96%. Now we will check Cross Validation score as well for overfitting(if exists)."
   ]
  },
  {
   "cell_type": "markdown",
   "id": "8ca81d38",
   "metadata": {},
   "source": [
    "# Cross Validation Score"
   ]
  },
  {
   "cell_type": "code",
   "execution_count": 90,
   "id": "77828b6c",
   "metadata": {},
   "outputs": [
    {
     "name": "stdout",
     "output_type": "stream",
     "text": [
      "[0.95757481 0.95867018 0.9594222  0.95845084 0.95882685]\n",
      "Cross Validation Score is  0.9585889730224475\n"
     ]
    }
   ],
   "source": [
    "#Validation accuracy\n",
    "vac=cross_val_score(gb,X,Y,cv=5)\n",
    "CV_Score_gb=vac.mean() \n",
    "print(vac)\n",
    "print(\"Cross Validation Score is \",CV_Score_gb)"
   ]
  },
  {
   "cell_type": "markdown",
   "id": "d46cff61",
   "metadata": {},
   "source": [
    "# Difference between Accuracy Score and Cross Validation Score"
   ]
  },
  {
   "cell_type": "code",
   "execution_count": 91,
   "id": "c1947ecc",
   "metadata": {},
   "outputs": [
    {
     "data": {
      "text/plain": [
       "0.9610527964906783"
      ]
     },
     "execution_count": 91,
     "metadata": {},
     "output_type": "execute_result"
    }
   ],
   "source": [
    "Test_Accuracy_gb"
   ]
  },
  {
   "cell_type": "code",
   "execution_count": 92,
   "id": "8747b13c",
   "metadata": {},
   "outputs": [
    {
     "data": {
      "text/plain": [
       "0.9585889730224475"
      ]
     },
     "execution_count": 92,
     "metadata": {},
     "output_type": "execute_result"
    }
   ],
   "source": [
    "CV_Score_gb"
   ]
  },
  {
   "cell_type": "code",
   "execution_count": 93,
   "id": "be768190",
   "metadata": {},
   "outputs": [
    {
     "name": "stdout",
     "output_type": "stream",
     "text": [
      "Difference between Accuracy and Cross Validation Score =  0.002463823468230819\n"
     ]
    }
   ],
   "source": [
    "gb_Acc_vs_CV_Score=np.abs(Test_Accuracy_gb-CV_Score_gb)\n",
    "print(\"Difference between Accuracy and Cross Validation Score = \",gb_Acc_vs_CV_Score)"
   ]
  },
  {
   "cell_type": "markdown",
   "id": "e1d90f5a",
   "metadata": {},
   "source": [
    "From the above you can see that difference between Accuracy and Cross Validation score is low(0.0025) meaning that our model is very good and not having any overfitting or underfitting problems!!\n",
    "\n",
    "We would love to improve on this Accuracy by applying the Hyperparameter Tunning, However lets see the Accuracy of other Models!"
   ]
  },
  {
   "cell_type": "markdown",
   "id": "04c01f25",
   "metadata": {},
   "source": [
    "# 5.4 - XGBoost Classifier"
   ]
  },
  {
   "cell_type": "markdown",
   "id": "2123e9d8",
   "metadata": {},
   "source": [
    "# Best Random State "
   ]
  },
  {
   "cell_type": "code",
   "execution_count": 132,
   "id": "84b014a6",
   "metadata": {},
   "outputs": [
    {
     "name": "stdout",
     "output_type": "stream",
     "text": [
      "\n",
      " At random state:- 0 Testing Accuracy and Training Accuracy are:-  95.7 and 96.0 respectively\n",
      "\n",
      " At random state:- 1 Testing Accuracy and Training Accuracy are:-  95.8 and 96.0 respectively\n",
      "\n",
      " At random state:- 2 Testing Accuracy and Training Accuracy are:-  95.8 and 96.0 respectively\n",
      "\n",
      " At random state:- 3 Testing Accuracy and Training Accuracy are:-  96.0 and 95.9 respectively\n",
      "\n",
      " At random state:- 4 Testing Accuracy and Training Accuracy are:-  95.8 and 96.0 respectively\n",
      "\n",
      " At random state:- 5 Testing Accuracy and Training Accuracy are:-  95.9 and 96.0 respectively\n",
      "\n",
      " At random state:- 6 Testing Accuracy and Training Accuracy are:-  95.6 and 96.0 respectively\n",
      "\n",
      " At random state:- 7 Testing Accuracy and Training Accuracy are:-  95.8 and 96.0 respectively\n",
      "\n",
      " At random state:- 8 Testing Accuracy and Training Accuracy are:-  95.8 and 96.0 respectively\n",
      "\n",
      " At random state:- 9 Testing Accuracy and Training Accuracy are:-  95.7 and 96.0 respectively\n",
      "\n",
      " At random state:- 10 Testing Accuracy and Training Accuracy are:-  96.0 and 95.9 respectively\n",
      "\n",
      " At random state:- 11 Testing Accuracy and Training Accuracy are:-  95.7 and 96.0 respectively\n",
      "\n",
      " At random state:- 12 Testing Accuracy and Training Accuracy are:-  95.8 and 96.0 respectively\n",
      "\n",
      " At random state:- 13 Testing Accuracy and Training Accuracy are:-  95.9 and 95.9 respectively\n",
      "\n",
      " At random state:- 14 Testing Accuracy and Training Accuracy are:-  95.7 and 96.0 respectively\n",
      "\n",
      " At random state:- 15 Testing Accuracy and Training Accuracy are:-  95.7 and 96.0 respectively\n",
      "\n",
      " At random state:- 16 Testing Accuracy and Training Accuracy are:-  95.7 and 96.0 respectively\n",
      "\n",
      " At random state:- 17 Testing Accuracy and Training Accuracy are:-  95.9 and 95.9 respectively\n",
      "\n",
      " At random state:- 18 Testing Accuracy and Training Accuracy are:-  95.7 and 96.0 respectively\n",
      "\n",
      " At random state:- 19 Testing Accuracy and Training Accuracy are:-  95.9 and 95.9 respectively\n",
      "\n",
      " At random state:- 20 Testing Accuracy and Training Accuracy are:-  95.7 and 96.0 respectively\n",
      "\n",
      " At random state:- 21 Testing Accuracy and Training Accuracy are:-  95.8 and 96.0 respectively\n",
      "\n",
      " At random state:- 22 Testing Accuracy and Training Accuracy are:-  95.8 and 96.0 respectively\n",
      "\n",
      " At random state:- 23 Testing Accuracy and Training Accuracy are:-  95.8 and 96.0 respectively\n",
      "\n",
      " At random state:- 24 Testing Accuracy and Training Accuracy are:-  95.7 and 96.0 respectively\n",
      "\n",
      " At random state:- 25 Testing Accuracy and Training Accuracy are:-  95.9 and 95.9 respectively\n",
      "\n",
      " At random state:- 26 Testing Accuracy and Training Accuracy are:-  95.8 and 96.0 respectively\n",
      "\n",
      " At random state:- 27 Testing Accuracy and Training Accuracy are:-  95.7 and 96.0 respectively\n",
      "\n",
      " At random state:- 28 Testing Accuracy and Training Accuracy are:-  96.0 and 95.9 respectively\n",
      "\n",
      " At random state:- 29 Testing Accuracy and Training Accuracy are:-  95.9 and 95.9 respectively\n",
      "\n",
      " At random state:- 30 Testing Accuracy and Training Accuracy are:-  95.9 and 95.9 respectively\n",
      "\n",
      " At random state:- 31 Testing Accuracy and Training Accuracy are:-  95.7 and 96.0 respectively\n",
      "\n",
      " At random state:- 32 Testing Accuracy and Training Accuracy are:-  95.8 and 96.0 respectively\n",
      "\n",
      " At random state:- 33 Testing Accuracy and Training Accuracy are:-  95.8 and 96.0 respectively\n",
      "\n",
      " At random state:- 34 Testing Accuracy and Training Accuracy are:-  95.9 and 95.9 respectively\n",
      "\n",
      " At random state:- 35 Testing Accuracy and Training Accuracy are:-  96.0 and 95.9 respectively\n",
      "\n",
      " At random state:- 36 Testing Accuracy and Training Accuracy are:-  95.9 and 96.0 respectively\n",
      "\n",
      " At random state:- 37 Testing Accuracy and Training Accuracy are:-  95.6 and 96.0 respectively\n",
      "\n",
      " At random state:- 38 Testing Accuracy and Training Accuracy are:-  95.8 and 96.0 respectively\n",
      "\n",
      " At random state:- 39 Testing Accuracy and Training Accuracy are:-  96.0 and 95.9 respectively\n",
      "\n",
      " At random state:- 40 Testing Accuracy and Training Accuracy are:-  95.8 and 96.0 respectively\n",
      "\n",
      " At random state:- 41 Testing Accuracy and Training Accuracy are:-  95.8 and 96.0 respectively\n",
      "\n",
      " At random state:- 42 Testing Accuracy and Training Accuracy are:-  96.0 and 95.9 respectively\n",
      "\n",
      " At random state:- 43 Testing Accuracy and Training Accuracy are:-  95.8 and 96.0 respectively\n",
      "\n",
      " At random state:- 44 Testing Accuracy and Training Accuracy are:-  95.9 and 95.9 respectively\n",
      "\n",
      " At random state:- 45 Testing Accuracy and Training Accuracy are:-  96.0 and 95.9 respectively\n",
      "\n",
      " At random state:- 46 Testing Accuracy and Training Accuracy are:-  95.8 and 96.0 respectively\n",
      "\n",
      " At random state:- 47 Testing Accuracy and Training Accuracy are:-  95.9 and 95.9 respectively\n",
      "\n",
      " At random state:- 48 Testing Accuracy and Training Accuracy are:-  95.8 and 96.0 respectively\n",
      "\n",
      " At random state:- 49 Testing Accuracy and Training Accuracy are:-  95.8 and 96.0 respectively\n",
      "\n",
      " At random state:- 50 Testing Accuracy and Training Accuracy are:-  95.8 and 96.0 respectively\n"
     ]
    }
   ],
   "source": [
    "#Using XGBoost Classifier to get the best Random state \n",
    "xgb=XGBClassifier()\n",
    "for i in range(0,51):\n",
    "    x_train,x_test,y_train,y_test=train_test_split(X_Scaled,Y,random_state=i,test_size=0.20)\n",
    "    xgb.fit(x_train,y_train)\n",
    "    pred_train=xgb.predict(x_train)\n",
    "    pred_test=xgb.predict(x_test)\n",
    "    print('\\n',\"At random state:-\",i,\"Testing Accuracy and Training Accuracy are:- \",round(accuracy_score(y_test,pred_test)*100,1), \"and\", round(accuracy_score(y_train,pred_train)*100,1), \"respectively\")"
   ]
  },
  {
   "cell_type": "markdown",
   "id": "1dec5350",
   "metadata": {},
   "source": [
    "The best accuracy is 96% at random state 88"
   ]
  },
  {
   "cell_type": "markdown",
   "id": "069e0629",
   "metadata": {},
   "source": [
    "We have found best_random state value as 88. We will now create our tain_test_split using this randome_state"
   ]
  },
  {
   "cell_type": "markdown",
   "id": "4e4625af",
   "metadata": {},
   "source": [
    "# Creating train_test_split...."
   ]
  },
  {
   "cell_type": "code",
   "execution_count": 94,
   "id": "5c985920",
   "metadata": {},
   "outputs": [],
   "source": [
    "x_train,x_test,y_train,y_test=train_test_split(X_Scaled,Y,random_state=88,test_size=0.20)"
   ]
  },
  {
   "cell_type": "markdown",
   "id": "9c0d8eea",
   "metadata": {},
   "source": [
    "# Training Model and Metrics Measurement"
   ]
  },
  {
   "cell_type": "code",
   "execution_count": 95,
   "id": "bf241615",
   "metadata": {},
   "outputs": [
    {
     "name": "stdout",
     "output_type": "stream",
     "text": [
      "Test_Accuracy  96.08\n",
      "Confusion Matrix  [[28733   169]\n",
      " [ 1081  1932]]\n",
      "Classification Report                precision    recall  f1-score   support\n",
      "\n",
      "           0       0.96      0.99      0.98     28902\n",
      "           1       0.92      0.64      0.76      3013\n",
      "\n",
      "    accuracy                           0.96     31915\n",
      "   macro avg       0.94      0.82      0.87     31915\n",
      "weighted avg       0.96      0.96      0.96     31915\n",
      "\n"
     ]
    }
   ],
   "source": [
    "xgb=XGBClassifier()\n",
    "xgb.fit(x_train,y_train)\n",
    "pred_test=xgb.predict(x_test)\n",
    "pred_train=xgb.predict(x_train)\n",
    "Test_Accuracy_xgb= (accuracy_score(y_test,pred_test))\n",
    "Train_Accuracy_xgb= (accuracy_score(y_train,pred_train))\n",
    "print(\"Test_Accuracy \",round(accuracy_score(y_test,pred_test)*100,2))#testing score\n",
    "print(\"Confusion Matrix \", confusion_matrix(y_test,pred_test))\n",
    "print(\"Classification Report \", classification_report(y_test,pred_test))"
   ]
  },
  {
   "cell_type": "markdown",
   "id": "2eafb0f7",
   "metadata": {},
   "source": [
    "XGBoost Classifier is producing good accuracy = 96%. Now we will check Cross Validation score as well for overfitting(if exists)."
   ]
  },
  {
   "cell_type": "markdown",
   "id": "fcdd4b18",
   "metadata": {},
   "source": [
    "# Cross Validation Score"
   ]
  },
  {
   "cell_type": "code",
   "execution_count": 96,
   "id": "47843570",
   "metadata": {},
   "outputs": [
    {
     "name": "stdout",
     "output_type": "stream",
     "text": [
      "[0.95735548 0.95848217 0.95863884 0.95779282 0.95826283]\n",
      "Cross Validation Score is  0.9581064275523252\n"
     ]
    }
   ],
   "source": [
    "#Validation accuracy\n",
    "vac=cross_val_score(xgb,X,Y,cv=5)\n",
    "CV_Score_xgb=vac.mean() \n",
    "print(vac)\n",
    "print(\"Cross Validation Score is \",CV_Score_xgb)"
   ]
  },
  {
   "cell_type": "markdown",
   "id": "c0498eea",
   "metadata": {},
   "source": [
    "# Difference between Accuracy Score and Cross Validation Score"
   ]
  },
  {
   "cell_type": "code",
   "execution_count": 97,
   "id": "707ea802",
   "metadata": {},
   "outputs": [
    {
     "data": {
      "text/plain": [
       "0.9608334638884537"
      ]
     },
     "execution_count": 97,
     "metadata": {},
     "output_type": "execute_result"
    }
   ],
   "source": [
    "Test_Accuracy_xgb"
   ]
  },
  {
   "cell_type": "code",
   "execution_count": 98,
   "id": "ab949b7f",
   "metadata": {},
   "outputs": [
    {
     "data": {
      "text/plain": [
       "0.9581064275523252"
      ]
     },
     "execution_count": 98,
     "metadata": {},
     "output_type": "execute_result"
    }
   ],
   "source": [
    "CV_Score_xgb"
   ]
  },
  {
   "cell_type": "code",
   "execution_count": 99,
   "id": "f772a6eb",
   "metadata": {},
   "outputs": [
    {
     "name": "stdout",
     "output_type": "stream",
     "text": [
      "Difference between Accuracy and Cross Validation Score =  0.0027270363361284744\n"
     ]
    }
   ],
   "source": [
    "xgb_Acc_vs_CV_Score=np.abs(Test_Accuracy_xgb-CV_Score_xgb)\n",
    "print(\"Difference between Accuracy and Cross Validation Score = \",xgb_Acc_vs_CV_Score)"
   ]
  },
  {
   "cell_type": "markdown",
   "id": "aae54ab1",
   "metadata": {},
   "source": [
    "From the above you can see that difference between Accuracy and Cross Validation score is low(0.0027) meaning that our model is very good and not having any overfitting or underfitting problems!!\n",
    "\n",
    "We would love to improve on this Accuracy by applying the Hyperparameter Tunning, However lets see more Models!"
   ]
  },
  {
   "cell_type": "markdown",
   "id": "8991b3c9",
   "metadata": {},
   "source": [
    "# 5.5 - ExtraTrees Classifier"
   ]
  },
  {
   "cell_type": "markdown",
   "id": "3e84af2f",
   "metadata": {},
   "source": [
    "# Best Random State"
   ]
  },
  {
   "cell_type": "code",
   "execution_count": 139,
   "id": "113a1623",
   "metadata": {},
   "outputs": [
    {
     "name": "stdout",
     "output_type": "stream",
     "text": [
      "\n",
      " At random state:- 0 Testing Accuracy and Training Accuracy are:-  95.0 and 100.0 respectively\n",
      "\n",
      " At random state:- 1 Testing Accuracy and Training Accuracy are:-  95.2 and 100.0 respectively\n",
      "\n",
      " At random state:- 2 Testing Accuracy and Training Accuracy are:-  95.2 and 100.0 respectively\n",
      "\n",
      " At random state:- 3 Testing Accuracy and Training Accuracy are:-  95.4 and 100.0 respectively\n",
      "\n",
      " At random state:- 4 Testing Accuracy and Training Accuracy are:-  95.2 and 100.0 respectively\n",
      "\n",
      " At random state:- 5 Testing Accuracy and Training Accuracy are:-  95.4 and 100.0 respectively\n",
      "\n",
      " At random state:- 6 Testing Accuracy and Training Accuracy are:-  95.1 and 100.0 respectively\n",
      "\n",
      " At random state:- 7 Testing Accuracy and Training Accuracy are:-  95.3 and 100.0 respectively\n",
      "\n",
      " At random state:- 8 Testing Accuracy and Training Accuracy are:-  95.2 and 100.0 respectively\n",
      "\n",
      " At random state:- 9 Testing Accuracy and Training Accuracy are:-  95.2 and 100.0 respectively\n",
      "\n",
      " At random state:- 10 Testing Accuracy and Training Accuracy are:-  95.4 and 100.0 respectively\n",
      "\n",
      " At random state:- 11 Testing Accuracy and Training Accuracy are:-  95.2 and 100.0 respectively\n",
      "\n",
      " At random state:- 12 Testing Accuracy and Training Accuracy are:-  95.3 and 100.0 respectively\n",
      "\n",
      " At random state:- 13 Testing Accuracy and Training Accuracy are:-  95.3 and 100.0 respectively\n",
      "\n",
      " At random state:- 14 Testing Accuracy and Training Accuracy are:-  95.2 and 100.0 respectively\n",
      "\n",
      " At random state:- 15 Testing Accuracy and Training Accuracy are:-  95.2 and 100.0 respectively\n",
      "\n",
      " At random state:- 16 Testing Accuracy and Training Accuracy are:-  95.2 and 100.0 respectively\n",
      "\n",
      " At random state:- 17 Testing Accuracy and Training Accuracy are:-  95.3 and 100.0 respectively\n",
      "\n",
      " At random state:- 18 Testing Accuracy and Training Accuracy are:-  95.2 and 100.0 respectively\n",
      "\n",
      " At random state:- 19 Testing Accuracy and Training Accuracy are:-  95.3 and 100.0 respectively\n",
      "\n",
      " At random state:- 20 Testing Accuracy and Training Accuracy are:-  95.2 and 100.0 respectively\n",
      "\n",
      " At random state:- 21 Testing Accuracy and Training Accuracy are:-  95.2 and 100.0 respectively\n",
      "\n",
      " At random state:- 22 Testing Accuracy and Training Accuracy are:-  95.3 and 100.0 respectively\n",
      "\n",
      " At random state:- 23 Testing Accuracy and Training Accuracy are:-  95.3 and 100.0 respectively\n",
      "\n",
      " At random state:- 24 Testing Accuracy and Training Accuracy are:-  95.1 and 100.0 respectively\n",
      "\n",
      " At random state:- 25 Testing Accuracy and Training Accuracy are:-  95.3 and 100.0 respectively\n",
      "\n",
      " At random state:- 26 Testing Accuracy and Training Accuracy are:-  95.2 and 100.0 respectively\n",
      "\n",
      " At random state:- 27 Testing Accuracy and Training Accuracy are:-  95.3 and 100.0 respectively\n",
      "\n",
      " At random state:- 28 Testing Accuracy and Training Accuracy are:-  95.5 and 100.0 respectively\n",
      "\n",
      " At random state:- 29 Testing Accuracy and Training Accuracy are:-  95.4 and 100.0 respectively\n",
      "\n",
      " At random state:- 30 Testing Accuracy and Training Accuracy are:-  95.4 and 100.0 respectively\n",
      "\n",
      " At random state:- 31 Testing Accuracy and Training Accuracy are:-  95.2 and 100.0 respectively\n",
      "\n",
      " At random state:- 32 Testing Accuracy and Training Accuracy are:-  95.2 and 100.0 respectively\n",
      "\n",
      " At random state:- 33 Testing Accuracy and Training Accuracy are:-  95.3 and 100.0 respectively\n",
      "\n",
      " At random state:- 34 Testing Accuracy and Training Accuracy are:-  95.3 and 100.0 respectively\n",
      "\n",
      " At random state:- 35 Testing Accuracy and Training Accuracy are:-  95.4 and 100.0 respectively\n",
      "\n",
      " At random state:- 36 Testing Accuracy and Training Accuracy are:-  95.4 and 100.0 respectively\n",
      "\n",
      " At random state:- 37 Testing Accuracy and Training Accuracy are:-  95.2 and 100.0 respectively\n",
      "\n",
      " At random state:- 38 Testing Accuracy and Training Accuracy are:-  95.3 and 100.0 respectively\n",
      "\n",
      " At random state:- 39 Testing Accuracy and Training Accuracy are:-  95.5 and 100.0 respectively\n",
      "\n",
      " At random state:- 40 Testing Accuracy and Training Accuracy are:-  95.2 and 100.0 respectively\n",
      "\n",
      " At random state:- 41 Testing Accuracy and Training Accuracy are:-  95.2 and 100.0 respectively\n",
      "\n",
      " At random state:- 42 Testing Accuracy and Training Accuracy are:-  95.4 and 100.0 respectively\n",
      "\n",
      " At random state:- 43 Testing Accuracy and Training Accuracy are:-  95.3 and 100.0 respectively\n",
      "\n",
      " At random state:- 44 Testing Accuracy and Training Accuracy are:-  95.4 and 100.0 respectively\n",
      "\n",
      " At random state:- 45 Testing Accuracy and Training Accuracy are:-  95.5 and 100.0 respectively\n",
      "\n",
      " At random state:- 46 Testing Accuracy and Training Accuracy are:-  95.3 and 100.0 respectively\n",
      "\n",
      " At random state:- 47 Testing Accuracy and Training Accuracy are:-  95.3 and 100.0 respectively\n",
      "\n",
      " At random state:- 48 Testing Accuracy and Training Accuracy are:-  95.3 and 100.0 respectively\n",
      "\n",
      " At random state:- 49 Testing Accuracy and Training Accuracy are:-  95.3 and 100.0 respectively\n",
      "\n",
      " At random state:- 50 Testing Accuracy and Training Accuracy are:-  95.2 and 100.0 respectively\n",
      "\n",
      " At random state:- 51 Testing Accuracy and Training Accuracy are:-  95.1 and 100.0 respectively\n",
      "\n",
      " At random state:- 52 Testing Accuracy and Training Accuracy are:-  95.5 and 100.0 respectively\n",
      "\n",
      " At random state:- 53 Testing Accuracy and Training Accuracy are:-  95.4 and 100.0 respectively\n",
      "\n",
      " At random state:- 54 Testing Accuracy and Training Accuracy are:-  95.2 and 100.0 respectively\n",
      "\n",
      " At random state:- 55 Testing Accuracy and Training Accuracy are:-  95.2 and 100.0 respectively\n",
      "\n",
      " At random state:- 56 Testing Accuracy and Training Accuracy are:-  95.2 and 100.0 respectively\n",
      "\n",
      " At random state:- 57 Testing Accuracy and Training Accuracy are:-  95.3 and 100.0 respectively\n",
      "\n",
      " At random state:- 58 Testing Accuracy and Training Accuracy are:-  95.3 and 100.0 respectively\n",
      "\n",
      " At random state:- 59 Testing Accuracy and Training Accuracy are:-  95.2 and 100.0 respectively\n",
      "\n",
      " At random state:- 60 Testing Accuracy and Training Accuracy are:-  95.2 and 100.0 respectively\n",
      "\n",
      " At random state:- 61 Testing Accuracy and Training Accuracy are:-  95.3 and 100.0 respectively\n",
      "\n",
      " At random state:- 62 Testing Accuracy and Training Accuracy are:-  95.4 and 100.0 respectively\n",
      "\n",
      " At random state:- 63 Testing Accuracy and Training Accuracy are:-  95.1 and 100.0 respectively\n",
      "\n",
      " At random state:- 64 Testing Accuracy and Training Accuracy are:-  95.5 and 100.0 respectively\n",
      "\n",
      " At random state:- 65 Testing Accuracy and Training Accuracy are:-  95.4 and 100.0 respectively\n",
      "\n",
      " At random state:- 66 Testing Accuracy and Training Accuracy are:-  95.4 and 100.0 respectively\n",
      "\n",
      " At random state:- 67 Testing Accuracy and Training Accuracy are:-  95.3 and 100.0 respectively\n",
      "\n",
      " At random state:- 68 Testing Accuracy and Training Accuracy are:-  95.3 and 100.0 respectively\n",
      "\n",
      " At random state:- 69 Testing Accuracy and Training Accuracy are:-  95.2 and 100.0 respectively\n",
      "\n",
      " At random state:- 70 Testing Accuracy and Training Accuracy are:-  95.3 and 100.0 respectively\n",
      "\n",
      " At random state:- 71 Testing Accuracy and Training Accuracy are:-  95.2 and 100.0 respectively\n",
      "\n",
      " At random state:- 72 Testing Accuracy and Training Accuracy are:-  95.5 and 100.0 respectively\n",
      "\n",
      " At random state:- 73 Testing Accuracy and Training Accuracy are:-  95.3 and 100.0 respectively\n",
      "\n",
      " At random state:- 74 Testing Accuracy and Training Accuracy are:-  95.3 and 100.0 respectively\n",
      "\n",
      " At random state:- 75 Testing Accuracy and Training Accuracy are:-  95.3 and 100.0 respectively\n",
      "\n",
      " At random state:- 76 Testing Accuracy and Training Accuracy are:-  95.3 and 100.0 respectively\n",
      "\n",
      " At random state:- 77 Testing Accuracy and Training Accuracy are:-  95.3 and 100.0 respectively\n",
      "\n",
      " At random state:- 78 Testing Accuracy and Training Accuracy are:-  95.3 and 100.0 respectively\n",
      "\n",
      " At random state:- 79 Testing Accuracy and Training Accuracy are:-  95.3 and 100.0 respectively\n",
      "\n",
      " At random state:- 80 Testing Accuracy and Training Accuracy are:-  95.1 and 100.0 respectively\n",
      "\n",
      " At random state:- 81 Testing Accuracy and Training Accuracy are:-  95.5 and 100.0 respectively\n",
      "\n",
      " At random state:- 82 Testing Accuracy and Training Accuracy are:-  95.4 and 100.0 respectively\n",
      "\n",
      " At random state:- 83 Testing Accuracy and Training Accuracy are:-  95.5 and 100.0 respectively\n",
      "\n",
      " At random state:- 84 Testing Accuracy and Training Accuracy are:-  95.4 and 100.0 respectively\n",
      "\n",
      " At random state:- 85 Testing Accuracy and Training Accuracy are:-  95.3 and 100.0 respectively\n",
      "\n",
      " At random state:- 86 Testing Accuracy and Training Accuracy are:-  95.5 and 100.0 respectively\n",
      "\n",
      " At random state:- 87 Testing Accuracy and Training Accuracy are:-  95.3 and 100.0 respectively\n",
      "\n",
      " At random state:- 88 Testing Accuracy and Training Accuracy are:-  95.5 and 100.0 respectively\n",
      "\n",
      " At random state:- 89 Testing Accuracy and Training Accuracy are:-  95.4 and 100.0 respectively\n"
     ]
    }
   ],
   "source": [
    "#Using ExtraTrees Classifier to get the best Random state \n",
    "ex=ExtraTreesClassifier()\n",
    "for i in range(0,90):\n",
    "    x_train,x_test,y_train,y_test=train_test_split(X_Scaled,Y,random_state=i,test_size=0.20)\n",
    "    ex.fit(x_train,y_train)\n",
    "    pred_train=ex.predict(x_train)\n",
    "    pred_test=ex.predict(x_test)\n",
    "    print('\\n',\"At random state:-\",i,\"Testing Accuracy and Training Accuracy are:- \",round(accuracy_score(y_test,pred_test)*100,1), \"and\", round(accuracy_score(y_train,pred_train)*100,1), \"respectively\")"
   ]
  },
  {
   "cell_type": "markdown",
   "id": "13a3a55f",
   "metadata": {},
   "source": [
    "The best accuracy is 96.1% at random state 88"
   ]
  },
  {
   "cell_type": "markdown",
   "id": "5086ae9a",
   "metadata": {},
   "source": [
    "We have found best_random state value as 88. We will now create our tain_test_split using this randome_state"
   ]
  },
  {
   "cell_type": "markdown",
   "id": "4f16dfa8",
   "metadata": {},
   "source": [
    "# Creating train_test_split...."
   ]
  },
  {
   "cell_type": "code",
   "execution_count": 100,
   "id": "22fe94dc",
   "metadata": {},
   "outputs": [],
   "source": [
    "x_train,x_test,y_train,y_test=train_test_split(X_Scaled,Y,random_state=88,test_size=0.20)"
   ]
  },
  {
   "cell_type": "markdown",
   "id": "faecfac9",
   "metadata": {},
   "source": [
    "# Training Model and Metrics Measurement"
   ]
  },
  {
   "cell_type": "code",
   "execution_count": 101,
   "id": "15142b9b",
   "metadata": {},
   "outputs": [
    {
     "name": "stdout",
     "output_type": "stream",
     "text": [
      "Test_Accuracy  96.08\n",
      "Confusion Matrix  [[28733   169]\n",
      " [ 1081  1932]]\n",
      "Classification Report                precision    recall  f1-score   support\n",
      "\n",
      "           0       0.96      0.99      0.98     28902\n",
      "           1       0.92      0.64      0.76      3013\n",
      "\n",
      "    accuracy                           0.96     31915\n",
      "   macro avg       0.94      0.82      0.87     31915\n",
      "weighted avg       0.96      0.96      0.96     31915\n",
      "\n"
     ]
    }
   ],
   "source": [
    "ex=XGBClassifier()\n",
    "ex.fit(x_train,y_train)\n",
    "pred_test=ex.predict(x_test)\n",
    "pred_train=ex.predict(x_train)\n",
    "Test_Accuracy_ex= (accuracy_score(y_test,pred_test))\n",
    "Train_Accuracy_ex= (accuracy_score(y_train,pred_train))\n",
    "print(\"Test_Accuracy \",round(accuracy_score(y_test,pred_test)*100,2))#testing score\n",
    "print(\"Confusion Matrix \", confusion_matrix(y_test,pred_test))\n",
    "print(\"Classification Report \", classification_report(y_test,pred_test))"
   ]
  },
  {
   "cell_type": "markdown",
   "id": "0226adb9",
   "metadata": {},
   "source": [
    "Extratrees Classifier is producing good accuracy = 96%. Now we will check Cross Validation score as well for overfitting(if exists)."
   ]
  },
  {
   "cell_type": "markdown",
   "id": "9d3a0f04",
   "metadata": {},
   "source": [
    "# Cross Validation Score"
   ]
  },
  {
   "cell_type": "code",
   "execution_count": 102,
   "id": "a571f103",
   "metadata": {},
   "outputs": [
    {
     "name": "stdout",
     "output_type": "stream",
     "text": [
      "[0.95735548 0.95848217 0.95863884 0.95779282 0.95826283]\n",
      "Cross Validation Score is  0.9581064275523252\n"
     ]
    }
   ],
   "source": [
    "#Validation accuracy\n",
    "vac=cross_val_score(ex,X,Y,cv=5)\n",
    "CV_Score_ex=vac.mean() \n",
    "print(vac)\n",
    "print(\"Cross Validation Score is \",CV_Score_ex)"
   ]
  },
  {
   "cell_type": "markdown",
   "id": "ee1dcdfc",
   "metadata": {},
   "source": [
    "# Difference between Accuracy Score and Cross Validation Score"
   ]
  },
  {
   "cell_type": "code",
   "execution_count": 103,
   "id": "6177d989",
   "metadata": {},
   "outputs": [
    {
     "data": {
      "text/plain": [
       "0.9608334638884537"
      ]
     },
     "execution_count": 103,
     "metadata": {},
     "output_type": "execute_result"
    }
   ],
   "source": [
    "Test_Accuracy_ex"
   ]
  },
  {
   "cell_type": "code",
   "execution_count": 104,
   "id": "255e7301",
   "metadata": {},
   "outputs": [
    {
     "data": {
      "text/plain": [
       "0.9581064275523252"
      ]
     },
     "execution_count": 104,
     "metadata": {},
     "output_type": "execute_result"
    }
   ],
   "source": [
    "CV_Score_ex"
   ]
  },
  {
   "cell_type": "code",
   "execution_count": 105,
   "id": "35b3f87f",
   "metadata": {},
   "outputs": [
    {
     "name": "stdout",
     "output_type": "stream",
     "text": [
      "Difference between Accuracy and Cross Validation Score =  0.0027270363361284744\n"
     ]
    }
   ],
   "source": [
    "ex_Acc_vs_CV_Score=np.abs(Test_Accuracy_ex-CV_Score_ex)\n",
    "print(\"Difference between Accuracy and Cross Validation Score = \",ex_Acc_vs_CV_Score)"
   ]
  },
  {
   "cell_type": "markdown",
   "id": "52066aa2",
   "metadata": {},
   "source": [
    "From the above you can see that difference between Accuracy and Cross Validation score is low(0.0027) meaning that our model is very good and not having any overfitting or underfitting problems!!\n",
    "\n",
    "We would love to improve on this Accuracy by applying the Hyperparameter Tunning, However lets see more Models!"
   ]
  },
  {
   "cell_type": "markdown",
   "id": "11b3a842",
   "metadata": {},
   "source": [
    "# 5.6 - Support Vector Classifier(SVC)"
   ]
  },
  {
   "cell_type": "markdown",
   "id": "495d1b67",
   "metadata": {},
   "source": [
    "# Best Random State "
   ]
  },
  {
   "cell_type": "code",
   "execution_count": 147,
   "id": "64c0d768",
   "metadata": {},
   "outputs": [
    {
     "name": "stdout",
     "output_type": "stream",
     "text": [
      "\n",
      " At random state:- 0 Testing Accuracy and Training Accuracy are:-  95.7 and 95.9 respectively\n",
      "\n",
      " At random state:- 1 Testing Accuracy and Training Accuracy are:-  95.8 and 95.9 respectively\n"
     ]
    },
    {
     "ename": "KeyboardInterrupt",
     "evalue": "",
     "output_type": "error",
     "traceback": [
      "\u001b[1;31m---------------------------------------------------------------------------\u001b[0m",
      "\u001b[1;31mKeyboardInterrupt\u001b[0m                         Traceback (most recent call last)",
      "Input \u001b[1;32mIn [147]\u001b[0m, in \u001b[0;36m<cell line: 3>\u001b[1;34m()\u001b[0m\n\u001b[0;32m      3\u001b[0m \u001b[38;5;28;01mfor\u001b[39;00m i \u001b[38;5;129;01min\u001b[39;00m \u001b[38;5;28mrange\u001b[39m(\u001b[38;5;241m0\u001b[39m,\u001b[38;5;241m91\u001b[39m):\n\u001b[0;32m      4\u001b[0m     x_train,x_test,y_train,y_test\u001b[38;5;241m=\u001b[39mtrain_test_split(X_Scaled,Y,random_state\u001b[38;5;241m=\u001b[39mi,test_size\u001b[38;5;241m=\u001b[39m\u001b[38;5;241m0.20\u001b[39m)\n\u001b[1;32m----> 5\u001b[0m     \u001b[43msv\u001b[49m\u001b[38;5;241;43m.\u001b[39;49m\u001b[43mfit\u001b[49m\u001b[43m(\u001b[49m\u001b[43mx_train\u001b[49m\u001b[43m,\u001b[49m\u001b[43my_train\u001b[49m\u001b[43m)\u001b[49m\n\u001b[0;32m      6\u001b[0m     pred_train\u001b[38;5;241m=\u001b[39msv\u001b[38;5;241m.\u001b[39mpredict(x_train)\n\u001b[0;32m      7\u001b[0m     pred_test\u001b[38;5;241m=\u001b[39msv\u001b[38;5;241m.\u001b[39mpredict(x_test)\n",
      "File \u001b[1;32m~\\anaconda3\\lib\\site-packages\\sklearn\\svm\\_base.py:251\u001b[0m, in \u001b[0;36mBaseLibSVM.fit\u001b[1;34m(self, X, y, sample_weight)\u001b[0m\n\u001b[0;32m    248\u001b[0m     \u001b[38;5;28mprint\u001b[39m(\u001b[38;5;124m\"\u001b[39m\u001b[38;5;124m[LibSVM]\u001b[39m\u001b[38;5;124m\"\u001b[39m, end\u001b[38;5;241m=\u001b[39m\u001b[38;5;124m\"\u001b[39m\u001b[38;5;124m\"\u001b[39m)\n\u001b[0;32m    250\u001b[0m seed \u001b[38;5;241m=\u001b[39m rnd\u001b[38;5;241m.\u001b[39mrandint(np\u001b[38;5;241m.\u001b[39miinfo(\u001b[38;5;124m\"\u001b[39m\u001b[38;5;124mi\u001b[39m\u001b[38;5;124m\"\u001b[39m)\u001b[38;5;241m.\u001b[39mmax)\n\u001b[1;32m--> 251\u001b[0m \u001b[43mfit\u001b[49m\u001b[43m(\u001b[49m\u001b[43mX\u001b[49m\u001b[43m,\u001b[49m\u001b[43m \u001b[49m\u001b[43my\u001b[49m\u001b[43m,\u001b[49m\u001b[43m \u001b[49m\u001b[43msample_weight\u001b[49m\u001b[43m,\u001b[49m\u001b[43m \u001b[49m\u001b[43msolver_type\u001b[49m\u001b[43m,\u001b[49m\u001b[43m \u001b[49m\u001b[43mkernel\u001b[49m\u001b[43m,\u001b[49m\u001b[43m \u001b[49m\u001b[43mrandom_seed\u001b[49m\u001b[38;5;241;43m=\u001b[39;49m\u001b[43mseed\u001b[49m\u001b[43m)\u001b[49m\n\u001b[0;32m    252\u001b[0m \u001b[38;5;66;03m# see comment on the other call to np.iinfo in this file\u001b[39;00m\n\u001b[0;32m    254\u001b[0m \u001b[38;5;28mself\u001b[39m\u001b[38;5;241m.\u001b[39mshape_fit_ \u001b[38;5;241m=\u001b[39m X\u001b[38;5;241m.\u001b[39mshape \u001b[38;5;28;01mif\u001b[39;00m \u001b[38;5;28mhasattr\u001b[39m(X, \u001b[38;5;124m\"\u001b[39m\u001b[38;5;124mshape\u001b[39m\u001b[38;5;124m\"\u001b[39m) \u001b[38;5;28;01melse\u001b[39;00m (n_samples,)\n",
      "File \u001b[1;32m~\\anaconda3\\lib\\site-packages\\sklearn\\svm\\_base.py:333\u001b[0m, in \u001b[0;36mBaseLibSVM._dense_fit\u001b[1;34m(self, X, y, sample_weight, solver_type, kernel, random_seed)\u001b[0m\n\u001b[0;32m    319\u001b[0m libsvm\u001b[38;5;241m.\u001b[39mset_verbosity_wrap(\u001b[38;5;28mself\u001b[39m\u001b[38;5;241m.\u001b[39mverbose)\n\u001b[0;32m    321\u001b[0m \u001b[38;5;66;03m# we don't pass **self.get_params() to allow subclasses to\u001b[39;00m\n\u001b[0;32m    322\u001b[0m \u001b[38;5;66;03m# add other parameters to __init__\u001b[39;00m\n\u001b[0;32m    323\u001b[0m (\n\u001b[0;32m    324\u001b[0m     \u001b[38;5;28mself\u001b[39m\u001b[38;5;241m.\u001b[39msupport_,\n\u001b[0;32m    325\u001b[0m     \u001b[38;5;28mself\u001b[39m\u001b[38;5;241m.\u001b[39msupport_vectors_,\n\u001b[0;32m    326\u001b[0m     \u001b[38;5;28mself\u001b[39m\u001b[38;5;241m.\u001b[39m_n_support,\n\u001b[0;32m    327\u001b[0m     \u001b[38;5;28mself\u001b[39m\u001b[38;5;241m.\u001b[39mdual_coef_,\n\u001b[0;32m    328\u001b[0m     \u001b[38;5;28mself\u001b[39m\u001b[38;5;241m.\u001b[39mintercept_,\n\u001b[0;32m    329\u001b[0m     \u001b[38;5;28mself\u001b[39m\u001b[38;5;241m.\u001b[39m_probA,\n\u001b[0;32m    330\u001b[0m     \u001b[38;5;28mself\u001b[39m\u001b[38;5;241m.\u001b[39m_probB,\n\u001b[0;32m    331\u001b[0m     \u001b[38;5;28mself\u001b[39m\u001b[38;5;241m.\u001b[39mfit_status_,\n\u001b[0;32m    332\u001b[0m     \u001b[38;5;28mself\u001b[39m\u001b[38;5;241m.\u001b[39m_num_iter,\n\u001b[1;32m--> 333\u001b[0m ) \u001b[38;5;241m=\u001b[39m \u001b[43mlibsvm\u001b[49m\u001b[38;5;241;43m.\u001b[39;49m\u001b[43mfit\u001b[49m\u001b[43m(\u001b[49m\n\u001b[0;32m    334\u001b[0m \u001b[43m    \u001b[49m\u001b[43mX\u001b[49m\u001b[43m,\u001b[49m\n\u001b[0;32m    335\u001b[0m \u001b[43m    \u001b[49m\u001b[43my\u001b[49m\u001b[43m,\u001b[49m\n\u001b[0;32m    336\u001b[0m \u001b[43m    \u001b[49m\u001b[43msvm_type\u001b[49m\u001b[38;5;241;43m=\u001b[39;49m\u001b[43msolver_type\u001b[49m\u001b[43m,\u001b[49m\n\u001b[0;32m    337\u001b[0m \u001b[43m    \u001b[49m\u001b[43msample_weight\u001b[49m\u001b[38;5;241;43m=\u001b[39;49m\u001b[43msample_weight\u001b[49m\u001b[43m,\u001b[49m\n\u001b[0;32m    338\u001b[0m \u001b[43m    \u001b[49m\u001b[43mclass_weight\u001b[49m\u001b[38;5;241;43m=\u001b[39;49m\u001b[38;5;28;43mself\u001b[39;49m\u001b[38;5;241;43m.\u001b[39;49m\u001b[43mclass_weight_\u001b[49m\u001b[43m,\u001b[49m\n\u001b[0;32m    339\u001b[0m \u001b[43m    \u001b[49m\u001b[43mkernel\u001b[49m\u001b[38;5;241;43m=\u001b[39;49m\u001b[43mkernel\u001b[49m\u001b[43m,\u001b[49m\n\u001b[0;32m    340\u001b[0m \u001b[43m    \u001b[49m\u001b[43mC\u001b[49m\u001b[38;5;241;43m=\u001b[39;49m\u001b[38;5;28;43mself\u001b[39;49m\u001b[38;5;241;43m.\u001b[39;49m\u001b[43mC\u001b[49m\u001b[43m,\u001b[49m\n\u001b[0;32m    341\u001b[0m \u001b[43m    \u001b[49m\u001b[43mnu\u001b[49m\u001b[38;5;241;43m=\u001b[39;49m\u001b[38;5;28;43mself\u001b[39;49m\u001b[38;5;241;43m.\u001b[39;49m\u001b[43mnu\u001b[49m\u001b[43m,\u001b[49m\n\u001b[0;32m    342\u001b[0m \u001b[43m    \u001b[49m\u001b[43mprobability\u001b[49m\u001b[38;5;241;43m=\u001b[39;49m\u001b[38;5;28;43mself\u001b[39;49m\u001b[38;5;241;43m.\u001b[39;49m\u001b[43mprobability\u001b[49m\u001b[43m,\u001b[49m\n\u001b[0;32m    343\u001b[0m \u001b[43m    \u001b[49m\u001b[43mdegree\u001b[49m\u001b[38;5;241;43m=\u001b[39;49m\u001b[38;5;28;43mself\u001b[39;49m\u001b[38;5;241;43m.\u001b[39;49m\u001b[43mdegree\u001b[49m\u001b[43m,\u001b[49m\n\u001b[0;32m    344\u001b[0m \u001b[43m    \u001b[49m\u001b[43mshrinking\u001b[49m\u001b[38;5;241;43m=\u001b[39;49m\u001b[38;5;28;43mself\u001b[39;49m\u001b[38;5;241;43m.\u001b[39;49m\u001b[43mshrinking\u001b[49m\u001b[43m,\u001b[49m\n\u001b[0;32m    345\u001b[0m \u001b[43m    \u001b[49m\u001b[43mtol\u001b[49m\u001b[38;5;241;43m=\u001b[39;49m\u001b[38;5;28;43mself\u001b[39;49m\u001b[38;5;241;43m.\u001b[39;49m\u001b[43mtol\u001b[49m\u001b[43m,\u001b[49m\n\u001b[0;32m    346\u001b[0m \u001b[43m    \u001b[49m\u001b[43mcache_size\u001b[49m\u001b[38;5;241;43m=\u001b[39;49m\u001b[38;5;28;43mself\u001b[39;49m\u001b[38;5;241;43m.\u001b[39;49m\u001b[43mcache_size\u001b[49m\u001b[43m,\u001b[49m\n\u001b[0;32m    347\u001b[0m \u001b[43m    \u001b[49m\u001b[43mcoef0\u001b[49m\u001b[38;5;241;43m=\u001b[39;49m\u001b[38;5;28;43mself\u001b[39;49m\u001b[38;5;241;43m.\u001b[39;49m\u001b[43mcoef0\u001b[49m\u001b[43m,\u001b[49m\n\u001b[0;32m    348\u001b[0m \u001b[43m    \u001b[49m\u001b[43mgamma\u001b[49m\u001b[38;5;241;43m=\u001b[39;49m\u001b[38;5;28;43mself\u001b[39;49m\u001b[38;5;241;43m.\u001b[39;49m\u001b[43m_gamma\u001b[49m\u001b[43m,\u001b[49m\n\u001b[0;32m    349\u001b[0m \u001b[43m    \u001b[49m\u001b[43mepsilon\u001b[49m\u001b[38;5;241;43m=\u001b[39;49m\u001b[38;5;28;43mself\u001b[39;49m\u001b[38;5;241;43m.\u001b[39;49m\u001b[43mepsilon\u001b[49m\u001b[43m,\u001b[49m\n\u001b[0;32m    350\u001b[0m \u001b[43m    \u001b[49m\u001b[43mmax_iter\u001b[49m\u001b[38;5;241;43m=\u001b[39;49m\u001b[38;5;28;43mself\u001b[39;49m\u001b[38;5;241;43m.\u001b[39;49m\u001b[43mmax_iter\u001b[49m\u001b[43m,\u001b[49m\n\u001b[0;32m    351\u001b[0m \u001b[43m    \u001b[49m\u001b[43mrandom_seed\u001b[49m\u001b[38;5;241;43m=\u001b[39;49m\u001b[43mrandom_seed\u001b[49m\u001b[43m,\u001b[49m\n\u001b[0;32m    352\u001b[0m \u001b[43m\u001b[49m\u001b[43m)\u001b[49m\n\u001b[0;32m    354\u001b[0m \u001b[38;5;28mself\u001b[39m\u001b[38;5;241m.\u001b[39m_warn_from_fit_status()\n",
      "\u001b[1;31mKeyboardInterrupt\u001b[0m: "
     ]
    }
   ],
   "source": [
    "#Using SVC to get the best Random state \n",
    "sv=SVC()\n",
    "for i in range(0,91):\n",
    "    x_train,x_test,y_train,y_test=train_test_split(X_Scaled,Y,random_state=i,test_size=0.20)\n",
    "    sv.fit(x_train,y_train)\n",
    "    pred_train=sv.predict(x_train)\n",
    "    pred_test=sv.predict(x_test)\n",
    "    print('\\n',\"At random state:-\",i,\"Testing Accuracy and Training Accuracy are:- \",round(accuracy_score(y_test,pred_test)*100,1), \"and\", round(accuracy_score(y_train,pred_train)*100,1), \"respectively\")"
   ]
  },
  {
   "cell_type": "markdown",
   "id": "f04bd296",
   "metadata": {},
   "source": [
    "The best accuracy is 96% at random state 88"
   ]
  },
  {
   "cell_type": "markdown",
   "id": "f6e31dff",
   "metadata": {},
   "source": [
    "We have found best_random state value as 88. We will now create our tain_test_split using this randome_state"
   ]
  },
  {
   "cell_type": "markdown",
   "id": "625e9022",
   "metadata": {},
   "source": [
    "# Creating train_test_split...."
   ]
  },
  {
   "cell_type": "code",
   "execution_count": 106,
   "id": "001017e1",
   "metadata": {},
   "outputs": [],
   "source": [
    "x_train,x_test,y_train,y_test=train_test_split(X_Scaled,Y,random_state=88,test_size=0.20)"
   ]
  },
  {
   "cell_type": "markdown",
   "id": "a104993b",
   "metadata": {},
   "source": [
    "# Training Model and Metrics Measurement"
   ]
  },
  {
   "cell_type": "code",
   "execution_count": 107,
   "id": "57f4eff8",
   "metadata": {},
   "outputs": [
    {
     "name": "stdout",
     "output_type": "stream",
     "text": [
      "Test_Accuracy  96.11\n",
      "Confusion Matrix  [[28731   171]\n",
      " [ 1069  1944]]\n",
      "Classification Report                precision    recall  f1-score   support\n",
      "\n",
      "           0       0.96      0.99      0.98     28902\n",
      "           1       0.92      0.65      0.76      3013\n",
      "\n",
      "    accuracy                           0.96     31915\n",
      "   macro avg       0.94      0.82      0.87     31915\n",
      "weighted avg       0.96      0.96      0.96     31915\n",
      "\n"
     ]
    }
   ],
   "source": [
    "sv=SVC()\n",
    "sv.fit(x_train,y_train)\n",
    "pred_test=sv.predict(x_test)\n",
    "pred_train=sv.predict(x_train)\n",
    "Test_Accuracy_sv= (accuracy_score(y_test,pred_test))\n",
    "Train_Accuracy_sv= (accuracy_score(y_train,pred_train))\n",
    "print(\"Test_Accuracy \",round(accuracy_score(y_test,pred_test)*100,2))#testing score\n",
    "print(\"Confusion Matrix \", confusion_matrix(y_test,pred_test))\n",
    "print(\"Classification Report \", classification_report(y_test,pred_test))"
   ]
  },
  {
   "cell_type": "markdown",
   "id": "facc6586",
   "metadata": {},
   "source": [
    "Support Vector is producing good accuracy = 96%. Now we will check Cross Validation score as well for overfitting(if exists)."
   ]
  },
  {
   "cell_type": "markdown",
   "id": "ba6a6dd7",
   "metadata": {},
   "source": [
    "# Cross Validation Score"
   ]
  },
  {
   "cell_type": "code",
   "execution_count": 108,
   "id": "278c965d",
   "metadata": {},
   "outputs": [
    {
     "name": "stdout",
     "output_type": "stream",
     "text": [
      "[0.90415165 0.90417998 0.90414865 0.90414865 0.90414865]\n",
      "Cross Validation Score is  0.9041555170041183\n"
     ]
    }
   ],
   "source": [
    "#Validation accuracy\n",
    "vac=cross_val_score(sv,X,Y,cv=5)\n",
    "CV_Score_sv=vac.mean() \n",
    "print(vac)\n",
    "print(\"Cross Validation Score is \",CV_Score_sv)"
   ]
  },
  {
   "cell_type": "markdown",
   "id": "59fe062c",
   "metadata": {},
   "source": [
    "# Difference between Accuracy Score and Cross Validation Score"
   ]
  },
  {
   "cell_type": "code",
   "execution_count": 109,
   "id": "4740be2d",
   "metadata": {},
   "outputs": [
    {
     "data": {
      "text/plain": [
       "0.9611467961773461"
      ]
     },
     "execution_count": 109,
     "metadata": {},
     "output_type": "execute_result"
    }
   ],
   "source": [
    "Test_Accuracy_sv"
   ]
  },
  {
   "cell_type": "code",
   "execution_count": 110,
   "id": "6b26cb1b",
   "metadata": {},
   "outputs": [
    {
     "data": {
      "text/plain": [
       "0.9041555170041183"
      ]
     },
     "execution_count": 110,
     "metadata": {},
     "output_type": "execute_result"
    }
   ],
   "source": [
    "CV_Score_sv"
   ]
  },
  {
   "cell_type": "code",
   "execution_count": 111,
   "id": "e5122cbb",
   "metadata": {},
   "outputs": [
    {
     "name": "stdout",
     "output_type": "stream",
     "text": [
      "Difference between Accuracy and Cross Validation Score =  0.05699127917322777\n"
     ]
    }
   ],
   "source": [
    "sv_Acc_vs_CV_Score=np.abs(Test_Accuracy_sv-CV_Score_sv)\n",
    "print(\"Difference between Accuracy and Cross Validation Score = \",sv_Acc_vs_CV_Score)"
   ]
  },
  {
   "cell_type": "markdown",
   "id": "cede79ff",
   "metadata": {},
   "source": [
    "From the above you can see that difference between Accuracy and Cross Validation score is low(0.057) meaning that our model is very good and not having any overfitting or underfitting problems!!\n",
    "\n",
    "We would love to improve on this Accuracy by applying the Hyperparameter Tunning, However lets see more Models!"
   ]
  },
  {
   "cell_type": "markdown",
   "id": "cba45aea",
   "metadata": {},
   "source": [
    "# 5.7 - MLP Classifier"
   ]
  },
  {
   "cell_type": "markdown",
   "id": "275e0068",
   "metadata": {},
   "source": [
    "# Best Random State "
   ]
  },
  {
   "cell_type": "code",
   "execution_count": 154,
   "id": "afa357ae",
   "metadata": {},
   "outputs": [
    {
     "name": "stdout",
     "output_type": "stream",
     "text": [
      "\n",
      " At random state:- 0 Testing Accuracy and Training Accuracy are:-  95.7 and 95.9 respectively\n",
      "\n",
      " At random state:- 1 Testing Accuracy and Training Accuracy are:-  95.8 and 95.9 respectively\n",
      "\n",
      " At random state:- 2 Testing Accuracy and Training Accuracy are:-  95.8 and 95.9 respectively\n",
      "\n",
      " At random state:- 3 Testing Accuracy and Training Accuracy are:-  96.0 and 95.8 respectively\n",
      "\n",
      " At random state:- 4 Testing Accuracy and Training Accuracy are:-  95.8 and 95.9 respectively\n",
      "\n",
      " At random state:- 5 Testing Accuracy and Training Accuracy are:-  95.9 and 95.8 respectively\n",
      "\n",
      " At random state:- 6 Testing Accuracy and Training Accuracy are:-  95.7 and 95.9 respectively\n",
      "\n",
      " At random state:- 7 Testing Accuracy and Training Accuracy are:-  95.8 and 95.9 respectively\n",
      "\n",
      " At random state:- 8 Testing Accuracy and Training Accuracy are:-  95.8 and 95.9 respectively\n",
      "\n",
      " At random state:- 9 Testing Accuracy and Training Accuracy are:-  95.7 and 95.9 respectively\n",
      "\n",
      " At random state:- 10 Testing Accuracy and Training Accuracy are:-  96.0 and 95.8 respectively\n",
      "\n",
      " At random state:- 11 Testing Accuracy and Training Accuracy are:-  95.8 and 95.9 respectively\n",
      "\n",
      " At random state:- 12 Testing Accuracy and Training Accuracy are:-  95.8 and 95.9 respectively\n",
      "\n",
      " At random state:- 13 Testing Accuracy and Training Accuracy are:-  95.9 and 95.8 respectively\n",
      "\n",
      " At random state:- 14 Testing Accuracy and Training Accuracy are:-  95.7 and 95.9 respectively\n",
      "\n",
      " At random state:- 15 Testing Accuracy and Training Accuracy are:-  95.8 and 95.9 respectively\n",
      "\n",
      " At random state:- 16 Testing Accuracy and Training Accuracy are:-  95.7 and 95.9 respectively\n",
      "\n",
      " At random state:- 17 Testing Accuracy and Training Accuracy are:-  95.9 and 95.9 respectively\n",
      "\n",
      " At random state:- 18 Testing Accuracy and Training Accuracy are:-  95.7 and 95.9 respectively\n",
      "\n",
      " At random state:- 19 Testing Accuracy and Training Accuracy are:-  96.0 and 95.8 respectively\n",
      "\n",
      " At random state:- 20 Testing Accuracy and Training Accuracy are:-  95.8 and 95.9 respectively\n",
      "\n",
      " At random state:- 21 Testing Accuracy and Training Accuracy are:-  95.8 and 95.9 respectively\n",
      "\n",
      " At random state:- 22 Testing Accuracy and Training Accuracy are:-  95.8 and 95.9 respectively\n",
      "\n",
      " At random state:- 23 Testing Accuracy and Training Accuracy are:-  95.8 and 95.9 respectively\n",
      "\n",
      " At random state:- 24 Testing Accuracy and Training Accuracy are:-  95.7 and 95.9 respectively\n",
      "\n",
      " At random state:- 25 Testing Accuracy and Training Accuracy are:-  95.9 and 95.9 respectively\n",
      "\n",
      " At random state:- 26 Testing Accuracy and Training Accuracy are:-  95.8 and 95.9 respectively\n",
      "\n",
      " At random state:- 27 Testing Accuracy and Training Accuracy are:-  95.8 and 95.9 respectively\n",
      "\n",
      " At random state:- 28 Testing Accuracy and Training Accuracy are:-  96.1 and 95.8 respectively\n",
      "\n",
      " At random state:- 29 Testing Accuracy and Training Accuracy are:-  96.0 and 95.8 respectively\n",
      "\n",
      " At random state:- 30 Testing Accuracy and Training Accuracy are:-  96.0 and 95.8 respectively\n",
      "\n",
      " At random state:- 31 Testing Accuracy and Training Accuracy are:-  95.7 and 95.9 respectively\n",
      "\n",
      " At random state:- 32 Testing Accuracy and Training Accuracy are:-  95.8 and 95.9 respectively\n",
      "\n",
      " At random state:- 33 Testing Accuracy and Training Accuracy are:-  95.9 and 95.9 respectively\n",
      "\n",
      " At random state:- 34 Testing Accuracy and Training Accuracy are:-  95.9 and 95.9 respectively\n",
      "\n",
      " At random state:- 35 Testing Accuracy and Training Accuracy are:-  96.0 and 95.8 respectively\n",
      "\n",
      " At random state:- 36 Testing Accuracy and Training Accuracy are:-  95.9 and 95.9 respectively\n",
      "\n",
      " At random state:- 37 Testing Accuracy and Training Accuracy are:-  95.6 and 95.9 respectively\n",
      "\n",
      " At random state:- 38 Testing Accuracy and Training Accuracy are:-  95.8 and 95.9 respectively\n",
      "\n",
      " At random state:- 39 Testing Accuracy and Training Accuracy are:-  96.0 and 95.8 respectively\n",
      "\n",
      " At random state:- 40 Testing Accuracy and Training Accuracy are:-  95.8 and 95.9 respectively\n",
      "\n",
      " At random state:- 41 Testing Accuracy and Training Accuracy are:-  95.9 and 95.9 respectively\n",
      "\n",
      " At random state:- 42 Testing Accuracy and Training Accuracy are:-  96.0 and 95.8 respectively\n",
      "\n",
      " At random state:- 43 Testing Accuracy and Training Accuracy are:-  95.9 and 95.9 respectively\n",
      "\n",
      " At random state:- 44 Testing Accuracy and Training Accuracy are:-  95.9 and 95.9 respectively\n",
      "\n",
      " At random state:- 45 Testing Accuracy and Training Accuracy are:-  96.0 and 95.8 respectively\n",
      "\n",
      " At random state:- 46 Testing Accuracy and Training Accuracy are:-  95.8 and 95.9 respectively\n",
      "\n",
      " At random state:- 47 Testing Accuracy and Training Accuracy are:-  95.9 and 95.9 respectively\n",
      "\n",
      " At random state:- 48 Testing Accuracy and Training Accuracy are:-  95.8 and 95.9 respectively\n",
      "\n",
      " At random state:- 49 Testing Accuracy and Training Accuracy are:-  95.9 and 95.9 respectively\n",
      "\n",
      " At random state:- 50 Testing Accuracy and Training Accuracy are:-  95.8 and 95.9 respectively\n",
      "\n",
      " At random state:- 51 Testing Accuracy and Training Accuracy are:-  95.7 and 95.9 respectively\n",
      "\n",
      " At random state:- 52 Testing Accuracy and Training Accuracy are:-  96.0 and 95.8 respectively\n",
      "\n",
      " At random state:- 53 Testing Accuracy and Training Accuracy are:-  95.9 and 95.9 respectively\n",
      "\n",
      " At random state:- 54 Testing Accuracy and Training Accuracy are:-  95.8 and 95.9 respectively\n",
      "\n",
      " At random state:- 55 Testing Accuracy and Training Accuracy are:-  95.8 and 95.9 respectively\n",
      "\n",
      " At random state:- 56 Testing Accuracy and Training Accuracy are:-  95.8 and 95.9 respectively\n",
      "\n",
      " At random state:- 57 Testing Accuracy and Training Accuracy are:-  95.8 and 95.9 respectively\n",
      "\n",
      " At random state:- 58 Testing Accuracy and Training Accuracy are:-  95.8 and 95.9 respectively\n",
      "\n",
      " At random state:- 59 Testing Accuracy and Training Accuracy are:-  95.9 and 95.9 respectively\n",
      "\n",
      " At random state:- 60 Testing Accuracy and Training Accuracy are:-  95.8 and 95.9 respectively\n",
      "\n",
      " At random state:- 61 Testing Accuracy and Training Accuracy are:-  95.9 and 95.8 respectively\n",
      "\n",
      " At random state:- 62 Testing Accuracy and Training Accuracy are:-  95.9 and 95.9 respectively\n",
      "\n",
      " At random state:- 63 Testing Accuracy and Training Accuracy are:-  95.8 and 95.9 respectively\n",
      "\n",
      " At random state:- 64 Testing Accuracy and Training Accuracy are:-  96.0 and 95.8 respectively\n",
      "\n",
      " At random state:- 65 Testing Accuracy and Training Accuracy are:-  96.0 and 95.8 respectively\n",
      "\n",
      " At random state:- 66 Testing Accuracy and Training Accuracy are:-  95.8 and 95.8 respectively\n",
      "\n",
      " At random state:- 67 Testing Accuracy and Training Accuracy are:-  95.9 and 95.9 respectively\n",
      "\n",
      " At random state:- 68 Testing Accuracy and Training Accuracy are:-  95.8 and 95.9 respectively\n",
      "\n",
      " At random state:- 69 Testing Accuracy and Training Accuracy are:-  95.8 and 95.9 respectively\n",
      "\n",
      " At random state:- 70 Testing Accuracy and Training Accuracy are:-  96.0 and 95.8 respectively\n",
      "\n",
      " At random state:- 71 Testing Accuracy and Training Accuracy are:-  95.7 and 95.9 respectively\n",
      "\n",
      " At random state:- 72 Testing Accuracy and Training Accuracy are:-  96.0 and 95.8 respectively\n",
      "\n",
      " At random state:- 73 Testing Accuracy and Training Accuracy are:-  95.9 and 95.9 respectively\n",
      "\n",
      " At random state:- 74 Testing Accuracy and Training Accuracy are:-  95.9 and 95.9 respectively\n",
      "\n",
      " At random state:- 75 Testing Accuracy and Training Accuracy are:-  95.8 and 95.9 respectively\n",
      "\n",
      " At random state:- 76 Testing Accuracy and Training Accuracy are:-  95.8 and 95.9 respectively\n",
      "\n",
      " At random state:- 77 Testing Accuracy and Training Accuracy are:-  95.9 and 95.9 respectively\n",
      "\n",
      " At random state:- 78 Testing Accuracy and Training Accuracy are:-  95.9 and 95.9 respectively\n",
      "\n",
      " At random state:- 79 Testing Accuracy and Training Accuracy are:-  95.8 and 95.9 respectively\n",
      "\n",
      " At random state:- 80 Testing Accuracy and Training Accuracy are:-  95.8 and 95.9 respectively\n",
      "\n",
      " At random state:- 81 Testing Accuracy and Training Accuracy are:-  96.1 and 95.8 respectively\n",
      "\n",
      " At random state:- 82 Testing Accuracy and Training Accuracy are:-  95.9 and 95.9 respectively\n",
      "\n",
      " At random state:- 83 Testing Accuracy and Training Accuracy are:-  96.0 and 95.8 respectively\n",
      "\n",
      " At random state:- 84 Testing Accuracy and Training Accuracy are:-  96.0 and 95.8 respectively\n",
      "\n",
      " At random state:- 85 Testing Accuracy and Training Accuracy are:-  95.9 and 95.9 respectively\n",
      "\n",
      " At random state:- 86 Testing Accuracy and Training Accuracy are:-  96.0 and 95.8 respectively\n",
      "\n",
      " At random state:- 87 Testing Accuracy and Training Accuracy are:-  95.8 and 95.9 respectively\n",
      "\n",
      " At random state:- 88 Testing Accuracy and Training Accuracy are:-  96.1 and 95.8 respectively\n",
      "\n",
      " At random state:- 89 Testing Accuracy and Training Accuracy are:-  95.9 and 95.9 respectively\n"
     ]
    }
   ],
   "source": [
    "#Using MLP Classifier to get the best Random state \n",
    "mlp=MLPClassifier()\n",
    "for i in range(0,90):\n",
    "    x_train,x_test,y_train,y_test=train_test_split(X_Scaled,Y,random_state=i,test_size=0.20)\n",
    "    mlp.fit(x_train,y_train)\n",
    "    pred_train=mlp.predict(x_train)\n",
    "    pred_test=mlp.predict(x_test)\n",
    "    print('\\n',\"At random state:-\",i,\"Testing Accuracy and Training Accuracy are:- \",round(accuracy_score(y_test,pred_test)*100,1), \"and\", round(accuracy_score(y_train,pred_train)*100,1), \"respectively\")"
   ]
  },
  {
   "cell_type": "markdown",
   "id": "6f25e323",
   "metadata": {},
   "source": [
    "The best accuracy is 96% at random state 88"
   ]
  },
  {
   "cell_type": "markdown",
   "id": "a1a77b2b",
   "metadata": {},
   "source": [
    "We have found best_random state value as 88. We will now create our tain_test_splitusing this randome_state"
   ]
  },
  {
   "cell_type": "markdown",
   "id": "855f4582",
   "metadata": {},
   "source": [
    "# Creating train_test_split...."
   ]
  },
  {
   "cell_type": "code",
   "execution_count": 112,
   "id": "3fa82b29",
   "metadata": {},
   "outputs": [],
   "source": [
    "x_train,x_test,y_train,y_test=train_test_split(X_Scaled,Y,random_state=88,test_size=0.20)"
   ]
  },
  {
   "cell_type": "markdown",
   "id": "11ea3bbe",
   "metadata": {},
   "source": [
    "# Training Model and Metrics Measurement"
   ]
  },
  {
   "cell_type": "code",
   "execution_count": 113,
   "id": "72b1b994",
   "metadata": {},
   "outputs": [
    {
     "name": "stdout",
     "output_type": "stream",
     "text": [
      "Test_Accuracy  96.11\n",
      "Confusion Matrix  [[28732   170]\n",
      " [ 1071  1942]]\n",
      "Classification Report                precision    recall  f1-score   support\n",
      "\n",
      "           0       0.96      0.99      0.98     28902\n",
      "           1       0.92      0.64      0.76      3013\n",
      "\n",
      "    accuracy                           0.96     31915\n",
      "   macro avg       0.94      0.82      0.87     31915\n",
      "weighted avg       0.96      0.96      0.96     31915\n",
      "\n"
     ]
    }
   ],
   "source": [
    "mlp=MLPClassifier()\n",
    "mlp.fit(x_train,y_train)\n",
    "pred_test=mlp.predict(x_test)\n",
    "pred_train=mlp.predict(x_train)\n",
    "Test_Accuracy_mlp= (accuracy_score(y_test,pred_test))\n",
    "Train_Accuracy_mlp= (accuracy_score(y_train,pred_train))\n",
    "print(\"Test_Accuracy \",round(accuracy_score(y_test,pred_test)*100,2))#testing score\n",
    "print(\"Confusion Matrix \", confusion_matrix(y_test,pred_test))\n",
    "print(\"Classification Report \", classification_report(y_test,pred_test))"
   ]
  },
  {
   "cell_type": "markdown",
   "id": "88ec706f",
   "metadata": {},
   "source": [
    "MLP Classifier is producing good accuracy = 96%. Now we will check Cross Validation score as well for overfitting(if exists)."
   ]
  },
  {
   "cell_type": "markdown",
   "id": "5206d396",
   "metadata": {},
   "source": [
    "# Cross Validation Score"
   ]
  },
  {
   "cell_type": "code",
   "execution_count": 114,
   "id": "135044a2",
   "metadata": {},
   "outputs": [
    {
     "name": "stdout",
     "output_type": "stream",
     "text": [
      "[0.92818424 0.91539763 0.94795388 0.93382215 0.40480667]\n",
      "Cross Validation Score is  0.8260329123003111\n"
     ]
    }
   ],
   "source": [
    "#Validation accuracy\n",
    "vac=cross_val_score(mlp,X,Y,cv=5)\n",
    "CV_Score_mlp=vac.mean() \n",
    "print(vac)\n",
    "print(\"Cross Validation Score is \",CV_Score_mlp)"
   ]
  },
  {
   "cell_type": "markdown",
   "id": "85cbea5f",
   "metadata": {},
   "source": [
    "# Difference between Accuracy Score and Cross Validation Score"
   ]
  },
  {
   "cell_type": "code",
   "execution_count": 115,
   "id": "f813adf2",
   "metadata": {},
   "outputs": [
    {
     "data": {
      "text/plain": [
       "0.9611154629484568"
      ]
     },
     "execution_count": 115,
     "metadata": {},
     "output_type": "execute_result"
    }
   ],
   "source": [
    "Test_Accuracy_mlp"
   ]
  },
  {
   "cell_type": "code",
   "execution_count": 116,
   "id": "3a093e2a",
   "metadata": {},
   "outputs": [
    {
     "data": {
      "text/plain": [
       "0.8260329123003111"
      ]
     },
     "execution_count": 116,
     "metadata": {},
     "output_type": "execute_result"
    }
   ],
   "source": [
    "CV_Score_mlp"
   ]
  },
  {
   "cell_type": "code",
   "execution_count": 117,
   "id": "fb69e6ad",
   "metadata": {},
   "outputs": [
    {
     "name": "stdout",
     "output_type": "stream",
     "text": [
      "Difference between Accuracy and Cross Validation Score =  0.13508255064814578\n"
     ]
    }
   ],
   "source": [
    "mlp_Acc_vs_CV_Score=np.abs(Test_Accuracy_mlp-CV_Score_mlp)\n",
    "print(\"Difference between Accuracy and Cross Validation Score = \",mlp_Acc_vs_CV_Score)"
   ]
  },
  {
   "cell_type": "markdown",
   "id": "30f6ebf5",
   "metadata": {},
   "source": [
    "From the above you can see that difference between Accuracy and Cross Validation score is low(0.0259) meaning that our model is very good and not having any overfitting or underfitting problems!!"
   ]
  },
  {
   "cell_type": "markdown",
   "id": "b4b201f4",
   "metadata": {},
   "source": [
    "# 5.8 - GaussianNB Classifier"
   ]
  },
  {
   "cell_type": "markdown",
   "id": "b73ca276",
   "metadata": {},
   "source": [
    "# Best Random State "
   ]
  },
  {
   "cell_type": "code",
   "execution_count": 161,
   "id": "f68698c2",
   "metadata": {},
   "outputs": [
    {
     "name": "stdout",
     "output_type": "stream",
     "text": [
      "\n",
      " At random state:- 0 Testing Accuracy and Training Accuracy are:-  95.7 and 95.9 respectively\n",
      "\n",
      " At random state:- 1 Testing Accuracy and Training Accuracy are:-  95.8 and 95.9 respectively\n",
      "\n",
      " At random state:- 2 Testing Accuracy and Training Accuracy are:-  95.8 and 95.9 respectively\n",
      "\n",
      " At random state:- 3 Testing Accuracy and Training Accuracy are:-  96.0 and 95.8 respectively\n",
      "\n",
      " At random state:- 4 Testing Accuracy and Training Accuracy are:-  95.8 and 95.9 respectively\n",
      "\n",
      " At random state:- 5 Testing Accuracy and Training Accuracy are:-  95.9 and 95.8 respectively\n",
      "\n",
      " At random state:- 6 Testing Accuracy and Training Accuracy are:-  95.7 and 95.9 respectively\n",
      "\n",
      " At random state:- 7 Testing Accuracy and Training Accuracy are:-  95.8 and 95.9 respectively\n",
      "\n",
      " At random state:- 8 Testing Accuracy and Training Accuracy are:-  95.8 and 95.9 respectively\n",
      "\n",
      " At random state:- 9 Testing Accuracy and Training Accuracy are:-  95.7 and 95.9 respectively\n",
      "\n",
      " At random state:- 10 Testing Accuracy and Training Accuracy are:-  96.0 and 95.8 respectively\n",
      "\n",
      " At random state:- 11 Testing Accuracy and Training Accuracy are:-  95.8 and 95.9 respectively\n",
      "\n",
      " At random state:- 12 Testing Accuracy and Training Accuracy are:-  95.8 and 95.9 respectively\n",
      "\n",
      " At random state:- 13 Testing Accuracy and Training Accuracy are:-  95.9 and 95.8 respectively\n",
      "\n",
      " At random state:- 14 Testing Accuracy and Training Accuracy are:-  95.7 and 95.9 respectively\n",
      "\n",
      " At random state:- 15 Testing Accuracy and Training Accuracy are:-  95.8 and 95.9 respectively\n",
      "\n",
      " At random state:- 16 Testing Accuracy and Training Accuracy are:-  95.8 and 95.9 respectively\n",
      "\n",
      " At random state:- 17 Testing Accuracy and Training Accuracy are:-  95.9 and 95.9 respectively\n",
      "\n",
      " At random state:- 18 Testing Accuracy and Training Accuracy are:-  95.7 and 95.9 respectively\n",
      "\n",
      " At random state:- 19 Testing Accuracy and Training Accuracy are:-  96.0 and 95.8 respectively\n",
      "\n",
      " At random state:- 20 Testing Accuracy and Training Accuracy are:-  95.8 and 95.9 respectively\n",
      "\n",
      " At random state:- 21 Testing Accuracy and Training Accuracy are:-  95.8 and 95.9 respectively\n",
      "\n",
      " At random state:- 22 Testing Accuracy and Training Accuracy are:-  95.8 and 95.9 respectively\n",
      "\n",
      " At random state:- 23 Testing Accuracy and Training Accuracy are:-  95.8 and 95.9 respectively\n",
      "\n",
      " At random state:- 24 Testing Accuracy and Training Accuracy are:-  95.7 and 95.9 respectively\n",
      "\n",
      " At random state:- 25 Testing Accuracy and Training Accuracy are:-  95.9 and 95.9 respectively\n",
      "\n",
      " At random state:- 26 Testing Accuracy and Training Accuracy are:-  95.8 and 95.9 respectively\n",
      "\n",
      " At random state:- 27 Testing Accuracy and Training Accuracy are:-  95.8 and 95.9 respectively\n",
      "\n",
      " At random state:- 28 Testing Accuracy and Training Accuracy are:-  96.1 and 95.8 respectively\n",
      "\n",
      " At random state:- 29 Testing Accuracy and Training Accuracy are:-  96.0 and 95.8 respectively\n",
      "\n",
      " At random state:- 30 Testing Accuracy and Training Accuracy are:-  96.0 and 95.8 respectively\n",
      "\n",
      " At random state:- 31 Testing Accuracy and Training Accuracy are:-  95.7 and 95.9 respectively\n",
      "\n",
      " At random state:- 32 Testing Accuracy and Training Accuracy are:-  95.8 and 95.9 respectively\n",
      "\n",
      " At random state:- 33 Testing Accuracy and Training Accuracy are:-  95.9 and 95.9 respectively\n",
      "\n",
      " At random state:- 34 Testing Accuracy and Training Accuracy are:-  95.9 and 95.9 respectively\n",
      "\n",
      " At random state:- 35 Testing Accuracy and Training Accuracy are:-  96.0 and 95.8 respectively\n",
      "\n",
      " At random state:- 36 Testing Accuracy and Training Accuracy are:-  95.9 and 95.9 respectively\n",
      "\n",
      " At random state:- 37 Testing Accuracy and Training Accuracy are:-  95.6 and 95.9 respectively\n",
      "\n",
      " At random state:- 38 Testing Accuracy and Training Accuracy are:-  95.8 and 95.9 respectively\n",
      "\n",
      " At random state:- 39 Testing Accuracy and Training Accuracy are:-  96.0 and 95.8 respectively\n",
      "\n",
      " At random state:- 40 Testing Accuracy and Training Accuracy are:-  95.8 and 95.9 respectively\n",
      "\n",
      " At random state:- 41 Testing Accuracy and Training Accuracy are:-  95.9 and 95.9 respectively\n",
      "\n",
      " At random state:- 42 Testing Accuracy and Training Accuracy are:-  96.0 and 95.8 respectively\n",
      "\n",
      " At random state:- 43 Testing Accuracy and Training Accuracy are:-  95.9 and 95.9 respectively\n",
      "\n",
      " At random state:- 44 Testing Accuracy and Training Accuracy are:-  95.9 and 95.9 respectively\n",
      "\n",
      " At random state:- 45 Testing Accuracy and Training Accuracy are:-  96.0 and 95.8 respectively\n",
      "\n",
      " At random state:- 46 Testing Accuracy and Training Accuracy are:-  95.8 and 95.9 respectively\n",
      "\n",
      " At random state:- 47 Testing Accuracy and Training Accuracy are:-  95.9 and 95.9 respectively\n",
      "\n",
      " At random state:- 48 Testing Accuracy and Training Accuracy are:-  95.8 and 95.9 respectively\n",
      "\n",
      " At random state:- 49 Testing Accuracy and Training Accuracy are:-  95.9 and 95.9 respectively\n",
      "\n",
      " At random state:- 50 Testing Accuracy and Training Accuracy are:-  95.8 and 95.9 respectively\n",
      "\n",
      " At random state:- 51 Testing Accuracy and Training Accuracy are:-  95.6 and 95.9 respectively\n",
      "\n",
      " At random state:- 52 Testing Accuracy and Training Accuracy are:-  96.0 and 95.8 respectively\n",
      "\n",
      " At random state:- 53 Testing Accuracy and Training Accuracy are:-  95.9 and 95.9 respectively\n",
      "\n",
      " At random state:- 54 Testing Accuracy and Training Accuracy are:-  95.8 and 95.9 respectively\n",
      "\n",
      " At random state:- 55 Testing Accuracy and Training Accuracy are:-  95.8 and 95.9 respectively\n",
      "\n",
      " At random state:- 56 Testing Accuracy and Training Accuracy are:-  95.8 and 95.9 respectively\n",
      "\n",
      " At random state:- 57 Testing Accuracy and Training Accuracy are:-  95.9 and 95.9 respectively\n",
      "\n",
      " At random state:- 58 Testing Accuracy and Training Accuracy are:-  95.9 and 95.9 respectively\n",
      "\n",
      " At random state:- 59 Testing Accuracy and Training Accuracy are:-  95.9 and 95.9 respectively\n",
      "\n",
      " At random state:- 60 Testing Accuracy and Training Accuracy are:-  95.8 and 95.9 respectively\n",
      "\n",
      " At random state:- 61 Testing Accuracy and Training Accuracy are:-  95.9 and 95.9 respectively\n",
      "\n",
      " At random state:- 62 Testing Accuracy and Training Accuracy are:-  95.9 and 95.8 respectively\n",
      "\n",
      " At random state:- 63 Testing Accuracy and Training Accuracy are:-  95.8 and 95.9 respectively\n",
      "\n",
      " At random state:- 64 Testing Accuracy and Training Accuracy are:-  96.0 and 95.8 respectively\n",
      "\n",
      " At random state:- 65 Testing Accuracy and Training Accuracy are:-  96.0 and 95.8 respectively\n",
      "\n",
      " At random state:- 66 Testing Accuracy and Training Accuracy are:-  95.9 and 95.9 respectively\n",
      "\n",
      " At random state:- 67 Testing Accuracy and Training Accuracy are:-  95.9 and 95.9 respectively\n",
      "\n",
      " At random state:- 68 Testing Accuracy and Training Accuracy are:-  95.8 and 95.9 respectively\n",
      "\n",
      " At random state:- 69 Testing Accuracy and Training Accuracy are:-  95.8 and 95.9 respectively\n",
      "\n",
      " At random state:- 70 Testing Accuracy and Training Accuracy are:-  96.0 and 95.8 respectively\n",
      "\n",
      " At random state:- 71 Testing Accuracy and Training Accuracy are:-  95.7 and 95.9 respectively\n",
      "\n",
      " At random state:- 72 Testing Accuracy and Training Accuracy are:-  96.0 and 95.8 respectively\n",
      "\n",
      " At random state:- 73 Testing Accuracy and Training Accuracy are:-  95.9 and 95.9 respectively\n",
      "\n",
      " At random state:- 74 Testing Accuracy and Training Accuracy are:-  95.9 and 95.9 respectively\n",
      "\n",
      " At random state:- 75 Testing Accuracy and Training Accuracy are:-  95.8 and 95.9 respectively\n",
      "\n",
      " At random state:- 76 Testing Accuracy and Training Accuracy are:-  95.8 and 95.9 respectively\n",
      "\n",
      " At random state:- 77 Testing Accuracy and Training Accuracy are:-  95.9 and 95.9 respectively\n",
      "\n",
      " At random state:- 78 Testing Accuracy and Training Accuracy are:-  95.9 and 95.9 respectively\n",
      "\n",
      " At random state:- 79 Testing Accuracy and Training Accuracy are:-  95.8 and 95.9 respectively\n",
      "\n",
      " At random state:- 80 Testing Accuracy and Training Accuracy are:-  95.8 and 95.9 respectively\n",
      "\n",
      " At random state:- 81 Testing Accuracy and Training Accuracy are:-  96.1 and 95.8 respectively\n",
      "\n",
      " At random state:- 82 Testing Accuracy and Training Accuracy are:-  95.9 and 95.9 respectively\n",
      "\n",
      " At random state:- 83 Testing Accuracy and Training Accuracy are:-  96.0 and 95.8 respectively\n",
      "\n",
      " At random state:- 84 Testing Accuracy and Training Accuracy are:-  96.0 and 95.8 respectively\n",
      "\n",
      " At random state:- 85 Testing Accuracy and Training Accuracy are:-  95.9 and 95.9 respectively\n",
      "\n",
      " At random state:- 86 Testing Accuracy and Training Accuracy are:-  96.0 and 95.8 respectively\n",
      "\n",
      " At random state:- 87 Testing Accuracy and Training Accuracy are:-  95.8 and 95.9 respectively\n",
      "\n",
      " At random state:- 88 Testing Accuracy and Training Accuracy are:-  96.1 and 95.8 respectively\n",
      "\n",
      " At random state:- 89 Testing Accuracy and Training Accuracy are:-  95.9 and 95.9 respectively\n",
      "\n",
      " At random state:- 90 Testing Accuracy and Training Accuracy are:-  96.0 and 95.8 respectively\n"
     ]
    }
   ],
   "source": [
    "#Using GaussianNB Classifier to get the best Random state\n",
    "nb=GaussianNB()\n",
    "for i in range(0,91):\n",
    "    x_train,x_test,y_train,y_test=train_test_split(X_Scaled,Y,random_state=i,test_size=0.20)\n",
    "    nb.fit(x_train,y_train)\n",
    "    pred_train=nb.predict(x_train)\n",
    "    pred_test=nb.predict(x_test)\n",
    "    print('\\n',\"At random state:-\",i,\"Testing Accuracy and Training Accuracy are:- \",round(accuracy_score(y_test,pred_test)*100,1), \"and\", round(accuracy_score(y_train,pred_train)*100,1), \"respectively\")"
   ]
  },
  {
   "cell_type": "markdown",
   "id": "a8eccc2c",
   "metadata": {},
   "source": [
    "The best accuracy is 96% at random state 88"
   ]
  },
  {
   "cell_type": "markdown",
   "id": "7ac63c15",
   "metadata": {},
   "source": [
    "We have found best_random state value as 88. We will now create our tain_test_split using this randome_state"
   ]
  },
  {
   "cell_type": "markdown",
   "id": "5f36bd25",
   "metadata": {},
   "source": [
    "# Creating train_test_split...."
   ]
  },
  {
   "cell_type": "code",
   "execution_count": 118,
   "id": "95a88b8c",
   "metadata": {},
   "outputs": [],
   "source": [
    "x_train,x_test,y_train,y_test=train_test_split(X_Scaled,Y,random_state=88,test_size=0.20)"
   ]
  },
  {
   "cell_type": "markdown",
   "id": "c876930d",
   "metadata": {},
   "source": [
    "# Training Model and Metrics Measurement\n"
   ]
  },
  {
   "cell_type": "code",
   "execution_count": 119,
   "id": "2bc739ea",
   "metadata": {},
   "outputs": [
    {
     "name": "stdout",
     "output_type": "stream",
     "text": [
      "Test_Accuracy  96.11\n",
      "Confusion Matrix  [[28731   171]\n",
      " [ 1069  1944]]\n",
      "Classification Report                precision    recall  f1-score   support\n",
      "\n",
      "           0       0.96      0.99      0.98     28902\n",
      "           1       0.92      0.65      0.76      3013\n",
      "\n",
      "    accuracy                           0.96     31915\n",
      "   macro avg       0.94      0.82      0.87     31915\n",
      "weighted avg       0.96      0.96      0.96     31915\n",
      "\n"
     ]
    }
   ],
   "source": [
    "nb=GaussianNB()\n",
    "nb.fit(x_train,y_train)\n",
    "pred_test=nb.predict(x_test)\n",
    "pred_train=nb.predict(x_train)\n",
    "Test_Accuracy_nb= (accuracy_score(y_test,pred_test))\n",
    "Train_Accuracy_nb= (accuracy_score(y_train,pred_train))\n",
    "print(\"Test_Accuracy \",round(accuracy_score(y_test,pred_test)*100,2))#testing score\n",
    "print(\"Confusion Matrix \", confusion_matrix(y_test,pred_test))\n",
    "print(\"Classification Report \", classification_report(y_test,pred_test))"
   ]
  },
  {
   "cell_type": "markdown",
   "id": "6866a0d7",
   "metadata": {},
   "source": [
    "GaussianNB is producing good accuracy 96%. Now we will check Cross Validation score as well for overfitting(if exists)."
   ]
  },
  {
   "cell_type": "markdown",
   "id": "ab1104a9",
   "metadata": {},
   "source": [
    "# Cross Validation Score"
   ]
  },
  {
   "cell_type": "code",
   "execution_count": 120,
   "id": "13f0abf0",
   "metadata": {},
   "outputs": [
    {
     "name": "stdout",
     "output_type": "stream",
     "text": [
      "[0.90415165 0.90417998 0.90414865 0.90414865 0.90414865]\n",
      "Cross Validation Score is  0.9041555170041183\n"
     ]
    }
   ],
   "source": [
    "#Validation accuracy\n",
    "vac=cross_val_score(nb,X,Y,cv=5)\n",
    "CV_Score_nb=vac.mean() \n",
    "print(vac)\n",
    "print(\"Cross Validation Score is \",CV_Score_nb)"
   ]
  },
  {
   "cell_type": "markdown",
   "id": "330419a5",
   "metadata": {},
   "source": [
    "# Difference between Accuracy Score and Cross Validation Score"
   ]
  },
  {
   "cell_type": "code",
   "execution_count": 121,
   "id": "d2c4b01d",
   "metadata": {},
   "outputs": [
    {
     "data": {
      "text/plain": [
       "0.9611467961773461"
      ]
     },
     "execution_count": 121,
     "metadata": {},
     "output_type": "execute_result"
    }
   ],
   "source": [
    "Test_Accuracy_nb"
   ]
  },
  {
   "cell_type": "code",
   "execution_count": 122,
   "id": "4390a950",
   "metadata": {},
   "outputs": [
    {
     "data": {
      "text/plain": [
       "0.9041555170041183"
      ]
     },
     "execution_count": 122,
     "metadata": {},
     "output_type": "execute_result"
    }
   ],
   "source": [
    "CV_Score_nb"
   ]
  },
  {
   "cell_type": "code",
   "execution_count": 123,
   "id": "0512d32a",
   "metadata": {},
   "outputs": [
    {
     "name": "stdout",
     "output_type": "stream",
     "text": [
      "Difference between Accuracy and Cross Validation Score =  0.05699127917322777\n"
     ]
    }
   ],
   "source": [
    "nb_Acc_vs_CV_Score=np.abs(Test_Accuracy_nb-CV_Score_nb)\n",
    "print(\"Difference between Accuracy and Cross Validation Score = \",nb_Acc_vs_CV_Score)"
   ]
  },
  {
   "cell_type": "markdown",
   "id": "021152b3",
   "metadata": {},
   "source": [
    "From the above you can see that difference between Accuracy and Cross Validation score is neglible(0.057) meaning that our model is very good and not having any overfitting or underfitting problems!!\n",
    "\n",
    "We would love to improve on this Accuracy by applying the Hyperparameter Tunning, However lets see the Accuracy of other Models!"
   ]
  },
  {
   "cell_type": "markdown",
   "id": "bada631b",
   "metadata": {},
   "source": [
    " Now that we have build 8 models in total lets compare each of them and find the best Model!"
   ]
  },
  {
   "cell_type": "markdown",
   "id": "a570c0e4",
   "metadata": {},
   "source": [
    "# Step 6 - COMPARING ALL EIGHT MACHINE LEARNING MODELS"
   ]
  },
  {
   "cell_type": "markdown",
   "id": "3c59388e",
   "metadata": {},
   "source": [
    "# 6.1 - Creating a Dataframe for Accuracy Comparison"
   ]
  },
  {
   "cell_type": "markdown",
   "id": "2ca4c4a0",
   "metadata": {},
   "source": [
    "Lets create a dataframe that will juxtapose the metrics of all the models..."
   ]
  },
  {
   "cell_type": "code",
   "execution_count": 124,
   "id": "0e618f86",
   "metadata": {},
   "outputs": [
    {
     "data": {
      "text/html": [
       "<div>\n",
       "<style scoped>\n",
       "    .dataframe tbody tr th:only-of-type {\n",
       "        vertical-align: middle;\n",
       "    }\n",
       "\n",
       "    .dataframe tbody tr th {\n",
       "        vertical-align: top;\n",
       "    }\n",
       "\n",
       "    .dataframe thead th {\n",
       "        text-align: right;\n",
       "    }\n",
       "</style>\n",
       "<table border=\"1\" class=\"dataframe\">\n",
       "  <thead>\n",
       "    <tr style=\"text-align: right;\">\n",
       "      <th></th>\n",
       "      <th>Model</th>\n",
       "      <th>Accuracy_Score</th>\n",
       "      <th>Cross_Validation_Score</th>\n",
       "      <th>Accuracy_VS_CVScore</th>\n",
       "    </tr>\n",
       "  </thead>\n",
       "  <tbody>\n",
       "    <tr>\n",
       "      <th>0</th>\n",
       "      <td>Logistic Regression</td>\n",
       "      <td>0.960708</td>\n",
       "      <td>0.904156</td>\n",
       "      <td>0.056553</td>\n",
       "    </tr>\n",
       "    <tr>\n",
       "      <th>1</th>\n",
       "      <td>KNN Classifier</td>\n",
       "      <td>0.959235</td>\n",
       "      <td>0.894386</td>\n",
       "      <td>0.064850</td>\n",
       "    </tr>\n",
       "    <tr>\n",
       "      <th>2</th>\n",
       "      <td>Gradient Boosting Classifier</td>\n",
       "      <td>0.961053</td>\n",
       "      <td>0.958589</td>\n",
       "      <td>0.002464</td>\n",
       "    </tr>\n",
       "    <tr>\n",
       "      <th>3</th>\n",
       "      <td>XgBoost</td>\n",
       "      <td>0.960833</td>\n",
       "      <td>0.958106</td>\n",
       "      <td>0.002727</td>\n",
       "    </tr>\n",
       "    <tr>\n",
       "      <th>4</th>\n",
       "      <td>Extra Trees Classifier</td>\n",
       "      <td>0.960833</td>\n",
       "      <td>0.958106</td>\n",
       "      <td>0.002727</td>\n",
       "    </tr>\n",
       "    <tr>\n",
       "      <th>5</th>\n",
       "      <td>Support Vector Classifier</td>\n",
       "      <td>0.961147</td>\n",
       "      <td>0.904156</td>\n",
       "      <td>0.056991</td>\n",
       "    </tr>\n",
       "    <tr>\n",
       "      <th>6</th>\n",
       "      <td>MLP Classifier</td>\n",
       "      <td>0.961115</td>\n",
       "      <td>0.826033</td>\n",
       "      <td>0.135083</td>\n",
       "    </tr>\n",
       "    <tr>\n",
       "      <th>7</th>\n",
       "      <td>GaussianNB Classifier</td>\n",
       "      <td>0.961147</td>\n",
       "      <td>0.904156</td>\n",
       "      <td>0.056991</td>\n",
       "    </tr>\n",
       "  </tbody>\n",
       "</table>\n",
       "</div>"
      ],
      "text/plain": [
       "                          Model  Accuracy_Score  Cross_Validation_Score  \\\n",
       "0           Logistic Regression        0.960708                0.904156   \n",
       "1                KNN Classifier        0.959235                0.894386   \n",
       "2  Gradient Boosting Classifier        0.961053                0.958589   \n",
       "3                       XgBoost        0.960833                0.958106   \n",
       "4        Extra Trees Classifier        0.960833                0.958106   \n",
       "5     Support Vector Classifier        0.961147                0.904156   \n",
       "6                MLP Classifier        0.961115                0.826033   \n",
       "7         GaussianNB Classifier        0.961147                0.904156   \n",
       "\n",
       "   Accuracy_VS_CVScore  \n",
       "0             0.056553  \n",
       "1             0.064850  \n",
       "2             0.002464  \n",
       "3             0.002727  \n",
       "4             0.002727  \n",
       "5             0.056991  \n",
       "6             0.135083  \n",
       "7             0.056991  "
      ]
     },
     "execution_count": 124,
     "metadata": {},
     "output_type": "execute_result"
    }
   ],
   "source": [
    "#Constructing a dataframe...\n",
    "models = pd.DataFrame({'Model' : ['Logistic Regression','KNN Classifier','Gradient Boosting Classifier', 'XgBoost','Extra Trees Classifier','Support Vector Classifier','MLP Classifier','GaussianNB Classifier'],'Accuracy_Score' : [Test_Accuracy_lr,Test_Accuracy_knn,Test_Accuracy_gb,Test_Accuracy_xgb,Test_Accuracy_ex,Test_Accuracy_sv,Test_Accuracy_mlp,Test_Accuracy_nb],'Cross_Validation_Score':[CV_Score_lr,CV_Score_knn,CV_Score_gb,CV_Score_xgb,CV_Score_ex,CV_Score_sv,CV_Score_mlp,CV_Score_nb],'Accuracy_VS_CVScore':[lr_Acc_vs_CV_Score,knn_Acc_vs_CV_Score,gb_Acc_vs_CV_Score,xgb_Acc_vs_CV_Score,ex_Acc_vs_CV_Score,sv_Acc_vs_CV_Score,mlp_Acc_vs_CV_Score,nb_Acc_vs_CV_Score]})\n",
    "models"
   ]
  },
  {
   "cell_type": "code",
   "execution_count": 125,
   "id": "77868d6b",
   "metadata": {},
   "outputs": [
    {
     "data": {
      "text/html": [
       "<div>\n",
       "<style scoped>\n",
       "    .dataframe tbody tr th:only-of-type {\n",
       "        vertical-align: middle;\n",
       "    }\n",
       "\n",
       "    .dataframe tbody tr th {\n",
       "        vertical-align: top;\n",
       "    }\n",
       "\n",
       "    .dataframe thead th {\n",
       "        text-align: right;\n",
       "    }\n",
       "</style>\n",
       "<table border=\"1\" class=\"dataframe\">\n",
       "  <thead>\n",
       "    <tr style=\"text-align: right;\">\n",
       "      <th></th>\n",
       "      <th>Model</th>\n",
       "      <th>Accuracy_Score</th>\n",
       "      <th>Cross_Validation_Score</th>\n",
       "      <th>Accuracy_VS_CVScore</th>\n",
       "    </tr>\n",
       "  </thead>\n",
       "  <tbody>\n",
       "    <tr>\n",
       "      <th>2</th>\n",
       "      <td>Gradient Boosting Classifier</td>\n",
       "      <td>96.11</td>\n",
       "      <td>95.86</td>\n",
       "      <td>0.002464</td>\n",
       "    </tr>\n",
       "    <tr>\n",
       "      <th>5</th>\n",
       "      <td>Support Vector Classifier</td>\n",
       "      <td>96.11</td>\n",
       "      <td>90.42</td>\n",
       "      <td>0.056991</td>\n",
       "    </tr>\n",
       "    <tr>\n",
       "      <th>6</th>\n",
       "      <td>MLP Classifier</td>\n",
       "      <td>96.11</td>\n",
       "      <td>82.60</td>\n",
       "      <td>0.135083</td>\n",
       "    </tr>\n",
       "    <tr>\n",
       "      <th>7</th>\n",
       "      <td>GaussianNB Classifier</td>\n",
       "      <td>96.11</td>\n",
       "      <td>90.42</td>\n",
       "      <td>0.056991</td>\n",
       "    </tr>\n",
       "    <tr>\n",
       "      <th>3</th>\n",
       "      <td>XgBoost</td>\n",
       "      <td>96.08</td>\n",
       "      <td>95.81</td>\n",
       "      <td>0.002727</td>\n",
       "    </tr>\n",
       "    <tr>\n",
       "      <th>4</th>\n",
       "      <td>Extra Trees Classifier</td>\n",
       "      <td>96.08</td>\n",
       "      <td>95.81</td>\n",
       "      <td>0.002727</td>\n",
       "    </tr>\n",
       "    <tr>\n",
       "      <th>0</th>\n",
       "      <td>Logistic Regression</td>\n",
       "      <td>96.07</td>\n",
       "      <td>90.42</td>\n",
       "      <td>0.056553</td>\n",
       "    </tr>\n",
       "    <tr>\n",
       "      <th>1</th>\n",
       "      <td>KNN Classifier</td>\n",
       "      <td>95.92</td>\n",
       "      <td>89.44</td>\n",
       "      <td>0.064850</td>\n",
       "    </tr>\n",
       "  </tbody>\n",
       "</table>\n",
       "</div>"
      ],
      "text/plain": [
       "                          Model  Accuracy_Score  Cross_Validation_Score  \\\n",
       "2  Gradient Boosting Classifier           96.11                   95.86   \n",
       "5     Support Vector Classifier           96.11                   90.42   \n",
       "6                MLP Classifier           96.11                   82.60   \n",
       "7         GaussianNB Classifier           96.11                   90.42   \n",
       "3                       XgBoost           96.08                   95.81   \n",
       "4        Extra Trees Classifier           96.08                   95.81   \n",
       "0           Logistic Regression           96.07                   90.42   \n",
       "1                KNN Classifier           95.92                   89.44   \n",
       "\n",
       "   Accuracy_VS_CVScore  \n",
       "2             0.002464  \n",
       "5             0.056991  \n",
       "6             0.135083  \n",
       "7             0.056991  \n",
       "3             0.002727  \n",
       "4             0.002727  \n",
       "0             0.056553  \n",
       "1             0.064850  "
      ]
     },
     "execution_count": 125,
     "metadata": {},
     "output_type": "execute_result"
    }
   ],
   "source": [
    "#Converting Accuracy and Cross_Validation_Score into Percentage....\n",
    "models[\"Accuracy_Score\"] = (models[\"Accuracy_Score\"] * 100).round(2)\n",
    "models[\"Cross_Validation_Score\"] = (models[\"Cross_Validation_Score\"] * 100).round(2)\n",
    "models.sort_values(by = 'Accuracy_Score', ascending = False)"
   ]
  },
  {
   "cell_type": "code",
   "execution_count": 126,
   "id": "5aaab926",
   "metadata": {},
   "outputs": [
    {
     "data": {
      "image/png": "[encoded data removed]",
      "text/plain": [
       "<Figure size 720x360 with 1 Axes>"
      ]
     },
     "metadata": {
      "needs_background": "light"
     },
     "output_type": "display_data"
    }
   ],
   "source": [
    "#Now focusing on the Accuracy Score....\n",
    "plt.figure(figsize = (10, 5))\n",
    "sns.set_style('darkgrid')\n",
    "\n",
    "sns.barplot(x = 'Accuracy_Score', y = 'Model', data = models)\n",
    "\n",
    "plt.xlabel('Accuracy Score in %', fontsize = 15)\n",
    "plt.ylabel('ML Model', fontsize = 15)\n",
    "\n",
    "plt.title('ML Model Comparison', fontsize = 16)\n",
    "\n",
    "plt.show()"
   ]
  },
  {
   "cell_type": "markdown",
   "id": "2b5ed8df",
   "metadata": {},
   "source": [
    "Now from the above diagram it seems we have four models; Gradient Boosting, Support Vector, MLP and Guassian Classifiers producing the Highest Accuracy(96%), However, our aim is to find the BEST MODEL, so if we consider the difference Between Accuracy_Score and Cross_Validation_Score...."
   ]
  },
  {
   "cell_type": "markdown",
   "id": "a4c2b67c",
   "metadata": {},
   "source": [
    "# 6.2 - Comparing Differences between Accuracy and Cross_Validation Scores..."
   ]
  },
  {
   "cell_type": "markdown",
   "id": "ad5711dd",
   "metadata": {},
   "source": [
    "Lets sort by the column; Accuracy_VS_CVScore to have a good view of the differential between Accuracy_Score and CVScore"
   ]
  },
  {
   "cell_type": "code",
   "execution_count": 127,
   "id": "3e8dc770",
   "metadata": {},
   "outputs": [
    {
     "data": {
      "text/html": [
       "<div>\n",
       "<style scoped>\n",
       "    .dataframe tbody tr th:only-of-type {\n",
       "        vertical-align: middle;\n",
       "    }\n",
       "\n",
       "    .dataframe tbody tr th {\n",
       "        vertical-align: top;\n",
       "    }\n",
       "\n",
       "    .dataframe thead th {\n",
       "        text-align: right;\n",
       "    }\n",
       "</style>\n",
       "<table border=\"1\" class=\"dataframe\">\n",
       "  <thead>\n",
       "    <tr style=\"text-align: right;\">\n",
       "      <th></th>\n",
       "      <th>Model</th>\n",
       "      <th>Accuracy_Score</th>\n",
       "      <th>Cross_Validation_Score</th>\n",
       "      <th>Accuracy_VS_CVScore</th>\n",
       "    </tr>\n",
       "  </thead>\n",
       "  <tbody>\n",
       "    <tr>\n",
       "      <th>2</th>\n",
       "      <td>Gradient Boosting Classifier</td>\n",
       "      <td>96.11</td>\n",
       "      <td>95.86</td>\n",
       "      <td>0.002464</td>\n",
       "    </tr>\n",
       "    <tr>\n",
       "      <th>3</th>\n",
       "      <td>XgBoost</td>\n",
       "      <td>96.08</td>\n",
       "      <td>95.81</td>\n",
       "      <td>0.002727</td>\n",
       "    </tr>\n",
       "    <tr>\n",
       "      <th>4</th>\n",
       "      <td>Extra Trees Classifier</td>\n",
       "      <td>96.08</td>\n",
       "      <td>95.81</td>\n",
       "      <td>0.002727</td>\n",
       "    </tr>\n",
       "    <tr>\n",
       "      <th>0</th>\n",
       "      <td>Logistic Regression</td>\n",
       "      <td>96.07</td>\n",
       "      <td>90.42</td>\n",
       "      <td>0.056553</td>\n",
       "    </tr>\n",
       "    <tr>\n",
       "      <th>5</th>\n",
       "      <td>Support Vector Classifier</td>\n",
       "      <td>96.11</td>\n",
       "      <td>90.42</td>\n",
       "      <td>0.056991</td>\n",
       "    </tr>\n",
       "    <tr>\n",
       "      <th>7</th>\n",
       "      <td>GaussianNB Classifier</td>\n",
       "      <td>96.11</td>\n",
       "      <td>90.42</td>\n",
       "      <td>0.056991</td>\n",
       "    </tr>\n",
       "    <tr>\n",
       "      <th>1</th>\n",
       "      <td>KNN Classifier</td>\n",
       "      <td>95.92</td>\n",
       "      <td>89.44</td>\n",
       "      <td>0.064850</td>\n",
       "    </tr>\n",
       "    <tr>\n",
       "      <th>6</th>\n",
       "      <td>MLP Classifier</td>\n",
       "      <td>96.11</td>\n",
       "      <td>82.60</td>\n",
       "      <td>0.135083</td>\n",
       "    </tr>\n",
       "  </tbody>\n",
       "</table>\n",
       "</div>"
      ],
      "text/plain": [
       "                          Model  Accuracy_Score  Cross_Validation_Score  \\\n",
       "2  Gradient Boosting Classifier           96.11                   95.86   \n",
       "3                       XgBoost           96.08                   95.81   \n",
       "4        Extra Trees Classifier           96.08                   95.81   \n",
       "0           Logistic Regression           96.07                   90.42   \n",
       "5     Support Vector Classifier           96.11                   90.42   \n",
       "7         GaussianNB Classifier           96.11                   90.42   \n",
       "1                KNN Classifier           95.92                   89.44   \n",
       "6                MLP Classifier           96.11                   82.60   \n",
       "\n",
       "   Accuracy_VS_CVScore  \n",
       "2             0.002464  \n",
       "3             0.002727  \n",
       "4             0.002727  \n",
       "0             0.056553  \n",
       "5             0.056991  \n",
       "7             0.056991  \n",
       "1             0.064850  \n",
       "6             0.135083  "
      ]
     },
     "execution_count": 127,
     "metadata": {},
     "output_type": "execute_result"
    }
   ],
   "source": [
    "#Sorting....\n",
    "models.sort_values(by = 'Accuracy_VS_CVScore', ascending = True)"
   ]
  },
  {
   "cell_type": "code",
   "execution_count": 128,
   "id": "e81eeba2",
   "metadata": {},
   "outputs": [
    {
     "data": {
      "image/png": "[encoded data removed]",
      "text/plain": [
       "<Figure size 720x360 with 1 Axes>"
      ]
     },
     "metadata": {},
     "output_type": "display_data"
    }
   ],
   "source": [
    "#Now focusing on the differnce btw Accuracy Score and Cross_Validation Scores\n",
    "plt.figure(figsize = (10, 5))\n",
    "sns.set_style('darkgrid')\n",
    "\n",
    "sns.barplot(x = 'Accuracy_VS_CVScore', y = 'Model', data = models)\n",
    "\n",
    "plt.xlabel('Difference btw Accuracy Score and Cross_Validation Score ', fontsize = 15)\n",
    "plt.ylabel('ML Model', fontsize = 15)\n",
    "\n",
    "plt.title('Accuracy VS CVScore Comparison', fontsize = 16)\n",
    "\n",
    "plt.show()"
   ]
  },
  {
   "cell_type": "markdown",
   "id": "a57a36c6",
   "metadata": {},
   "source": [
    "From the above we can see the Model with least difference is Gradient Boosting Classifier!"
   ]
  },
  {
   "cell_type": "markdown",
   "id": "f9c82f26",
   "metadata": {},
   "source": [
    "# 6.3 - Conclusion on Choice of Model"
   ]
  },
  {
   "cell_type": "markdown",
   "id": "c9a4575b",
   "metadata": {},
   "source": [
    "From the above we can see:\n",
    "- The least difference is 0.002(very neglible)!\n",
    "\n",
    "- The Model with least difference is Gradient Boosting Classifier!"
   ]
  },
  {
   "cell_type": "markdown",
   "id": "948d0a0b",
   "metadata": {},
   "source": [
    "# Hence Optimum Machine Model Chosen = Gradient Boosting Classifier!\n",
    "\n",
    "From the above we can see:\n",
    "\n",
    "- Final Accuracy is 96%\n",
    "\n",
    "\n",
    "- That Gradient Boosting Classifier is the best!\n",
    "\n",
    "HENCE WE CAN CONCLUDE OUR MODEL IS PRETTY GOOD!!"
   ]
  },
  {
   "cell_type": "markdown",
   "id": "e79e761e",
   "metadata": {},
   "source": [
    "# Step 7 - HYPERPARAMETER TUNNING\n",
    " - Lets prepare list of parameters with options"
   ]
  },
  {
   "cell_type": "code",
   "execution_count": 129,
   "id": "e17b0136",
   "metadata": {},
   "outputs": [],
   "source": [
    "#intializing...\n",
    "gb=GradientBoostingClassifier()"
   ]
  },
  {
   "cell_type": "code",
   "execution_count": 130,
   "id": "985389bb",
   "metadata": {},
   "outputs": [],
   "source": [
    "grid_param = {'max_depth':[2,3],'min_samples_split':[2,3],'learning_rate':[0.1,0.2],'n_estimators':[50,100],'min_samples_leaf':[1,2],'criterion':['friedman_mse']}"
   ]
  },
  {
   "cell_type": "code",
   "execution_count": 131,
   "id": "a5dd8a96",
   "metadata": {},
   "outputs": [],
   "source": [
    "x_train,x_test,y_train,y_test=train_test_split(X_Scaled,Y,random_state=88,test_size=0.20)"
   ]
  },
  {
   "cell_type": "code",
   "execution_count": 132,
   "id": "c4e4bae8",
   "metadata": {},
   "outputs": [
    {
     "data": {
      "text/html": [
       "<style>#sk-container-id-1 {color: black;background-color: white;}#sk-container-id-1 pre{padding: 0;}#sk-container-id-1 div.sk-toggleable {background-color: white;}#sk-container-id-1 label.sk-toggleable__label {cursor: pointer;display: block;width: 100%;margin-bottom: 0;padding: 0.3em;box-sizing: border-box;text-align: center;}#sk-container-id-1 label.sk-toggleable__label-arrow:before {content: \"▸\";float: left;margin-right: 0.25em;color: #696969;}#sk-container-id-1 label.sk-toggleable__label-arrow:hover:before {color: black;}#sk-container-id-1 div.sk-estimator:hover label.sk-toggleable__label-arrow:before {color: black;}#sk-container-id-1 div.sk-toggleable__content {max-height: 0;max-width: 0;overflow: hidden;text-align: left;background-color: #f0f8ff;}#sk-container-id-1 div.sk-toggleable__content pre {margin: 0.2em;color: black;border-radius: 0.25em;background-color: #f0f8ff;}#sk-container-id-1 input.sk-toggleable__control:checked~div.sk-toggleable__content {max-height: 200px;max-width: 100%;overflow: auto;}#sk-container-id-1 input.sk-toggleable__control:checked~label.sk-toggleable__label-arrow:before {content: \"▾\";}#sk-container-id-1 div.sk-estimator input.sk-toggleable__control:checked~label.sk-toggleable__label {background-color: #d4ebff;}#sk-container-id-1 div.sk-label input.sk-toggleable__control:checked~label.sk-toggleable__label {background-color: #d4ebff;}#sk-container-id-1 input.sk-hidden--visually {border: 0;clip: rect(1px 1px 1px 1px);clip: rect(1px, 1px, 1px, 1px);height: 1px;margin: -1px;overflow: hidden;padding: 0;position: absolute;width: 1px;}#sk-container-id-1 div.sk-estimator {font-family: monospace;background-color: #f0f8ff;border: 1px dotted black;border-radius: 0.25em;box-sizing: border-box;margin-bottom: 0.5em;}#sk-container-id-1 div.sk-estimator:hover {background-color: #d4ebff;}#sk-container-id-1 div.sk-parallel-item::after {content: \"\";width: 100%;border-bottom: 1px solid gray;flex-grow: 1;}#sk-container-id-1 div.sk-label:hover label.sk-toggleable__label {background-color: #d4ebff;}#sk-container-id-1 div.sk-serial::before {content: \"\";position: absolute;border-left: 1px solid gray;box-sizing: border-box;top: 0;bottom: 0;left: 50%;z-index: 0;}#sk-container-id-1 div.sk-serial {display: flex;flex-direction: column;align-items: center;background-color: white;padding-right: 0.2em;padding-left: 0.2em;position: relative;}#sk-container-id-1 div.sk-item {position: relative;z-index: 1;}#sk-container-id-1 div.sk-parallel {display: flex;align-items: stretch;justify-content: center;background-color: white;position: relative;}#sk-container-id-1 div.sk-item::before, #sk-container-id-1 div.sk-parallel-item::before {content: \"\";position: absolute;border-left: 1px solid gray;box-sizing: border-box;top: 0;bottom: 0;left: 50%;z-index: -1;}#sk-container-id-1 div.sk-parallel-item {display: flex;flex-direction: column;z-index: 1;position: relative;background-color: white;}#sk-container-id-1 div.sk-parallel-item:first-child::after {align-self: flex-end;width: 50%;}#sk-container-id-1 div.sk-parallel-item:last-child::after {align-self: flex-start;width: 50%;}#sk-container-id-1 div.sk-parallel-item:only-child::after {width: 0;}#sk-container-id-1 div.sk-dashed-wrapped {border: 1px dashed gray;margin: 0 0.4em 0.5em 0.4em;box-sizing: border-box;padding-bottom: 0.4em;background-color: white;}#sk-container-id-1 div.sk-label label {font-family: monospace;font-weight: bold;display: inline-block;line-height: 1.2em;}#sk-container-id-1 div.sk-label-container {text-align: center;}#sk-container-id-1 div.sk-container {/* jupyter's `normalize.less` sets `[hidden] { display: none; }` but bootstrap.min.css set `[hidden] { display: none !important; }` so we also need the `!important` here to be able to override the default hidden behavior on the sphinx rendered scikit-learn.org. See: https://github.com/scikit-learn/scikit-learn/issues/21755 */display: inline-block !important;position: relative;}#sk-container-id-1 div.sk-text-repr-fallback {display: none;}</style><div id=\"sk-container-id-1\" class=\"sk-top-container\"><div class=\"sk-text-repr-fallback\"><pre>GridSearchCV(estimator=GradientBoostingClassifier(),\n",
       "             param_grid={&#x27;criterion&#x27;: [&#x27;friedman_mse&#x27;],\n",
       "                         &#x27;learning_rate&#x27;: [0.1, 0.2], &#x27;max_depth&#x27;: [2, 3],\n",
       "                         &#x27;min_samples_leaf&#x27;: [1, 2],\n",
       "                         &#x27;min_samples_split&#x27;: [2, 3],\n",
       "                         &#x27;n_estimators&#x27;: [50, 100]})</pre><b>In a Jupyter environment, please rerun this cell to show the HTML representation or trust the notebook. <br />On GitHub, the HTML representation is unable to render, please try loading this page with nbviewer.org.</b></div><div class=\"sk-container\" hidden><div class=\"sk-item sk-dashed-wrapped\"><div class=\"sk-label-container\"><div class=\"sk-label sk-toggleable\"><input class=\"sk-toggleable__control sk-hidden--visually\" id=\"sk-estimator-id-1\" type=\"checkbox\" ><label for=\"sk-estimator-id-1\" class=\"sk-toggleable__label sk-toggleable__label-arrow\">GridSearchCV</label><div class=\"sk-toggleable__content\"><pre>GridSearchCV(estimator=GradientBoostingClassifier(),\n",
       "             param_grid={&#x27;criterion&#x27;: [&#x27;friedman_mse&#x27;],\n",
       "                         &#x27;learning_rate&#x27;: [0.1, 0.2], &#x27;max_depth&#x27;: [2, 3],\n",
       "                         &#x27;min_samples_leaf&#x27;: [1, 2],\n",
       "                         &#x27;min_samples_split&#x27;: [2, 3],\n",
       "                         &#x27;n_estimators&#x27;: [50, 100]})</pre></div></div></div><div class=\"sk-parallel\"><div class=\"sk-parallel-item\"><div class=\"sk-item\"><div class=\"sk-label-container\"><div class=\"sk-label sk-toggleable\"><input class=\"sk-toggleable__control sk-hidden--visually\" id=\"sk-estimator-id-2\" type=\"checkbox\" ><label for=\"sk-estimator-id-2\" class=\"sk-toggleable__label sk-toggleable__label-arrow\">estimator: GradientBoostingClassifier</label><div class=\"sk-toggleable__content\"><pre>GradientBoostingClassifier()</pre></div></div></div><div class=\"sk-serial\"><div class=\"sk-item\"><div class=\"sk-estimator sk-toggleable\"><input class=\"sk-toggleable__control sk-hidden--visually\" id=\"sk-estimator-id-3\" type=\"checkbox\" ><label for=\"sk-estimator-id-3\" class=\"sk-toggleable__label sk-toggleable__label-arrow\">GradientBoostingClassifier</label><div class=\"sk-toggleable__content\"><pre>GradientBoostingClassifier()</pre></div></div></div></div></div></div></div></div></div></div>"
      ],
      "text/plain": [
       "GridSearchCV(estimator=GradientBoostingClassifier(),\n",
       "             param_grid={'criterion': ['friedman_mse'],\n",
       "                         'learning_rate': [0.1, 0.2], 'max_depth': [2, 3],\n",
       "                         'min_samples_leaf': [1, 2],\n",
       "                         'min_samples_split': [2, 3],\n",
       "                         'n_estimators': [50, 100]})"
      ]
     },
     "execution_count": 132,
     "metadata": {},
     "output_type": "execute_result"
    }
   ],
   "source": [
    "grid=GridSearchCV(GradientBoostingClassifier(),param_grid=grid_param)\n",
    "\n",
    "##Training with tunning parameters\n",
    "grid.fit(x_train,y_train)"
   ]
  },
  {
   "cell_type": "code",
   "execution_count": 133,
   "id": "c5aa4287",
   "metadata": {},
   "outputs": [
    {
     "data": {
      "text/plain": [
       "{'criterion': 'friedman_mse',\n",
       " 'learning_rate': 0.1,\n",
       " 'max_depth': 2,\n",
       " 'min_samples_leaf': 2,\n",
       " 'min_samples_split': 2,\n",
       " 'n_estimators': 100}"
      ]
     },
     "execution_count": 133,
     "metadata": {},
     "output_type": "execute_result"
    }
   ],
   "source": [
    "grid.best_params_"
   ]
  },
  {
   "cell_type": "code",
   "execution_count": 134,
   "id": "28a47fb3",
   "metadata": {},
   "outputs": [
    {
     "data": {
      "text/html": [
       "<style>#sk-container-id-2 {color: black;background-color: white;}#sk-container-id-2 pre{padding: 0;}#sk-container-id-2 div.sk-toggleable {background-color: white;}#sk-container-id-2 label.sk-toggleable__label {cursor: pointer;display: block;width: 100%;margin-bottom: 0;padding: 0.3em;box-sizing: border-box;text-align: center;}#sk-container-id-2 label.sk-toggleable__label-arrow:before {content: \"▸\";float: left;margin-right: 0.25em;color: #696969;}#sk-container-id-2 label.sk-toggleable__label-arrow:hover:before {color: black;}#sk-container-id-2 div.sk-estimator:hover label.sk-toggleable__label-arrow:before {color: black;}#sk-container-id-2 div.sk-toggleable__content {max-height: 0;max-width: 0;overflow: hidden;text-align: left;background-color: #f0f8ff;}#sk-container-id-2 div.sk-toggleable__content pre {margin: 0.2em;color: black;border-radius: 0.25em;background-color: #f0f8ff;}#sk-container-id-2 input.sk-toggleable__control:checked~div.sk-toggleable__content {max-height: 200px;max-width: 100%;overflow: auto;}#sk-container-id-2 input.sk-toggleable__control:checked~label.sk-toggleable__label-arrow:before {content: \"▾\";}#sk-container-id-2 div.sk-estimator input.sk-toggleable__control:checked~label.sk-toggleable__label {background-color: #d4ebff;}#sk-container-id-2 div.sk-label input.sk-toggleable__control:checked~label.sk-toggleable__label {background-color: #d4ebff;}#sk-container-id-2 input.sk-hidden--visually {border: 0;clip: rect(1px 1px 1px 1px);clip: rect(1px, 1px, 1px, 1px);height: 1px;margin: -1px;overflow: hidden;padding: 0;position: absolute;width: 1px;}#sk-container-id-2 div.sk-estimator {font-family: monospace;background-color: #f0f8ff;border: 1px dotted black;border-radius: 0.25em;box-sizing: border-box;margin-bottom: 0.5em;}#sk-container-id-2 div.sk-estimator:hover {background-color: #d4ebff;}#sk-container-id-2 div.sk-parallel-item::after {content: \"\";width: 100%;border-bottom: 1px solid gray;flex-grow: 1;}#sk-container-id-2 div.sk-label:hover label.sk-toggleable__label {background-color: #d4ebff;}#sk-container-id-2 div.sk-serial::before {content: \"\";position: absolute;border-left: 1px solid gray;box-sizing: border-box;top: 0;bottom: 0;left: 50%;z-index: 0;}#sk-container-id-2 div.sk-serial {display: flex;flex-direction: column;align-items: center;background-color: white;padding-right: 0.2em;padding-left: 0.2em;position: relative;}#sk-container-id-2 div.sk-item {position: relative;z-index: 1;}#sk-container-id-2 div.sk-parallel {display: flex;align-items: stretch;justify-content: center;background-color: white;position: relative;}#sk-container-id-2 div.sk-item::before, #sk-container-id-2 div.sk-parallel-item::before {content: \"\";position: absolute;border-left: 1px solid gray;box-sizing: border-box;top: 0;bottom: 0;left: 50%;z-index: -1;}#sk-container-id-2 div.sk-parallel-item {display: flex;flex-direction: column;z-index: 1;position: relative;background-color: white;}#sk-container-id-2 div.sk-parallel-item:first-child::after {align-self: flex-end;width: 50%;}#sk-container-id-2 div.sk-parallel-item:last-child::after {align-self: flex-start;width: 50%;}#sk-container-id-2 div.sk-parallel-item:only-child::after {width: 0;}#sk-container-id-2 div.sk-dashed-wrapped {border: 1px dashed gray;margin: 0 0.4em 0.5em 0.4em;box-sizing: border-box;padding-bottom: 0.4em;background-color: white;}#sk-container-id-2 div.sk-label label {font-family: monospace;font-weight: bold;display: inline-block;line-height: 1.2em;}#sk-container-id-2 div.sk-label-container {text-align: center;}#sk-container-id-2 div.sk-container {/* jupyter's `normalize.less` sets `[hidden] { display: none; }` but bootstrap.min.css set `[hidden] { display: none !important; }` so we also need the `!important` here to be able to override the default hidden behavior on the sphinx rendered scikit-learn.org. See: https://github.com/scikit-learn/scikit-learn/issues/21755 */display: inline-block !important;position: relative;}#sk-container-id-2 div.sk-text-repr-fallback {display: none;}</style><div id=\"sk-container-id-2\" class=\"sk-top-container\"><div class=\"sk-text-repr-fallback\"><pre>GradientBoostingClassifier(learning_rate=0.2, max_depth=2, min_samples_leaf=2,\n",
       "                           n_estimators=200)</pre><b>In a Jupyter environment, please rerun this cell to show the HTML representation or trust the notebook. <br />On GitHub, the HTML representation is unable to render, please try loading this page with nbviewer.org.</b></div><div class=\"sk-container\" hidden><div class=\"sk-item\"><div class=\"sk-estimator sk-toggleable\"><input class=\"sk-toggleable__control sk-hidden--visually\" id=\"sk-estimator-id-4\" type=\"checkbox\" checked><label for=\"sk-estimator-id-4\" class=\"sk-toggleable__label sk-toggleable__label-arrow\">GradientBoostingClassifier</label><div class=\"sk-toggleable__content\"><pre>GradientBoostingClassifier(learning_rate=0.2, max_depth=2, min_samples_leaf=2,\n",
       "                           n_estimators=200)</pre></div></div></div></div></div>"
      ],
      "text/plain": [
       "GradientBoostingClassifier(learning_rate=0.2, max_depth=2, min_samples_leaf=2,\n",
       "                           n_estimators=200)"
      ]
     },
     "execution_count": 134,
     "metadata": {},
     "output_type": "execute_result"
    }
   ],
   "source": [
    "#tunning the parament with the best_params\n",
    "gbdt_clf = GradientBoostingClassifier(learning_rate=0.2, max_depth=2,min_samples_split=2,min_samples_leaf=2,n_estimators=200,criterion='friedman_mse')\n",
    "\n",
    "gbdt_clf.fit(x_train,y_train)"
   ]
  },
  {
   "cell_type": "code",
   "execution_count": 135,
   "id": "23c4c7bf",
   "metadata": {},
   "outputs": [
    {
     "name": "stdout",
     "output_type": "stream",
     "text": [
      "Test_Accuracy  96.11\n",
      "Confusion Matrix  [[28730   172]\n",
      " [ 1071  1942]]\n",
      "Classification Report                precision    recall  f1-score   support\n",
      "\n",
      "           0       0.96      0.99      0.98     28902\n",
      "           1       0.92      0.64      0.76      3013\n",
      "\n",
      "    accuracy                           0.96     31915\n",
      "   macro avg       0.94      0.82      0.87     31915\n",
      "weighted avg       0.96      0.96      0.96     31915\n",
      "\n"
     ]
    }
   ],
   "source": [
    "pred_test=gbdt_clf.predict(x_test)\n",
    "pred_train=gbdt_clf.predict(x_train)\n",
    "Test_Accuracy_gbdt_clf= (accuracy_score(y_test,pred_test))\n",
    "Train_Accuracy_gbdt_clf= (accuracy_score(y_train,pred_train))\n",
    "print(\"Test_Accuracy \",round(accuracy_score(y_test,pred_test)*100,2))#testing score\n",
    "print(\"Confusion Matrix \", confusion_matrix(y_test,pred_test))\n",
    "print(\"Classification Report \", classification_report(y_test,pred_test))"
   ]
  },
  {
   "cell_type": "markdown",
   "id": "59b92c32",
   "metadata": {},
   "source": [
    "# Step 8 - ROC AUC PLOT"
   ]
  },
  {
   "cell_type": "code",
   "execution_count": 136,
   "id": "732cb80c",
   "metadata": {},
   "outputs": [
    {
     "data": {
      "image/png": "[encoded data removed]",
      "text/plain": [
       "<Figure size 432x288 with 1 Axes>"
      ]
     },
     "metadata": {},
     "output_type": "display_data"
    }
   ],
   "source": [
    "plot_roc_curve(gbdt_clf,x_test,y_test)\n",
    "plt.title(\"ROC AUC Plot\")\n",
    "plt.show()"
   ]
  },
  {
   "cell_type": "markdown",
   "id": "387718bb",
   "metadata": {},
   "source": [
    "From the above we can see:\n",
    "- Final Accuracy Score: 96% and AUC Score is 87% \n",
    "\n",
    "- That the Gradient Boosting Classifier has an AUC close to 1(i.e 0.87)\n",
    "\n",
    "HENCE WE CAN CONCLUDE OUR MODEL IS PRETTY GOOD!!"
   ]
  },
  {
   "cell_type": "markdown",
   "id": "cfec2459",
   "metadata": {},
   "source": [
    "# Step 9 - MODEL SAVING"
   ]
  },
  {
   "cell_type": "code",
   "execution_count": 137,
   "id": "c2c84220",
   "metadata": {},
   "outputs": [],
   "source": [
    "filename='Machine_Model_Project_Malignant_Comments'\n",
    "pickle.dump(gbdt_clf,open(filename,'wb'))"
   ]
  },
  {
   "cell_type": "markdown",
   "id": "69c368eb",
   "metadata": {},
   "source": [
    "# Step 10 - PREDICITON WITH TEST_DATA"
   ]
  },
  {
   "cell_type": "code",
   "execution_count": 138,
   "id": "99e38c91",
   "metadata": {},
   "outputs": [
    {
     "data": {
      "text/html": [
       "<div>\n",
       "<style scoped>\n",
       "    .dataframe tbody tr th:only-of-type {\n",
       "        vertical-align: middle;\n",
       "    }\n",
       "\n",
       "    .dataframe tbody tr th {\n",
       "        vertical-align: top;\n",
       "    }\n",
       "\n",
       "    .dataframe thead th {\n",
       "        text-align: right;\n",
       "    }\n",
       "</style>\n",
       "<table border=\"1\" class=\"dataframe\">\n",
       "  <thead>\n",
       "    <tr style=\"text-align: right;\">\n",
       "      <th></th>\n",
       "      <th>id</th>\n",
       "      <th>comment_text</th>\n",
       "    </tr>\n",
       "  </thead>\n",
       "  <tbody>\n",
       "    <tr>\n",
       "      <th>0</th>\n",
       "      <td>00001cee341fdb12</td>\n",
       "      <td>Yo bitch Ja Rule is more succesful then you'll...</td>\n",
       "    </tr>\n",
       "    <tr>\n",
       "      <th>1</th>\n",
       "      <td>0000247867823ef7</td>\n",
       "      <td>== From RfC == \\n\\n The title is fine as it is...</td>\n",
       "    </tr>\n",
       "    <tr>\n",
       "      <th>2</th>\n",
       "      <td>00013b17ad220c46</td>\n",
       "      <td>\" \\n\\n == Sources == \\n\\n * Zawe Ashton on Lap...</td>\n",
       "    </tr>\n",
       "    <tr>\n",
       "      <th>3</th>\n",
       "      <td>00017563c3f7919a</td>\n",
       "      <td>:If you have a look back at the source, the in...</td>\n",
       "    </tr>\n",
       "    <tr>\n",
       "      <th>4</th>\n",
       "      <td>00017695ad8997eb</td>\n",
       "      <td>I don't anonymously edit articles at all.</td>\n",
       "    </tr>\n",
       "    <tr>\n",
       "      <th>...</th>\n",
       "      <td>...</td>\n",
       "      <td>...</td>\n",
       "    </tr>\n",
       "    <tr>\n",
       "      <th>153159</th>\n",
       "      <td>fffcd0960ee309b5</td>\n",
       "      <td>. \\n i totally agree, this stuff is nothing bu...</td>\n",
       "    </tr>\n",
       "    <tr>\n",
       "      <th>153160</th>\n",
       "      <td>fffd7a9a6eb32c16</td>\n",
       "      <td>== Throw from out field to home plate. == \\n\\n...</td>\n",
       "    </tr>\n",
       "    <tr>\n",
       "      <th>153161</th>\n",
       "      <td>fffda9e8d6fafa9e</td>\n",
       "      <td>\" \\n\\n == Okinotorishima categories == \\n\\n I ...</td>\n",
       "    </tr>\n",
       "    <tr>\n",
       "      <th>153162</th>\n",
       "      <td>fffe8f1340a79fc2</td>\n",
       "      <td>\" \\n\\n == \"\"One of the founding nations of the...</td>\n",
       "    </tr>\n",
       "    <tr>\n",
       "      <th>153163</th>\n",
       "      <td>ffffce3fb183ee80</td>\n",
       "      <td>\" \\n :::Stop already. Your bullshit is not wel...</td>\n",
       "    </tr>\n",
       "  </tbody>\n",
       "</table>\n",
       "<p>153164 rows × 2 columns</p>\n",
       "</div>"
      ],
      "text/plain": [
       "                      id                                       comment_text\n",
       "0       00001cee341fdb12  Yo bitch Ja Rule is more succesful then you'll...\n",
       "1       0000247867823ef7  == From RfC == \\n\\n The title is fine as it is...\n",
       "2       00013b17ad220c46  \" \\n\\n == Sources == \\n\\n * Zawe Ashton on Lap...\n",
       "3       00017563c3f7919a  :If you have a look back at the source, the in...\n",
       "4       00017695ad8997eb          I don't anonymously edit articles at all.\n",
       "...                  ...                                                ...\n",
       "153159  fffcd0960ee309b5  . \\n i totally agree, this stuff is nothing bu...\n",
       "153160  fffd7a9a6eb32c16  == Throw from out field to home plate. == \\n\\n...\n",
       "153161  fffda9e8d6fafa9e  \" \\n\\n == Okinotorishima categories == \\n\\n I ...\n",
       "153162  fffe8f1340a79fc2  \" \\n\\n == \"\"One of the founding nations of the...\n",
       "153163  ffffce3fb183ee80  \" \\n :::Stop already. Your bullshit is not wel...\n",
       "\n",
       "[153164 rows x 2 columns]"
      ]
     },
     "execution_count": 138,
     "metadata": {},
     "output_type": "execute_result"
    }
   ],
   "source": [
    "#Importing the file\n",
    "test_data=pd.read_csv(r'C:\\Users\\USER\\Documents\\Fliprobo Technologies\\Malignant Tumor\\test.csv')\n",
    "test_data"
   ]
  },
  {
   "cell_type": "markdown",
   "id": "04a63753",
   "metadata": {},
   "source": [
    "- Without much further ado, we shall focus on the parameters used in modelling\n",
    "\n",
    "- Let's reconfirm the exact number of independent variables(stored in X) used to build the model!"
   ]
  },
  {
   "cell_type": "code",
   "execution_count": 139,
   "id": "ecf4f40c",
   "metadata": {},
   "outputs": [
    {
     "data": {
      "text/html": [
       "<div>\n",
       "<style scoped>\n",
       "    .dataframe tbody tr th:only-of-type {\n",
       "        vertical-align: middle;\n",
       "    }\n",
       "\n",
       "    .dataframe tbody tr th {\n",
       "        vertical-align: top;\n",
       "    }\n",
       "\n",
       "    .dataframe thead th {\n",
       "        text-align: right;\n",
       "    }\n",
       "</style>\n",
       "<table border=\"1\" class=\"dataframe\">\n",
       "  <thead>\n",
       "    <tr style=\"text-align: right;\">\n",
       "      <th></th>\n",
       "      <th>id</th>\n",
       "      <th>comment_text</th>\n",
       "      <th>highly_malignant</th>\n",
       "      <th>rude</th>\n",
       "      <th>threat</th>\n",
       "      <th>abuse</th>\n",
       "      <th>loathe</th>\n",
       "    </tr>\n",
       "  </thead>\n",
       "  <tbody>\n",
       "    <tr>\n",
       "      <th>0</th>\n",
       "      <td>0</td>\n",
       "      <td>72698</td>\n",
       "      <td>0</td>\n",
       "      <td>0</td>\n",
       "      <td>0</td>\n",
       "      <td>0</td>\n",
       "      <td>0</td>\n",
       "    </tr>\n",
       "    <tr>\n",
       "      <th>1</th>\n",
       "      <td>1</td>\n",
       "      <td>68359</td>\n",
       "      <td>0</td>\n",
       "      <td>0</td>\n",
       "      <td>0</td>\n",
       "      <td>0</td>\n",
       "      <td>0</td>\n",
       "    </tr>\n",
       "    <tr>\n",
       "      <th>2</th>\n",
       "      <td>2</td>\n",
       "      <td>79594</td>\n",
       "      <td>0</td>\n",
       "      <td>0</td>\n",
       "      <td>0</td>\n",
       "      <td>0</td>\n",
       "      <td>0</td>\n",
       "    </tr>\n",
       "    <tr>\n",
       "      <th>3</th>\n",
       "      <td>4</td>\n",
       "      <td>35519</td>\n",
       "      <td>0</td>\n",
       "      <td>0</td>\n",
       "      <td>0</td>\n",
       "      <td>0</td>\n",
       "      <td>0</td>\n",
       "    </tr>\n",
       "    <tr>\n",
       "      <th>4</th>\n",
       "      <td>5</td>\n",
       "      <td>146426</td>\n",
       "      <td>0</td>\n",
       "      <td>0</td>\n",
       "      <td>0</td>\n",
       "      <td>0</td>\n",
       "      <td>0</td>\n",
       "    </tr>\n",
       "    <tr>\n",
       "      <th>...</th>\n",
       "      <td>...</td>\n",
       "      <td>...</td>\n",
       "      <td>...</td>\n",
       "      <td>...</td>\n",
       "      <td>...</td>\n",
       "      <td>...</td>\n",
       "      <td>...</td>\n",
       "    </tr>\n",
       "    <tr>\n",
       "      <th>159566</th>\n",
       "      <td>159505</td>\n",
       "      <td>44289</td>\n",
       "      <td>0</td>\n",
       "      <td>0</td>\n",
       "      <td>0</td>\n",
       "      <td>0</td>\n",
       "      <td>0</td>\n",
       "    </tr>\n",
       "    <tr>\n",
       "      <th>159567</th>\n",
       "      <td>159510</td>\n",
       "      <td>145720</td>\n",
       "      <td>0</td>\n",
       "      <td>0</td>\n",
       "      <td>0</td>\n",
       "      <td>0</td>\n",
       "      <td>0</td>\n",
       "    </tr>\n",
       "    <tr>\n",
       "      <th>159568</th>\n",
       "      <td>159524</td>\n",
       "      <td>122203</td>\n",
       "      <td>0</td>\n",
       "      <td>0</td>\n",
       "      <td>0</td>\n",
       "      <td>0</td>\n",
       "      <td>0</td>\n",
       "    </tr>\n",
       "    <tr>\n",
       "      <th>159569</th>\n",
       "      <td>159535</td>\n",
       "      <td>60037</td>\n",
       "      <td>0</td>\n",
       "      <td>0</td>\n",
       "      <td>0</td>\n",
       "      <td>0</td>\n",
       "      <td>0</td>\n",
       "    </tr>\n",
       "    <tr>\n",
       "      <th>159570</th>\n",
       "      <td>159541</td>\n",
       "      <td>31106</td>\n",
       "      <td>0</td>\n",
       "      <td>0</td>\n",
       "      <td>0</td>\n",
       "      <td>0</td>\n",
       "      <td>0</td>\n",
       "    </tr>\n",
       "  </tbody>\n",
       "</table>\n",
       "<p>159571 rows × 7 columns</p>\n",
       "</div>"
      ],
      "text/plain": [
       "            id  comment_text  highly_malignant  rude  threat  abuse  loathe\n",
       "0            0         72698                 0     0       0      0       0\n",
       "1            1         68359                 0     0       0      0       0\n",
       "2            2         79594                 0     0       0      0       0\n",
       "3            4         35519                 0     0       0      0       0\n",
       "4            5        146426                 0     0       0      0       0\n",
       "...        ...           ...               ...   ...     ...    ...     ...\n",
       "159566  159505         44289                 0     0       0      0       0\n",
       "159567  159510        145720                 0     0       0      0       0\n",
       "159568  159524        122203                 0     0       0      0       0\n",
       "159569  159535         60037                 0     0       0      0       0\n",
       "159570  159541         31106                 0     0       0      0       0\n",
       "\n",
       "[159571 rows x 7 columns]"
      ]
     },
     "execution_count": 139,
     "metadata": {},
     "output_type": "execute_result"
    }
   ],
   "source": [
    "X"
   ]
  },
  {
   "cell_type": "code",
   "execution_count": 140,
   "id": "72cc0415",
   "metadata": {},
   "outputs": [
    {
     "name": "stdout",
     "output_type": "stream",
     "text": [
      "<class 'pandas.core.frame.DataFrame'>\n",
      "Int64Index: 159571 entries, 0 to 159570\n",
      "Data columns (total 7 columns):\n",
      " #   Column            Non-Null Count   Dtype\n",
      "---  ------            --------------   -----\n",
      " 0   id                159571 non-null  int32\n",
      " 1   comment_text      159571 non-null  int32\n",
      " 2   highly_malignant  159571 non-null  int64\n",
      " 3   rude              159571 non-null  int64\n",
      " 4   threat            159571 non-null  int64\n",
      " 5   abuse             159571 non-null  int64\n",
      " 6   loathe            159571 non-null  int64\n",
      "dtypes: int32(2), int64(5)\n",
      "memory usage: 12.6 MB\n"
     ]
    }
   ],
   "source": [
    "X.info()"
   ]
  },
  {
   "cell_type": "code",
   "execution_count": 141,
   "id": "06af7cfb",
   "metadata": {},
   "outputs": [
    {
     "data": {
      "text/plain": [
       "Index(['id', 'comment_text', 'highly_malignant', 'rude', 'threat', 'abuse',\n",
       "       'loathe'],\n",
       "      dtype='object')"
      ]
     },
     "execution_count": 141,
     "metadata": {},
     "output_type": "execute_result"
    }
   ],
   "source": [
    "X.columns"
   ]
  },
  {
   "cell_type": "code",
   "execution_count": 142,
   "id": "5c9df003",
   "metadata": {},
   "outputs": [
    {
     "ename": "KeyError",
     "evalue": "\"['highly_malignant', 'rude', 'threat', 'abuse', 'loathe'] not in index\"",
     "output_type": "error",
     "traceback": [
      "\u001b[1;31m---------------------------------------------------------------------------\u001b[0m",
      "\u001b[1;31mKeyError\u001b[0m                                  Traceback (most recent call last)",
      "Input \u001b[1;32mIn [142]\u001b[0m, in \u001b[0;36m<cell line: 1>\u001b[1;34m()\u001b[0m\n\u001b[1;32m----> 1\u001b[0m \u001b[43mtest_data\u001b[49m\u001b[43m[\u001b[49m\u001b[43mX\u001b[49m\u001b[38;5;241;43m.\u001b[39;49m\u001b[43mcolumns\u001b[49m\u001b[43m]\u001b[49m\n",
      "File \u001b[1;32m~\\anaconda3\\lib\\site-packages\\pandas\\core\\frame.py:3511\u001b[0m, in \u001b[0;36mDataFrame.__getitem__\u001b[1;34m(self, key)\u001b[0m\n\u001b[0;32m   3509\u001b[0m     \u001b[38;5;28;01mif\u001b[39;00m is_iterator(key):\n\u001b[0;32m   3510\u001b[0m         key \u001b[38;5;241m=\u001b[39m \u001b[38;5;28mlist\u001b[39m(key)\n\u001b[1;32m-> 3511\u001b[0m     indexer \u001b[38;5;241m=\u001b[39m \u001b[38;5;28;43mself\u001b[39;49m\u001b[38;5;241;43m.\u001b[39;49m\u001b[43mcolumns\u001b[49m\u001b[38;5;241;43m.\u001b[39;49m\u001b[43m_get_indexer_strict\u001b[49m\u001b[43m(\u001b[49m\u001b[43mkey\u001b[49m\u001b[43m,\u001b[49m\u001b[43m \u001b[49m\u001b[38;5;124;43m\"\u001b[39;49m\u001b[38;5;124;43mcolumns\u001b[39;49m\u001b[38;5;124;43m\"\u001b[39;49m\u001b[43m)\u001b[49m[\u001b[38;5;241m1\u001b[39m]\n\u001b[0;32m   3513\u001b[0m \u001b[38;5;66;03m# take() does not accept boolean indexers\u001b[39;00m\n\u001b[0;32m   3514\u001b[0m \u001b[38;5;28;01mif\u001b[39;00m \u001b[38;5;28mgetattr\u001b[39m(indexer, \u001b[38;5;124m\"\u001b[39m\u001b[38;5;124mdtype\u001b[39m\u001b[38;5;124m\"\u001b[39m, \u001b[38;5;28;01mNone\u001b[39;00m) \u001b[38;5;241m==\u001b[39m \u001b[38;5;28mbool\u001b[39m:\n",
      "File \u001b[1;32m~\\anaconda3\\lib\\site-packages\\pandas\\core\\indexes\\base.py:5782\u001b[0m, in \u001b[0;36mIndex._get_indexer_strict\u001b[1;34m(self, key, axis_name)\u001b[0m\n\u001b[0;32m   5779\u001b[0m \u001b[38;5;28;01melse\u001b[39;00m:\n\u001b[0;32m   5780\u001b[0m     keyarr, indexer, new_indexer \u001b[38;5;241m=\u001b[39m \u001b[38;5;28mself\u001b[39m\u001b[38;5;241m.\u001b[39m_reindex_non_unique(keyarr)\n\u001b[1;32m-> 5782\u001b[0m \u001b[38;5;28;43mself\u001b[39;49m\u001b[38;5;241;43m.\u001b[39;49m\u001b[43m_raise_if_missing\u001b[49m\u001b[43m(\u001b[49m\u001b[43mkeyarr\u001b[49m\u001b[43m,\u001b[49m\u001b[43m \u001b[49m\u001b[43mindexer\u001b[49m\u001b[43m,\u001b[49m\u001b[43m \u001b[49m\u001b[43maxis_name\u001b[49m\u001b[43m)\u001b[49m\n\u001b[0;32m   5784\u001b[0m keyarr \u001b[38;5;241m=\u001b[39m \u001b[38;5;28mself\u001b[39m\u001b[38;5;241m.\u001b[39mtake(indexer)\n\u001b[0;32m   5785\u001b[0m \u001b[38;5;28;01mif\u001b[39;00m \u001b[38;5;28misinstance\u001b[39m(key, Index):\n\u001b[0;32m   5786\u001b[0m     \u001b[38;5;66;03m# GH 42790 - Preserve name from an Index\u001b[39;00m\n",
      "File \u001b[1;32m~\\anaconda3\\lib\\site-packages\\pandas\\core\\indexes\\base.py:5845\u001b[0m, in \u001b[0;36mIndex._raise_if_missing\u001b[1;34m(self, key, indexer, axis_name)\u001b[0m\n\u001b[0;32m   5842\u001b[0m     \u001b[38;5;28;01mraise\u001b[39;00m \u001b[38;5;167;01mKeyError\u001b[39;00m(\u001b[38;5;124mf\u001b[39m\u001b[38;5;124m\"\u001b[39m\u001b[38;5;124mNone of [\u001b[39m\u001b[38;5;132;01m{\u001b[39;00mkey\u001b[38;5;132;01m}\u001b[39;00m\u001b[38;5;124m] are in the [\u001b[39m\u001b[38;5;132;01m{\u001b[39;00maxis_name\u001b[38;5;132;01m}\u001b[39;00m\u001b[38;5;124m]\u001b[39m\u001b[38;5;124m\"\u001b[39m)\n\u001b[0;32m   5844\u001b[0m not_found \u001b[38;5;241m=\u001b[39m \u001b[38;5;28mlist\u001b[39m(ensure_index(key)[missing_mask\u001b[38;5;241m.\u001b[39mnonzero()[\u001b[38;5;241m0\u001b[39m]]\u001b[38;5;241m.\u001b[39munique())\n\u001b[1;32m-> 5845\u001b[0m \u001b[38;5;28;01mraise\u001b[39;00m \u001b[38;5;167;01mKeyError\u001b[39;00m(\u001b[38;5;124mf\u001b[39m\u001b[38;5;124m\"\u001b[39m\u001b[38;5;132;01m{\u001b[39;00mnot_found\u001b[38;5;132;01m}\u001b[39;00m\u001b[38;5;124m not in index\u001b[39m\u001b[38;5;124m\"\u001b[39m)\n",
      "\u001b[1;31mKeyError\u001b[0m: \"['highly_malignant', 'rude', 'threat', 'abuse', 'loathe'] not in index\""
     ]
    }
   ],
   "source": [
    "test_data[X.columns]"
   ]
  },
  {
   "cell_type": "code",
   "execution_count": 144,
   "id": "e5a38f9c",
   "metadata": {},
   "outputs": [
    {
     "data": {
      "text/html": [
       "<div>\n",
       "<style scoped>\n",
       "    .dataframe tbody tr th:only-of-type {\n",
       "        vertical-align: middle;\n",
       "    }\n",
       "\n",
       "    .dataframe tbody tr th {\n",
       "        vertical-align: top;\n",
       "    }\n",
       "\n",
       "    .dataframe thead th {\n",
       "        text-align: right;\n",
       "    }\n",
       "</style>\n",
       "<table border=\"1\" class=\"dataframe\">\n",
       "  <thead>\n",
       "    <tr style=\"text-align: right;\">\n",
       "      <th></th>\n",
       "      <th>id</th>\n",
       "      <th>comment_text</th>\n",
       "    </tr>\n",
       "  </thead>\n",
       "  <tbody>\n",
       "    <tr>\n",
       "      <th>0</th>\n",
       "      <td>00001cee341fdb12</td>\n",
       "      <td>Yo bitch Ja Rule is more succesful then you'll...</td>\n",
       "    </tr>\n",
       "    <tr>\n",
       "      <th>1</th>\n",
       "      <td>0000247867823ef7</td>\n",
       "      <td>== From RfC == \\n\\n The title is fine as it is...</td>\n",
       "    </tr>\n",
       "    <tr>\n",
       "      <th>2</th>\n",
       "      <td>00013b17ad220c46</td>\n",
       "      <td>\" \\n\\n == Sources == \\n\\n * Zawe Ashton on Lap...</td>\n",
       "    </tr>\n",
       "    <tr>\n",
       "      <th>3</th>\n",
       "      <td>00017563c3f7919a</td>\n",
       "      <td>:If you have a look back at the source, the in...</td>\n",
       "    </tr>\n",
       "    <tr>\n",
       "      <th>4</th>\n",
       "      <td>00017695ad8997eb</td>\n",
       "      <td>I don't anonymously edit articles at all.</td>\n",
       "    </tr>\n",
       "    <tr>\n",
       "      <th>...</th>\n",
       "      <td>...</td>\n",
       "      <td>...</td>\n",
       "    </tr>\n",
       "    <tr>\n",
       "      <th>153159</th>\n",
       "      <td>fffcd0960ee309b5</td>\n",
       "      <td>. \\n i totally agree, this stuff is nothing bu...</td>\n",
       "    </tr>\n",
       "    <tr>\n",
       "      <th>153160</th>\n",
       "      <td>fffd7a9a6eb32c16</td>\n",
       "      <td>== Throw from out field to home plate. == \\n\\n...</td>\n",
       "    </tr>\n",
       "    <tr>\n",
       "      <th>153161</th>\n",
       "      <td>fffda9e8d6fafa9e</td>\n",
       "      <td>\" \\n\\n == Okinotorishima categories == \\n\\n I ...</td>\n",
       "    </tr>\n",
       "    <tr>\n",
       "      <th>153162</th>\n",
       "      <td>fffe8f1340a79fc2</td>\n",
       "      <td>\" \\n\\n == \"\"One of the founding nations of the...</td>\n",
       "    </tr>\n",
       "    <tr>\n",
       "      <th>153163</th>\n",
       "      <td>ffffce3fb183ee80</td>\n",
       "      <td>\" \\n :::Stop already. Your bullshit is not wel...</td>\n",
       "    </tr>\n",
       "  </tbody>\n",
       "</table>\n",
       "<p>153164 rows × 2 columns</p>\n",
       "</div>"
      ],
      "text/plain": [
       "                      id                                       comment_text\n",
       "0       00001cee341fdb12  Yo bitch Ja Rule is more succesful then you'll...\n",
       "1       0000247867823ef7  == From RfC == \\n\\n The title is fine as it is...\n",
       "2       00013b17ad220c46  \" \\n\\n == Sources == \\n\\n * Zawe Ashton on Lap...\n",
       "3       00017563c3f7919a  :If you have a look back at the source, the in...\n",
       "4       00017695ad8997eb          I don't anonymously edit articles at all.\n",
       "...                  ...                                                ...\n",
       "153159  fffcd0960ee309b5  . \\n i totally agree, this stuff is nothing bu...\n",
       "153160  fffd7a9a6eb32c16  == Throw from out field to home plate. == \\n\\n...\n",
       "153161  fffda9e8d6fafa9e  \" \\n\\n == Okinotorishima categories == \\n\\n I ...\n",
       "153162  fffe8f1340a79fc2  \" \\n\\n == \"\"One of the founding nations of the...\n",
       "153163  ffffce3fb183ee80  \" \\n :::Stop already. Your bullshit is not wel...\n",
       "\n",
       "[153164 rows x 2 columns]"
      ]
     },
     "execution_count": 144,
     "metadata": {},
     "output_type": "execute_result"
    }
   ],
   "source": [
    "test_data"
   ]
  },
  {
   "cell_type": "code",
   "execution_count": 145,
   "id": "94a040ec",
   "metadata": {},
   "outputs": [
    {
     "data": {
      "text/html": [
       "<div>\n",
       "<style scoped>\n",
       "    .dataframe tbody tr th:only-of-type {\n",
       "        vertical-align: middle;\n",
       "    }\n",
       "\n",
       "    .dataframe tbody tr th {\n",
       "        vertical-align: top;\n",
       "    }\n",
       "\n",
       "    .dataframe thead th {\n",
       "        text-align: right;\n",
       "    }\n",
       "</style>\n",
       "<table border=\"1\" class=\"dataframe\">\n",
       "  <thead>\n",
       "    <tr style=\"text-align: right;\">\n",
       "      <th></th>\n",
       "      <th>id</th>\n",
       "      <th>comment_text</th>\n",
       "    </tr>\n",
       "  </thead>\n",
       "  <tbody>\n",
       "    <tr>\n",
       "      <th>0</th>\n",
       "      <td>0</td>\n",
       "      <td>139364</td>\n",
       "    </tr>\n",
       "    <tr>\n",
       "      <th>1</th>\n",
       "      <td>1</td>\n",
       "      <td>82840</td>\n",
       "    </tr>\n",
       "    <tr>\n",
       "      <th>2</th>\n",
       "      <td>2</td>\n",
       "      <td>15380</td>\n",
       "    </tr>\n",
       "    <tr>\n",
       "      <th>3</th>\n",
       "      <td>3</td>\n",
       "      <td>71649</td>\n",
       "    </tr>\n",
       "    <tr>\n",
       "      <th>4</th>\n",
       "      <td>4</td>\n",
       "      <td>116411</td>\n",
       "    </tr>\n",
       "    <tr>\n",
       "      <th>...</th>\n",
       "      <td>...</td>\n",
       "      <td>...</td>\n",
       "    </tr>\n",
       "    <tr>\n",
       "      <th>153159</th>\n",
       "      <td>153159</td>\n",
       "      <td>51750</td>\n",
       "    </tr>\n",
       "    <tr>\n",
       "      <th>153160</th>\n",
       "      <td>153160</td>\n",
       "      <td>93242</td>\n",
       "    </tr>\n",
       "    <tr>\n",
       "      <th>153161</th>\n",
       "      <td>153161</td>\n",
       "      <td>13499</td>\n",
       "    </tr>\n",
       "    <tr>\n",
       "      <th>153162</th>\n",
       "      <td>153162</td>\n",
       "      <td>8042</td>\n",
       "    </tr>\n",
       "    <tr>\n",
       "      <th>153163</th>\n",
       "      <td>153163</td>\n",
       "      <td>30249</td>\n",
       "    </tr>\n",
       "  </tbody>\n",
       "</table>\n",
       "<p>153164 rows × 2 columns</p>\n",
       "</div>"
      ],
      "text/plain": [
       "            id  comment_text\n",
       "0            0        139364\n",
       "1            1         82840\n",
       "2            2         15380\n",
       "3            3         71649\n",
       "4            4        116411\n",
       "...        ...           ...\n",
       "153159  153159         51750\n",
       "153160  153160         93242\n",
       "153161  153161         13499\n",
       "153162  153162          8042\n",
       "153163  153163         30249\n",
       "\n",
       "[153164 rows x 2 columns]"
      ]
     },
     "execution_count": 145,
     "metadata": {},
     "output_type": "execute_result"
    }
   ],
   "source": [
    "for i in test_data:\n",
    "    test_data[i] = enc.fit_transform(test_data[i])\n",
    "test_data"
   ]
  },
  {
   "cell_type": "code",
   "execution_count": 147,
   "id": "4fca4b5d",
   "metadata": {},
   "outputs": [
    {
     "ename": "ValueError",
     "evalue": "X has 2 features, but GradientBoostingClassifier is expecting 7 features as input.",
     "output_type": "error",
     "traceback": [
      "\u001b[1;31m---------------------------------------------------------------------------\u001b[0m",
      "\u001b[1;31mValueError\u001b[0m                                Traceback (most recent call last)",
      "Input \u001b[1;32mIn [147]\u001b[0m, in \u001b[0;36m<cell line: 1>\u001b[1;34m()\u001b[0m\n\u001b[1;32m----> 1\u001b[0m test_prediction\u001b[38;5;241m=\u001b[39m\u001b[43mgbdt_clf\u001b[49m\u001b[38;5;241;43m.\u001b[39;49m\u001b[43mpredict\u001b[49m\u001b[43m(\u001b[49m\u001b[43mtest_data\u001b[49m\u001b[43m)\u001b[49m\n\u001b[0;32m      2\u001b[0m test_prediction\n",
      "File \u001b[1;32m~\\anaconda3\\lib\\site-packages\\sklearn\\ensemble\\_gb.py:1452\u001b[0m, in \u001b[0;36mGradientBoostingClassifier.predict\u001b[1;34m(self, X)\u001b[0m\n\u001b[0;32m   1437\u001b[0m \u001b[38;5;28;01mdef\u001b[39;00m \u001b[38;5;21mpredict\u001b[39m(\u001b[38;5;28mself\u001b[39m, X):\n\u001b[0;32m   1438\u001b[0m     \u001b[38;5;124;03m\"\"\"Predict class for X.\u001b[39;00m\n\u001b[0;32m   1439\u001b[0m \n\u001b[0;32m   1440\u001b[0m \u001b[38;5;124;03m    Parameters\u001b[39;00m\n\u001b[1;32m   (...)\u001b[0m\n\u001b[0;32m   1450\u001b[0m \u001b[38;5;124;03m        The predicted values.\u001b[39;00m\n\u001b[0;32m   1451\u001b[0m \u001b[38;5;124;03m    \"\"\"\u001b[39;00m\n\u001b[1;32m-> 1452\u001b[0m     raw_predictions \u001b[38;5;241m=\u001b[39m \u001b[38;5;28;43mself\u001b[39;49m\u001b[38;5;241;43m.\u001b[39;49m\u001b[43mdecision_function\u001b[49m\u001b[43m(\u001b[49m\u001b[43mX\u001b[49m\u001b[43m)\u001b[49m\n\u001b[0;32m   1453\u001b[0m     encoded_labels \u001b[38;5;241m=\u001b[39m \u001b[38;5;28mself\u001b[39m\u001b[38;5;241m.\u001b[39m_loss\u001b[38;5;241m.\u001b[39m_raw_prediction_to_decision(raw_predictions)\n\u001b[0;32m   1454\u001b[0m     \u001b[38;5;28;01mreturn\u001b[39;00m \u001b[38;5;28mself\u001b[39m\u001b[38;5;241m.\u001b[39mclasses_\u001b[38;5;241m.\u001b[39mtake(encoded_labels, axis\u001b[38;5;241m=\u001b[39m\u001b[38;5;241m0\u001b[39m)\n",
      "File \u001b[1;32m~\\anaconda3\\lib\\site-packages\\sklearn\\ensemble\\_gb.py:1405\u001b[0m, in \u001b[0;36mGradientBoostingClassifier.decision_function\u001b[1;34m(self, X)\u001b[0m\n\u001b[0;32m   1386\u001b[0m \u001b[38;5;28;01mdef\u001b[39;00m \u001b[38;5;21mdecision_function\u001b[39m(\u001b[38;5;28mself\u001b[39m, X):\n\u001b[0;32m   1387\u001b[0m     \u001b[38;5;124;03m\"\"\"Compute the decision function of ``X``.\u001b[39;00m\n\u001b[0;32m   1388\u001b[0m \n\u001b[0;32m   1389\u001b[0m \u001b[38;5;124;03m    Parameters\u001b[39;00m\n\u001b[1;32m   (...)\u001b[0m\n\u001b[0;32m   1403\u001b[0m \u001b[38;5;124;03m        array of shape (n_samples,).\u001b[39;00m\n\u001b[0;32m   1404\u001b[0m \u001b[38;5;124;03m    \"\"\"\u001b[39;00m\n\u001b[1;32m-> 1405\u001b[0m     X \u001b[38;5;241m=\u001b[39m \u001b[38;5;28;43mself\u001b[39;49m\u001b[38;5;241;43m.\u001b[39;49m\u001b[43m_validate_data\u001b[49m\u001b[43m(\u001b[49m\n\u001b[0;32m   1406\u001b[0m \u001b[43m        \u001b[49m\u001b[43mX\u001b[49m\u001b[43m,\u001b[49m\u001b[43m \u001b[49m\u001b[43mdtype\u001b[49m\u001b[38;5;241;43m=\u001b[39;49m\u001b[43mDTYPE\u001b[49m\u001b[43m,\u001b[49m\u001b[43m \u001b[49m\u001b[43morder\u001b[49m\u001b[38;5;241;43m=\u001b[39;49m\u001b[38;5;124;43m\"\u001b[39;49m\u001b[38;5;124;43mC\u001b[39;49m\u001b[38;5;124;43m\"\u001b[39;49m\u001b[43m,\u001b[49m\u001b[43m \u001b[49m\u001b[43maccept_sparse\u001b[49m\u001b[38;5;241;43m=\u001b[39;49m\u001b[38;5;124;43m\"\u001b[39;49m\u001b[38;5;124;43mcsr\u001b[39;49m\u001b[38;5;124;43m\"\u001b[39;49m\u001b[43m,\u001b[49m\u001b[43m \u001b[49m\u001b[43mreset\u001b[49m\u001b[38;5;241;43m=\u001b[39;49m\u001b[38;5;28;43;01mFalse\u001b[39;49;00m\n\u001b[0;32m   1407\u001b[0m \u001b[43m    \u001b[49m\u001b[43m)\u001b[49m\n\u001b[0;32m   1408\u001b[0m     raw_predictions \u001b[38;5;241m=\u001b[39m \u001b[38;5;28mself\u001b[39m\u001b[38;5;241m.\u001b[39m_raw_predict(X)\n\u001b[0;32m   1409\u001b[0m     \u001b[38;5;28;01mif\u001b[39;00m raw_predictions\u001b[38;5;241m.\u001b[39mshape[\u001b[38;5;241m1\u001b[39m] \u001b[38;5;241m==\u001b[39m \u001b[38;5;241m1\u001b[39m:\n",
      "File \u001b[1;32m~\\anaconda3\\lib\\site-packages\\sklearn\\base.py:600\u001b[0m, in \u001b[0;36mBaseEstimator._validate_data\u001b[1;34m(self, X, y, reset, validate_separately, **check_params)\u001b[0m\n\u001b[0;32m    597\u001b[0m     out \u001b[38;5;241m=\u001b[39m X, y\n\u001b[0;32m    599\u001b[0m \u001b[38;5;28;01mif\u001b[39;00m \u001b[38;5;129;01mnot\u001b[39;00m no_val_X \u001b[38;5;129;01mand\u001b[39;00m check_params\u001b[38;5;241m.\u001b[39mget(\u001b[38;5;124m\"\u001b[39m\u001b[38;5;124mensure_2d\u001b[39m\u001b[38;5;124m\"\u001b[39m, \u001b[38;5;28;01mTrue\u001b[39;00m):\n\u001b[1;32m--> 600\u001b[0m     \u001b[38;5;28;43mself\u001b[39;49m\u001b[38;5;241;43m.\u001b[39;49m\u001b[43m_check_n_features\u001b[49m\u001b[43m(\u001b[49m\u001b[43mX\u001b[49m\u001b[43m,\u001b[49m\u001b[43m \u001b[49m\u001b[43mreset\u001b[49m\u001b[38;5;241;43m=\u001b[39;49m\u001b[43mreset\u001b[49m\u001b[43m)\u001b[49m\n\u001b[0;32m    602\u001b[0m \u001b[38;5;28;01mreturn\u001b[39;00m out\n",
      "File \u001b[1;32m~\\anaconda3\\lib\\site-packages\\sklearn\\base.py:400\u001b[0m, in \u001b[0;36mBaseEstimator._check_n_features\u001b[1;34m(self, X, reset)\u001b[0m\n\u001b[0;32m    397\u001b[0m     \u001b[38;5;28;01mreturn\u001b[39;00m\n\u001b[0;32m    399\u001b[0m \u001b[38;5;28;01mif\u001b[39;00m n_features \u001b[38;5;241m!=\u001b[39m \u001b[38;5;28mself\u001b[39m\u001b[38;5;241m.\u001b[39mn_features_in_:\n\u001b[1;32m--> 400\u001b[0m     \u001b[38;5;28;01mraise\u001b[39;00m \u001b[38;5;167;01mValueError\u001b[39;00m(\n\u001b[0;32m    401\u001b[0m         \u001b[38;5;124mf\u001b[39m\u001b[38;5;124m\"\u001b[39m\u001b[38;5;124mX has \u001b[39m\u001b[38;5;132;01m{\u001b[39;00mn_features\u001b[38;5;132;01m}\u001b[39;00m\u001b[38;5;124m features, but \u001b[39m\u001b[38;5;132;01m{\u001b[39;00m\u001b[38;5;28mself\u001b[39m\u001b[38;5;241m.\u001b[39m\u001b[38;5;18m__class__\u001b[39m\u001b[38;5;241m.\u001b[39m\u001b[38;5;18m__name__\u001b[39m\u001b[38;5;132;01m}\u001b[39;00m\u001b[38;5;124m \u001b[39m\u001b[38;5;124m\"\u001b[39m\n\u001b[0;32m    402\u001b[0m         \u001b[38;5;124mf\u001b[39m\u001b[38;5;124m\"\u001b[39m\u001b[38;5;124mis expecting \u001b[39m\u001b[38;5;132;01m{\u001b[39;00m\u001b[38;5;28mself\u001b[39m\u001b[38;5;241m.\u001b[39mn_features_in_\u001b[38;5;132;01m}\u001b[39;00m\u001b[38;5;124m features as input.\u001b[39m\u001b[38;5;124m\"\u001b[39m\n\u001b[0;32m    403\u001b[0m     )\n",
      "\u001b[1;31mValueError\u001b[0m: X has 2 features, but GradientBoostingClassifier is expecting 7 features as input."
     ]
    }
   ],
   "source": [
    "test_prediction=gbdt_clf.predict(test_data)\n",
    "test_prediction"
   ]
  }
 ],
 "metadata": {
  "kernelspec": {
   "display_name": "Python 3 (ipykernel)",
   "language": "python",
   "name": "python3"
  },
  "language_info": {
   "codemirror_mode": {
    "name": "ipython",
    "version": 3
   },
   "file_extension": ".py",
   "mimetype": "text/x-python",
   "name": "python",
   "nbconvert_exporter": "python",
   "pygments_lexer": "ipython3",
   "version": "3.9.12"
  }
 },
 "nbformat": 4,
 "nbformat_minor": 5
}
