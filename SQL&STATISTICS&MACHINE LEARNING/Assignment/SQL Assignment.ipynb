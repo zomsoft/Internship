{
 "cells": [
  {
   "cell_type": "markdown",
   "id": "41d31428",
   "metadata": {},
   "source": [
    "# SQL ASSIGNMENT 3"
   ]
  },
  {
   "cell_type": "markdown",
   "id": "7e7c995e",
   "metadata": {},
   "source": [
    "•\tCustomers: stores customer’s data.\n",
    "•\tProducts: stores a list of scale model cars.\n",
    "•\tProduct Lines: stores a list of product line categories.\n",
    "•\tOrders: stores sales orders placed by customers.\n",
    "•\tOrder Details: stores sales order line items for each sales order.\n",
    "•\tPayments: stores payments made by customers based on their accounts.\n",
    "•\tEmployees: stores all employee information as well as the organization structure such as who reports to whom.\n",
    "•\tOffices: stores sales office data."
   ]
  },
  {
   "cell_type": "markdown",
   "id": "2628019e",
   "metadata": {},
   "source": [
    "1.\tWrite SQL query to create table Customers.\n",
    "\n",
    "2.\tWrite SQL query to create table Orders.\n",
    "\n",
    "3.\tWrite SQL query to show all the columns data from the Orders Table.\n",
    "\n",
    "4.\tWrite SQL query to show all the comments from the Orders Table.\n",
    "\n",
    "5.\tWrite a SQL query to show orderDate and Total number of orders placed on that date, from Orders table.\n",
    "\n",
    "6.\tWrite a SQL query to show employeNumber, lastName, firstName of all the employees from employees\n",
    "    table.\n",
    "\n",
    "7.\tWrite a SQL query to show all orderNumber, customerName of the person who placed the respective order.\n",
    "\n",
    "8.\tWrite a SQL query to show name of all the customers in one column and salerepemployee name inanother column.\n",
    " \n",
    "9.\tWrite a SQL query to show Date in one column and total payment amount of the payments made on that date from the payments table.\n",
    "\n",
    "10.\tWrite a SQL query to show all the products productName, MSRP, productDescription from the products\n",
    "table.\n",
    "\n",
    "11.\tWrite a SQL query to print the productName, productDescription of the most ordered product.\n",
    "\n",
    "12.\tWrite a SQL query to print the city name where maximum number of orders were placed.\n",
    "\n",
    "13.\tWrite a SQL query to get the name of the state having maximum number of customers.\n",
    "\n",
    "14.\tWrite a SQL query to print the employee number in one column and Full name of the employee in the second column for all the employees.\n",
    "\n",
    "15.\tWrite a SQL query to print the orderNumber, customer Name and total amount paid by the customer for that order (quantityOrdered × priceEach).\n"
   ]
  },
  {
   "cell_type": "code",
   "execution_count": 2,
   "id": "61ef76cd",
   "metadata": {},
   "outputs": [],
   "source": [
    "import sqlite3"
   ]
  },
  {
   "cell_type": "code",
   "execution_count": 3,
   "id": "3d54baa7",
   "metadata": {},
   "outputs": [],
   "source": [
    "db=sqlite3.connect(\"my_database.qb\")"
   ]
  },
  {
   "cell_type": "markdown",
   "id": "c86ef6a7",
   "metadata": {},
   "source": [
    "# Q1. Write SQL query to create table Customers."
   ]
  },
  {
   "cell_type": "code",
   "execution_count": null,
   "id": "6ab28923",
   "metadata": {},
   "outputs": [],
   "source": [
    "db.execute(\"CREATE TABLE customers(customerNumber int,customerName varchar(255),contactLastName varchar(255),contactFirstName varchar(255),phone int,addressLine1 varchar(255),addressLine2 varchar(255),city varchar(255),state varchar(255),postalCode varchar(20),country varchar(255),salesRepEmployeeNumber varchar(50),creditLimit int)\")"
   ]
  },
  {
   "cell_type": "markdown",
   "id": "2597e2c8",
   "metadata": {},
   "source": [
    "# Q2. Write SQL query to create table Orders."
   ]
  },
  {
   "cell_type": "code",
   "execution_count": null,
   "id": "c2e8dfbb",
   "metadata": {},
   "outputs": [],
   "source": [
    "db.execute(\"CREATE TABLE orders(orderNumber int,orderDate varchar(255),requiredDate varchar(255),shippedDate varchar(255),status varchar(50),comments varchar(255),customerNumber int)\")"
   ]
  },
  {
   "cell_type": "markdown",
   "id": "21ea4247",
   "metadata": {},
   "source": [
    "# Q3. Write SQL query to show all the columns data from the Orders Table."
   ]
  },
  {
   "cell_type": "code",
   "execution_count": 6,
   "id": "80d66174",
   "metadata": {},
   "outputs": [],
   "source": [
    "result=db.execute(\"SELECT * FROM orders\")\n",
    "for rows in result:\n",
    "    print(rows)"
   ]
  },
  {
   "cell_type": "markdown",
   "id": "4339da46",
   "metadata": {},
   "source": [
    "# Q4. Write SQL query to show all the comments from the Orders Table."
   ]
  },
  {
   "cell_type": "code",
   "execution_count": 7,
   "id": "904b5524",
   "metadata": {},
   "outputs": [],
   "source": [
    "result=db.execute(\"SELECT comments FROM orders\")\n",
    "for rows in result:\n",
    "    print(rows)"
   ]
  },
  {
   "cell_type": "markdown",
   "id": "3ddc2036",
   "metadata": {},
   "source": [
    "# Q5. Write an SQL query to show orderDate and Total number of orders placed on that date, from Orders table."
   ]
  },
  {
   "cell_type": "code",
   "execution_count": 8,
   "id": "2b1ed521",
   "metadata": {},
   "outputs": [
    {
     "name": "stdout",
     "output_type": "stream",
     "text": [
      "(None, 0)\n"
     ]
    }
   ],
   "source": [
    "result=db.execute(\"SELECT orderDate, COUNT(DISTINCT orderdate) FROM orders\")\n",
    "for rows in result:\n",
    "    print(rows)"
   ]
  },
  {
   "cell_type": "markdown",
   "id": "78fa1e25",
   "metadata": {},
   "source": [
    "# Q6. Write a SQL query to show employeNumber, lastName, firstName of all the employees from employees table."
   ]
  },
  {
   "cell_type": "code",
   "execution_count": 9,
   "id": "fc0c8820",
   "metadata": {},
   "outputs": [
    {
     "ename": "OperationalError",
     "evalue": "near \"FROM\": syntax error",
     "output_type": "error",
     "traceback": [
      "\u001b[1;31m---------------------------------------------------------------------------\u001b[0m",
      "\u001b[1;31mOperationalError\u001b[0m                          Traceback (most recent call last)",
      "Input \u001b[1;32mIn [9]\u001b[0m, in \u001b[0;36m<cell line: 1>\u001b[1;34m()\u001b[0m\n\u001b[1;32m----> 1\u001b[0m result\u001b[38;5;241m=\u001b[39m\u001b[43mdb\u001b[49m\u001b[38;5;241;43m.\u001b[39;49m\u001b[43mexecute\u001b[49m\u001b[43m(\u001b[49m\u001b[38;5;124;43m\"\u001b[39;49m\u001b[38;5;124;43mSELECT employeeNumber,lastName,firstName, FROM employees\u001b[39;49m\u001b[38;5;124;43m\"\u001b[39;49m\u001b[43m)\u001b[49m\n\u001b[0;32m      2\u001b[0m \u001b[38;5;28;01mfor\u001b[39;00m rows \u001b[38;5;129;01min\u001b[39;00m result:\n\u001b[0;32m      3\u001b[0m     \u001b[38;5;28mprint\u001b[39m(rows)\n",
      "\u001b[1;31mOperationalError\u001b[0m: near \"FROM\": syntax error"
     ]
    }
   ],
   "source": [
    "result=db.execute(\"SELECT employeeNumber,lastName,firstName, FROM employees\")\n",
    "for rows in result:\n",
    "    print(rows)"
   ]
  },
  {
   "cell_type": "markdown",
   "id": "922a8e32",
   "metadata": {},
   "source": [
    "# Q7. Write a SQL query to show all orderNumber, customerName of the person who placed the respective order"
   ]
  },
  {
   "cell_type": "code",
   "execution_count": null,
   "id": "35044ca5",
   "metadata": {},
   "outputs": [],
   "source": [
    "result=db.execute(\"SELECT Orders.orderNumber,Customers.CustomerName FROM Customers INNER JOIN Orders ON Customers.CustomerNumber=Orders.CustomerNumber\")\n",
    "for rows in result:\n",
    "    print(rows)"
   ]
  },
  {
   "cell_type": "markdown",
   "id": "72d91e4c",
   "metadata": {},
   "source": [
    "# Q8. Write a SQL query to show name of all the customers in one column and salerepemployee name in another column"
   ]
  },
  {
   "cell_type": "code",
   "execution_count": null,
   "id": "f7ee632b",
   "metadata": {},
   "outputs": [],
   "source": [
    "result=db.execute(\"SELECT customers.customerName,employees.salesRepEmployeeNumber FROM customers INNER JOIN employees ON employees.employeeNumber = customers.salesRepEmployeeNumber\")\n",
    "for rows in result:\n",
    "    print(rows)"
   ]
  },
  {
   "cell_type": "markdown",
   "id": "3efbada0",
   "metadata": {},
   "source": [
    "# Q9. Write a SQL query to show Date in one column and total payment amount of the payments made on that date from the payments table."
   ]
  },
  {
   "cell_type": "code",
   "execution_count": null,
   "id": "d8378f18",
   "metadata": {},
   "outputs": [],
   "source": [
    "result=db.execute(\"SELECT paymentDate,amount FROM payments\")\n",
    "for rows in result:\n",
    "    print(rows)"
   ]
  },
  {
   "cell_type": "markdown",
   "id": "4347b5fb",
   "metadata": {},
   "source": [
    "# Q10. Write a SQL query to show all the products productName, MSRP, productDescription from the products table."
   ]
  },
  {
   "cell_type": "code",
   "execution_count": null,
   "id": "cfa8d4c9",
   "metadata": {},
   "outputs": [],
   "source": [
    "result=db.execute(\"SELECT productName, MSRP, productDescription FROM products\")\n",
    "for rows in result:\n",
    "    print(rows)"
   ]
  },
  {
   "cell_type": "markdown",
   "id": "ba7c12fc",
   "metadata": {},
   "source": [
    "# Q11. Write a SQL query to print the productName, productDescription of the most ordered product."
   ]
  },
  {
   "cell_type": "code",
   "execution_count": null,
   "id": "5222c892",
   "metadata": {},
   "outputs": [],
   "source": [
    "result=db.execute(\"SELECT products.productName,products.productDescription,MAX(orderdetails.quantityOrdered) FROM products INNER JOIN orderdetails ON products.productcode = orderdetails.productcode\")\n",
    "for rows in result:\n",
    "    print(rows)"
   ]
  },
  {
   "cell_type": "markdown",
   "id": "0c8fa3fc",
   "metadata": {},
   "source": [
    "# Q12. Write a SQL query to print the city name where maximum number of orders were placed."
   ]
  },
  {
   "cell_type": "code",
   "execution_count": null,
   "id": "9d4becc3",
   "metadata": {},
   "outputs": [],
   "source": [
    "result=db.execute(\"SELECT city FROM customers where order=MAX\")\n",
    "for rows in result:\n",
    "    print(rows)"
   ]
  },
  {
   "cell_type": "markdown",
   "id": "e3918602",
   "metadata": {},
   "source": [
    "# Q13. Write a SQL query to get the name of the state having maximum number of customers."
   ]
  },
  {
   "cell_type": "code",
   "execution_count": null,
   "id": "ae1920f9",
   "metadata": {},
   "outputs": [],
   "source": [
    "result=db.execute(\"SELECT state FROM customers where customer=MAX\")\n",
    "for rows in result:\n",
    "    print(rows)"
   ]
  },
  {
   "cell_type": "markdown",
   "id": "33588ecb",
   "metadata": {},
   "source": [
    "# Q14. Write a SQL query to print the employee number in one column and Full name of the employee in the second column for all the employees."
   ]
  },
  {
   "cell_type": "code",
   "execution_count": null,
   "id": "46036a73",
   "metadata": {},
   "outputs": [],
   "source": [
    "result=db.execute(\"SELECT employeeNumber, CONCAT(firstName,lastName) AS Full name FROM employees\")\n",
    "for rows in result:\n",
    "    print(rows)"
   ]
  },
  {
   "cell_type": "markdown",
   "id": "725a94bf",
   "metadata": {},
   "source": [
    "# Q15. Write a SQL query to print the orderNumber, customer Name and total amount paid by the customer for that order (quantityOrdered × priceEach)"
   ]
  },
  {
   "cell_type": "code",
   "execution_count": null,
   "id": "473f1bbd",
   "metadata": {},
   "outputs": [],
   "source": [
    "result=db.execute(\"SELECT products.productName,products.productDescription,MAX(orderdetails.quantityOrdered) FROM products INNER JOIN orderdetails ON products.productcode = orderdetails.productcode\")\n",
    "for rows in result:\n",
    "    print(rows)"
   ]
  }
 ],
 "metadata": {
  "kernelspec": {
   "display_name": "Python 3 (ipykernel)",
   "language": "python",
   "name": "python3"
  },
  "language_info": {
   "codemirror_mode": {
    "name": "ipython",
    "version": 3
   },
   "file_extension": ".py",
   "mimetype": "text/x-python",
   "name": "python",
   "nbconvert_exporter": "python",
   "pygments_lexer": "ipython3",
   "version": "3.9.12"
  }
 },
 "nbformat": 4,
 "nbformat_minor": 5
}
